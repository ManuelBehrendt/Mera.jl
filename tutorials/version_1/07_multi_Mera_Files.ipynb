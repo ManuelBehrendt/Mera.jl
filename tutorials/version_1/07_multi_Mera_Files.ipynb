{
 "cells": [
  {
   "cell_type": "markdown",
   "id": "1343c802-a6fb-4eaa-bae1-0cbf8ee811e6",
   "metadata": {},
   "source": [
    "# Save/Convert/Load MERA-Files\n",
    "The RAMSES simulation data can be stored and accessed from files in the JLD2 file format."
   ]
  },
  {
   "cell_type": "code",
   "execution_count": 1,
   "id": "5298ecfa-efff-4f7d-aec5-19672012a0f1",
   "metadata": {
    "tags": []
   },
   "outputs": [],
   "source": [
    "using Mera"
   ]
  },
  {
   "cell_type": "markdown",
   "id": "62fb06c8-fbc9-46d4-9d12-928958fa2042",
   "metadata": {},
   "source": [
    "## Load the Data From Ramses"
   ]
  },
  {
   "cell_type": "code",
   "execution_count": 2,
   "id": "354e9935-588a-4a62-a161-1776b95e96ac",
   "metadata": {
    "tags": []
   },
   "outputs": [
    {
     "name": "stdout",
     "output_type": "stream",
     "text": [
      "\u001b[0m\u001b[1m[Mera]: 2025-06-21T22:36:43.204\u001b[22m\n",
      "\n",
      "Code: RAMSES\n",
      "output [300] summary:\n",
      "mtime: 2023-04-09T05:34:09\n",
      "ctime: 2025-06-21T18:31:24.020\n",
      "\u001b[0m\u001b[1m=======================================================\u001b[22m\n",
      "simulation time: 445.89 [Myr]\n",
      "boxlen: 48.0 [kpc]\n",
      "ncpu: 640\n",
      "ndim: 3\n",
      "-------------------------------------------------------\n",
      "amr:           true\n",
      "level(s): 6 - 10 --> cellsize(s): 750.0 [pc] - 46.88 [pc]\n",
      "-------------------------------------------------------\n",
      "hydro:         true\n",
      "hydro-variables:  7  --> (:rho, :vx, :vy, :vz, :p, :var6, :var7)\n",
      "hydro-descriptor: (:density, :velocity_x, :velocity_y, :velocity_z, :pressure, :scalar_00, :scalar_01)\n",
      "γ: 1.6667\n",
      "-------------------------------------------------------\n",
      "gravity:       true\n",
      "gravity-variables: (:epot, :ax, :ay, :az)\n",
      "-------------------------------------------------------\n",
      "particles:     true\n",
      "- Nstars:   5.445150e+05 \n",
      "particle-variables: 7  --> (:vx, :vy, :vz, :mass, :family, :tag, :birth)\n",
      "particle-descriptor: (:position_x, :position_y, :position_z, :velocity_x, :velocity_y, :velocity_z, :mass, :identity, :levelp, :family, :tag, :birth_time)\n",
      "-------------------------------------------------------\n",
      "rt:            false\n",
      "clumps:           false\n",
      "-------------------------------------------------------\n",
      "namelist-file: (\"&COOLING_PARAMS\", \"&SF_PARAMS\", \"&AMR_PARAMS\", \"&BOUNDARY_PARAMS\", \"&OUTPUT_PARAMS\", \"&POISSON_PARAMS\", \"&RUN_PARAMS\", \"&FEEDBACK_PARAMS\", \"&HYDRO_PARAMS\", \"&INIT_PARAMS\", \"&REFINE_PARAMS\")\n",
      "-------------------------------------------------------\n",
      "timer-file:       true\n",
      "compilation-file: false\n",
      "makefile:         true\n",
      "patchfile:        true\n",
      "\u001b[0m\u001b[1m=======================================================\u001b[22m\n",
      "\n"
     ]
    }
   ],
   "source": [
    "info = getinfo(300,  \"/Volumes/FASTStorage/Simulations/Mera-Tests/mw_L10\");\n",
    "gas  = gethydro(info, verbose=false, show_progress=false); \n",
    "part = getparticles(info, verbose=false, show_progress=false); \n",
    "grav = getgravity(info, verbose=false, show_progress=false); \n",
    "# the same applies for clump-data..."
   ]
  },
  {
   "cell_type": "markdown",
   "id": "2357292c-db4d-4224-bf99-d678bedca42b",
   "metadata": {
    "tags": []
   },
   "source": [
    "## Store the Data Into JLD2 Files\n",
    "The running number is taken from the original RAMSES outputs."
   ]
  },
  {
   "cell_type": "code",
   "execution_count": 3,
   "id": "adcf453b-fe11-45e9-b29f-2da0634b6deb",
   "metadata": {
    "tags": []
   },
   "outputs": [
    {
     "name": "stdout",
     "output_type": "stream",
     "text": [
      "\u001b[0m\u001b[1m[Mera]: 2025-06-21T22:39:38.006\u001b[22m\n",
      "\n",
      "\n",
      "Not existing file: output_00300.jld2\n",
      "Directory: /Volumes/FASTStorage/Simulations/Mera-Tests/mw_L10\n",
      "-----------------------------------\n",
      "merafile_version: 1.0  -  Simulation code: RAMSES\n",
      "-----------------------------------\n",
      "DataType: hydro  -  Data variables: (:level, :cx, :cy, :cz, :rho, :vx, :vy, :vz, :p, :var6, :var7)\n",
      "-----------------------------------\n",
      "I/O mode: nothing  -  Compression: nothing\n",
      "-----------------------------------\n",
      "-----------------------------------\n",
      "Memory size: 2.321 GB (uncompressed)\n",
      "-----------------------------------\n",
      "\n"
     ]
    }
   ],
   "source": [
    "savedata(gas, \"/Volumes/FASTStorage/Simulations/Mera-Tests/JLD2_files/\");"
   ]
  },
  {
   "cell_type": "markdown",
   "id": "c88079ac-48b6-485f-9599-20c56c676ed2",
   "metadata": {},
   "source": [
    "<div class=\"alert alert-block alert-info\"> <b>NOTE</b> The hydro data was not written into the file to prevent overwriting existing files.\n",
    "\n",
    "The following argument is mandatory: **fmode=:write** </div>"
   ]
  },
  {
   "cell_type": "code",
   "execution_count": 4,
   "id": "fa6a0121-6af0-46bc-8102-64e778518bcb",
   "metadata": {
    "tags": []
   },
   "outputs": [
    {
     "name": "stdout",
     "output_type": "stream",
     "text": [
      "\u001b[0m\u001b[1m[Mera]: 2025-06-21T22:39:38.861\u001b[22m\n",
      "\n",
      "\n",
      "Create file: output_00300.jld2\n",
      "Directory: /Volumes/FASTStorage/Simulations/Mera-Tests/mw_L10\n",
      "-----------------------------------\n",
      "merafile_version: 1.0  -  Simulation code: RAMSES\n",
      "-----------------------------------\n",
      "DataType: hydro  -  Data variables: (:level, :cx, :cy, :cz, :rho, :vx, :vy, :vz, :p, :var6, :var7)\n",
      "-----------------------------------\n",
      "I/O mode: write  -  Compression: CodecLz4.LZ4FrameCompressor(Ptr{CodecLz4.LZ4F_cctx} @0x0000000000000000, Base.RefValue{CodecLz4.LZ4F_preferences_t}(CodecLz4.LZ4F_preferences_t(CodecLz4.LZ4F_frameInfo_t(0x00000000, 0x00000000, 0x00000000, 0x00000000, 0x0000000000000000, 0x00000000, 0x00000000), 0, 0x00000000, (0x00000000, 0x00000000, 0x00000000, 0x00000000))), UInt8[0xc0, 0xa4, 0xfe, 0x2a, 0x01, 0x00, 0x00, 0x00, 0xc0, 0x26, 0x24, 0x82, 0x01, 0x00, 0x00, 0x00, 0xf0, 0xe3, 0xae], false)\n",
      "-----------------------------------\n",
      "CodecLz4  0.4.6\n",
      "JLD2  0.5.13\n",
      "CodecBzip2  0.8.5\n",
      "Mera  1.4.5\n",
      "CodecZlib  0.7.8\n",
      "-----------------------------------\n",
      "Memory size: 2.321 GB (uncompressed)\n",
      "Total file size: 1.276 GB\n",
      "-----------------------------------\n",
      "\n"
     ]
    }
   ],
   "source": [
    "savedata(gas, \"/Volumes/FASTStorage/Simulations/Mera-Tests/JLD2_files/\", fmode=:write);"
   ]
  },
  {
   "cell_type": "markdown",
   "id": "b07f3b09-3466-4de5-b407-abed5d90dde6",
   "metadata": {
    "tags": []
   },
   "source": [
    "Add/Append further datatypes:"
   ]
  },
  {
   "cell_type": "code",
   "execution_count": 5,
   "id": "f0783a30-7db3-4998-a2b8-9fc61e75b1f7",
   "metadata": {
    "tags": []
   },
   "outputs": [
    {
     "name": "stdout",
     "output_type": "stream",
     "text": [
      "\u001b[0m\u001b[1m[Mera]: 2025-06-21T22:40:33.359\u001b[22m\n",
      "\n",
      "\n",
      "Create file: output_00300.jld2\n",
      "Directory: /Volumes/FASTStorage/Simulations/Mera-Tests/mw_L10\n",
      "-----------------------------------\n",
      "merafile_version: 1.0  -  Simulation code: RAMSES\n",
      "-----------------------------------\n",
      "DataType: particles  -  Data variables: (:level, :x, :y, :z, :id, :family, :tag, :vx, :vy, :vz, :mass, :birth)\n",
      "-----------------------------------\n",
      "I/O mode: append  -  Compression: CodecLz4.LZ4FrameCompressor(Ptr{CodecLz4.LZ4F_cctx} @0x0000000000000000, Base.RefValue{CodecLz4.LZ4F_preferences_t}(CodecLz4.LZ4F_preferences_t(CodecLz4.LZ4F_frameInfo_t(0x00000000, 0x00000000, 0x00000000, 0x00000000, 0x0000000000000000, 0x00000000, 0x00000000), 0, 0x00000000, (0x00000000, 0x00000000, 0x00000000, 0x00000000))), UInt8[0xe0, 0x20, 0x71, 0x29, 0x01, 0x00, 0x00, 0x00, 0x70, 0x44, 0xc6, 0x2c, 0x01, 0x00, 0x00, 0x00, 0x90, 0xe3, 0x2a], false)\n",
      "-----------------------------------\n",
      "CodecLz4  0.4.6\n",
      "JLD2  0.5.13\n",
      "CodecBzip2  0.8.5\n",
      "Mera  1.4.5\n",
      "CodecZlib  0.7.8\n",
      "-----------------------------------\n",
      "Memory size: 38.449 MB (uncompressed)\n",
      "Total file size: 1.306 GB\n",
      "-----------------------------------\n",
      "\n",
      "\u001b[0m\u001b[1m[Mera]: 2025-06-21T22:40:35.362\u001b[22m\n",
      "\n",
      "\n",
      "Create file: output_00300.jld2\n",
      "Directory: /Volumes/FASTStorage/Simulations/Mera-Tests/mw_L10\n",
      "-----------------------------------\n",
      "merafile_version: 1.0  -  Simulation code: RAMSES\n",
      "-----------------------------------\n",
      "DataType: gravity  -  Data variables: (:level, :cx, :cy, :cz, :epot, :ax, :ay, :az)\n",
      "-----------------------------------\n",
      "I/O mode: append  -  Compression: CodecLz4.LZ4FrameCompressor(Ptr{CodecLz4.LZ4F_cctx} @0x0000000000000000, Base.RefValue{CodecLz4.LZ4F_preferences_t}(CodecLz4.LZ4F_preferences_t(CodecLz4.LZ4F_frameInfo_t(0x00000000, 0x00000000, 0x00000000, 0x00000000, 0x0000000000000000, 0x00000000, 0x00000000), 0, 0x00000000, (0x00000000, 0x00000000, 0x00000000, 0x00000000))), UInt8[0x00, 0x00, 0x00, 0x00, 0x00, 0x00, 0x00, 0x00, 0x00, 0x00, 0x00, 0x00, 0x00, 0x00, 0x00, 0x00, 0x00, 0x00, 0x00], false)\n",
      "-----------------------------------\n",
      "CodecLz4  0.4.6\n",
      "JLD2  0.5.13\n",
      "CodecBzip2  0.8.5\n",
      "Mera  1.4.5\n",
      "CodecZlib  0.7.8\n",
      "-----------------------------------\n",
      "Memory size: 1.688 GB (uncompressed)\n",
      "Total file size: 2.159 GB\n",
      "-----------------------------------\n",
      "\n"
     ]
    }
   ],
   "source": [
    "savedata(part, \"/Volumes/FASTStorage/Simulations/Mera-Tests/JLD2_files/\", fmode=:append);\n",
    "savedata(grav, \"/Volumes/FASTStorage/Simulations/Mera-Tests/JLD2_files/\", fmode=:append);"
   ]
  },
  {
   "cell_type": "markdown",
   "id": "3475c7a6-a352-4fbf-ac1e-edb9feb8c598",
   "metadata": {},
   "source": [
    "<div class=\"alert alert-block alert-info\"> <b>NOTE</b> It is not possible to exchange stored data; only writing into a new file or appending is supported. </div>"
   ]
  },
  {
   "cell_type": "markdown",
   "id": "da3804c2-bd85-4581-948e-c5b6688bc73c",
   "metadata": {},
   "source": [
    "## Overview of Stored Data"
   ]
  },
  {
   "cell_type": "code",
   "execution_count": 6,
   "id": "3e2bf9d3-d62c-4347-946c-99085816fc32",
   "metadata": {
    "tags": []
   },
   "outputs": [
    {
     "name": "stdout",
     "output_type": "stream",
     "text": [
      "\u001b[0m\u001b[1m[Mera]: 2025-06-21T22:40:39.995\u001b[22m\n",
      "\n",
      "Mera-file output_00300.jld2 contains:\n",
      "\n",
      "Datatype: particles\n",
      "merafile_version: 1.0\n",
      "Compression: CodecLz4.LZ4FrameCompressor(Ptr{CodecLz4.LZ4F_cctx} @0x0000000000000000, Base.RefValue{CodecLz4.LZ4F_preferences_t}(CodecLz4.LZ4F_preferences_t(CodecLz4.LZ4F_frameInfo_t(0x00000000, 0x00000000, 0x00000000, 0x00000000, 0x0000000000000000, 0x00000000, 0x00000000), 0, 0x00000000, (0x00000000, 0x00000000, 0x00000000, 0x00000000))), UInt8[0xe0, 0x20, 0x71, 0x29, 0x01, 0x00, 0x00, 0x00, 0x70, 0x44, 0xc6, 0x2c, 0x01, 0x00, 0x00, 0x00, 0x90, 0xe3, 0x2a], false)\n",
      "CodecZlib: VersionNumber[v\"0.7.8\"]\n",
      "merafile_version: 1.0\n",
      "JLD2: VersionNumber[v\"0.5.13\"]\n",
      "CodecBzip2: VersionNumber[v\"0.8.5\"]\n",
      "JLD2compatible_versions: (lower = v\"0.1.0\", upper = v\"0.3.0\")\n",
      "CodecLz4: VersionNumber[v\"0.4.6\"]\n",
      "Mera: VersionNumber[v\"1.4.5\"]\n",
      "-------------------------\n",
      "Memory: 38.44882392883301 MB (uncompressed)\n",
      "\n",
      "\n",
      "Datatype: gravity\n",
      "merafile_version: 1.0\n",
      "Compression: CodecLz4.LZ4FrameCompressor(Ptr{CodecLz4.LZ4F_cctx} @0x0000000000000000, Base.RefValue{CodecLz4.LZ4F_preferences_t}(CodecLz4.LZ4F_preferences_t(CodecLz4.LZ4F_frameInfo_t(0x00000000, 0x00000000, 0x00000000, 0x00000000, 0x0000000000000000, 0x00000000, 0x00000000), 0, 0x00000000, (0x00000000, 0x00000000, 0x00000000, 0x00000000))), UInt8[0x00, 0x00, 0x00, 0x00, 0x00, 0x00, 0x00, 0x00, 0x00, 0x00, 0x00, 0x00, 0x00, 0x00, 0x00, 0x00, 0x00, 0x00, 0x00], false)\n",
      "CodecZlib: VersionNumber[v\"0.7.8\"]\n",
      "merafile_version: 1.0\n",
      "JLD2: VersionNumber[v\"0.5.13\"]\n",
      "CodecBzip2: VersionNumber[v\"0.8.5\"]\n",
      "JLD2compatible_versions: (lower = v\"0.1.0\", upper = v\"0.3.0\")\n",
      "CodecLz4: VersionNumber[v\"0.4.6\"]\n",
      "Mera: VersionNumber[v\"1.4.5\"]\n",
      "-------------------------\n",
      "Memory: 1.68808214366436 GB (uncompressed)\n",
      "\n",
      "\n",
      "Datatype: hydro\n",
      "merafile_version: 1.0\n",
      "Compression: CodecLz4.LZ4FrameCompressor(Ptr{CodecLz4.LZ4F_cctx} @0x0000000000000000, Base.RefValue{CodecLz4.LZ4F_preferences_t}(CodecLz4.LZ4F_preferences_t(CodecLz4.LZ4F_frameInfo_t(0x00000000, 0x00000000, 0x00000000, 0x00000000, 0x0000000000000000, 0x00000000, 0x00000000), 0, 0x00000000, (0x00000000, 0x00000000, 0x00000000, 0x00000000))), UInt8[0xc0, 0xa4, 0xfe, 0x2a, 0x01, 0x00, 0x00, 0x00, 0xc0, 0x26, 0x24, 0x82, 0x01, 0x00, 0x00, 0x00, 0xf0, 0xe3, 0xae], false)\n",
      "CodecZlib: VersionNumber[v\"0.7.8\"]\n",
      "merafile_version: 1.0\n",
      "JLD2: VersionNumber[v\"0.5.13\"]\n",
      "CodecBzip2: VersionNumber[v\"0.8.5\"]\n",
      "JLD2compatible_versions: (lower = v\"0.1.0\", upper = v\"0.3.0\")\n",
      "CodecLz4: VersionNumber[v\"0.4.6\"]\n",
      "Mera: VersionNumber[v\"1.4.5\"]\n",
      "-------------------------\n",
      "Memory: 2.3211056170985103 GB (uncompressed)\n",
      "\n",
      "\n",
      "-----------------------------------\n",
      "convert stat: false\n",
      "-----------------------------------\n",
      "Total file size: 2.159 GB\n",
      "-----------------------------------\n",
      "\n"
     ]
    },
    {
     "data": {
      "text/plain": [
       "Dict{Any, Any} with 4 entries:\n",
       "  \"particles\" => Dict{Any, Any}(\"versions\"=>Dict{Any, Any}(\"CodecZlib\"=>Version…\n",
       "  \"FileSize\"  => (2.159, \"GB\")\n",
       "  \"gravity\"   => Dict{Any, Any}(\"versions\"=>Dict{Any, Any}(\"CodecZlib\"=>Version…\n",
       "  \"hydro\"     => Dict{Any, Any}(\"versions\"=>Dict{Any, Any}(\"CodecZlib\"=>Version…"
      ]
     },
     "execution_count": 6,
     "metadata": {},
     "output_type": "execute_result"
    }
   ],
   "source": [
    "vd = viewdata(300, \"/Volumes/FASTStorage/Simulations/Mera-Tests/JLD2_files/\")"
   ]
  },
  {
   "cell_type": "markdown",
   "id": "74807629-c48b-4bd0-80e4-bc120a870441",
   "metadata": {
    "tags": []
   },
   "source": [
    "Information about the content, etc. is returned in a dictionary."
   ]
  },
  {
   "cell_type": "code",
   "execution_count": null,
   "id": "0ef60bb2-ea55-49a9-95be-77a014557359",
   "metadata": {},
   "outputs": [],
   "source": []
  },
  {
   "cell_type": "markdown",
   "id": "3d82c521-5d2b-4e42-9538-f1fea4266a00",
   "metadata": {},
   "source": [
    "Get a detailed tree-view of the data-file:"
   ]
  },
  {
   "cell_type": "code",
   "execution_count": 7,
   "id": "d3b6c56c-941d-4bae-8b49-54d689a7521f",
   "metadata": {
    "tags": []
   },
   "outputs": [
    {
     "name": "stdout",
     "output_type": "stream",
     "text": [
      "\u001b[0m\u001b[1m[Mera]: 2025-06-21T22:40:42.532\u001b[22m\n",
      "\n",
      "Mera-file output_00300.jld2 contains:\n",
      "\n",
      " ├─📂 hydro\n",
      " │  ├─🔢 data\n",
      " │  ├─🔢 info\n",
      " │  └─📂 information\n",
      " │     ├─🔢 compression\n",
      " │     ├─🔢 comments\n",
      " │     ├─🔢 storage\n",
      " │     ├─🔢 memory\n",
      " │     └─📂 versions\n",
      " │        ├─🔢 merafile_version\n",
      " │        ├─🔢 JLD2compatible_versions\n",
      " │        ├─🔢 CodecLz4\n",
      " │        ├─🔢 JLD2\n",
      " │        ├─🔢 CodecBzip2\n",
      " │        ├─🔢 Mera\n",
      " │        └─🔢 CodecZlib\n",
      " ├─📂 particles\n",
      " │  ├─🔢 data\n",
      " │  ├─🔢 info\n",
      " │  └─📂 information\n",
      " │     ├─🔢 compression\n",
      " │     ├─🔢 comments\n",
      " │     ├─🔢 storage\n",
      " │     ├─🔢 memory\n",
      " │     └─📂 versions\n",
      " │        ├─🔢 merafile_version\n",
      " │        ├─🔢 JLD2compatible_versions\n",
      " │        ├─🔢 CodecLz4\n",
      " │        ├─🔢 JLD2\n",
      " │        ├─🔢 CodecBzip2\n",
      " │        ├─🔢 Mera\n",
      " │        └─🔢 CodecZlib\n",
      " └─📂 gravity\n",
      "    ├─🔢 data\n",
      "    ├─🔢 info\n",
      "    └─📂 information\n",
      "       ├─🔢 compression\n",
      "       ├─🔢 comments\n",
      "       ├─🔢 storage\n",
      "       ├─🔢 memory\n",
      "       └─📂 versions\n",
      "          ├─🔢 merafile_version\n",
      "          ├─🔢 JLD2compatible_versions\n",
      "          ├─🔢 CodecLz4\n",
      "          ├─🔢 JLD2\n",
      "          ├─🔢 CodecBzip2\n",
      "          ├─🔢 Mera\n",
      "          └─🔢 CodecZlib\n",
      "\n",
      "Datatype: particles\n",
      "merafile_version: 1.0\n",
      "Compression: CodecLz4.LZ4FrameCompressor(Ptr{CodecLz4.LZ4F_cctx} @0x0000000000000000, Base.RefValue{CodecLz4.LZ4F_preferences_t}(CodecLz4.LZ4F_preferences_t(CodecLz4.LZ4F_frameInfo_t(0x00000000, 0x00000000, 0x00000000, 0x00000000, 0x0000000000000000, 0x00000000, 0x00000000), 0, 0x00000000, (0x00000000, 0x00000000, 0x00000000, 0x00000000))), UInt8[0xe0, 0x20, 0x71, 0x29, 0x01, 0x00, 0x00, 0x00, 0x70, 0x44, 0xc6, 0x2c, 0x01, 0x00, 0x00, 0x00, 0x90, 0xe3, 0x2a], false)\n",
      "CodecZlib: VersionNumber[v\"0.7.8\"]\n",
      "merafile_version: 1.0\n",
      "JLD2: VersionNumber[v\"0.5.13\"]\n",
      "CodecBzip2: VersionNumber[v\"0.8.5\"]\n",
      "JLD2compatible_versions: (lower = v\"0.1.0\", upper = v\"0.3.0\")\n",
      "CodecLz4: VersionNumber[v\"0.4.6\"]\n",
      "Mera: VersionNumber[v\"1.4.5\"]\n",
      "-------------------------\n",
      "Memory: 38.44882392883301 MB (uncompressed)\n",
      "\n",
      "\n",
      "Datatype: gravity\n",
      "merafile_version: 1.0\n",
      "Compression: CodecLz4.LZ4FrameCompressor(Ptr{CodecLz4.LZ4F_cctx} @0x0000000000000000, Base.RefValue{CodecLz4.LZ4F_preferences_t}(CodecLz4.LZ4F_preferences_t(CodecLz4.LZ4F_frameInfo_t(0x00000000, 0x00000000, 0x00000000, 0x00000000, 0x0000000000000000, 0x00000000, 0x00000000), 0, 0x00000000, (0x00000000, 0x00000000, 0x00000000, 0x00000000))), UInt8[0x00, 0x00, 0x00, 0x00, 0x00, 0x00, 0x00, 0x00, 0x00, 0x00, 0x00, 0x00, 0x00, 0x00, 0x00, 0x00, 0x00, 0x00, 0x00], false)\n",
      "CodecZlib: VersionNumber[v\"0.7.8\"]\n",
      "merafile_version: 1.0\n",
      "JLD2: VersionNumber[v\"0.5.13\"]\n",
      "CodecBzip2: VersionNumber[v\"0.8.5\"]\n",
      "JLD2compatible_versions: (lower = v\"0.1.0\", upper = v\"0.3.0\")\n",
      "CodecLz4: VersionNumber[v\"0.4.6\"]\n",
      "Mera: VersionNumber[v\"1.4.5\"]\n",
      "-------------------------\n",
      "Memory: 1.68808214366436 GB (uncompressed)\n",
      "\n",
      "\n",
      "Datatype: hydro\n",
      "merafile_version: 1.0\n",
      "Compression: CodecLz4.LZ4FrameCompressor(Ptr{CodecLz4.LZ4F_cctx} @0x0000000000000000, Base.RefValue{CodecLz4.LZ4F_preferences_t}(CodecLz4.LZ4F_preferences_t(CodecLz4.LZ4F_frameInfo_t(0x00000000, 0x00000000, 0x00000000, 0x00000000, 0x0000000000000000, 0x00000000, 0x00000000), 0, 0x00000000, (0x00000000, 0x00000000, 0x00000000, 0x00000000))), UInt8[0xc0, 0xa4, 0xfe, 0x2a, 0x01, 0x00, 0x00, 0x00, 0xc0, 0x26, 0x24, 0x82, 0x01, 0x00, 0x00, 0x00, 0xf0, 0xe3, 0xae], false)\n",
      "CodecZlib: VersionNumber[v\"0.7.8\"]\n",
      "merafile_version: 1.0\n",
      "JLD2: VersionNumber[v\"0.5.13\"]\n",
      "CodecBzip2: VersionNumber[v\"0.8.5\"]\n",
      "JLD2compatible_versions: (lower = v\"0.1.0\", upper = v\"0.3.0\")\n",
      "CodecLz4: VersionNumber[v\"0.4.6\"]\n",
      "Mera: VersionNumber[v\"1.4.5\"]\n",
      "-------------------------\n",
      "Memory: 2.3211056170985103 GB (uncompressed)\n",
      "\n",
      "\n",
      "-----------------------------------\n",
      "convert stat: false\n",
      "-----------------------------------\n",
      "Total file size: 2.159 GB\n",
      "-----------------------------------\n",
      "\n"
     ]
    },
    {
     "data": {
      "text/plain": [
       "Dict{Any, Any} with 4 entries:\n",
       "  \"particles\" => Dict{Any, Any}(\"versions\"=>Dict{Any, Any}(\"CodecZlib\"=>Version…\n",
       "  \"FileSize\"  => (2.159, \"GB\")\n",
       "  \"gravity\"   => Dict{Any, Any}(\"versions\"=>Dict{Any, Any}(\"CodecZlib\"=>Version…\n",
       "  \"hydro\"     => Dict{Any, Any}(\"versions\"=>Dict{Any, Any}(\"CodecZlib\"=>Version…"
      ]
     },
     "execution_count": 7,
     "metadata": {},
     "output_type": "execute_result"
    }
   ],
   "source": [
    "vd = viewdata(300, \"/Volumes/FASTStorage/Simulations/Mera-Tests/JLD2_files/\", showfull=true)"
   ]
  },
  {
   "cell_type": "markdown",
   "id": "4bd514ae-30a7-4eb6-866c-f355aa2be8f9",
   "metadata": {
    "tags": []
   },
   "source": [
    "## Get Info\n",
    "The following function **infodata** is comparable to **getinfo()** used for the RAMSES files and loads detailed information about the simulation output:"
   ]
  },
  {
   "cell_type": "code",
   "execution_count": 8,
   "id": "7f1a67cd-a97a-4e0c-a1c8-21785b109a28",
   "metadata": {
    "tags": []
   },
   "outputs": [
    {
     "name": "stdout",
     "output_type": "stream",
     "text": [
      "\u001b[0m\u001b[1m[Mera]: 2025-06-21T22:40:42.775\u001b[22m\n",
      "\n",
      "Use datatype: hydro\n",
      "Code: RAMSES\n",
      "output [300] summary:\n",
      "mtime: 2023-04-09T05:34:09\n",
      "ctime: 2025-06-21T18:31:24.020\n",
      "\u001b[0m\u001b[1m=======================================================\u001b[22m\n",
      "simulation time: 445.89 [Myr]\n",
      "boxlen: 48.0 [kpc]\n",
      "ncpu: 640\n",
      "ndim: 3\n",
      "-------------------------------------------------------\n",
      "amr:           true\n",
      "level(s): 6 - 10 --> cellsize(s): 750.0 [pc] - 46.88 [pc]\n",
      "-------------------------------------------------------\n",
      "hydro:         true\n",
      "hydro-variables:  7  --> (:rho, :vx, :vy, :vz, :p, :var6, :var7)\n",
      "hydro-descriptor: (:density, :velocity_x, :velocity_y, :velocity_z, :pressure, :scalar_00, :scalar_01)\n",
      "γ: 1.6667\n",
      "-------------------------------------------------------\n",
      "gravity:       true\n",
      "gravity-variables: (:epot, :ax, :ay, :az)\n",
      "-------------------------------------------------------\n",
      "particles:     true\n",
      "- Nstars:   5.445150e+05 \n",
      "particle-variables: 7  --> (:vx, :vy, :vz, :mass, :family, :tag, :birth)\n",
      "particle-descriptor: (:position_x, :position_y, :position_z, :velocity_x, :velocity_y, :velocity_z, :mass, :identity, :levelp, :family, :tag, :birth_time)\n",
      "-------------------------------------------------------\n",
      "rt:            false\n",
      "clumps:           false\n",
      "-------------------------------------------------------\n",
      "namelist-file: (\"&COOLING_PARAMS\", \"&HYDRO_PARAMS\", \"&SF_PARAMS\", \"&AMR_PARAMS\", \"&BOUNDARY_PARAMS\", \"&OUTPUT_PARAMS\", \"&POISSON_PARAMS\", \"&INIT_PARAMS\", \"&RUN_PARAMS\", \"&FEEDBACK_PARAMS\", \"&REFINE_PARAMS\")\n",
      "-------------------------------------------------------\n",
      "timer-file:       true\n",
      "compilation-file: false\n",
      "makefile:         true\n",
      "patchfile:        true\n",
      "\u001b[0m\u001b[1m=======================================================\u001b[22m\n",
      "\n"
     ]
    }
   ],
   "source": [
    "info = infodata(300, \"/Volumes/FASTStorage/Simulations/Mera-Tests/JLD2_files/\");"
   ]
  },
  {
   "cell_type": "markdown",
   "id": "7e5b1ff6-10ea-455b-bdfb-c7685d8ca54b",
   "metadata": {
    "tags": []
   },
   "source": [
    "In this case, it loaded the **InfoDataType** from the **hydro** data. Choose a different stored **datatype** to get the info from:"
   ]
  },
  {
   "cell_type": "code",
   "execution_count": 9,
   "id": "6359d61d-3c8f-46fe-ad6a-ba9f781444cc",
   "metadata": {
    "tags": []
   },
   "outputs": [
    {
     "name": "stdout",
     "output_type": "stream",
     "text": [
      "\u001b[0m\u001b[1m[Mera]: 2025-06-21T22:40:43.264\u001b[22m\n",
      "\n",
      "Use datatype: particles\n",
      "Code: RAMSES\n",
      "output [300] summary:\n",
      "mtime: 2023-04-09T05:34:09\n",
      "ctime: 2025-06-21T18:31:24.020\n",
      "\u001b[0m\u001b[1m=======================================================\u001b[22m\n",
      "simulation time: 445.89 [Myr]\n",
      "boxlen: 48.0 [kpc]\n",
      "ncpu: 640\n",
      "ndim: 3\n",
      "-------------------------------------------------------\n",
      "amr:           true\n",
      "level(s): 6 - 10 --> cellsize(s): 750.0 [pc] - 46.88 [pc]\n",
      "-------------------------------------------------------\n",
      "hydro:         true\n",
      "hydro-variables:  7  --> (:rho, :vx, :vy, :vz, :p, :var6, :var7)\n",
      "hydro-descriptor: (:density, :velocity_x, :velocity_y, :velocity_z, :pressure, :scalar_00, :scalar_01)\n",
      "γ: 1.6667\n",
      "-------------------------------------------------------\n",
      "gravity:       true\n",
      "gravity-variables: (:epot, :ax, :ay, :az)\n",
      "-------------------------------------------------------\n",
      "particles:     true\n",
      "- Nstars:   5.445150e+05 \n",
      "particle-variables: 7  --> (:vx, :vy, :vz, :mass, :family, :tag, :birth)\n",
      "particle-descriptor: (:position_x, :position_y, :position_z, :velocity_x, :velocity_y, :velocity_z, :mass, :identity, :levelp, :family, :tag, :birth_time)\n",
      "-------------------------------------------------------\n",
      "rt:            false\n",
      "clumps:           false\n",
      "-------------------------------------------------------\n",
      "namelist-file: (\"&COOLING_PARAMS\", \"&HYDRO_PARAMS\", \"&SF_PARAMS\", \"&AMR_PARAMS\", \"&BOUNDARY_PARAMS\", \"&OUTPUT_PARAMS\", \"&POISSON_PARAMS\", \"&INIT_PARAMS\", \"&RUN_PARAMS\", \"&FEEDBACK_PARAMS\", \"&REFINE_PARAMS\")\n",
      "-------------------------------------------------------\n",
      "timer-file:       true\n",
      "compilation-file: false\n",
      "makefile:         true\n",
      "patchfile:        true\n",
      "\u001b[0m\u001b[1m=======================================================\u001b[22m\n",
      "\n"
     ]
    }
   ],
   "source": [
    "info = infodata(300, \"/Volumes/FASTStorage/Simulations/Mera-Tests/JLD2_files/\", :particles);"
   ]
  },
  {
   "cell_type": "markdown",
   "id": "77a0e9f6-2b3c-40de-84a5-a586c462005c",
   "metadata": {},
   "source": [
    "## Load The Data from JLD2"
   ]
  },
  {
   "cell_type": "markdown",
   "id": "e381ba85-bc38-41cd-ac83-38e1361e9f56",
   "metadata": {},
   "source": [
    "### Full Data"
   ]
  },
  {
   "cell_type": "code",
   "execution_count": 10,
   "id": "c6db7c08-15ac-4c4f-838d-86059df9b417",
   "metadata": {
    "tags": []
   },
   "outputs": [
    {
     "name": "stdout",
     "output_type": "stream",
     "text": [
      "\u001b[0m\u001b[1m[Mera]: 2025-06-21T22:40:43.330\u001b[22m\n",
      "\n",
      "Open Mera-file output_00300.jld2:\n",
      "\n",
      "domain:\n",
      "xmin::xmax: 0.0 :: 1.0  \t==> 0.0 [kpc] :: 48.0 [kpc]\n",
      "ymin::ymax: 0.0 :: 1.0  \t==> 0.0 [kpc] :: 48.0 [kpc]\n",
      "zmin::zmax: 0.0 :: 1.0  \t==> 0.0 [kpc] :: 48.0 [kpc]\n",
      "\n",
      "Memory used for data table :2.321105550043285 GB\n",
      "-------------------------------------------------------\n",
      "\n"
     ]
    }
   ],
   "source": [
    "gas = loaddata(300, \"/Volumes/FASTStorage/Simulations/Mera-Tests/JLD2_files/\", :hydro);"
   ]
  },
  {
   "cell_type": "code",
   "execution_count": 11,
   "id": "c763f679-7a33-4bc8-8cd1-ed43eaf360d9",
   "metadata": {
    "tags": []
   },
   "outputs": [
    {
     "data": {
      "text/plain": [
       "HydroDataType"
      ]
     },
     "execution_count": 11,
     "metadata": {},
     "output_type": "execute_result"
    }
   ],
   "source": [
    "typeof(gas)"
   ]
  },
  {
   "cell_type": "code",
   "execution_count": 12,
   "id": "5e052fe3-f4a6-4139-b88b-69ba237ca8ef",
   "metadata": {
    "tags": []
   },
   "outputs": [
    {
     "name": "stdout",
     "output_type": "stream",
     "text": [
      "\u001b[0m\u001b[1m[Mera]: 2025-06-21T22:40:46.833\u001b[22m\n",
      "\n",
      "Open Mera-file output_00300.jld2:\n",
      "\n",
      "domain:\n",
      "xmin::xmax: 0.0 :: 1.0  \t==> 0.0 [kpc] :: 48.0 [kpc]\n",
      "ymin::ymax: 0.0 :: 1.0  \t==> 0.0 [kpc] :: 48.0 [kpc]\n",
      "zmin::zmax: 0.0 :: 1.0  \t==> 0.0 [kpc] :: 48.0 [kpc]\n",
      "\n",
      "Memory used for data table :38.44854164123535 MB\n",
      "-------------------------------------------------------\n",
      "\n"
     ]
    }
   ],
   "source": [
    "part = loaddata(300, \"/Volumes/FASTStorage/Simulations/Mera-Tests/JLD2_files/\", :particles);"
   ]
  },
  {
   "cell_type": "code",
   "execution_count": 13,
   "id": "2a28f740-08c5-4051-a58d-aa56cb3211ae",
   "metadata": {
    "tags": []
   },
   "outputs": [
    {
     "data": {
      "text/plain": [
       "PartDataType"
      ]
     },
     "execution_count": 13,
     "metadata": {},
     "output_type": "execute_result"
    }
   ],
   "source": [
    "typeof(part)"
   ]
  },
  {
   "cell_type": "markdown",
   "id": "6f1cf23c-16b4-4420-9bf5-e79fd784d9d1",
   "metadata": {},
   "source": [
    "### Data Range\n",
    "Complete data is loaded, and the selected subregion is returned:"
   ]
  },
  {
   "cell_type": "code",
   "execution_count": 14,
   "id": "1f72898f-31cc-4c9a-bde6-6e041fe5c82f",
   "metadata": {
    "tags": []
   },
   "outputs": [
    {
     "name": "stdout",
     "output_type": "stream",
     "text": [
      "\u001b[0m\u001b[1m[Mera]: 2025-06-21T22:40:47.294\u001b[22m\n",
      "\n",
      "Open Mera-file output_00300.jld2:\n",
      "\n",
      "center: [0.5, 0.5, 0.5] ==> [24.0 [kpc] :: 24.0 [kpc] :: 24.0 [kpc]]\n",
      "\n",
      "domain:\n",
      "xmin::xmax: 0.2916667 :: 0.7083333  \t==> 14.0 [kpc] :: 34.0 [kpc]\n",
      "ymin::ymax: 0.2916667 :: 0.7083333  \t==> 14.0 [kpc] :: 34.0 [kpc]\n",
      "zmin::zmax: 0.4583333 :: 0.5416667  \t==> 22.0 [kpc] :: 26.0 [kpc]\n",
      "\n",
      "Memory used for data table :587.32142162323 MB\n",
      "-------------------------------------------------------\n",
      "\n"
     ]
    }
   ],
   "source": [
    "gas = loaddata(300, \"/Volumes/FASTStorage/Simulations/Mera-Tests/JLD2_files/\", :hydro,\n",
    "                    xrange=[-10,10], \n",
    "                    yrange=[-10,10], zrange=[-2,2],\n",
    "                    center=[:boxcenter], \n",
    "                    range_unit=:kpc);"
   ]
  },
  {
   "cell_type": "markdown",
   "id": "9022a7d4-7f29-4fd0-b92e-763e35876237",
   "metadata": {},
   "source": [
    "## Convert RAMSES Output Into JLD2\n",
    "Existing AMR, hydro, gravity, particle, and clump data is sequentially stored in a JLD2 file. The individual loading/writing processes are timed, and the memory usage is returned in a dictionary:"
   ]
  },
  {
   "cell_type": "markdown",
   "id": "edd9f58f-d9c0-48a5-9822-35181b370dbd",
   "metadata": {},
   "source": [
    "### Full Data"
   ]
  },
  {
   "cell_type": "code",
   "execution_count": 15,
   "id": "fd106a56-03f9-4d1a-bdc8-bba267d07059",
   "metadata": {
    "tags": []
   },
   "outputs": [
    {
     "name": "stdout",
     "output_type": "stream",
     "text": [
      "\u001b[0m\u001b[1m[Mera]: 2025-06-21T22:41:32.730\u001b[22m\n",
      "\n",
      "Requested datatypes: [:hydro, :gravity, :particles, :clumps]\n",
      "\n",
      "domain:\n",
      "xmin::xmax: 0.0 :: 1.0  \t==> 0.0 [kpc] :: 48.0 [kpc]\n",
      "ymin::ymax: 0.0 :: 1.0  \t==> 0.0 [kpc] :: 48.0 [kpc]\n",
      "zmin::zmax: 0.0 :: 1.0  \t==> 0.0 [kpc] :: 48.0 [kpc]\n",
      "\n",
      "\n",
      "reading/writing lmax: 10 of 10\n",
      "-----------------------------------\n",
      "Compression: CodecLz4.LZ4FrameCompressor(Ptr{CodecLz4.LZ4F_cctx} @0x0000000000000000, Base.RefValue{CodecLz4.LZ4F_preferences_t}(CodecLz4.LZ4F_preferences_t(CodecLz4.LZ4F_frameInfo_t(0x00000000, 0x00000000, 0x00000000, 0x00000000, 0x0000000000000000, 0x00000000, 0x00000000), 0, 0x00000000, (0x00000000, 0x00000000, 0x00000000, 0x00000000))), UInt8[0x04, 0x00, 0x00, 0x00, 0x00, 0x00, 0x00, 0x00, 0x04, 0x00, 0x00, 0x00, 0x00, 0x00, 0x00, 0x00, 0x80, 0x96, 0x25], false)\n",
      "-----------------------------------\n",
      "- hydro\n",
      "Reading data...\n"
     ]
    },
    {
     "name": "stderr",
     "output_type": "stream",
     "text": [
      "\u001b[32mProgress: 100%|█████████████████████████████████████████| Time: 0:00:59\u001b[39m\n"
     ]
    },
    {
     "name": "stdout",
     "output_type": "stream",
     "text": [
      "- gravity\n",
      "Reading data...\n"
     ]
    },
    {
     "name": "stderr",
     "output_type": "stream",
     "text": [
      "\u001b[32mProgress: 100%|█████████████████████████████████████████| Time: 0:00:55\u001b[39m\n"
     ]
    },
    {
     "name": "stdout",
     "output_type": "stream",
     "text": [
      "- particles\n"
     ]
    },
    {
     "name": "stderr",
     "output_type": "stream",
     "text": [
      "\u001b[32mProgress: 100%|█████████████████████████████████████████| Time: 0:00:07\u001b[39m\n"
     ]
    },
    {
     "name": "stdout",
     "output_type": "stream",
     "text": [
      "\n",
      "Total datasize:\n",
      "- total folder: 5.682 GB\n",
      "- selected: 5.68 GB\n",
      "- used: 4.047 GB\n",
      "- new on disc: 2.159 GB\n"
     ]
    }
   ],
   "source": [
    "cvd = convertdata(300, path=\"/Volumes/FASTStorage/Simulations/Mera-Tests/mw_L10\",\n",
    "                  fpath=\"/Volumes/FASTStorage/Simulations/Mera-Tests/JLD2_files/\");"
   ]
  },
  {
   "cell_type": "markdown",
   "id": "d43fb790-f103-4e73-9c4d-5db02fa1d3a1",
   "metadata": {},
   "source": [
    "#### Timer\n",
    "Get a view of the timers:"
   ]
  },
  {
   "cell_type": "code",
   "execution_count": 16,
   "id": "c1a760c4-e617-4163-af87-54e186ad85f5",
   "metadata": {
    "tags": []
   },
   "outputs": [],
   "source": [
    "using TimerOutputs"
   ]
  },
  {
   "cell_type": "code",
   "execution_count": 17,
   "id": "7d5f7c7e-fa85-4315-b2d6-41b42419ab1e",
   "metadata": {
    "tags": []
   },
   "outputs": [
    {
     "data": {
      "text/plain": [
       "Dict{Any, Any} with 3 entries:\n",
       "  \"viewdata\"     => Dict{Any, Any}(\"particles\"=>Dict{Any, Any}(\"versions\"=>Dict…\n",
       "  \"size\"         => Dict{Any, Any}(\"folder\"=>Any[6101111412, \"Bytes\"], \"selecte…\n",
       "  \"TimerOutputs\" => Dict{Any, Any}(\"writing\"=>\u001b[0m\u001b[1m─────────────────────────────────\u001b[0m…"
      ]
     },
     "execution_count": 17,
     "metadata": {},
     "output_type": "execute_result"
    }
   ],
   "source": [
    "cvd"
   ]
  },
  {
   "cell_type": "code",
   "execution_count": 18,
   "id": "38595ea8-00b1-4c5c-ac37-33b1d3c0478c",
   "metadata": {
    "tags": []
   },
   "outputs": [
    {
     "data": {
      "text/plain": [
       "\u001b[0m\u001b[1m──────────────────────────────────────────────────────────────────────\u001b[22m\n",
       "\u001b[0m\u001b[1m                    \u001b[22m         Time                    Allocations      \n",
       "                    ───────────────────────   ────────────────────────\n",
       " Tot / % measured:        174s /  94.4%           82.3GiB /  83.0%    \n",
       "\n",
       "Section     ncalls     time    %tot     avg     alloc    %tot      avg\n",
       "──────────────────────────────────────────────────────────────────────\n",
       "hydro            1    96.6s   58.7%   96.6s   47.9GiB   70.2%  47.9GiB\n",
       "gravity          1    58.9s   35.8%   58.9s   19.4GiB   28.4%  19.4GiB\n",
       "particles        1    8.98s    5.5%   8.98s   0.98GiB    1.4%  0.98GiB\n",
       "\u001b[0m\u001b[1m──────────────────────────────────────────────────────────────────────\u001b[22m"
      ]
     },
     "execution_count": 18,
     "metadata": {},
     "output_type": "execute_result"
    }
   ],
   "source": [
    "cvd[\"TimerOutputs\"][\"reading\"]"
   ]
  },
  {
   "cell_type": "code",
   "execution_count": 19,
   "id": "e3c42e6b-f52a-4d9e-a552-572115ea9eef",
   "metadata": {
    "tags": []
   },
   "outputs": [
    {
     "data": {
      "text/plain": [
       "\u001b[0m\u001b[1m──────────────────────────────────────────────────────────────────────\u001b[22m\n",
       "\u001b[0m\u001b[1m                    \u001b[22m         Time                    Allocations      \n",
       "                    ───────────────────────   ────────────────────────\n",
       " Tot / % measured:        174s /   5.0%           82.3GiB /  17.0%    \n",
       "\n",
       "Section     ncalls     time    %tot     avg     alloc    %tot      avg\n",
       "──────────────────────────────────────────────────────────────────────\n",
       "hydro            1    5.01s   56.9%   5.01s   7.18GiB   51.4%  7.18GiB\n",
       "gravity          1    3.42s   38.9%   3.42s   6.63GiB   47.5%  6.63GiB\n",
       "particles        1    368ms    4.2%   368ms    159MiB    1.1%   159MiB\n",
       "\u001b[0m\u001b[1m──────────────────────────────────────────────────────────────────────\u001b[22m"
      ]
     },
     "execution_count": 19,
     "metadata": {},
     "output_type": "execute_result"
    }
   ],
   "source": [
    "cvd[\"TimerOutputs\"][\"writing\"]"
   ]
  },
  {
   "cell_type": "code",
   "execution_count": null,
   "id": "33a79fe2-7957-43f1-b21c-ef99e03ac9b3",
   "metadata": {
    "tags": []
   },
   "outputs": [],
   "source": []
  },
  {
   "cell_type": "code",
   "execution_count": 20,
   "id": "b448941c-6829-40b9-b440-492de410c929",
   "metadata": {
    "tags": []
   },
   "outputs": [],
   "source": [
    "# prep timer\n",
    "to = TimerOutput();"
   ]
  },
  {
   "cell_type": "code",
   "execution_count": 21,
   "id": "0350874d-8146-4c7f-b2ae-1267e35a69f6",
   "metadata": {
    "tags": []
   },
   "outputs": [
    {
     "name": "stdout",
     "output_type": "stream",
     "text": [
      "\u001b[0m\u001b[1m[Mera]: 2025-06-21T22:44:27.384\u001b[22m\n",
      "\n",
      "Open Mera-file output_00300.jld2:\n",
      "\n",
      "domain:\n",
      "xmin::xmax: 0.0 :: 1.0  \t==> 0.0 [kpc] :: 48.0 [kpc]\n",
      "ymin::ymax: 0.0 :: 1.0  \t==> 0.0 [kpc] :: 48.0 [kpc]\n",
      "zmin::zmax: 0.0 :: 1.0  \t==> 0.0 [kpc] :: 48.0 [kpc]\n",
      "\n",
      "Memory used for data table :2.321105550043285 GB\n",
      "-------------------------------------------------------\n",
      "\n",
      "\u001b[0m\u001b[1m[Mera]: 2025-06-21T22:44:34.296\u001b[22m\n",
      "\n",
      "Open Mera-file output_00300.jld2:\n",
      "\n",
      "domain:\n",
      "xmin::xmax: 0.0 :: 1.0  \t==> 0.0 [kpc] :: 48.0 [kpc]\n",
      "ymin::ymax: 0.0 :: 1.0  \t==> 0.0 [kpc] :: 48.0 [kpc]\n",
      "zmin::zmax: 0.0 :: 1.0  \t==> 0.0 [kpc] :: 48.0 [kpc]\n",
      "\n",
      "Memory used for data table :38.44854164123535 MB\n",
      "-------------------------------------------------------\n",
      "\n"
     ]
    }
   ],
   "source": [
    "@timeit to \"MERA\" begin\n",
    "    @timeit to \"hydro\"     gas = loaddata(300, \"/Volumes/FASTStorage/Simulations/Mera-Tests/JLD2_files/\", :hydro, )\n",
    "    @timeit to \"particles\" part= loaddata(300, \"/Volumes/FASTStorage/Simulations/Mera-Tests/JLD2_files/\", :particles)\n",
    "end;"
   ]
  },
  {
   "cell_type": "code",
   "execution_count": 22,
   "id": "a26cf4da-5616-49e1-86b7-82005f28e0f2",
   "metadata": {
    "tags": []
   },
   "outputs": [
    {
     "data": {
      "text/plain": [
       "\u001b[0m\u001b[1m────────────────────────────────────────────────────────────────────────\u001b[22m\n",
       "\u001b[0m\u001b[1m                      \u001b[22m         Time                    Allocations      \n",
       "                      ───────────────────────   ────────────────────────\n",
       "  Tot / % measured:        7.22s /  97.5%           14.0GiB /  99.7%    \n",
       "\n",
       "Section       ncalls     time    %tot     avg     alloc    %tot      avg\n",
       "────────────────────────────────────────────────────────────────────────\n",
       "MERA               1    7.05s  100.0%   7.05s   14.0GiB  100.0%  14.0GiB\n",
       "  hydro            1    6.91s   98.1%   6.91s   13.8GiB   98.7%  13.8GiB\n",
       "  particles        1    134ms    1.9%   134ms    180MiB    1.3%   180MiB\n",
       "\u001b[0m\u001b[1m────────────────────────────────────────────────────────────────────────\u001b[22m"
      ]
     },
     "execution_count": 22,
     "metadata": {},
     "output_type": "execute_result"
    }
   ],
   "source": [
    "to"
   ]
  },
  {
   "cell_type": "markdown",
   "id": "b7355dfd-594a-46c1-a111-dabdb8fd7e2f",
   "metadata": {},
   "source": [
    "<div class=\"alert alert-block alert-info\"> <b>NOTE</b> The reading from JLD2 files is multiple times faster than from the original RAMSES files. </div>"
   ]
  },
  {
   "cell_type": "markdown",
   "id": "abf6033f-709b-470e-87bb-1a18edd32414",
   "metadata": {},
   "source": [
    "#### Used Memory"
   ]
  },
  {
   "cell_type": "code",
   "execution_count": 23,
   "id": "1f8aadfa-aa09-40ed-8c7a-c994811a232e",
   "metadata": {
    "tags": []
   },
   "outputs": [
    {
     "data": {
      "text/plain": [
       "Dict{Any, Any} with 4 entries:\n",
       "  \"folder\"   => Any[6101111412, \"Bytes\"]\n",
       "  \"selected\" => Any[6.09885e9, \"Bytes\"]\n",
       "  \"ondisc\"   => Any[2318210927, \"Bytes\"]\n",
       "  \"used\"     => Any[4.34515e9, \"Bytes\"]"
      ]
     },
     "execution_count": 23,
     "metadata": {},
     "output_type": "execute_result"
    }
   ],
   "source": [
    "cvd[\"size\"]"
   ]
  },
  {
   "cell_type": "markdown",
   "id": "c3c4ca68-f458-4563-ae2b-aa22c4ee56cb",
   "metadata": {},
   "source": [
    "<div class=\"alert alert-block alert-info\"> <b>NOTE</b> The compressed JLD2 file takes a significantly smaller disk space than the original RAMSES folder.</div>"
   ]
  },
  {
   "cell_type": "code",
   "execution_count": 24,
   "id": "663a2261-9f8c-4b18-aedc-35cf7ba2de04",
   "metadata": {
    "tags": []
   },
   "outputs": [
    {
     "name": "stdout",
     "output_type": "stream",
     "text": [
      "==============================================================================\n",
      "In this example, the disk space is reduced by a factor of 2.631818934567553 !!\n",
      "==============================================================================\n"
     ]
    }
   ],
   "source": [
    "factor = cvd[\"size\"][\"folder\"][1] / cvd[\"size\"][\"ondisc\"][1]\n",
    "println(\"==============================================================================\")\n",
    "println(\"In this example, the disk space is reduced by a factor of $factor !!\")\n",
    "println(\"==============================================================================\")"
   ]
  },
  {
   "cell_type": "code",
   "execution_count": null,
   "id": "b4af65fb-ba5a-477a-b868-6813a0e69ec4",
   "metadata": {
    "tags": []
   },
   "outputs": [],
   "source": []
  },
  {
   "cell_type": "markdown",
   "id": "0df66b57-5eda-42e5-bf2a-f3fb14117a11",
   "metadata": {
    "tags": []
   },
   "source": [
    "### Selected Datatypes"
   ]
  },
  {
   "cell_type": "code",
   "execution_count": 25,
   "id": "d000bc89-0b5c-4067-9886-8d51f95e6f72",
   "metadata": {
    "tags": []
   },
   "outputs": [
    {
     "name": "stdout",
     "output_type": "stream",
     "text": [
      "\u001b[0m\u001b[1m[Mera]: 2025-06-21T22:44:34.761\u001b[22m\n",
      "\n",
      "Requested datatypes: [:hydro, :particles]\n",
      "\n",
      "domain:\n",
      "xmin::xmax: 0.0 :: 1.0  \t==> 0.0 [kpc] :: 48.0 [kpc]\n",
      "ymin::ymax: 0.0 :: 1.0  \t==> 0.0 [kpc] :: 48.0 [kpc]\n",
      "zmin::zmax: 0.0 :: 1.0  \t==> 0.0 [kpc] :: 48.0 [kpc]\n",
      "\n",
      "\n",
      "reading/writing lmax: 10 of 10\n",
      "-----------------------------------\n",
      "Compression: CodecLz4.LZ4FrameCompressor(Ptr{CodecLz4.LZ4F_cctx} @0x0000000000000000, Base.RefValue{CodecLz4.LZ4F_preferences_t}(CodecLz4.LZ4F_preferences_t(CodecLz4.LZ4F_frameInfo_t(0x00000000, 0x00000000, 0x00000000, 0x00000000, 0x0000000000000000, 0x00000000, 0x00000000), 0, 0x00000000, (0x00000000, 0x00000000, 0x00000000, 0x00000000))), UInt8[0x00, 0x00, 0x00, 0x00, 0x00, 0x00, 0x00, 0x00, 0x00, 0x00, 0x00, 0x00, 0x00, 0x00, 0x00, 0x00, 0x90, 0xe3, 0x2a], false)\n",
      "-----------------------------------\n",
      "- hydro\n",
      "Reading data...\n"
     ]
    },
    {
     "name": "stderr",
     "output_type": "stream",
     "text": [
      "\u001b[32mProgress: 100%|█████████████████████████████████████████| Time: 0:00:57\u001b[39m\n"
     ]
    },
    {
     "name": "stdout",
     "output_type": "stream",
     "text": [
      "- particles\n"
     ]
    },
    {
     "name": "stderr",
     "output_type": "stream",
     "text": [
      "\u001b[32mProgress: 100%|█████████████████████████████████████████| Time: 0:00:07\u001b[39m\n"
     ]
    },
    {
     "name": "stdout",
     "output_type": "stream",
     "text": [
      "\n",
      "Total datasize:\n",
      "- total folder: 5.682 GB\n",
      "- selected: 4.002 GB\n",
      "- used: 2.359 GB\n",
      "- new on disc: 1.306 GB\n"
     ]
    }
   ],
   "source": [
    "cvd = convertdata(300, [:hydro, :particles], \n",
    "                  path=\"/Volumes/FASTStorage/Simulations/Mera-Tests/mw_L10\",\n",
    "                  fpath=\"/Volumes/FASTStorage/Simulations/Mera-Tests/JLD2_files/\");"
   ]
  },
  {
   "cell_type": "code",
   "execution_count": null,
   "id": "716f630b-71c9-405d-8bf5-4573063aaec2",
   "metadata": {
    "tags": []
   },
   "outputs": [],
   "source": []
  },
  {
   "cell_type": "markdown",
   "id": "cbb94c36-1f50-40cf-a36e-59167e18a863",
   "metadata": {},
   "source": [
    "## Compression\n",
    "By default, the data is compressed by a standard compressor. Therefore, if you want to use a different compression algorithm better suited to your needs, you can also directly pass a compressor. https://juliaio.github.io/JLD2.jl/stable/compression/"
   ]
  },
  {
   "cell_type": "markdown",
   "id": "9f429b7b-00c3-4e8e-8c2a-21f5ce8f8e9f",
   "metadata": {
    "tags": []
   },
   "source": [
    "|Library | Compressor| |\n",
    "|---|---|---|\n",
    "|CodecZlib.jl | ZlibCompressor | The default as it is very widely used. |\n",
    "|CodecBzip2.jl | Bzip2Compressor | Can often times be faster |\n",
    "|CodecLz4.jl | LZ4FrameCompressor | Fast, but not compatible to the LZ4 shipped by HDF5 |\n"
   ]
  },
  {
   "cell_type": "markdown",
   "id": "39407e96-781b-408a-8f9d-c62727ece45d",
   "metadata": {},
   "source": [
    "To use any of these, replace the compress = true argument with an instance of the compressor, e.g."
   ]
  },
  {
   "cell_type": "code",
   "execution_count": 26,
   "id": "7f540a42-cf54-499f-ae83-4a9a13b483c0",
   "metadata": {
    "tags": []
   },
   "outputs": [
    {
     "name": "stdout",
     "output_type": "stream",
     "text": [
      "\u001b[0m\u001b[1m[Mera]: 2025-06-21T22:46:24.922\u001b[22m\n",
      "\n",
      "Requested datatypes: [:hydro, :particles]\n",
      "\n",
      "domain:\n",
      "xmin::xmax: 0.0 :: 1.0  \t==> 0.0 [kpc] :: 48.0 [kpc]\n",
      "ymin::ymax: 0.0 :: 1.0  \t==> 0.0 [kpc] :: 48.0 [kpc]\n",
      "zmin::zmax: 0.0 :: 1.0  \t==> 0.0 [kpc] :: 48.0 [kpc]\n",
      "\n",
      "\n",
      "reading/writing lmax: 10 of 10\n",
      "-----------------------------------\n",
      "Compression: ZlibCompressor(level=-1, windowbits=15)\n",
      "-----------------------------------\n",
      "- hydro\n",
      "Reading data...\n"
     ]
    },
    {
     "name": "stderr",
     "output_type": "stream",
     "text": [
      "\u001b[32mProgress: 100%|█████████████████████████████████████████| Time: 0:00:57\u001b[39m\n"
     ]
    },
    {
     "name": "stdout",
     "output_type": "stream",
     "text": [
      "- particles\n"
     ]
    },
    {
     "name": "stderr",
     "output_type": "stream",
     "text": [
      "\u001b[32mProgress: 100%|█████████████████████████████████████████| Time: 0:00:07\u001b[39m\n"
     ]
    },
    {
     "name": "stdout",
     "output_type": "stream",
     "text": [
      "\n",
      "Total datasize:\n",
      "- total folder: 5.682 GB\n",
      "- selected: 4.002 GB\n",
      "- used: 2.359 GB\n",
      "- new on disc: 1.241 GB\n"
     ]
    }
   ],
   "source": [
    "using CodecZlib\n",
    "cvd = convertdata(300, [:hydro, :particles], compress=ZlibCompressor(),\n",
    "                  path=\"/Volumes/FASTStorage/Simulations/Mera-Tests/mw_L10\",\n",
    "                  fpath=\"/Volumes/FASTStorage/Simulations/Mera-Tests/JLD2_files/\");"
   ]
  },
  {
   "cell_type": "code",
   "execution_count": 27,
   "id": "4ed48929-b199-4a09-934e-f1cd897ed640",
   "metadata": {
    "tags": []
   },
   "outputs": [
    {
     "name": "stdout",
     "output_type": "stream",
     "text": [
      "\u001b[0m\u001b[1m[Mera]: 2025-06-21T22:48:55.105\u001b[22m\n",
      "\n",
      "\n",
      "Create file: output_00300.jld2\n",
      "Directory: /Volumes/FASTStorage/Simulations/Mera-Tests/mw_L10\n",
      "-----------------------------------\n",
      "merafile_version: 1.0  -  Simulation code: RAMSES\n",
      "-----------------------------------\n",
      "DataType: hydro  -  Data variables: (:level, :cx, :cy, :cz, :rho, :vx, :vy, :vz, :p, :var6, :var7)\n",
      "-----------------------------------\n",
      "I/O mode: write  -  Compression: ZlibCompressor(level=-1, windowbits=15)\n",
      "-----------------------------------\n",
      "CodecLz4  0.4.6\n",
      "JLD2  0.5.13\n",
      "CodecBzip2  0.8.5\n",
      "Mera  1.4.5\n",
      "CodecZlib  0.7.8\n",
      "-----------------------------------\n",
      "Memory size: 2.321 GB (uncompressed)\n",
      "Total file size: 1.213 GB\n",
      "-----------------------------------\n",
      "\n"
     ]
    }
   ],
   "source": [
    "savedata(gas, \"/Volumes/FASTStorage/Simulations/Mera-Tests/JLD2_files/\", \n",
    "            fmode=:write, compress=ZlibCompressor());"
   ]
  },
  {
   "cell_type": "markdown",
   "id": "b02aa10c-5d58-42f4-93a1-ac77ceff65be",
   "metadata": {},
   "source": [
    "Get more information about the parameters of the compressor:"
   ]
  },
  {
   "cell_type": "code",
   "execution_count": 28,
   "id": "91428ed4-9966-464a-8923-0136c67aa0ae",
   "metadata": {
    "tags": []
   },
   "outputs": [
    {
     "name": "stdout",
     "output_type": "stream",
     "text": [
      "search: \u001b[0m\u001b[1mZ\u001b[22m\u001b[0m\u001b[1ml\u001b[22m\u001b[0m\u001b[1mi\u001b[22m\u001b[0m\u001b[1mb\u001b[22m\u001b[0m\u001b[1mC\u001b[22m\u001b[0m\u001b[1mo\u001b[22m\u001b[0m\u001b[1mm\u001b[22m\u001b[0m\u001b[1mp\u001b[22m\u001b[0m\u001b[1mr\u001b[22m\u001b[0m\u001b[1me\u001b[22m\u001b[0m\u001b[1ms\u001b[22m\u001b[0m\u001b[1ms\u001b[22m\u001b[0m\u001b[1mo\u001b[22m\u001b[0m\u001b[1mr\u001b[22m \u001b[0m\u001b[1mZ\u001b[22m\u001b[0m\u001b[1ml\u001b[22m\u001b[0m\u001b[1mi\u001b[22m\u001b[0m\u001b[1mb\u001b[22mDe\u001b[0m\u001b[1mc\u001b[22m\u001b[0m\u001b[1mo\u001b[22m\u001b[0m\u001b[1mm\u001b[22m\u001b[0m\u001b[1mp\u001b[22m\u001b[0m\u001b[1mr\u001b[22m\u001b[0m\u001b[1me\u001b[22m\u001b[0m\u001b[1ms\u001b[22m\u001b[0m\u001b[1ms\u001b[22m\u001b[0m\u001b[1mo\u001b[22m\u001b[0m\u001b[1mr\u001b[22m G\u001b[0m\u001b[1mz\u001b[22mipCompressor \u001b[0m\u001b[1mZ\u001b[22m\u001b[0m\u001b[1ml\u001b[22m\u001b[0m\u001b[1mi\u001b[22m\u001b[0m\u001b[1mb\u001b[22m\u001b[0m\u001b[1mC\u001b[22m\u001b[0m\u001b[1mo\u001b[22m\u001b[0m\u001b[1mm\u001b[22m\u001b[0m\u001b[1mp\u001b[22m\u001b[0m\u001b[1mr\u001b[22m\u001b[0m\u001b[1me\u001b[22m\u001b[0m\u001b[1ms\u001b[22m\u001b[0m\u001b[1ms\u001b[22m\u001b[0m\u001b[1mo\u001b[22m\u001b[0m\u001b[1mr\u001b[22mStream\n",
      "\n"
     ]
    },
    {
     "data": {
      "text/latex": [
       "\\begin{verbatim}\n",
       "ZlibCompressor(;level=-1, windowbits=15)\n",
       "\\end{verbatim}\n",
       "Create a zlib compression codec.\n",
       "\n",
       "\\subsection{Arguments}\n",
       "\\begin{itemize}\n",
       "\\item \\texttt{level} (-1..9): compression level. 1 gives best speed, 9 gives best compression, 0 gives no compression at all (the input data is simply copied a block at a time). -1 requests a default compromise between speed and compression (currently equivalent to level 6).\n",
       "\n",
       "\n",
       "\\item \\texttt{windowbits} (9..15): size of history buffer is \\texttt{2\\^{}windowbits}.\n",
       "\n",
       "\\end{itemize}\n",
       "\\begin{quote}\n",
       "\\textbf{warning}\n",
       "\n",
       "Warning\n",
       "\n",
       "\\texttt{serialize} and \\texttt{deepcopy} will not work with this codec due to stored raw pointers.\n",
       "\n",
       "\\end{quote}\n"
      ],
      "text/markdown": [
       "```\n",
       "ZlibCompressor(;level=-1, windowbits=15)\n",
       "```\n",
       "\n",
       "Create a zlib compression codec.\n",
       "\n",
       "## Arguments\n",
       "\n",
       "  * `level` (-1..9): compression level. 1 gives best speed, 9 gives best compression, 0 gives no compression at all (the input data is simply copied a block at a time). -1 requests a default compromise between speed and compression (currently equivalent to level 6).\n",
       "  * `windowbits` (9..15): size of history buffer is `2^windowbits`.\n",
       "\n",
       "!!! warning\n",
       "    `serialize` and `deepcopy` will not work with this codec due to stored raw pointers.\n",
       "\n"
      ],
      "text/plain": [
       "\u001b[36m  ZlibCompressor(;level=-1, windowbits=15)\u001b[39m\n",
       "\n",
       "  Create a zlib compression codec.\n",
       "\n",
       "\u001b[1m  Arguments\u001b[22m\n",
       "\u001b[1m  =========\u001b[22m\n",
       "\n",
       "    •  \u001b[36mlevel\u001b[39m (-1..9): compression level. 1 gives best speed, 9 gives best\n",
       "       compression, 0 gives no compression at all (the input data is\n",
       "       simply copied a block at a time). -1 requests a default compromise\n",
       "       between speed and compression (currently equivalent to level 6).\n",
       "\n",
       "    •  \u001b[36mwindowbits\u001b[39m (9..15): size of history buffer is \u001b[36m2^windowbits\u001b[39m.\n",
       "\n",
       "\u001b[33m\u001b[1m  │ \u001b[22m\u001b[39m\u001b[33m\u001b[1mWarning\u001b[22m\u001b[39m\n",
       "\u001b[33m\u001b[1m  │\u001b[22m\u001b[39m\n",
       "\u001b[33m\u001b[1m  │\u001b[22m\u001b[39m  \u001b[36mserialize\u001b[39m and \u001b[36mdeepcopy\u001b[39m will not work with this codec due to stored\n",
       "\u001b[33m\u001b[1m  │\u001b[22m\u001b[39m  raw pointers."
      ]
     },
     "execution_count": 28,
     "metadata": {},
     "output_type": "execute_result"
    }
   ],
   "source": [
    "?ZlibCompressor"
   ]
  },
  {
   "cell_type": "code",
   "execution_count": null,
   "id": "530f7914-7b7b-4d47-a833-7ffb50b4133c",
   "metadata": {},
   "outputs": [],
   "source": []
  },
  {
   "cell_type": "markdown",
   "id": "c136b1af-5c4f-4a29-ad97-c21116d77a7c",
   "metadata": {
    "tags": []
   },
   "source": [
    "## Comments\n",
    "Add a description to the files:"
   ]
  },
  {
   "cell_type": "code",
   "execution_count": 29,
   "id": "62de5e5d-f424-4430-a71e-71409efca667",
   "metadata": {
    "tags": []
   },
   "outputs": [
    {
     "name": "stdout",
     "output_type": "stream",
     "text": [
      "\u001b[0m\u001b[1m[Mera]: 2025-06-21T22:49:38.415\u001b[22m\n",
      "\n",
      "Requested datatypes: [:hydro, :particles]\n",
      "\n",
      "domain:\n",
      "xmin::xmax: 0.0 :: 1.0  \t==> 0.0 [kpc] :: 48.0 [kpc]\n",
      "ymin::ymax: 0.0 :: 1.0  \t==> 0.0 [kpc] :: 48.0 [kpc]\n",
      "zmin::zmax: 0.0 :: 1.0  \t==> 0.0 [kpc] :: 48.0 [kpc]\n",
      "\n",
      "\n",
      "reading/writing lmax: 10 of 10\n",
      "-----------------------------------\n",
      "Compression: CodecLz4.LZ4FrameCompressor(Ptr{CodecLz4.LZ4F_cctx} @0x0000000000000000, Base.RefValue{CodecLz4.LZ4F_preferences_t}(CodecLz4.LZ4F_preferences_t(CodecLz4.LZ4F_frameInfo_t(0x00000000, 0x00000000, 0x00000000, 0x00000000, 0x0000000000000000, 0x00000000, 0x00000000), 0, 0x00000000, (0x00000000, 0x00000000, 0x00000000, 0x00000000))), UInt8[0x00, 0x00, 0x00, 0x00, 0x00, 0x00, 0x00, 0x00, 0x00, 0x00, 0x00, 0x00, 0x00, 0x00, 0x00, 0x00, 0x90, 0xe3, 0x2a], false)\n",
      "-----------------------------------\n",
      "- hydro\n",
      "Reading data...\n"
     ]
    },
    {
     "name": "stderr",
     "output_type": "stream",
     "text": [
      "\u001b[32mProgress: 100%|█████████████████████████████████████████| Time: 0:00:57\u001b[39m\n"
     ]
    },
    {
     "name": "stdout",
     "output_type": "stream",
     "text": [
      "- particles\n"
     ]
    },
    {
     "name": "stderr",
     "output_type": "stream",
     "text": [
      "\u001b[32mProgress: 100%|█████████████████████████████████████████| Time: 0:00:07\u001b[39m\n"
     ]
    },
    {
     "name": "stdout",
     "output_type": "stream",
     "text": [
      "\n",
      "Total datasize:\n",
      "- total folder: 5.682 GB\n",
      "- selected: 4.002 GB\n",
      "- used: 2.359 GB\n",
      "- new on disc: 1.306 GB\n"
     ]
    }
   ],
   "source": [
    "comment = \"The simulation is....\"\n",
    "cvd = convertdata(300, [:hydro, :particles], comments=comment,\n",
    "                  path=\"/Volumes/FASTStorage/Simulations/Mera-Tests/mw_L10\",\n",
    "                  fpath=\"/Volumes/FASTStorage/Simulations/Mera-Tests/JLD2_files/\");"
   ]
  },
  {
   "cell_type": "code",
   "execution_count": null,
   "id": "4f8a5105-7900-4bae-a7ba-5dbc9ef7eede",
   "metadata": {
    "tags": []
   },
   "outputs": [],
   "source": []
  },
  {
   "cell_type": "code",
   "execution_count": 30,
   "id": "e7661fc3-2630-4de2-b5d8-4768274b48a9",
   "metadata": {
    "tags": []
   },
   "outputs": [
    {
     "name": "stdout",
     "output_type": "stream",
     "text": [
      "\u001b[0m\u001b[1m[Mera]: 2025-06-21T22:51:29.166\u001b[22m\n",
      "\n",
      "\n",
      "Create file: output_00300.jld2\n",
      "Directory: /Volumes/FASTStorage/Simulations/Mera-Tests/mw_L10\n",
      "-----------------------------------\n",
      "merafile_version: 1.0  -  Simulation code: RAMSES\n",
      "-----------------------------------\n",
      "DataType: hydro  -  Data variables: (:level, :cx, :cy, :cz, :rho, :vx, :vy, :vz, :p, :var6, :var7)\n",
      "-----------------------------------\n",
      "I/O mode: write  -  Compression: CodecLz4.LZ4FrameCompressor(Ptr{CodecLz4.LZ4F_cctx} @0x0000000000000000, Base.RefValue{CodecLz4.LZ4F_preferences_t}(CodecLz4.LZ4F_preferences_t(CodecLz4.LZ4F_frameInfo_t(0x00000000, 0x00000000, 0x00000000, 0x00000000, 0x0000000000000000, 0x00000000, 0x00000000), 0, 0x00000000, (0x00000000, 0x00000000, 0x00000000, 0x00000000))), UInt8[0x00, 0x00, 0x00, 0x00, 0x00, 0x00, 0x00, 0x00, 0x00, 0x00, 0x00, 0x00, 0x00, 0x00, 0x00, 0x00, 0x90, 0xe3, 0x2a], false)\n",
      "-----------------------------------\n",
      "CodecLz4  0.4.6\n",
      "JLD2  0.5.13\n",
      "CodecBzip2  0.8.5\n",
      "Mera  1.4.5\n",
      "CodecZlib  0.7.8\n",
      "-----------------------------------\n",
      "Memory size: 2.321 GB (uncompressed)\n",
      "Total file size: 1.276 GB\n",
      "-----------------------------------\n",
      "\n"
     ]
    }
   ],
   "source": [
    "comment = \"The simulation is....\"\n",
    "savedata(gas, \"/Volumes/FASTStorage/Simulations/Mera-Tests/JLD2_files/\", comments=comment, fmode=:write);"
   ]
  },
  {
   "cell_type": "markdown",
   "id": "5ab81dd2-a931-4203-9141-c3f01a1a8a25",
   "metadata": {
    "tags": []
   },
   "source": [
    "Load the comment (hydro) from JLD2 file:"
   ]
  },
  {
   "cell_type": "code",
   "execution_count": 31,
   "id": "cf9cf88a-3cca-4fe9-be8b-2edf5814e828",
   "metadata": {
    "tags": []
   },
   "outputs": [],
   "source": [
    "vd = viewdata(300, \"/Volumes/FASTStorage/Simulations/Mera-Tests/JLD2_files/\", verbose=false);"
   ]
  },
  {
   "cell_type": "code",
   "execution_count": 32,
   "id": "d819bd2b-8f3b-483b-a507-8cddff3b457e",
   "metadata": {
    "tags": []
   },
   "outputs": [
    {
     "data": {
      "text/plain": [
       "\"The simulation is....\""
      ]
     },
     "execution_count": 32,
     "metadata": {},
     "output_type": "execute_result"
    }
   ],
   "source": [
    "vd[\"hydro\"][\"comments\"]"
   ]
  },
  {
   "cell_type": "code",
   "execution_count": null,
   "id": "9caa1240-df67-4ec9-b768-9d7ed970d01c",
   "metadata": {},
   "outputs": [],
   "source": []
  },
  {
   "cell_type": "code",
   "execution_count": null,
   "id": "6d8010de-7600-4338-9def-8830b9c5ef09",
   "metadata": {},
   "outputs": [],
   "source": []
  }
 ],
 "metadata": {
  "kernelspec": {
   "display_name": "Julia 1.11.5",
   "language": "julia",
   "name": "julia-1.11"
  },
  "language_info": {
   "file_extension": ".jl",
   "mimetype": "application/julia",
   "name": "julia",
   "version": "1.11.5"
  }
 },
 "nbformat": 4,
 "nbformat_minor": 5
}
