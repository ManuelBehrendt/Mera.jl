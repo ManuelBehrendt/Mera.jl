{
 "cells": [
  {
   "cell_type": "markdown",
   "metadata": {},
   "source": [
    "\n",
    "# First Steps"
   ]
  },
  {
   "cell_type": "markdown",
   "metadata": {},
   "source": [
    "## Simulation Overview"
   ]
  },
  {
   "cell_type": "code",
   "execution_count": 2,
   "metadata": {
    "tags": []
   },
   "outputs": [],
   "source": [
    "using Mera"
   ]
  },
  {
   "cell_type": "markdown",
   "metadata": {},
   "source": [
    "Get information with the function ``getinfo`` about the simulation for a selected output and assign it to an object, here: \"info\"  (composite type). The RAMSES output folders are assumed to be in the current working directory, and the user can give a relative or absolute path. The information is read from several files: info-file, header-file, from the header of the Fortran binary files of the first CPU (hydro, grav, part, clump, sink, ... if they exist), etc. Many familiar names and acronyms known from RAMSES are maintained. The function ``getinfo`` prints a small summary and the given units are printed in human-readable representation."
   ]
  },
  {
   "cell_type": "code",
   "execution_count": 3,
   "metadata": {
    "tags": []
   },
   "outputs": [
    {
     "name": "stdout",
     "output_type": "stream",
     "text": [
      "\u001b[0m\u001b[1m[Mera]: 2025-06-21T20:41:44.407\u001b[22m\n",
      "\n",
      "Code: RAMSES\n",
      "output [300] summary:\n",
      "mtime: 2023-04-09T05:34:09\n",
      "ctime: 2025-06-21T18:31:24.020\n",
      "\u001b[0m\u001b[1m=======================================================\u001b[22m\n",
      "simulation time: 445.89 [Myr]\n",
      "boxlen: 48.0 [kpc]\n",
      "ncpu: 640\n",
      "ndim: 3\n",
      "-------------------------------------------------------\n",
      "amr:           true\n",
      "level(s): 6 - 10 --> cellsize(s): 750.0 [pc] - 46.88 [pc]\n",
      "-------------------------------------------------------\n",
      "hydro:         true\n",
      "hydro-variables:  7  --> (:rho, :vx, :vy, :vz, :p, :var6, :var7)\n",
      "hydro-descriptor: (:density, :velocity_x, :velocity_y, :velocity_z, :pressure, :scalar_00, :scalar_01)\n",
      "γ: 1.6667\n",
      "-------------------------------------------------------\n",
      "gravity:       true\n",
      "gravity-variables: (:epot, :ax, :ay, :az)\n",
      "-------------------------------------------------------\n",
      "particles:     true\n",
      "- Nstars:   5.445150e+05 \n",
      "particle-variables: 7  --> (:vx, :vy, :vz, :mass, :family, :tag, :birth)\n",
      "particle-descriptor: (:position_x, :position_y, :position_z, :velocity_x, :velocity_y, :velocity_z, :mass, :identity, :levelp, :family, :tag, :birth_time)\n",
      "-------------------------------------------------------\n",
      "rt:            false\n",
      "clumps:           false\n",
      "-------------------------------------------------------\n",
      "namelist-file: (\"&COOLING_PARAMS\", \"&SF_PARAMS\", \"&AMR_PARAMS\", \"&BOUNDARY_PARAMS\", \"&OUTPUT_PARAMS\", \"&POISSON_PARAMS\", \"&RUN_PARAMS\", \"&FEEDBACK_PARAMS\", \"&HYDRO_PARAMS\", \"&INIT_PARAMS\", \"&REFINE_PARAMS\")\n",
      "-------------------------------------------------------\n",
      "timer-file:       true\n",
      "compilation-file: false\n",
      "makefile:         true\n",
      "patchfile:        true\n",
      "\u001b[0m\u001b[1m=======================================================\u001b[22m\n",
      "\n"
     ]
    }
   ],
   "source": [
    "info = getinfo(300, \"/Volumes/FASTStorage/Simulations/Mera-Tests/mw_L10\"); # output=300 in given path"
   ]
  },
  {
   "cell_type": "markdown",
   "metadata": {},
   "source": [
    "The simulation output can be selected in several ways, which is realised by using multiple dispatch. See the different defined methods on the function ``getinfo``:"
   ]
  },
  {
   "cell_type": "code",
   "execution_count": 4,
   "metadata": {
    "tags": []
   },
   "outputs": [
    {
     "data": {
      "text/html": [
       "# 4 methods for generic function <b>getinfo</b> from \u001b[35mMera\u001b[39m:<ul><li> getinfo(; <i>output, path, namelist, verbose</i>) in Mera at <a href=\"https://github.com/ManuelBehrendt/Mera.jl/tree/ffdf2d66dd61df9880adc8447db8380750e93e54//src/read_data/RAMSES/getinfo.jl#L58\" target=\"_blank\">/Users/mabe/Documents/codes/github/Mera.jl/src/read_data/RAMSES/getinfo.jl:58</a></li> <li> getinfo(path::<b>String</b>; <i>output, namelist, verbose</i>) in Mera at <a href=\"https://github.com/ManuelBehrendt/Mera.jl/tree/ffdf2d66dd61df9880adc8447db8380750e93e54//src/read_data/RAMSES/getinfo.jl#L54\" target=\"_blank\">/Users/mabe/Documents/codes/github/Mera.jl/src/read_data/RAMSES/getinfo.jl:54</a></li> <li> getinfo(output::<b>Real</b>, path::<b>String</b>; <i>namelist, verbose</i>) in Mera at <a href=\"https://github.com/ManuelBehrendt/Mera.jl/tree/ffdf2d66dd61df9880adc8447db8380750e93e54//src/read_data/RAMSES/getinfo.jl#L50\" target=\"_blank\">/Users/mabe/Documents/codes/github/Mera.jl/src/read_data/RAMSES/getinfo.jl:50</a></li> <li> getinfo(output::<b>Real</b>; <i>path, namelist, verbose</i>) in Mera at <a href=\"https://github.com/ManuelBehrendt/Mera.jl/tree/ffdf2d66dd61df9880adc8447db8380750e93e54//src/read_data/RAMSES/getinfo.jl#L46\" target=\"_blank\">/Users/mabe/Documents/codes/github/Mera.jl/src/read_data/RAMSES/getinfo.jl:46</a></li> </ul>"
      ],
      "text/plain": [
       "# 4 methods for generic function \"getinfo\" from \u001b[35mMera\u001b[39m:\n",
       " [1] getinfo(; output, path, namelist, verbose)\n",
       "\u001b[90m     @\u001b[39m \u001b[90m~/Documents/codes/github/Mera.jl/src/read_data/RAMSES/\u001b[39m\u001b[90m\u001b[4mgetinfo.jl:58\u001b[24m\u001b[39m\n",
       " [2] getinfo(\u001b[90mpath\u001b[39m::\u001b[1mString\u001b[22m; output, namelist, verbose)\n",
       "\u001b[90m     @\u001b[39m \u001b[90m~/Documents/codes/github/Mera.jl/src/read_data/RAMSES/\u001b[39m\u001b[90m\u001b[4mgetinfo.jl:54\u001b[24m\u001b[39m\n",
       " [3] getinfo(\u001b[90moutput\u001b[39m::\u001b[1mReal\u001b[22m, \u001b[90mpath\u001b[39m::\u001b[1mString\u001b[22m; namelist, verbose)\n",
       "\u001b[90m     @\u001b[39m \u001b[90m~/Documents/codes/github/Mera.jl/src/read_data/RAMSES/\u001b[39m\u001b[90m\u001b[4mgetinfo.jl:50\u001b[24m\u001b[39m\n",
       " [4] getinfo(\u001b[90moutput\u001b[39m::\u001b[1mReal\u001b[22m; path, namelist, verbose)\n",
       "\u001b[90m     @\u001b[39m \u001b[90m~/Documents/codes/github/Mera.jl/src/read_data/RAMSES/\u001b[39m\u001b[90m\u001b[4mgetinfo.jl:46\u001b[24m\u001b[39m"
      ]
     },
     "execution_count": 4,
     "metadata": {},
     "output_type": "execute_result"
    }
   ],
   "source": [
    "# info = getinfo(); # default: output=1 in current folder, \n",
    "# info = getinfo(\"../simulations/\"); # given path, default: output=1\n",
    "# info = getinfo(output=400, path=\"../simulations/\"); # pass path and output number by keywords\n",
    "\n",
    "methods(getinfo)"
   ]
  },
  {
   "cell_type": "markdown",
   "metadata": {},
   "source": [
    "## Fields\n",
    "The created object ``info`` is of type ``InfoType`` (composite type):"
   ]
  },
  {
   "cell_type": "code",
   "execution_count": 5,
   "metadata": {
    "tags": []
   },
   "outputs": [
    {
     "data": {
      "text/plain": [
       "InfoType"
      ]
     },
     "execution_count": 5,
     "metadata": {},
     "output_type": "execute_result"
    }
   ],
   "source": [
    "typeof(info)"
   ]
  },
  {
   "cell_type": "markdown",
   "metadata": {},
   "source": [
    "The previously printed information and even more simulation properties are assigned to the object and can be accessed from fields and sub-fields.\n",
    "Get an overview with:"
   ]
  },
  {
   "cell_type": "code",
   "execution_count": 6,
   "metadata": {
    "tags": []
   },
   "outputs": [
    {
     "name": "stdout",
     "output_type": "stream",
     "text": [
      "output\t= 300\n",
      "path\t= /Volumes/FASTStorage/Simulations/Mera-Tests/mw_L10\n",
      "\u001b[0m\u001b[1mfnames ==> subfields: (:output, :info, :amr, :hydro, :hydro_descriptor, :gravity, :particles, :part_descriptor, :rt, :rt_descriptor, :rt_descriptor_v0, :clumps, :timer, :header, :namelist, :compilation, :makefile, :patchfile)\u001b[22m\n",
      "\n",
      "simcode\t= RAMSES\n",
      "mtime\t= 2023-04-09T05:34:09\n",
      "ctime\t= 2025-06-21T18:31:24.020\n",
      "ncpu\t= 640\n",
      "ndim\t= 3\n",
      "levelmin\t= 6\n",
      "levelmax\t= 10\n",
      "boxlen\t= 48.0\n",
      "time\t= 29.9031937665063\n",
      "aexp\t= 1.0\n",
      "H0\t= 1.0\n",
      "omega_m\t= 1.0\n",
      "omega_l\t= 0.0\n",
      "omega_k\t= 0.0\n",
      "omega_b\t= 0.045\n",
      "unit_l\t= 3.085677581282e21\n",
      "unit_d\t= 6.76838218451376e-23\n",
      "unit_m\t= 1.9885499720830952e42\n",
      "unit_v\t= 6.557528732282063e6\n",
      "unit_t\t= 4.70554946422349e14\n",
      "gamma\t= 1.6667\n",
      "hydro\t= true\n",
      "nvarh\t= 7\n",
      "nvarp\t= 7\n",
      "nvarrt\t= 0\n",
      "variable_list\t= [:rho, :vx, :vy, :vz, :p, :var6, :var7]\n",
      "gravity_variable_list\t= [:epot, :ax, :ay, :az]\n",
      "particles_variable_list\t= [:vx, :vy, :vz, :mass, :family, :tag, :birth]\n",
      "rt_variable_list\t= Symbol[]\n",
      "clumps_variable_list\t= Symbol[]\n",
      "sinks_variable_list\t= Symbol[]\n",
      "\u001b[0m\u001b[1mdescriptor ==> subfields: (:hversion, :hydro, :htypes, :usehydro, :hydrofile, :pversion, :particles, :ptypes, :useparticles, :particlesfile, :gravity, :usegravity, :gravityfile, :rtversion, :rt, :rtPhotonGroups, :usert, :rtfile, :clumps, :useclumps, :clumpsfile, :sinks, :usesinks, :sinksfile)\u001b[22m\n",
      "\n",
      "amr\t= true\n",
      "gravity\t= true\n",
      "particles\t= true\n",
      "rt\t= false\n",
      "clumps\t= false\n",
      "sinks\t= false\n",
      "namelist\t= true\n",
      "\u001b[0m\u001b[1mnamelist_content ==> dictionary: (\"&COOLING_PARAMS\", \"&SF_PARAMS\", \"&AMR_PARAMS\", \"&BOUNDARY_PARAMS\", \"&OUTPUT_PARAMS\", \"&POISSON_PARAMS\", \"&RUN_PARAMS\", \"&FEEDBACK_PARAMS\", \"&HYDRO_PARAMS\", \"&INIT_PARAMS\", \"&REFINE_PARAMS\")\u001b[22m\n",
      "\n",
      "headerfile\t= true\n",
      "makefile\t= true\n",
      "\u001b[0m\u001b[1mfiles_content ==> subfields: (:makefile, :timerfile, :patchfile)\u001b[22m\n",
      "\n",
      "timerfile\t= true\n",
      "compilationfile\t= false\n",
      "patchfile\t= true\n",
      "Narraysize\t= 0\n",
      "\n",
      "\u001b[0m\u001b[1mscale ==> subfields: (:Mpc, :kpc, :pc, :mpc, :ly, :Au, :km, :m, :cm, :mm, :μm, :Mpc3, :kpc3, :pc3, :mpc3, :ly3, :Au3, :km3, :m3, :cm3, :mm3, :μm3, :Msol_pc3, :Msun_pc3, :g_cm3, :Msol_pc2, :Msun_pc2, :g_cm2, :Gyr, :Myr, :yr, :s, :ms, :Msol, :Msun, :Mearth, :Mjupiter, :g, :km_s, :m_s, :cm_s, :nH, :erg, :g_cms2, :T_mu, :K_mu, :T, :K, :Ba, :g_cm_s2, :p_kB, :K_cm3)\u001b[22m\n",
      "\n",
      "\u001b[0m\u001b[1mgrid_info ==> subfields: (:ngridmax, :nstep_coarse, :nx, :ny, :nz, :nlevelmax, :nboundary, :ngrid_current, :bound_key, :cpu_read)\u001b[22m\n",
      "\n",
      "\u001b[0m\u001b[1mpart_info ==> subfields: (:eta_sn, :age_sn, :f_w, :Npart, :Ndm, :Nstars, :Nsinks, :Ncloud, :Ndebris, :Nother, :Nundefined, :other_tracer1, :debris_tracer, :cloud_tracer, :star_tracer, :other_tracer2, :gas_tracer)\u001b[22m\n",
      "\n",
      "\u001b[0m\u001b[1mcompilation ==> subfields: (:compile_date, :patch_dir, :remote_repo, :local_branch, :last_commit)\u001b[22m\n",
      "\n",
      "\u001b[0m\u001b[1mconstants ==> subfields: (:Au, :Mpc, :kpc, :pc, :mpc, :ly, :Msol, :Msun, :Mearth, :Mjupiter, :Rsol, :Rsun, :me, :mp, :mn, :mH, :amu, :NA, :c, :G, :kB, :Gyr, :Myr, :yr)\u001b[22m\n",
      "\n",
      "\n"
     ]
    }
   ],
   "source": [
    "viewfields(info);"
   ]
  },
  {
   "cell_type": "markdown",
   "metadata": {},
   "source": [
    "Get a simple list of the fields of any object:"
   ]
  },
  {
   "cell_type": "code",
   "execution_count": 7,
   "metadata": {
    "tags": []
   },
   "outputs": [
    {
     "data": {
      "text/plain": [
       "(:output, :path, :fnames, :simcode, :mtime, :ctime, :ncpu, :ndim, :levelmin, :levelmax, :boxlen, :time, :aexp, :H0, :omega_m, :omega_l, :omega_k, :omega_b, :unit_l, :unit_d, :unit_m, :unit_v, :unit_t, :gamma, :hydro, :nvarh, :nvarp, :nvarrt, :variable_list, :gravity_variable_list, :particles_variable_list, :rt_variable_list, :clumps_variable_list, :sinks_variable_list, :descriptor, :amr, :gravity, :particles, :rt, :clumps, :sinks, :namelist, :namelist_content, :headerfile, :makefile, :files_content, :timerfile, :compilationfile, :patchfile, :Narraysize, :scale, :grid_info, :part_info, :compilation, :constants)"
      ]
     },
     "execution_count": 7,
     "metadata": {},
     "output_type": "execute_result"
    }
   ],
   "source": [
    "propertynames(info)"
   ]
  },
  {
   "cell_type": "markdown",
   "metadata": {},
   "source": [
    "## Physical Units\n",
    "All calculations in **MERA** are processed in the code units of the loaded simulation. The **RAMSES** scaling factors from code- to cgs-units are given for the length, density, mass, velocity and time, assigned to the fields: unit_l, unit_d, unit_m, unit_v, unit_t"
   ]
  },
  {
   "cell_type": "markdown",
   "metadata": {},
   "source": [
    "To make life easier, we provide more predefined scaling factors, assigned to the sub-field ``scale``:"
   ]
  },
  {
   "cell_type": "code",
   "execution_count": 8,
   "metadata": {
    "tags": []
   },
   "outputs": [
    {
     "name": "stdout",
     "output_type": "stream",
     "text": [
      "\n",
      "\u001b[0m\u001b[1m[Mera]: Fields to scale from user/code units to selected units\u001b[22m\n",
      "\u001b[0m\u001b[1m=======================================================================\u001b[22m\n",
      "Mpc\t= 0.0010000000000006482\n",
      "kpc\t= 1.0000000000006481\n",
      "pc\t= 1000.0000000006482\n",
      "mpc\t= 1.0000000000006482e6\n",
      "ly\t= 3261.5637769461323\n",
      "Au\t= 2.0626480623310105e23\n",
      "km\t= 3.0856775812820004e16\n",
      "m\t= 3.085677581282e19\n",
      "cm\t= 3.085677581282e21\n",
      "mm\t= 3.085677581282e22\n",
      "μm\t= 3.085677581282e25\n",
      "Mpc3\t= 1.0000000000019446e-9\n",
      "kpc3\t= 1.0000000000019444\n",
      "pc3\t= 1.0000000000019448e9\n",
      "mpc3\t= 1.0000000000019446e18\n",
      "ly3\t= 3.469585750743794e10\n",
      "Au3\t= 8.775571306099254e69\n",
      "km3\t= 2.9379989454983075e49\n",
      "m3\t= 2.9379989454983063e58\n",
      "cm3\t= 2.9379989454983065e64\n",
      "mm3\t= 2.937998945498306e67\n",
      "μm3\t= 2.937998945498306e76\n",
      "Msol_pc3\t= 0.9997234790001649\n",
      "Msun_pc3\t= 0.9997234790001649\n",
      "g_cm3\t= 6.76838218451376e-23\n",
      "Msol_pc2\t= 999.7234790008131\n",
      "Msun_pc2\t= 999.7234790008131\n",
      "g_cm2\t= 0.20885045168302602\n",
      "Gyr\t= 0.014910986463557083\n",
      "Myr\t= 14.910986463557084\n",
      "yr\t= 1.4910986463557083e7\n",
      "s\t= 4.70554946422349e14\n",
      "ms\t= 4.70554946422349e17\n",
      "Msol\t= 9.99723479002109e8\n",
      "Msun\t= 9.99723479002109e8\n",
      "Mearth\t= 3.329677459032007e14\n",
      "Mjupiter\t= 1.0476363431814971e12\n",
      "g\t= 1.9885499720830952e42\n",
      "km_s\t= 65.57528732282063\n",
      "m_s\t= 65575.28732282063\n",
      "cm_s\t= 6.557528732282063e6\n",
      "nH\t= 30.987773856809987\n",
      "erg\t= 8.551000140274429e55\n",
      "g_cms2\t= 2.9104844143584656e-9\n",
      "T_mu\t= 517028.3199143136\n",
      "K_mu\t= 517028.3199143136\n",
      "T\t= 680300.4209398864\n",
      "K\t= 680300.4209398864\n",
      "Ba\t= 2.910484414358466e-9\n",
      "g_cm_s2\t= 2.910484414358466e-9\n",
      "p_kB\t= 2.1080995598777838e7\n",
      "K_cm3\t= 2.1080995598777838e7\n",
      "\n"
     ]
    }
   ],
   "source": [
    "viewfields(info.scale) "
   ]
  },
  {
   "cell_type": "code",
   "execution_count": 9,
   "metadata": {
    "tags": []
   },
   "outputs": [
    {
     "data": {
      "text/plain": [
       "(:Mpc, :kpc, :pc, :mpc, :ly, :Au, :km, :m, :cm, :mm, :μm, :Mpc3, :kpc3, :pc3, :mpc3, :ly3, :Au3, :km3, :m3, :cm3, :mm3, :μm3, :Msol_pc3, :Msun_pc3, :g_cm3, :Msol_pc2, :Msun_pc2, :g_cm2, :Gyr, :Myr, :yr, :s, :ms, :Msol, :Msun, :Mearth, :Mjupiter, :g, :km_s, :m_s, :cm_s, :nH, :erg, :g_cms2, :T_mu, :K_mu, :T, :K, :Ba, :g_cm_s2, :p_kB, :K_cm3)"
      ]
     },
     "execution_count": 9,
     "metadata": {},
     "output_type": "execute_result"
    }
   ],
   "source": [
    "list_field = propertynames( info.scale )"
   ]
  },
  {
   "cell_type": "markdown",
   "metadata": {},
   "source": [
    "The underline in the unit representation corresponds to the fraction line, e.g.:\n",
    " \n",
    "|field name | corresponding unit |\n",
    "|---- | ----|\n",
    "|Msun_pc3        | Msun * pc^-3|\n",
    "|g_cm3          | g * cm^-3 |\n",
    "|Msun_pc2        | Msun * pc^-2|\n",
    "|g_cm2           | g * cm^-2|\n",
    "|            km_s| km * s^-1|\n",
    "|             m_s| m * s^-1|\n",
    "|            cm_s| cm * s^-1|\n",
    "|          g_cms2| g / (cm * s^2)|\n",
    "|          nH    | cm^-3 |\n",
    "|          T_mu  | T / μ |\n",
    "|          T_mu  | K / μ |\n",
    "|          p_kB  | p / kB |\n",
    "|          Ba    | = Barye (pressure) [cm^-1 * g * s^-2] |"
   ]
  },
  {
   "cell_type": "markdown",
   "metadata": {},
   "source": [
    "Access a scaling factor to use it in your calculations or plots by e.g.:"
   ]
  },
  {
   "cell_type": "code",
   "execution_count": 10,
   "metadata": {
    "tags": []
   },
   "outputs": [
    {
     "data": {
      "text/plain": [
       "65.57528732282063"
      ]
     },
     "execution_count": 10,
     "metadata": {},
     "output_type": "execute_result"
    }
   ],
   "source": [
    "info.scale.km_s  "
   ]
  },
  {
   "cell_type": "markdown",
   "metadata": {},
   "source": [
    "To reduce the hierarchy of sub-fields, assign a new object:"
   ]
  },
  {
   "cell_type": "code",
   "execution_count": 11,
   "metadata": {
    "tags": []
   },
   "outputs": [],
   "source": [
    "scale = info.scale;"
   ]
  },
  {
   "cell_type": "markdown",
   "metadata": {},
   "source": [
    "The scaling factor can now be accessed by:"
   ]
  },
  {
   "cell_type": "code",
   "execution_count": 12,
   "metadata": {
    "tags": []
   },
   "outputs": [
    {
     "data": {
      "text/plain": [
       "65.57528732282063"
      ]
     },
     "execution_count": 12,
     "metadata": {},
     "output_type": "execute_result"
    }
   ],
   "source": [
    "scale.km_s"
   ]
  },
  {
   "cell_type": "markdown",
   "metadata": {},
   "source": [
    "Furthermore, the scales can be assigned by applying the function ``createscales`` on an object of type ``InfoType`` (here: `info`):"
   ]
  },
  {
   "cell_type": "code",
   "execution_count": 13,
   "metadata": {
    "tags": []
   },
   "outputs": [
    {
     "data": {
      "text/plain": [
       "InfoType"
      ]
     },
     "execution_count": 13,
     "metadata": {},
     "output_type": "execute_result"
    }
   ],
   "source": [
    "typeof(info)"
   ]
  },
  {
   "cell_type": "code",
   "execution_count": 14,
   "metadata": {
    "tags": []
   },
   "outputs": [
    {
     "data": {
      "text/plain": [
       "65.57528732282063"
      ]
     },
     "execution_count": 14,
     "metadata": {},
     "output_type": "execute_result"
    }
   ],
   "source": [
    "my_scales = createscales(info)\n",
    "my_scales.km_s"
   ]
  },
  {
   "cell_type": "markdown",
   "metadata": {},
   "source": [
    "## Physical Constants\n",
    "Some useful constants are assigned to the `InfoType` object:"
   ]
  },
  {
   "cell_type": "code",
   "execution_count": 15,
   "metadata": {
    "tags": []
   },
   "outputs": [
    {
     "name": "stdout",
     "output_type": "stream",
     "text": [
      "\n",
      "\u001b[0m\u001b[1m[Mera]: Constants given in cgs units\u001b[22m\n",
      "\u001b[0m\u001b[1m=========================================\u001b[22m\n",
      "Au\t= 0.01495978707\n",
      "Mpc\t= 3.08567758128e24\n",
      "kpc\t= 3.08567758128e21\n",
      "pc\t= 3.08567758128e18\n",
      "mpc\t= 3.08567758128e15\n",
      "ly\t= 9.4607304725808e17\n",
      "Msol\t= 1.9891e33\n",
      "Msun\t= 1.9891e33\n",
      "Mearth\t= 5.9722e27\n",
      "Mjupiter\t= 1.89813e30\n",
      "Rsol\t= 6.96e10\n",
      "Rsun\t= 6.96e10\n",
      "me\t= 9.1093897e-28\n",
      "mp\t= 1.6726231e-24\n",
      "mn\t= 1.6749286e-24\n",
      "mH\t= 1.66e-24\n",
      "amu\t= 1.6605402e-24\n",
      "NA\t= 6.0221367e23\n",
      "c\t= 2.99792458e10\n",
      "G\t= 6.67259e-8\n",
      "kB\t= 1.38062e-16\n",
      "Gyr\t= 3.15576e16\n",
      "Myr\t= 3.15576e13\n",
      "yr\t= 3.15576e7\n",
      "\n"
     ]
    }
   ],
   "source": [
    "viewfields(info.constants)"
   ]
  },
  {
   "cell_type": "markdown",
   "metadata": {},
   "source": [
    "Reduce the hierarchy of sub-fields:"
   ]
  },
  {
   "cell_type": "code",
   "execution_count": 16,
   "metadata": {
    "tags": []
   },
   "outputs": [],
   "source": [
    "con = info.constants;"
   ]
  },
  {
   "cell_type": "code",
   "execution_count": 17,
   "metadata": {
    "tags": []
   },
   "outputs": [
    {
     "name": "stdout",
     "output_type": "stream",
     "text": [
      "\n",
      "\u001b[0m\u001b[1m[Mera]: Constants given in cgs units\u001b[22m\n",
      "\u001b[0m\u001b[1m=========================================\u001b[22m\n",
      "Au\t= 0.01495978707\n",
      "Mpc\t= 3.08567758128e24\n",
      "kpc\t= 3.08567758128e21\n",
      "pc\t= 3.08567758128e18\n",
      "mpc\t= 3.08567758128e15\n",
      "ly\t= 9.4607304725808e17\n",
      "Msol\t= 1.9891e33\n",
      "Msun\t= 1.9891e33\n",
      "Mearth\t= 5.9722e27\n",
      "Mjupiter\t= 1.89813e30\n",
      "Rsol\t= 6.96e10\n",
      "Rsun\t= 6.96e10\n",
      "me\t= 9.1093897e-28\n",
      "mp\t= 1.6726231e-24\n",
      "mn\t= 1.6749286e-24\n",
      "mH\t= 1.66e-24\n",
      "amu\t= 1.6605402e-24\n",
      "NA\t= 6.0221367e23\n",
      "c\t= 2.99792458e10\n",
      "G\t= 6.67259e-8\n",
      "kB\t= 1.38062e-16\n",
      "Gyr\t= 3.15576e16\n",
      "Myr\t= 3.15576e13\n",
      "yr\t= 3.15576e7\n",
      "\n"
     ]
    }
   ],
   "source": [
    "viewfields(con)"
   ]
  },
  {
   "cell_type": "markdown",
   "metadata": {},
   "source": [
    "## InfoType Fields Overview\n",
    "All fields and sub-fields that are assigned to the `InfoType` or from other objects can be viewed by the function **viewfields**, **namelist**, **makefile**, **timerfile**, **patchfile**.\n",
    "See the methods list:"
   ]
  },
  {
   "cell_type": "code",
   "execution_count": 18,
   "metadata": {
    "tags": []
   },
   "outputs": [
    {
     "data": {
      "text/html": [
       "# 11 methods for generic function <b>viewfields</b> from \u001b[35mMera\u001b[39m:<ul><li> viewfields(object::<b>PartInfoType</b>) in Mera at <a href=\"https://github.com/ManuelBehrendt/Mera.jl/tree/ffdf2d66dd61df9880adc8447db8380750e93e54//src/functions/viewfields.jl#L90\" target=\"_blank\">/Users/mabe/Documents/codes/github/Mera.jl/src/functions/viewfields.jl:90</a></li> <li> viewfields(object::<b>GridInfoType</b>) in Mera at <a href=\"https://github.com/ManuelBehrendt/Mera.jl/tree/ffdf2d66dd61df9880adc8447db8380750e93e54//src/functions/viewfields.jl#L107\" target=\"_blank\">/Users/mabe/Documents/codes/github/Mera.jl/src/functions/viewfields.jl:107</a></li> <li> viewfields(object::<b>PhysicalUnitsType001</b>) in Mera at <a href=\"https://github.com/ManuelBehrendt/Mera.jl/tree/ffdf2d66dd61df9880adc8447db8380750e93e54//src/functions/viewfields.jl#L198\" target=\"_blank\">/Users/mabe/Documents/codes/github/Mera.jl/src/functions/viewfields.jl:198</a></li> <li> viewfields(object::<b>DescriptorType</b>) in Mera at <a href=\"https://github.com/ManuelBehrendt/Mera.jl/tree/ffdf2d66dd61df9880adc8447db8380750e93e54//src/functions/viewfields.jl#L167\" target=\"_blank\">/Users/mabe/Documents/codes/github/Mera.jl/src/functions/viewfields.jl:167</a></li> <li> viewfields(object::<b>FileNamesType</b>) in Mera at <a href=\"https://github.com/ManuelBehrendt/Mera.jl/tree/ffdf2d66dd61df9880adc8447db8380750e93e54//src/functions/viewfields.jl#L151\" target=\"_blank\">/Users/mabe/Documents/codes/github/Mera.jl/src/functions/viewfields.jl:151</a></li> <li> viewfields(object::<b>CompilationInfoType</b>) in Mera at <a href=\"https://github.com/ManuelBehrendt/Mera.jl/tree/ffdf2d66dd61df9880adc8447db8380750e93e54//src/functions/viewfields.jl#L133\" target=\"_blank\">/Users/mabe/Documents/codes/github/Mera.jl/src/functions/viewfields.jl:133</a></li> <li> viewfields(object::<b>ArgumentsType</b>) in Mera at <a href=\"https://github.com/ManuelBehrendt/Mera.jl/tree/ffdf2d66dd61df9880adc8447db8380750e93e54//src/functions/viewfields.jl#L54\" target=\"_blank\">/Users/mabe/Documents/codes/github/Mera.jl/src/functions/viewfields.jl:54</a></li> <li> viewfields(object::<b>Mera.FilesContentType</b>) in Mera at <a href=\"https://github.com/ManuelBehrendt/Mera.jl/tree/ffdf2d66dd61df9880adc8447db8380750e93e54//src/functions/viewfields.jl#L183\" target=\"_blank\">/Users/mabe/Documents/codes/github/Mera.jl/src/functions/viewfields.jl:183</a></li> <li> viewfields(object::<b>InfoType</b>) in Mera at <a href=\"https://github.com/ManuelBehrendt/Mera.jl/tree/ffdf2d66dd61df9880adc8447db8380750e93e54//src/functions/viewfields.jl#L10\" target=\"_blank\">/Users/mabe/Documents/codes/github/Mera.jl/src/functions/viewfields.jl:10</a></li> <li> viewfields(object::<b>ScalesType001</b>) in Mera at <a href=\"https://github.com/ManuelBehrendt/Mera.jl/tree/ffdf2d66dd61df9880adc8447db8380750e93e54//src/functions/viewfields.jl#L74\" target=\"_blank\">/Users/mabe/Documents/codes/github/Mera.jl/src/functions/viewfields.jl:74</a></li> <li> viewfields(object::<b>DataSetType</b>) in Mera at <a href=\"https://github.com/ManuelBehrendt/Mera.jl/tree/ffdf2d66dd61df9880adc8447db8380750e93e54//src/functions/viewfields.jl#L215\" target=\"_blank\">/Users/mabe/Documents/codes/github/Mera.jl/src/functions/viewfields.jl:215</a></li> </ul>"
      ],
      "text/plain": [
       "# 11 methods for generic function \"viewfields\" from \u001b[35mMera\u001b[39m:\n",
       "  [1] viewfields(\u001b[90mobject\u001b[39m::\u001b[1mPartInfoType\u001b[22m)\n",
       "\u001b[90m     @\u001b[39m \u001b[90m~/Documents/codes/github/Mera.jl/src/functions/\u001b[39m\u001b[90m\u001b[4mviewfields.jl:90\u001b[24m\u001b[39m\n",
       "  [2] viewfields(\u001b[90mobject\u001b[39m::\u001b[1mGridInfoType\u001b[22m)\n",
       "\u001b[90m     @\u001b[39m \u001b[90m~/Documents/codes/github/Mera.jl/src/functions/\u001b[39m\u001b[90m\u001b[4mviewfields.jl:107\u001b[24m\u001b[39m\n",
       "  [3] viewfields(\u001b[90mobject\u001b[39m::\u001b[1mPhysicalUnitsType001\u001b[22m)\n",
       "\u001b[90m     @\u001b[39m \u001b[90m~/Documents/codes/github/Mera.jl/src/functions/\u001b[39m\u001b[90m\u001b[4mviewfields.jl:198\u001b[24m\u001b[39m\n",
       "  [4] viewfields(\u001b[90mobject\u001b[39m::\u001b[1mDescriptorType\u001b[22m)\n",
       "\u001b[90m     @\u001b[39m \u001b[90m~/Documents/codes/github/Mera.jl/src/functions/\u001b[39m\u001b[90m\u001b[4mviewfields.jl:167\u001b[24m\u001b[39m\n",
       "  [5] viewfields(\u001b[90mobject\u001b[39m::\u001b[1mFileNamesType\u001b[22m)\n",
       "\u001b[90m     @\u001b[39m \u001b[90m~/Documents/codes/github/Mera.jl/src/functions/\u001b[39m\u001b[90m\u001b[4mviewfields.jl:151\u001b[24m\u001b[39m\n",
       "  [6] viewfields(\u001b[90mobject\u001b[39m::\u001b[1mCompilationInfoType\u001b[22m)\n",
       "\u001b[90m     @\u001b[39m \u001b[90m~/Documents/codes/github/Mera.jl/src/functions/\u001b[39m\u001b[90m\u001b[4mviewfields.jl:133\u001b[24m\u001b[39m\n",
       "  [7] viewfields(\u001b[90mobject\u001b[39m::\u001b[1mArgumentsType\u001b[22m)\n",
       "\u001b[90m     @\u001b[39m \u001b[90m~/Documents/codes/github/Mera.jl/src/functions/\u001b[39m\u001b[90m\u001b[4mviewfields.jl:54\u001b[24m\u001b[39m\n",
       "  [8] viewfields(\u001b[90mobject\u001b[39m::\u001b[1mMera.FilesContentType\u001b[22m)\n",
       "\u001b[90m     @\u001b[39m \u001b[90m~/Documents/codes/github/Mera.jl/src/functions/\u001b[39m\u001b[90m\u001b[4mviewfields.jl:183\u001b[24m\u001b[39m\n",
       "  [9] viewfields(\u001b[90mobject\u001b[39m::\u001b[1mInfoType\u001b[22m)\n",
       "\u001b[90m     @\u001b[39m \u001b[90m~/Documents/codes/github/Mera.jl/src/functions/\u001b[39m\u001b[90m\u001b[4mviewfields.jl:10\u001b[24m\u001b[39m\n",
       " [10] viewfields(\u001b[90mobject\u001b[39m::\u001b[1mScalesType001\u001b[22m)\n",
       "\u001b[90m     @\u001b[39m \u001b[90m~/Documents/codes/github/Mera.jl/src/functions/\u001b[39m\u001b[90m\u001b[4mviewfields.jl:74\u001b[24m\u001b[39m\n",
       " [11] viewfields(\u001b[90mobject\u001b[39m::\u001b[1mDataSetType\u001b[22m)\n",
       "\u001b[90m     @\u001b[39m \u001b[90m~/Documents/codes/github/Mera.jl/src/functions/\u001b[39m\u001b[90m\u001b[4mviewfields.jl:215\u001b[24m\u001b[39m"
      ]
     },
     "execution_count": 18,
     "metadata": {},
     "output_type": "execute_result"
    }
   ],
   "source": [
    "methods(viewfields)"
   ]
  },
  {
   "cell_type": "code",
   "execution_count": 19,
   "metadata": {
    "tags": []
   },
   "outputs": [
    {
     "data": {
      "text/html": [
       "# 2 methods for generic function <b>namelist</b> from \u001b[35mMera\u001b[39m:<ul><li> namelist(object::<b>Dict{Any, Any}</b>) in Mera at <a href=\"https://github.com/ManuelBehrendt/Mera.jl/tree/ffdf2d66dd61df9880adc8447db8380750e93e54//src/functions/viewfields.jl#L262\" target=\"_blank\">/Users/mabe/Documents/codes/github/Mera.jl/src/functions/viewfields.jl:262</a></li> <li> namelist(object::<b>InfoType</b>) in Mera at <a href=\"https://github.com/ManuelBehrendt/Mera.jl/tree/ffdf2d66dd61df9880adc8447db8380750e93e54//src/functions/viewfields.jl#L244\" target=\"_blank\">/Users/mabe/Documents/codes/github/Mera.jl/src/functions/viewfields.jl:244</a></li> </ul>"
      ],
      "text/plain": [
       "# 2 methods for generic function \"namelist\" from \u001b[35mMera\u001b[39m:\n",
       " [1] namelist(\u001b[90mobject\u001b[39m::\u001b[1mDict\u001b[22m\u001b[0m{Any, Any})\n",
       "\u001b[90m     @\u001b[39m \u001b[90m~/Documents/codes/github/Mera.jl/src/functions/\u001b[39m\u001b[90m\u001b[4mviewfields.jl:262\u001b[24m\u001b[39m\n",
       " [2] namelist(\u001b[90mobject\u001b[39m::\u001b[1mInfoType\u001b[22m)\n",
       "\u001b[90m     @\u001b[39m \u001b[90m~/Documents/codes/github/Mera.jl/src/functions/\u001b[39m\u001b[90m\u001b[4mviewfields.jl:244\u001b[24m\u001b[39m"
      ]
     },
     "execution_count": 19,
     "metadata": {},
     "output_type": "execute_result"
    }
   ],
   "source": [
    "methods(namelist)"
   ]
  },
  {
   "cell_type": "markdown",
   "metadata": {},
   "source": [
    "Get a detailed overview of all the fields from MERA composite types:"
   ]
  },
  {
   "cell_type": "code",
   "execution_count": 20,
   "metadata": {
    "tags": []
   },
   "outputs": [
    {
     "name": "stdout",
     "output_type": "stream",
     "text": [
      "output\t= 300\n",
      "path\t= /Volumes/FASTStorage/Simulations/Mera-Tests/mw_L10\n",
      "\u001b[0m\u001b[1mfnames ==> subfields: (:output, :info, :amr, :hydro, :hydro_descriptor, :gravity, :particles, :part_descriptor, :rt, :rt_descriptor, :rt_descriptor_v0, :clumps, :timer, :header, :namelist, :compilation, :makefile, :patchfile)\u001b[22m\n",
      "\n",
      "simcode\t= RAMSES\n",
      "mtime\t= 2023-04-09T05:34:09\n",
      "ctime\t= 2025-06-21T18:31:24.020\n",
      "ncpu\t= 640\n",
      "ndim\t= 3\n",
      "levelmin\t= 6\n",
      "levelmax\t= 10\n",
      "boxlen\t= 48.0\n",
      "time\t= 29.9031937665063\n",
      "aexp\t= 1.0\n",
      "H0\t= 1.0\n",
      "omega_m\t= 1.0\n",
      "omega_l\t= 0.0\n",
      "omega_k\t= 0.0\n",
      "omega_b\t= 0.045\n",
      "unit_l\t= 3.085677581282e21\n",
      "unit_d\t= 6.76838218451376e-23\n",
      "unit_m\t= 1.9885499720830952e42\n",
      "unit_v\t= 6.557528732282063e6\n",
      "unit_t\t= 4.70554946422349e14\n",
      "gamma\t= 1.6667\n",
      "hydro\t= true\n",
      "nvarh\t= 7\n",
      "nvarp\t= 7\n",
      "nvarrt\t= 0\n",
      "variable_list\t= [:rho, :vx, :vy, :vz, :p, :var6, :var7]\n",
      "gravity_variable_list\t= [:epot, :ax, :ay, :az]\n",
      "particles_variable_list\t= [:vx, :vy, :vz, :mass, :family, :tag, :birth]\n",
      "rt_variable_list\t= Symbol[]\n",
      "clumps_variable_list\t= Symbol[]\n",
      "sinks_variable_list\t= Symbol[]\n",
      "\u001b[0m\u001b[1mdescriptor ==> subfields: (:hversion, :hydro, :htypes, :usehydro, :hydrofile, :pversion, :particles, :ptypes, :useparticles, :particlesfile, :gravity, :usegravity, :gravityfile, :rtversion, :rt, :rtPhotonGroups, :usert, :rtfile, :clumps, :useclumps, :clumpsfile, :sinks, :usesinks, :sinksfile)\u001b[22m\n",
      "\n",
      "amr\t= true\n",
      "gravity\t= true\n",
      "particles\t= true\n",
      "rt\t= false\n",
      "clumps\t= false\n",
      "sinks\t= false\n",
      "namelist\t= true\n",
      "\u001b[0m\u001b[1mnamelist_content ==> dictionary: (\"&COOLING_PARAMS\", \"&SF_PARAMS\", \"&AMR_PARAMS\", \"&BOUNDARY_PARAMS\", \"&OUTPUT_PARAMS\", \"&POISSON_PARAMS\", \"&RUN_PARAMS\", \"&FEEDBACK_PARAMS\", \"&HYDRO_PARAMS\", \"&INIT_PARAMS\", \"&REFINE_PARAMS\")\u001b[22m\n",
      "\n",
      "headerfile\t= true\n",
      "makefile\t= true\n",
      "\u001b[0m\u001b[1mfiles_content ==> subfields: (:makefile, :timerfile, :patchfile)\u001b[22m\n",
      "\n",
      "timerfile\t= true\n",
      "compilationfile\t= false\n",
      "patchfile\t= true\n",
      "Narraysize\t= 0\n",
      "\n",
      "\u001b[0m\u001b[1mscale ==> subfields: (:Mpc, :kpc, :pc, :mpc, :ly, :Au, :km, :m, :cm, :mm, :μm, :Mpc3, :kpc3, :pc3, :mpc3, :ly3, :Au3, :km3, :m3, :cm3, :mm3, :μm3, :Msol_pc3, :Msun_pc3, :g_cm3, :Msol_pc2, :Msun_pc2, :g_cm2, :Gyr, :Myr, :yr, :s, :ms, :Msol, :Msun, :Mearth, :Mjupiter, :g, :km_s, :m_s, :cm_s, :nH, :erg, :g_cms2, :T_mu, :K_mu, :T, :K, :Ba, :g_cm_s2, :p_kB, :K_cm3)\u001b[22m\n",
      "\n",
      "\u001b[0m\u001b[1mgrid_info ==> subfields: (:ngridmax, :nstep_coarse, :nx, :ny, :nz, :nlevelmax, :nboundary, :ngrid_current, :bound_key, :cpu_read)\u001b[22m\n",
      "\n",
      "\u001b[0m\u001b[1mpart_info ==> subfields: (:eta_sn, :age_sn, :f_w, :Npart, :Ndm, :Nstars, :Nsinks, :Ncloud, :Ndebris, :Nother, :Nundefined, :other_tracer1, :debris_tracer, :cloud_tracer, :star_tracer, :other_tracer2, :gas_tracer)\u001b[22m\n",
      "\n",
      "\u001b[0m\u001b[1mcompilation ==> subfields: (:compile_date, :patch_dir, :remote_repo, :local_branch, :last_commit)\u001b[22m\n",
      "\n",
      "\u001b[0m\u001b[1mconstants ==> subfields: (:Au, :Mpc, :kpc, :pc, :mpc, :ly, :Msol, :Msun, :Mearth, :Mjupiter, :Rsol, :Rsun, :me, :mp, :mn, :mH, :amu, :NA, :c, :G, :kB, :Gyr, :Myr, :yr)\u001b[22m\n",
      "\n",
      "\n",
      "\n",
      "\u001b[0m\u001b[1m[Mera]: Fields to scale from user/code units to selected units\u001b[22m\n",
      "\u001b[0m\u001b[1m=======================================================================\u001b[22m\n",
      "Mpc\t= 0.0010000000000006482\n",
      "kpc\t= 1.0000000000006481\n",
      "pc\t= 1000.0000000006482\n",
      "mpc\t= 1.0000000000006482e6\n",
      "ly\t= 3261.5637769461323\n",
      "Au\t= 2.0626480623310105e23\n",
      "km\t= 3.0856775812820004e16\n",
      "m\t= 3.085677581282e19\n",
      "cm\t= 3.085677581282e21\n",
      "mm\t= 3.085677581282e22\n",
      "μm\t= 3.085677581282e25\n",
      "Mpc3\t= 1.0000000000019446e-9\n",
      "kpc3\t= 1.0000000000019444\n",
      "pc3\t= 1.0000000000019448e9\n",
      "mpc3\t= 1.0000000000019446e18\n",
      "ly3\t= 3.469585750743794e10\n",
      "Au3\t= 8.775571306099254e69\n",
      "km3\t= 2.9379989454983075e49\n",
      "m3\t= 2.9379989454983063e58\n",
      "cm3\t= 2.9379989454983065e64\n",
      "mm3\t= 2.937998945498306e67\n",
      "μm3\t= 2.937998945498306e76\n",
      "Msol_pc3\t= 0.9997234790001649\n",
      "Msun_pc3\t= 0.9997234790001649\n",
      "g_cm3\t= 6.76838218451376e-23\n",
      "Msol_pc2\t= 999.7234790008131\n",
      "Msun_pc2\t= 999.7234790008131\n",
      "g_cm2\t= 0.20885045168302602\n",
      "Gyr\t= 0.014910986463557083\n",
      "Myr\t= 14.910986463557084\n",
      "yr\t= 1.4910986463557083e7\n",
      "s\t= 4.70554946422349e14\n",
      "ms\t= 4.70554946422349e17\n",
      "Msol\t= 9.99723479002109e8\n",
      "Msun\t= 9.99723479002109e8\n",
      "Mearth\t= 3.329677459032007e14\n",
      "Mjupiter\t= 1.0476363431814971e12\n",
      "g\t= 1.9885499720830952e42\n",
      "km_s\t= 65.57528732282063\n",
      "m_s\t= 65575.28732282063\n",
      "cm_s\t= 6.557528732282063e6\n",
      "nH\t= 30.987773856809987\n",
      "erg\t= 8.551000140274429e55\n",
      "g_cms2\t= 2.9104844143584656e-9\n",
      "T_mu\t= 517028.3199143136\n",
      "K_mu\t= 517028.3199143136\n",
      "T\t= 680300.4209398864\n",
      "K\t= 680300.4209398864\n",
      "Ba\t= 2.910484414358466e-9\n",
      "g_cm_s2\t= 2.910484414358466e-9\n",
      "p_kB\t= 2.1080995598777838e7\n",
      "K_cm3\t= 2.1080995598777838e7\n",
      "\n",
      "\n",
      "\u001b[0m\u001b[1m[Mera]: Constants given in cgs units\u001b[22m\n",
      "\u001b[0m\u001b[1m=========================================\u001b[22m\n",
      "Au\t= 0.01495978707\n",
      "Mpc\t= 3.08567758128e24\n",
      "kpc\t= 3.08567758128e21\n",
      "pc\t= 3.08567758128e18\n",
      "mpc\t= 3.08567758128e15\n",
      "ly\t= 9.4607304725808e17\n",
      "Msol\t= 1.9891e33\n",
      "Msun\t= 1.9891e33\n",
      "Mearth\t= 5.9722e27\n",
      "Mjupiter\t= 1.89813e30\n",
      "Rsol\t= 6.96e10\n",
      "Rsun\t= 6.96e10\n",
      "me\t= 9.1093897e-28\n",
      "mp\t= 1.6726231e-24\n",
      "mn\t= 1.6749286e-24\n",
      "mH\t= 1.66e-24\n",
      "amu\t= 1.6605402e-24\n",
      "NA\t= 6.0221367e23\n",
      "c\t= 2.99792458e10\n",
      "G\t= 6.67259e-8\n",
      "kB\t= 1.38062e-16\n",
      "Gyr\t= 3.15576e16\n",
      "Myr\t= 3.15576e13\n",
      "yr\t= 3.15576e7\n",
      "\n",
      "\n",
      "\u001b[0m\u001b[1m[Mera]: Paths and file-names\u001b[22m\n",
      "\u001b[0m\u001b[1m=================================\u001b[22m\n",
      "output\t= /Volumes/FASTStorage/Simulations/Mera-Tests/mw_L10/output_00300\n",
      "info\t= /Volumes/FASTStorage/Simulations/Mera-Tests/mw_L10/output_00300/info_00300.txt\n",
      "amr\t= /Volumes/FASTStorage/Simulations/Mera-Tests/mw_L10/output_00300/amr_00300.\n",
      "hydro\t= /Volumes/FASTStorage/Simulations/Mera-Tests/mw_L10/output_00300/hydro_00300.\n",
      "hydro_descriptor\t= /Volumes/FASTStorage/Simulations/Mera-Tests/mw_L10/output_00300/hydro_file_descriptor.txt\n",
      "gravity\t= /Volumes/FASTStorage/Simulations/Mera-Tests/mw_L10/output_00300/grav_00300.\n",
      "particles\t= /Volumes/FASTStorage/Simulations/Mera-Tests/mw_L10/output_00300/part_00300.\n",
      "part_descriptor\t= /Volumes/FASTStorage/Simulations/Mera-Tests/mw_L10/output_00300/part_file_descriptor.txt\n",
      "rt\t= /Volumes/FASTStorage/Simulations/Mera-Tests/mw_L10/output_00300/rt_00300.\n",
      "rt_descriptor\t= /Volumes/FASTStorage/Simulations/Mera-Tests/mw_L10/output_00300/rt_file_descriptor.txt\n",
      "rt_descriptor_v0\t= /Volumes/FASTStorage/Simulations/Mera-Tests/mw_L10/output_00300/info_rt_00300.txt\n",
      "clumps\t= /Volumes/FASTStorage/Simulations/Mera-Tests/mw_L10/output_00300/clump_00300.\n",
      "timer\t= /Volumes/FASTStorage/Simulations/Mera-Tests/mw_L10/output_00300/timer_00300.txt\n",
      "header\t= /Volumes/FASTStorage/Simulations/Mera-Tests/mw_L10/output_00300/header_00300.txt\n",
      "namelist\t= /Volumes/FASTStorage/Simulations/Mera-Tests/mw_L10/output_00300/namelist.txt\n",
      "compilation\t= /Volumes/FASTStorage/Simulations/Mera-Tests/mw_L10/output_00300/compilation.txt\n",
      "makefile\t= /Volumes/FASTStorage/Simulations/Mera-Tests/mw_L10/output_00300/makefile.txt\n",
      "patchfile\t= /Volumes/FASTStorage/Simulations/Mera-Tests/mw_L10/output_00300/patches.txt\n",
      "\n",
      "\n",
      "\u001b[0m\u001b[1m[Mera]: Descriptor overview\u001b[22m\n",
      "\u001b[0m\u001b[1m=================================\u001b[22m\n",
      "hversion\t= 1\n",
      "hydro\t= [:density, :velocity_x, :velocity_y, :velocity_z, :pressure, :scalar_00, :scalar_01]\n",
      "htypes\t= [\"d\", \"d\", \"d\", \"d\", \"d\", \"d\", \"d\"]\n",
      "usehydro\t= false\n",
      "hydrofile\t= true\n",
      "pversion\t= 1\n",
      "particles\t= [:position_x, :position_y, :position_z, :velocity_x, :velocity_y, :velocity_z, :mass, :identity, :levelp, :family, :tag, :birth_time]\n",
      "ptypes\t= [\"d\", \"d\", \"d\", \"d\", \"d\", \"d\", \"d\", \"i\", \"i\", \"b\", \"b\", \"d\"]\n",
      "useparticles\t= false\n",
      "particlesfile\t= true\n",
      "gravity\t= [:epot, :ax, :ay, :az]\n",
      "usegravity\t= false\n",
      "gravityfile\t= false\n",
      "rtversion\t= 0\n",
      "rt\t= Dict{Any, Any}()\n",
      "rtPhotonGroups\t= Dict{Any, Any}()\n",
      "usert\t= false\n",
      "rtfile\t= false\n",
      "clumps\t= Symbol[]\n",
      "useclumps\t= false\n",
      "clumpsfile\t= false\n",
      "sinks\t= Symbol[]\n",
      "usesinks\t= false\n",
      "sinksfile\t= false\n",
      "\n",
      "\n",
      "\u001b[0m\u001b[1m[Mera]: Namelist file content\u001b[22m\n",
      "\u001b[0m\u001b[1m=================================\u001b[22m\n",
      "&COOLING_PARAMS\n",
      "cooling  \t=.true. \n",
      "z_ave  \t=1.\n",
      "\n",
      "&SF_PARAMS\n",
      "m_star   \t= 1   \n",
      "n_star   \t= 10. !H/cc\n",
      "T2_star  \t= 0 !T/mu K\n",
      "eps_star   \t= 0.01 !1%\n",
      "\n",
      "&AMR_PARAMS\n",
      "levelmax  \t=10\n",
      "npartmax  \t= 200000\n",
      "ngridmax  \t= 1000000 !1000000  \n",
      "boxlen  \t=48.0\t!kpc\n",
      "levelmin  \t=6\n",
      "nexpand  \t=1                       !number of mesh expansions (mesh smoothing)\n",
      "\n",
      "&BOUNDARY_PARAMS\n",
      "jbound_min  \t= 0, 0,-1,+1,-1,-1\n",
      "kbound_max  \t= 0, 0, 0, 0,-1,+1\n",
      "no_inflow  \t=.true.\n",
      "bound_type  \t= 2, 2, 2, 2, 2, 2    !2\n",
      "nboundary   \t= 6\n",
      "ibound_max  \t=-1,+1,+1,+1,+1,+1\n",
      "ibound_min  \t=-1,+1,-1,-1,-1,-1\n",
      "jbound_max  \t= 0, 0,-1,+1,+1,+1\n",
      "kbound_min  \t= 0, 0, 0, 0,-1,+1\n",
      "\n",
      "&OUTPUT_PARAMS\n",
      "tend  \t=400                                \n",
      "delta_tout  \t=0.1                  !Time increment between outputs\n",
      "\n",
      "&POISSON_PARAMS\n",
      "gravity_type  \t=-3                 !for 0 ->self gravitation ;  3 ->ext pot;  -3 ->ext. pot. + sg\n",
      "\n",
      "&RUN_PARAMS\n",
      "pic  \t=.true.\n",
      "nsubcycle  \t=20*2\n",
      "ncontrol  \t=100                      !frequency of screen output\n",
      "poisson  \t=.true.\n",
      "verbose  \t=.false.\n",
      "nremap  \t=10 !10\n",
      "nrestart  \t=0\n",
      "hydro  \t=.true.\n",
      "\n",
      "&FEEDBACK_PARAMS\n",
      "eta_sn   \t=0.2\n",
      "delayed_cooling  \t=.true.\n",
      "t_diss   \t= 1.5 \n",
      "\n",
      "&HYDRO_PARAMS\n",
      "slope_type  \t=1\n",
      "smallr  \t=1e-11 \n",
      "gamma  \t=1.6667\n",
      "courant_factor  \t=0.6\n",
      "!smallc  \t=\n",
      "riemann  \t='hllc'\n",
      "\n",
      "&INIT_PARAMS\n",
      "nregion  \t=2\n",
      "\n",
      "&REFINE_PARAMS\n",
      "\n",
      "\n",
      "\u001b[0m\u001b[1m[Mera]: Grid overview \u001b[22m\n",
      "\u001b[0m\u001b[1m============================\u001b[22m\n",
      "ngridmax\t= 1000000\n",
      "nstep_coarse\t= 6544\n",
      "nx\t= 3\n",
      "ny\t= 3\n",
      "nz\t= 3\n",
      "nlevelmax\t= 10\n",
      "nboundary\t= 6\n",
      "ngrid_current\t= 21305\n",
      "bound_key ==> length(641)\n",
      "cpu_read ==> length(641)\n",
      "\n",
      "\n",
      "\u001b[0m\u001b[1m[Mera]: Particle overview\u001b[22m\n",
      "\u001b[0m\u001b[1m===============================\u001b[22m\n",
      "eta_sn\t= 0.0\n",
      "age_sn\t= 0.6706464407596582\n",
      "f_w\t= 0.0\n",
      "Npart\t= 0\n",
      "Ndm\t= 0\n",
      "Nstars\t= 544515\n",
      "Nsinks\t= 0\n",
      "Ncloud\t= 0\n",
      "Ndebris\t= 0\n",
      "Nother\t= 0\n",
      "Nundefined\t= 0\n",
      "other_tracer1\t= 0\n",
      "debris_tracer\t= 0\n",
      "cloud_tracer\t= 0\n",
      "star_tracer\t= 0\n",
      "other_tracer2\t= 0\n",
      "gas_tracer\t= 0\n",
      "\n",
      "\n",
      "\u001b[0m\u001b[1m[Mera]: Compilation file overview\u001b[22m\n",
      "\u001b[0m\u001b[1m========================================\u001b[22m\n",
      "compile_date\t= \n",
      "patch_dir\t= \n",
      "remote_repo\t= \n",
      "local_branch\t= \n",
      "last_commit\t= \n",
      "\n",
      "\n",
      "\u001b[0m\u001b[1m[Mera]: Makefile content\u001b[22m\n",
      "\u001b[0m\u001b[1m=================================\u001b[22m\n",
      "!content deleted on purpose\n",
      "\n",
      "\n",
      "\u001b[0m\u001b[1m[Mera]: Timer-file content\u001b[22m\n",
      "\u001b[0m\u001b[1m=================================\u001b[22m\n",
      " --------------------------------------------------------------------\n",
      "\n",
      "     minimum       average       maximum  standard dev        std/av       %   rmn   rmx  TIMER\n",
      "     426.559       428.960       431.540         1.216         0.003     0.5   562 606    coarse levels           \n",
      "    2086.863      2285.294      2620.028       109.814         0.048     2.9   639   1    refine                  \n",
      "     518.746       519.356       520.299         0.572         0.001     0.7   608  21    load balance            \n",
      "     173.017       565.169      1799.729       385.862         0.683     0.7   602   1    particles               \n",
      "    5897.562      5897.616      5897.791         0.018         0.000     7.5   244   1    io                      \n",
      "    5176.808      9619.415     26606.857      5416.924         0.563    12.3   568   1    feedback                \n",
      "   25022.898     25410.890     25585.446       143.363         0.006    32.4     1 602    poisson                 \n",
      "    1131.397      2241.256      2547.320       322.916         0.144     2.9     1 345    rho                     \n",
      "     521.635       678.056      1076.044       151.775         0.224     0.9   601   1    courant                 \n",
      "      82.818       115.742       135.415        10.926         0.094     0.1   398 125    hydro - set unew        \n",
      "    7009.921      9876.180     12208.171      1176.765         0.119    12.6   481 343    hydro - godunov         \n",
      "     948.967     16679.099     23569.950      4760.658         0.285    21.3   640 340    hydro - rev ghostzones  \n",
      "     189.513       208.576       229.883         7.902         0.038     0.3   398 581    hydro - set uold        \n",
      "    1757.246      1795.542      1860.788        11.757         0.007     2.3   524 180    cooling                 \n",
      "      84.519       300.570       375.587        67.032         0.223     0.4     1 593    hydro - ghostzones      \n",
      "     933.143      1662.855      1788.316       119.084         0.072     2.1     1 639    flag                    \n",
      "   78327.986     100.0    TOTAL\n",
      "\n"
     ]
    }
   ],
   "source": [
    "viewallfields(info)"
   ]
  },
  {
   "cell_type": "markdown",
   "metadata": {},
   "source": [
    "## Disc Space\n",
    "Gives an overview of the used disc space for the different data types of the selected output:"
   ]
  },
  {
   "cell_type": "code",
   "execution_count": 21,
   "metadata": {
    "tags": []
   },
   "outputs": [
    {
     "name": "stdout",
     "output_type": "stream",
     "text": [
      "\u001b[0m\u001b[1mOverview of the used disc space for output: [300]\u001b[22m\n",
      "\u001b[0m\u001b[1m------------------------------------------------------\u001b[22m\n",
      "Folder:         5.68 GB \t<2.26 MB>/file\n",
      "AMR-Files:      1.1 GB \t<1.75 MB>/file\n",
      "Hydro-Files:    2.87 GB \t<4.58 MB>/file\n",
      "Gravity-Files:  1.68 GB \t<2.69 MB>/file\n",
      "Particle-Files: 38.56 MB \t<61.6 KB>/file\n",
      "\n",
      "\n",
      "mtime: 2023-04-09T05:34:09\n",
      "ctime: 2025-06-21T18:31:24.020\n"
     ]
    },
    {
     "data": {
      "text/plain": [
       "Dict{Any, Any} with 8 entries:\n",
       "  :folder   => 6101111412\n",
       "  :sink     => 0.0\n",
       "  :particle => 40430034\n",
       "  :hydro    => 3079240490\n",
       "  :gravity  => 1802094080\n",
       "  :amr      => 1177085816\n",
       "  :clump    => 0.0\n",
       "  :rt       => 0.0"
      ]
     },
     "execution_count": 21,
     "metadata": {},
     "output_type": "execute_result"
    }
   ],
   "source": [
    "storageoverview(info)"
   ]
  },
  {
   "cell_type": "markdown",
   "metadata": {},
   "source": [
    "## Simulation outputs\n",
    "Get an overview of existing output folders of a simulation"
   ]
  },
  {
   "cell_type": "code",
   "execution_count": 29,
   "metadata": {
    "tags": []
   },
   "outputs": [
    {
     "name": "stdout",
     "output_type": "stream",
     "text": [
      "Outputs - existing: 1 betw. 300:300 - missing: 1\n",
      "\n"
     ]
    },
    {
     "data": {
      "text/plain": [
       "Mera.CheckOutputNumberType([300], [301], \"/Volumes/FASTStorage/Simulations/Mera-Tests/mw_L10\")"
      ]
     },
     "execution_count": 29,
     "metadata": {},
     "output_type": "execute_result"
    }
   ],
   "source": [
    "co = checkoutputs(\"/Volumes/FASTStorage/Simulations/Mera-Tests/mw_L10\")"
   ]
  },
  {
   "cell_type": "code",
   "execution_count": 30,
   "metadata": {
    "tags": []
   },
   "outputs": [
    {
     "data": {
      "text/plain": [
       "(:outputs, :miss, :path)"
      ]
     },
     "execution_count": 30,
     "metadata": {},
     "output_type": "execute_result"
    }
   ],
   "source": [
    "# It returns all output numbers of existing or missing (e.g. empty) folders:\n",
    "propertynames(co)"
   ]
  },
  {
   "cell_type": "code",
   "execution_count": 31,
   "metadata": {
    "tags": []
   },
   "outputs": [
    {
     "data": {
      "text/plain": [
       "1-element Vector{Int64}:\n",
       " 300"
      ]
     },
     "execution_count": 31,
     "metadata": {},
     "output_type": "execute_result"
    }
   ],
   "source": [
    "co.outputs"
   ]
  },
  {
   "cell_type": "code",
   "execution_count": 32,
   "metadata": {
    "tags": []
   },
   "outputs": [
    {
     "data": {
      "text/plain": [
       "1-element Vector{Int64}:\n",
       " 301"
      ]
     },
     "execution_count": 32,
     "metadata": {},
     "output_type": "execute_result"
    }
   ],
   "source": [
    "co.miss"
   ]
  },
  {
   "cell_type": "code",
   "execution_count": null,
   "metadata": {},
   "outputs": [],
   "source": []
  }
 ],
 "metadata": {
  "kernelspec": {
   "display_name": "Julia 1.11.5",
   "language": "julia",
   "name": "julia-1.11"
  },
  "language_info": {
   "file_extension": ".jl",
   "mimetype": "application/julia",
   "name": "julia",
   "version": "1.11.5"
  }
 },
 "nbformat": 4,
 "nbformat_minor": 4
}
