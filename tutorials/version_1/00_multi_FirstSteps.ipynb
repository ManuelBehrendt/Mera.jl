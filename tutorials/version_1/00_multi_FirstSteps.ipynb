{
 "cells": [
  {
   "cell_type": "markdown",
   "metadata": {},
   "source": [
    "\n",
    "# First Steps"
   ]
  },
  {
   "cell_type": "markdown",
   "metadata": {},
   "source": [
    "## Simulation Overview\n",
    "The first call of **MERA** will compile the package."
   ]
  },
  {
   "cell_type": "code",
   "execution_count": 1,
   "metadata": {},
   "outputs": [],
   "source": [
    "using Mera"
   ]
  },
  {
   "cell_type": "markdown",
   "metadata": {},
   "source": [
    "Get information with the function **getinfo** about the simulation for a selected output and assign it to an object, here: \"info\"  (composite type). The RAMSES output folders are assumed to be in the current working directory, and the user can give a relative or absolute path. The information is read from several files: info-file, header-file, from the header of the Fortran binary files of the first CPU (hydro, grav, part, clump, sink, ... if they exist), etc. Many familiar names and acronyms known from RAMSES are maintained. The function **getinfo** prints a small summary and the given units are printed in human-readable representation."
   ]
  },
  {
   "cell_type": "code",
   "execution_count": 2,
   "metadata": {},
   "outputs": [
    {
     "name": "stdout",
     "output_type": "stream",
     "text": [
      "\u001b[0m\u001b[1m[Mera]: 2019-12-27T22:41:53.439\u001b[22m\n",
      "\n",
      "Code: RAMSES\n",
      "output [420] summary:\n",
      "mtime: 2017-07-27T01:22:09\n",
      "ctime: 2019-12-24T09:57:04.822\n",
      "\u001b[0m\u001b[1m=======================================================\u001b[22m\n",
      "simulation time: 624.91 [Myr]\n",
      "boxlen: 48.0 [kpc]\n",
      "ncpu: 1024\n",
      "ndim: 3\n",
      "-------------------------------------------------------\n",
      "amr:           true\n",
      "level(s): 6 - 10 --> cellsize(s): 750.0 [pc] - 46.88 [pc]\n",
      "-------------------------------------------------------\n",
      "hydro:         true\n",
      "hydro-variables:  6  --> (:rho, :vx, :vy, :vz, :p, :var6)\n",
      "hydro-descriptor: (:density, :velocity_x, :velocity_y, :velocity_z, :thermal_pressure, :passive_scalar_1)\n",
      "γ: 1.01\n",
      "-------------------------------------------------------\n",
      "gravity:       true\n",
      "gravity-variables: (:epot, :ax, :ay, :az)\n",
      "-------------------------------------------------------\n",
      "particles:     true\n",
      "particle variables: (:vx, :vy, :vz, :mass, :age)\n",
      "-------------------------------------------------------\n",
      "clumps:        true\n",
      "clump-variables: (:index, :lev, :parent, :ncell, :peak_x, :peak_y, :peak_z, Symbol(\"rho-\"), Symbol(\"rho+\"), :rho_av, :mass_cl, :relevance)\n",
      "-------------------------------------------------------\n",
      "namelist-file: false\n",
      "timer-file:       false\n",
      "compilation-file: true\n",
      "makefile:         true\n",
      "patchfile:        true\n",
      "\u001b[0m\u001b[1m=======================================================\u001b[22m\n",
      "\n"
     ]
    }
   ],
   "source": [
    "info = getinfo(420, \"../../testing/simulations/manu_sim_sf_L10\"); # output=400 in given path"
   ]
  },
  {
   "cell_type": "markdown",
   "metadata": {},
   "source": [
    "The simulation output can be selected in several ways, which is realised by using multiple dispatch. See the different defined methods on the function **getinfo**:"
   ]
  },
  {
   "cell_type": "code",
   "execution_count": 3,
   "metadata": {},
   "outputs": [
    {
     "data": {
      "text/html": [
       "# 4 methods for generic function <b>getinfo</b>:<ul><li> getinfo(; <i>output, path, namelist, verbose</i>) in Mera at <a href=\"https://github.com/ManuelBehrendt/Mera/tree/6e7c42a004c27d358b1fc7e2cdcfd26e3a5b40d6//src/read_data/RAMSES/getinfo.jl#L51\" target=\"_blank\">/Users/mabe/Documents/Projects/dev/Mera/src/read_data/RAMSES/getinfo.jl:51</a></li> <li> getinfo(path::<b>String</b>; <i>output, namelist, verbose</i>) in Mera at <a href=\"https://github.com/ManuelBehrendt/Mera/tree/6e7c42a004c27d358b1fc7e2cdcfd26e3a5b40d6//src/read_data/RAMSES/getinfo.jl#L46\" target=\"_blank\">/Users/mabe/Documents/Projects/dev/Mera/src/read_data/RAMSES/getinfo.jl:46</a></li> <li> getinfo(output::<b>Number</b>; <i>path, namelist, verbose</i>) in Mera at <a href=\"https://github.com/ManuelBehrendt/Mera/tree/6e7c42a004c27d358b1fc7e2cdcfd26e3a5b40d6//src/read_data/RAMSES/getinfo.jl#L38\" target=\"_blank\">/Users/mabe/Documents/Projects/dev/Mera/src/read_data/RAMSES/getinfo.jl:38</a></li> <li> getinfo(output::<b>Number</b>, path::<b>String</b>; <i>namelist, verbose</i>) in Mera at <a href=\"https://github.com/ManuelBehrendt/Mera/tree/6e7c42a004c27d358b1fc7e2cdcfd26e3a5b40d6//src/read_data/RAMSES/getinfo.jl#L42\" target=\"_blank\">/Users/mabe/Documents/Projects/dev/Mera/src/read_data/RAMSES/getinfo.jl:42</a></li> </ul>"
      ],
      "text/plain": [
       "# 4 methods for generic function \"getinfo\":\n",
       "[1] getinfo(; output, path, namelist, verbose) in Mera at /Users/mabe/Documents/Projects/dev/Mera/src/read_data/RAMSES/getinfo.jl:51\n",
       "[2] getinfo(path::String; output, namelist, verbose) in Mera at /Users/mabe/Documents/Projects/dev/Mera/src/read_data/RAMSES/getinfo.jl:46\n",
       "[3] getinfo(output::Number; path, namelist, verbose) in Mera at /Users/mabe/Documents/Projects/dev/Mera/src/read_data/RAMSES/getinfo.jl:38\n",
       "[4] getinfo(output::Number, path::String; namelist, verbose) in Mera at /Users/mabe/Documents/Projects/dev/Mera/src/read_data/RAMSES/getinfo.jl:42"
      ]
     },
     "execution_count": 3,
     "metadata": {},
     "output_type": "execute_result"
    }
   ],
   "source": [
    "# info = getinfo(); # default: output=1 in current folder, \n",
    "# info = getinfo(\"../simulations/\"); # given path, default: output=1\n",
    "# info = getinfo(output=400, path=\"../simulations/\"); # pass path and output number by keywords\n",
    "methods(getinfo)"
   ]
  },
  {
   "cell_type": "markdown",
   "metadata": {},
   "source": [
    "## Fields\n",
    "The created object **info** is of type **InfoType** (composite type):"
   ]
  },
  {
   "cell_type": "code",
   "execution_count": 4,
   "metadata": {},
   "outputs": [
    {
     "data": {
      "text/plain": [
       "InfoType"
      ]
     },
     "execution_count": 4,
     "metadata": {},
     "output_type": "execute_result"
    }
   ],
   "source": [
    "typeof(info)"
   ]
  },
  {
   "cell_type": "markdown",
   "metadata": {},
   "source": [
    "The previously printed information and even more simulation properties are assigned to the object and can be accessed from fields and sub-fields.\n",
    "Get an overview with:"
   ]
  },
  {
   "cell_type": "code",
   "execution_count": 5,
   "metadata": {},
   "outputs": [
    {
     "name": "stdout",
     "output_type": "stream",
     "text": [
      "output\t= 420\n",
      "path\t= /Users/mabe/Documents/Projects/dev/Mera/tutorials/version_1/../../testing/simulations/manu_sim_sf_L10\n",
      "\u001b[0m\u001b[1mfnames ==> subfields: (:output, :info, :amr, :hydro, :hydro_descriptor, :gravity, :particles, :clumps, :timer, :header, :namelist, :compilation, :makefile, :patchfile)\u001b[22m\n",
      "\n",
      "simcode\t= RAMSES\n",
      "mtime\t= 2017-07-27T01:22:09\n",
      "ctime\t= 2019-12-24T09:57:04.822\n",
      "ncpu\t= 1024\n",
      "ndim\t= 3\n",
      "levelmin\t= 6\n",
      "levelmax\t= 10\n",
      "boxlen\t= 48.0\n",
      "time\t= 41.9092891721775\n",
      "aexp\t= 1.0\n",
      "H0\t= 1.0\n",
      "omega_m\t= 1.0\n",
      "omega_l\t= 0.0\n",
      "omega_k\t= 0.0\n",
      "omega_b\t= 0.0\n",
      "unit_l\t= 3.085677581282e21\n",
      "unit_d\t= 6.76838218451376e-23\n",
      "unit_m\t= 1.9885499720830952e42\n",
      "unit_v\t= 6.557528732282063e6\n",
      "unit_t\t= 4.70554946422349e14\n",
      "gamma\t= 1.01\n",
      "hydro\t= true\n",
      "nvarh\t= 6\n",
      "nvarp\t= 5\n",
      "variable_list\t= Symbol[:rho, :vx, :vy, :vz, :p, :var6]\n",
      "gravity_variable_list\t= Symbol[:epot, :ax, :ay, :az]\n",
      "particles_variable_list\t= Symbol[:vx, :vy, :vz, :mass, :age]\n",
      "clumps_variable_list\t= Symbol[:index, :lev, :parent, :ncell, :peak_x, :peak_y, :peak_z, Symbol(\"rho-\"), Symbol(\"rho+\"), :rho_av, :mass_cl, :relevance]\n",
      "sinks_variable_list\t= Symbol[]\n",
      "\u001b[0m\u001b[1mdescriptor ==> subfields: (:hversion, :hydro, :htypes, :usehydro, :hydrofile, :pversion, :particles, :ptypes, :useparticles, :particlesfile, :gravity, :usegravity, :gravityfile, :clumps, :useclumps, :clumpsfile, :sinks, :usesinks, :sinksfile)\u001b[22m\n",
      "\n",
      "amr\t= true\n",
      "gravity\t= true\n",
      "particles\t= true\n",
      "clumps\t= true\n",
      "sinks\t= false\n",
      "namelist\t= false\n",
      "\u001b[0m\u001b[1mnamelist_content ==> dictionary: ()\u001b[22m\n",
      "\n",
      "headerfile\t= true\n",
      "makefile\t= true\n",
      "timerfile\t= false\n",
      "compilationfile\t= true\n",
      "patchfile\t= true\n",
      "Narraysize\t= 0\n",
      "\n",
      "\u001b[0m\u001b[1mscale ==> subfields: (:Mpc, :kpc, :pc, :mpc, :ly, :Au, :km, :m, :cm, :mm, :μm, :Msol_pc3, :g_cm3, :Msol_pc2, :g_cm2, :Gyr, :Myr, :yr, :s, :ms, :Msol, :Mearth, :Mjupiter, :g, :km_s, :m_s, :cm_s, :nH, :erg, :g_cms2, :T_mu, :Ba)\u001b[22m\n",
      "\n",
      "\u001b[0m\u001b[1mgrid_info ==> subfields: (:ngridmax, :nstep_coarse, :nx, :ny, :nz, :nlevelmax, :nboundary, :ngrid_current, :bound_key, :cpu_read)\u001b[22m\n",
      "\n",
      "\u001b[0m\u001b[1mpart_info ==> subfields: (:eta_sn, :age_sn, :f_w, :Npart, :Ndm, :Nstars, :Nsinks, :Ncloud, :Ndebris, :Nother, :Nundefined, :other_tracer1, :debris_tracer, :cloud_tracer, :star_tracer, :other_tracer2, :gas_tracer)\u001b[22m\n",
      "\n",
      "\u001b[0m\u001b[1mcompilation ==> subfields: (:compile_date, :patch_dir, :remote_repo, :local_branch, :last_commit)\u001b[22m\n",
      "\n",
      "\u001b[0m\u001b[1mconstants ==> subfields: (:Au, :Mpc, :kpc, :pc, :mpc, :ly, :Msol, :Mearth, :Mjupiter, :Rsol, :me, :mp, :mn, :mH, :amu, :NA, :c, :G, :kB, :Gyr, :Myr, :yr)\u001b[22m\n",
      "\n",
      "\n"
     ]
    }
   ],
   "source": [
    "viewfields(info);"
   ]
  },
  {
   "cell_type": "markdown",
   "metadata": {},
   "source": [
    "Get a simple list of the fields of any object:"
   ]
  },
  {
   "cell_type": "code",
   "execution_count": 6,
   "metadata": {},
   "outputs": [
    {
     "data": {
      "text/plain": [
       "(:output, :path, :fnames, :simcode, :mtime, :ctime, :ncpu, :ndim, :levelmin, :levelmax, :boxlen, :time, :aexp, :H0, :omega_m, :omega_l, :omega_k, :omega_b, :unit_l, :unit_d, :unit_m, :unit_v, :unit_t, :gamma, :hydro, :nvarh, :nvarp, :variable_list, :gravity_variable_list, :particles_variable_list, :clumps_variable_list, :sinks_variable_list, :descriptor, :amr, :gravity, :particles, :clumps, :sinks, :namelist, :namelist_content, :headerfile, :makefile, :timerfile, :compilationfile, :patchfile, :Narraysize, :scale, :grid_info, :part_info, :compilation, :constants)"
      ]
     },
     "execution_count": 6,
     "metadata": {},
     "output_type": "execute_result"
    }
   ],
   "source": [
    "propertynames(info)"
   ]
  },
  {
   "cell_type": "markdown",
   "metadata": {},
   "source": [
    "## Physical Units\n",
    "All calculations in **MERA** are processed in the code units of the loades simulation. The **RAMSES** scaling factors from code- to cgs-units are given for the length, density, mass, velocity and time, assigned to the fields: unit_l, unit_d, unit_m, unit_v, unit_t"
   ]
  },
  {
   "cell_type": "markdown",
   "metadata": {},
   "source": [
    "To make life easier, we provide more predefined scaling factors, assigned to the sub-field **scale**:"
   ]
  },
  {
   "cell_type": "code",
   "execution_count": 7,
   "metadata": {},
   "outputs": [
    {
     "name": "stdout",
     "output_type": "stream",
     "text": [
      "\n",
      "\u001b[0m\u001b[1m[Mera]: Fields to scale from user/code units to selected units\u001b[22m\n",
      "\u001b[0m\u001b[1m=======================================================================\u001b[22m\n",
      "Mpc\t= 0.0010000000000006482\n",
      "kpc\t= 1.0000000000006481\n",
      "pc\t= 1000.0000000006482\n",
      "mpc\t= 1.0000000000006482e6\n",
      "ly\t= 3261.5637769461323\n",
      "Au\t= 2.0626480623310105e23\n",
      "km\t= 3.0856775812820004e16\n",
      "m\t= 3.085677581282e19\n",
      "cm\t= 3.085677581282e21\n",
      "mm\t= 3.085677581282e22\n",
      "μm\t= 3.085677581282e25\n",
      "Msol_pc3\t= 0.9997234790001649\n",
      "g_cm3\t= 6.76838218451376e-23\n",
      "Msol_pc2\t= 999.7234790008131\n",
      "g_cm2\t= 0.20885045168302602\n",
      "Gyr\t= 0.014910986463557083\n",
      "Myr\t= 14.910986463557084\n",
      "yr\t= 1.4910986463557083e7\n",
      "s\t= 4.70554946422349e14\n",
      "ms\t= 4.70554946422349e17\n",
      "Msol\t= 9.99723479002109e8\n",
      "Mearth\t= 3.329677459032007e14\n",
      "Mjupiter\t= 1.0476363431814971e12\n",
      "g\t= 1.9885499720830952e42\n",
      "km_s\t= 65.57528732282063\n",
      "m_s\t= 65575.28732282063\n",
      "cm_s\t= 6.557528732282063e6\n",
      "nH\t= 30.987773856809987\n",
      "erg\t= 8.551000140274429e55\n",
      "g_cms2\t= 2.9104844143584656e-9\n",
      "T_mu\t= 517028.3199143136\n",
      "Ba\t= 2.910484414358466e-9\n",
      "\n"
     ]
    }
   ],
   "source": [
    "viewfields(info.scale) "
   ]
  },
  {
   "cell_type": "code",
   "execution_count": 8,
   "metadata": {},
   "outputs": [
    {
     "data": {
      "text/plain": [
       "(:Mpc, :kpc, :pc, :mpc, :ly, :Au, :km, :m, :cm, :mm, :μm, :Msol_pc3, :g_cm3, :Msol_pc2, :g_cm2, :Gyr, :Myr, :yr, :s, :ms, :Msol, :Mearth, :Mjupiter, :g, :km_s, :m_s, :cm_s, :nH, :erg, :g_cms2, :T_mu, :Ba)"
      ]
     },
     "execution_count": 8,
     "metadata": {},
     "output_type": "execute_result"
    }
   ],
   "source": [
    "list_field = propertynames( info.scale )"
   ]
  },
  {
   "cell_type": "markdown",
   "metadata": {},
   "source": [
    "The underline in the unit representation corresponds to the fraction line, e.g.:\n",
    " \n",
    "|field name | corresponding unit |\n",
    "|---- | ----|\n",
    "|Msol_pc3        | Msol * pc^-3|\n",
    "|g_cm3          | g * cm^-3 |\n",
    "|Msol_pc2        | Msol * pc^-2|\n",
    "|g_cm2           | g * cm^-2|\n",
    "|            km_s| km * s^-1|\n",
    "|             m_s| m * s^-1|\n",
    "|            cm_s| cm * s^-1|\n",
    "|          g_cms2| g / (cm * s^2)|\n",
    "|          nH    | cm^-3 |\n",
    "|          T_mu  | T / μ |\n",
    "|          Ba    | = Barye (pressure) [cm^-1 * g * s^-2] |"
   ]
  },
  {
   "cell_type": "markdown",
   "metadata": {},
   "source": [
    "Access a scaling factor to use it in your calculations or plots by e.g.:"
   ]
  },
  {
   "cell_type": "code",
   "execution_count": 9,
   "metadata": {},
   "outputs": [
    {
     "data": {
      "text/plain": [
       "65.57528732282063"
      ]
     },
     "execution_count": 9,
     "metadata": {},
     "output_type": "execute_result"
    }
   ],
   "source": [
    "info.scale.km_s  "
   ]
  },
  {
   "cell_type": "markdown",
   "metadata": {},
   "source": [
    "To reduce the hierarchy of sub-fields, assign a new object:"
   ]
  },
  {
   "cell_type": "code",
   "execution_count": 10,
   "metadata": {},
   "outputs": [],
   "source": [
    "scale = info.scale;"
   ]
  },
  {
   "cell_type": "markdown",
   "metadata": {},
   "source": [
    "The scaling factor can now be accessed by:"
   ]
  },
  {
   "cell_type": "code",
   "execution_count": 11,
   "metadata": {},
   "outputs": [
    {
     "data": {
      "text/plain": [
       "65.57528732282063"
      ]
     },
     "execution_count": 11,
     "metadata": {},
     "output_type": "execute_result"
    }
   ],
   "source": [
    "scale.km_s"
   ]
  },
  {
   "cell_type": "markdown",
   "metadata": {},
   "source": [
    "Furthermore, the scales can be assigned by applying the function **createscales** on an object of type **InfoType** (here: *info*):"
   ]
  },
  {
   "cell_type": "code",
   "execution_count": 12,
   "metadata": {},
   "outputs": [
    {
     "data": {
      "text/plain": [
       "InfoType"
      ]
     },
     "execution_count": 12,
     "metadata": {},
     "output_type": "execute_result"
    }
   ],
   "source": [
    "typeof(info)"
   ]
  },
  {
   "cell_type": "code",
   "execution_count": 13,
   "metadata": {},
   "outputs": [
    {
     "data": {
      "text/plain": [
       "65.57528732282063"
      ]
     },
     "execution_count": 13,
     "metadata": {},
     "output_type": "execute_result"
    }
   ],
   "source": [
    "my_scales = createscales(info)\n",
    "my_scales.km_s"
   ]
  },
  {
   "cell_type": "markdown",
   "metadata": {},
   "source": [
    "## Physical Constants\n",
    "Some useful constants are assigned to the *InfoType* object:"
   ]
  },
  {
   "cell_type": "code",
   "execution_count": 14,
   "metadata": {},
   "outputs": [
    {
     "name": "stdout",
     "output_type": "stream",
     "text": [
      "\n",
      "\u001b[0m\u001b[1m[Mera]: Constants given in cgs units\u001b[22m\n",
      "\u001b[0m\u001b[1m=========================================\u001b[22m\n",
      "Au\t= 0.01495978707\n",
      "Mpc\t= 3.08567758128e24\n",
      "kpc\t= 3.08567758128e21\n",
      "pc\t= 3.08567758128e18\n",
      "mpc\t= 3.08567758128e15\n",
      "ly\t= 9.4607304725808e17\n",
      "Msol\t= 1.9891e33\n",
      "Mearth\t= 5.9722e27\n",
      "Mjupiter\t= 1.89813e30\n",
      "Rsol\t= 6.96e10\n",
      "me\t= 9.1093897e-28\n",
      "mp\t= 1.6726231e-24\n",
      "mn\t= 1.6749286e-24\n",
      "mH\t= 1.66e-24\n",
      "amu\t= 1.6605402e-24\n",
      "NA\t= 6.0221367e23\n",
      "c\t= 2.99792458e10\n",
      "G\t= 6.67259e-8\n",
      "kB\t= 1.38062e-16\n",
      "Gyr\t= 3.15576e16\n",
      "Myr\t= 3.15576e13\n",
      "yr\t= 3.15576e7\n",
      "\n"
     ]
    }
   ],
   "source": [
    "viewfields(info.constants)"
   ]
  },
  {
   "cell_type": "markdown",
   "metadata": {},
   "source": [
    "Reduce the hierarchy of sub-fields:"
   ]
  },
  {
   "cell_type": "code",
   "execution_count": 15,
   "metadata": {},
   "outputs": [],
   "source": [
    "con = info.constants;"
   ]
  },
  {
   "cell_type": "code",
   "execution_count": 16,
   "metadata": {},
   "outputs": [
    {
     "name": "stdout",
     "output_type": "stream",
     "text": [
      "\n",
      "\u001b[0m\u001b[1m[Mera]: Constants given in cgs units\u001b[22m\n",
      "\u001b[0m\u001b[1m=========================================\u001b[22m\n",
      "Au\t= 0.01495978707\n",
      "Mpc\t= 3.08567758128e24\n",
      "kpc\t= 3.08567758128e21\n",
      "pc\t= 3.08567758128e18\n",
      "mpc\t= 3.08567758128e15\n",
      "ly\t= 9.4607304725808e17\n",
      "Msol\t= 1.9891e33\n",
      "Mearth\t= 5.9722e27\n",
      "Mjupiter\t= 1.89813e30\n",
      "Rsol\t= 6.96e10\n",
      "me\t= 9.1093897e-28\n",
      "mp\t= 1.6726231e-24\n",
      "mn\t= 1.6749286e-24\n",
      "mH\t= 1.66e-24\n",
      "amu\t= 1.6605402e-24\n",
      "NA\t= 6.0221367e23\n",
      "c\t= 2.99792458e10\n",
      "G\t= 6.67259e-8\n",
      "kB\t= 1.38062e-16\n",
      "Gyr\t= 3.15576e16\n",
      "Myr\t= 3.15576e13\n",
      "yr\t= 3.15576e7\n",
      "\n"
     ]
    }
   ],
   "source": [
    "viewfields(con)"
   ]
  },
  {
   "cell_type": "markdown",
   "metadata": {},
   "source": [
    "## InfoType Fields Overview\n",
    "All fields and sub-fields that are assigned to the *InfoType* or from other objects can be viewed by the function **viewfields** or **namelist**.\n",
    "See the methods list:"
   ]
  },
  {
   "cell_type": "code",
   "execution_count": 17,
   "metadata": {},
   "outputs": [
    {
     "data": {
      "text/html": [
       "# 9 methods for generic function <b>viewfields</b>:<ul><li> viewfields(object::<b>PhysicalUnitsType</b>) in Mera at <a href=\"https://github.com/ManuelBehrendt/Mera/tree/6e7c42a004c27d358b1fc7e2cdcfd26e3a5b40d6//src/functions/viewfields.jl#L164\" target=\"_blank\">/Users/mabe/Documents/Projects/dev/Mera/src/functions/viewfields.jl:164</a></li> <li> viewfields(object::<b>DescriptorType</b>) in Mera at <a href=\"https://github.com/ManuelBehrendt/Mera/tree/6e7c42a004c27d358b1fc7e2cdcfd26e3a5b40d6//src/functions/viewfields.jl#L147\" target=\"_blank\">/Users/mabe/Documents/Projects/dev/Mera/src/functions/viewfields.jl:147</a></li> <li> viewfields(object::<b>FileNamesType</b>) in Mera at <a href=\"https://github.com/ManuelBehrendt/Mera/tree/6e7c42a004c27d358b1fc7e2cdcfd26e3a5b40d6//src/functions/viewfields.jl#L131\" target=\"_blank\">/Users/mabe/Documents/Projects/dev/Mera/src/functions/viewfields.jl:131</a></li> <li> viewfields(object::<b>CompilationInfoType</b>) in Mera at <a href=\"https://github.com/ManuelBehrendt/Mera/tree/6e7c42a004c27d358b1fc7e2cdcfd26e3a5b40d6//src/functions/viewfields.jl#L113\" target=\"_blank\">/Users/mabe/Documents/Projects/dev/Mera/src/functions/viewfields.jl:113</a></li> <li> viewfields(object::<b>GridInfoType</b>) in Mera at <a href=\"https://github.com/ManuelBehrendt/Mera/tree/6e7c42a004c27d358b1fc7e2cdcfd26e3a5b40d6//src/functions/viewfields.jl#L87\" target=\"_blank\">/Users/mabe/Documents/Projects/dev/Mera/src/functions/viewfields.jl:87</a></li> <li> viewfields(object::<b>PartInfoType</b>) in Mera at <a href=\"https://github.com/ManuelBehrendt/Mera/tree/6e7c42a004c27d358b1fc7e2cdcfd26e3a5b40d6//src/functions/viewfields.jl#L70\" target=\"_blank\">/Users/mabe/Documents/Projects/dev/Mera/src/functions/viewfields.jl:70</a></li> <li> viewfields(object::<b>ScalesType</b>) in Mera at <a href=\"https://github.com/ManuelBehrendt/Mera/tree/6e7c42a004c27d358b1fc7e2cdcfd26e3a5b40d6//src/functions/viewfields.jl#L54\" target=\"_blank\">/Users/mabe/Documents/Projects/dev/Mera/src/functions/viewfields.jl:54</a></li> <li> viewfields(object::<b>InfoType</b>) in Mera at <a href=\"https://github.com/ManuelBehrendt/Mera/tree/6e7c42a004c27d358b1fc7e2cdcfd26e3a5b40d6//src/functions/viewfields.jl#L12\" target=\"_blank\">/Users/mabe/Documents/Projects/dev/Mera/src/functions/viewfields.jl:12</a></li> <li> viewfields(object::<b>DataSetType</b>) in Mera at <a href=\"https://github.com/ManuelBehrendt/Mera/tree/6e7c42a004c27d358b1fc7e2cdcfd26e3a5b40d6//src/functions/viewfields.jl#L180\" target=\"_blank\">/Users/mabe/Documents/Projects/dev/Mera/src/functions/viewfields.jl:180</a></li> </ul>"
      ],
      "text/plain": [
       "# 9 methods for generic function \"viewfields\":\n",
       "[1] viewfields(object::PhysicalUnitsType) in Mera at /Users/mabe/Documents/Projects/dev/Mera/src/functions/viewfields.jl:164\n",
       "[2] viewfields(object::DescriptorType) in Mera at /Users/mabe/Documents/Projects/dev/Mera/src/functions/viewfields.jl:147\n",
       "[3] viewfields(object::FileNamesType) in Mera at /Users/mabe/Documents/Projects/dev/Mera/src/functions/viewfields.jl:131\n",
       "[4] viewfields(object::CompilationInfoType) in Mera at /Users/mabe/Documents/Projects/dev/Mera/src/functions/viewfields.jl:113\n",
       "[5] viewfields(object::GridInfoType) in Mera at /Users/mabe/Documents/Projects/dev/Mera/src/functions/viewfields.jl:87\n",
       "[6] viewfields(object::PartInfoType) in Mera at /Users/mabe/Documents/Projects/dev/Mera/src/functions/viewfields.jl:70\n",
       "[7] viewfields(object::ScalesType) in Mera at /Users/mabe/Documents/Projects/dev/Mera/src/functions/viewfields.jl:54\n",
       "[8] viewfields(object::InfoType) in Mera at /Users/mabe/Documents/Projects/dev/Mera/src/functions/viewfields.jl:12\n",
       "[9] viewfields(object::DataSetType) in Mera at /Users/mabe/Documents/Projects/dev/Mera/src/functions/viewfields.jl:180"
      ]
     },
     "execution_count": 17,
     "metadata": {},
     "output_type": "execute_result"
    }
   ],
   "source": [
    "methods(viewfields)"
   ]
  },
  {
   "cell_type": "code",
   "execution_count": 18,
   "metadata": {},
   "outputs": [
    {
     "data": {
      "text/html": [
       "# 2 methods for generic function <b>namelist</b>:<ul><li> namelist(object::<b>Dict{Any,Any}</b>) in Mera at <a href=\"https://github.com/ManuelBehrendt/Mera/tree/6e7c42a004c27d358b1fc7e2cdcfd26e3a5b40d6//src/functions/viewfields.jl#L228\" target=\"_blank\">/Users/mabe/Documents/Projects/dev/Mera/src/functions/viewfields.jl:228</a></li> <li> namelist(object::<b>InfoType</b>) in Mera at <a href=\"https://github.com/ManuelBehrendt/Mera/tree/6e7c42a004c27d358b1fc7e2cdcfd26e3a5b40d6//src/functions/viewfields.jl#L210\" target=\"_blank\">/Users/mabe/Documents/Projects/dev/Mera/src/functions/viewfields.jl:210</a></li> </ul>"
      ],
      "text/plain": [
       "# 2 methods for generic function \"namelist\":\n",
       "[1] namelist(object::Dict{Any,Any}) in Mera at /Users/mabe/Documents/Projects/dev/Mera/src/functions/viewfields.jl:228\n",
       "[2] namelist(object::InfoType) in Mera at /Users/mabe/Documents/Projects/dev/Mera/src/functions/viewfields.jl:210"
      ]
     },
     "execution_count": 18,
     "metadata": {},
     "output_type": "execute_result"
    }
   ],
   "source": [
    "methods(namelist)"
   ]
  },
  {
   "cell_type": "markdown",
   "metadata": {},
   "source": [
    "Get a detailed overview of all the fields from MERA composite types:"
   ]
  },
  {
   "cell_type": "code",
   "execution_count": 19,
   "metadata": {},
   "outputs": [
    {
     "name": "stdout",
     "output_type": "stream",
     "text": [
      "output\t= 420\n",
      "path\t= /Users/mabe/Documents/Projects/dev/Mera/tutorials/version_1/../../testing/simulations/manu_sim_sf_L10\n",
      "\u001b[0m\u001b[1mfnames ==> subfields: (:output, :info, :amr, :hydro, :hydro_descriptor, :gravity, :particles, :clumps, :timer, :header, :namelist, :compilation, :makefile, :patchfile)\u001b[22m\n",
      "\n",
      "simcode\t= RAMSES\n",
      "mtime\t= 2017-07-27T01:22:09\n",
      "ctime\t= 2019-12-24T09:57:04.822\n",
      "ncpu\t= 1024\n",
      "ndim\t= 3\n",
      "levelmin\t= 6\n",
      "levelmax\t= 10\n",
      "boxlen\t= 48.0\n",
      "time\t= 41.9092891721775\n",
      "aexp\t= 1.0\n",
      "H0\t= 1.0\n",
      "omega_m\t= 1.0\n",
      "omega_l\t= 0.0\n",
      "omega_k\t= 0.0\n",
      "omega_b\t= 0.0\n",
      "unit_l\t= 3.085677581282e21\n",
      "unit_d\t= 6.76838218451376e-23\n",
      "unit_m\t= 1.9885499720830952e42\n",
      "unit_v\t= 6.557528732282063e6\n",
      "unit_t\t= 4.70554946422349e14\n",
      "gamma\t= 1.01\n",
      "hydro\t= true\n",
      "nvarh\t= 6\n",
      "nvarp\t= 5\n",
      "variable_list\t= Symbol[:rho, :vx, :vy, :vz, :p, :var6]\n",
      "gravity_variable_list\t= Symbol[:epot, :ax, :ay, :az]\n",
      "particles_variable_list\t= Symbol[:vx, :vy, :vz, :mass, :age]\n",
      "clumps_variable_list\t= Symbol[:index, :lev, :parent, :ncell, :peak_x, :peak_y, :peak_z, Symbol(\"rho-\"), Symbol(\"rho+\"), :rho_av, :mass_cl, :relevance]\n",
      "sinks_variable_list\t= Symbol[]\n",
      "\u001b[0m\u001b[1mdescriptor ==> subfields: (:hversion, :hydro, :htypes, :usehydro, :hydrofile, :pversion, :particles, :ptypes, :useparticles, :particlesfile, :gravity, :usegravity, :gravityfile, :clumps, :useclumps, :clumpsfile, :sinks, :usesinks, :sinksfile)\u001b[22m\n",
      "\n",
      "amr\t= true\n",
      "gravity\t= true\n",
      "particles\t= true\n",
      "clumps\t= true\n",
      "sinks\t= false\n",
      "namelist\t= false\n",
      "\u001b[0m\u001b[1mnamelist_content ==> dictionary: ()\u001b[22m\n",
      "\n",
      "headerfile\t= true\n",
      "makefile\t= true\n",
      "timerfile\t= false\n",
      "compilationfile\t= true\n",
      "patchfile\t= true\n",
      "Narraysize\t= 0\n",
      "\n",
      "\u001b[0m\u001b[1mscale ==> subfields: (:Mpc, :kpc, :pc, :mpc, :ly, :Au, :km, :m, :cm, :mm, :μm, :Msol_pc3, :g_cm3, :Msol_pc2, :g_cm2, :Gyr, :Myr, :yr, :s, :ms, :Msol, :Mearth, :Mjupiter, :g, :km_s, :m_s, :cm_s, :nH, :erg, :g_cms2, :T_mu, :Ba)\u001b[22m\n",
      "\n",
      "\u001b[0m\u001b[1mgrid_info ==> subfields: (:ngridmax, :nstep_coarse, :nx, :ny, :nz, :nlevelmax, :nboundary, :ngrid_current, :bound_key, :cpu_read)\u001b[22m\n",
      "\n",
      "\u001b[0m\u001b[1mpart_info ==> subfields: (:eta_sn, :age_sn, :f_w, :Npart, :Ndm, :Nstars, :Nsinks, :Ncloud, :Ndebris, :Nother, :Nundefined, :other_tracer1, :debris_tracer, :cloud_tracer, :star_tracer, :other_tracer2, :gas_tracer)\u001b[22m\n",
      "\n",
      "\u001b[0m\u001b[1mcompilation ==> subfields: (:compile_date, :patch_dir, :remote_repo, :local_branch, :last_commit)\u001b[22m\n",
      "\n",
      "\u001b[0m\u001b[1mconstants ==> subfields: (:Au, :Mpc, :kpc, :pc, :mpc, :ly, :Msol, :Mearth, :Mjupiter, :Rsol, :me, :mp, :mn, :mH, :amu, :NA, :c, :G, :kB, :Gyr, :Myr, :yr)\u001b[22m\n",
      "\n",
      "\n",
      "\n",
      "\u001b[0m\u001b[1m[Mera]: Fields to scale from user/code units to selected units\u001b[22m\n",
      "\u001b[0m\u001b[1m=======================================================================\u001b[22m\n",
      "Mpc\t= 0.0010000000000006482\n",
      "kpc\t= 1.0000000000006481\n",
      "pc\t= 1000.0000000006482\n",
      "mpc\t= 1.0000000000006482e6\n",
      "ly\t= 3261.5637769461323\n",
      "Au\t= 2.0626480623310105e23\n",
      "km\t= 3.0856775812820004e16\n",
      "m\t= 3.085677581282e19\n",
      "cm\t= 3.085677581282e21\n",
      "mm\t= 3.085677581282e22\n",
      "μm\t= 3.085677581282e25\n",
      "Msol_pc3\t= 0.9997234790001649\n",
      "g_cm3\t= 6.76838218451376e-23\n",
      "Msol_pc2\t= 999.7234790008131\n",
      "g_cm2\t= 0.20885045168302602\n",
      "Gyr\t= 0.014910986463557083\n",
      "Myr\t= 14.910986463557084\n",
      "yr\t= 1.4910986463557083e7\n",
      "s\t= 4.70554946422349e14\n",
      "ms\t= 4.70554946422349e17\n",
      "Msol\t= 9.99723479002109e8\n",
      "Mearth\t= 3.329677459032007e14\n",
      "Mjupiter\t= 1.0476363431814971e12\n",
      "g\t= 1.9885499720830952e42\n",
      "km_s\t= 65.57528732282063\n",
      "m_s\t= 65575.28732282063\n",
      "cm_s\t= 6.557528732282063e6\n",
      "nH\t= 30.987773856809987\n",
      "erg\t= 8.551000140274429e55\n",
      "g_cms2\t= 2.9104844143584656e-9\n",
      "T_mu\t= 517028.3199143136\n",
      "Ba\t= 2.910484414358466e-9\n",
      "\n",
      "\n",
      "\u001b[0m\u001b[1m[Mera]: Constants given in cgs units\u001b[22m\n",
      "\u001b[0m\u001b[1m=========================================\u001b[22m\n",
      "Au\t= 0.01495978707\n",
      "Mpc\t= 3.08567758128e24\n",
      "kpc\t= 3.08567758128e21\n",
      "pc\t= 3.08567758128e18\n",
      "mpc\t= 3.08567758128e15\n",
      "ly\t= 9.4607304725808e17\n",
      "Msol\t= 1.9891e33\n",
      "Mearth\t= 5.9722e27\n",
      "Mjupiter\t= 1.89813e30\n",
      "Rsol\t= 6.96e10\n",
      "me\t= 9.1093897e-28\n",
      "mp\t= 1.6726231e-24\n",
      "mn\t= 1.6749286e-24\n",
      "mH\t= 1.66e-24\n",
      "amu\t= 1.6605402e-24\n",
      "NA\t= 6.0221367e23\n",
      "c\t= 2.99792458e10\n",
      "G\t= 6.67259e-8\n",
      "kB\t= 1.38062e-16\n",
      "Gyr\t= 3.15576e16\n",
      "Myr\t= 3.15576e13\n",
      "yr\t= 3.15576e7\n",
      "\n",
      "\n",
      "\u001b[0m\u001b[1m[Mera]: Paths and file-names\u001b[22m\n",
      "\u001b[0m\u001b[1m=================================\u001b[22m\n",
      "output\t= /Users/mabe/Documents/Projects/dev/Mera/tutorials/version_1/../../testing/simulations/manu_sim_sf_L10/output_00420\n",
      "info\t= /Users/mabe/Documents/Projects/dev/Mera/tutorials/version_1/../../testing/simulations/manu_sim_sf_L10/output_00420/info_00420.txt\n",
      "amr\t= /Users/mabe/Documents/Projects/dev/Mera/tutorials/version_1/../../testing/simulations/manu_sim_sf_L10/output_00420/amr_00420.\n",
      "hydro\t= /Users/mabe/Documents/Projects/dev/Mera/tutorials/version_1/../../testing/simulations/manu_sim_sf_L10/output_00420/hydro_00420.\n",
      "hydro_descriptor\t= /Users/mabe/Documents/Projects/dev/Mera/tutorials/version_1/../../testing/simulations/manu_sim_sf_L10/output_00420/hydro_file_descriptor.txt\n",
      "gravity\t= /Users/mabe/Documents/Projects/dev/Mera/tutorials/version_1/../../testing/simulations/manu_sim_sf_L10/output_00420/grav_00420.\n",
      "particles\t= /Users/mabe/Documents/Projects/dev/Mera/tutorials/version_1/../../testing/simulations/manu_sim_sf_L10/output_00420/part_00420.\n",
      "clumps\t= /Users/mabe/Documents/Projects/dev/Mera/tutorials/version_1/../../testing/simulations/manu_sim_sf_L10/output_00420/clump_00420.\n",
      "timer\t= /Users/mabe/Documents/Projects/dev/Mera/tutorials/version_1/../../testing/simulations/manu_sim_sf_L10/output_00420/timer_00420.txt\n",
      "header\t= /Users/mabe/Documents/Projects/dev/Mera/tutorials/version_1/../../testing/simulations/manu_sim_sf_L10/output_00420/header_00420.txt\n",
      "namelist\t= /Users/mabe/Documents/Projects/dev/Mera/tutorials/version_1/../../testing/simulations/manu_sim_sf_L10/output_00420/namelist.txt\n",
      "compilation\t= /Users/mabe/Documents/Projects/dev/Mera/tutorials/version_1/../../testing/simulations/manu_sim_sf_L10/output_00420/compilation.txt\n",
      "makefile\t= /Users/mabe/Documents/Projects/dev/Mera/tutorials/version_1/../../testing/simulations/manu_sim_sf_L10/output_00420/makefile.txt\n",
      "patchfile\t= /Users/mabe/Documents/Projects/dev/Mera/tutorials/version_1/../../testing/simulations/manu_sim_sf_L10/output_00420/patches.txt\n",
      "\n",
      "\n",
      "\u001b[0m\u001b[1m[Mera]: Descriptor overview\u001b[22m\n",
      "\u001b[0m\u001b[1m=================================\u001b[22m\n",
      "hversion\t= 0\n",
      "hydro\t= Symbol[:density, :velocity_x, :velocity_y, :velocity_z, :thermal_pressure, :passive_scalar_1]\n",
      "htypes\t= String[]\n",
      "usehydro\t= false\n",
      "hydrofile\t= true\n",
      "pversion\t= 0\n",
      "particles\t= Symbol[:vx, :vy, :vz, :mass, :age]\n",
      "ptypes\t= String[]\n",
      "useparticles\t= false\n",
      "particlesfile\t= false\n",
      "gravity\t= Symbol[:epot, :ax, :ay, :az]\n",
      "usegravity\t= false\n",
      "gravityfile\t= false\n",
      "clumps\t= Symbol[:index, :lev, :parent, :ncell, :peak_x, :peak_y, :peak_z, Symbol(\"rho-\"), Symbol(\"rho+\"), :rho_av, :mass_cl, :relevance]\n",
      "useclumps\t= false\n",
      "clumpsfile\t= false\n",
      "sinks\t= Symbol[]\n",
      "usesinks\t= false\n",
      "sinksfile\t= false\n",
      "\n",
      "\n",
      "\u001b[0m\u001b[1m[Mera]: Namelist file content\u001b[22m\n",
      "\u001b[0m\u001b[1m=================================\u001b[22m\n",
      "\n",
      "\u001b[0m\u001b[1m[Mera]: Grid overview \u001b[22m\n",
      "\u001b[0m\u001b[1m============================\u001b[22m\n",
      "ngridmax\t= 850000\n",
      "nstep_coarse\t= 1644\n",
      "nx\t= 3\n",
      "ny\t= 3\n",
      "nz\t= 3\n",
      "nlevelmax\t= 10\n",
      "nboundary\t= 6\n",
      "ngrid_current\t= 2383\n",
      "bound_key ==> length(1025)\n",
      "cpu_read ==> length(1025)\n",
      "\n",
      "\n",
      "\u001b[0m\u001b[1m[Mera]: Particle overview\u001b[22m\n",
      "\u001b[0m\u001b[1m===============================\u001b[22m\n",
      "eta_sn\t= 0.0\n",
      "age_sn\t= 0.6706464407596582\n",
      "f_w\t= 0.0\n",
      "Npart\t= 0\n",
      "Ndm\t= 0\n",
      "Nstars\t= 0\n",
      "Nsinks\t= 0\n",
      "Ncloud\t= 0\n",
      "Ndebris\t= 0\n",
      "Nother\t= 0\n",
      "Nundefined\t= 0\n",
      "other_tracer1\t= 0\n",
      "debris_tracer\t= 0\n",
      "cloud_tracer\t= 0\n",
      "star_tracer\t= 0\n",
      "other_tracer2\t= 0\n",
      "gas_tracer\t= 0\n",
      "\n",
      "\n",
      "\u001b[0m\u001b[1m[Mera]: Compilation file overview\u001b[22m\n",
      "\u001b[0m\u001b[1m========================================\u001b[22m\n",
      "compile_date\t=  01/12/16-18:13:59\n",
      "patch_dir\t=  /hydra/u/manb/projects/new/unresolved_scale_height/patch\n",
      "remote_repo\t=  \n",
      "local_branch\t=  \n",
      "last_commit\t=  \n",
      "\n"
     ]
    }
   ],
   "source": [
    "viewallfields(info)"
   ]
  },
  {
   "cell_type": "markdown",
   "metadata": {},
   "source": [
    "## Disc Space\n",
    "Gives an overview of the used disc space for the different data types of the selected output:"
   ]
  },
  {
   "cell_type": "code",
   "execution_count": 20,
   "metadata": {},
   "outputs": [
    {
     "name": "stdout",
     "output_type": "stream",
     "text": [
      "\u001b[0m\u001b[1mOverview of the used disc space for output: [420]\u001b[22m\n",
      "\u001b[0m\u001b[1m------------------------------------------------------\u001b[22m\n",
      "Folder:         1.38 GB \t<282.44 KB>/file\n",
      "AMR-Files:      321.44 MB \t<321.44 KB>/file\n",
      "Hydro-Files:    607.0 MB \t<606.41 KB>/file\n",
      "Gravity-Files:  485.14 MB \t<485.14 KB>/file\n",
      "Particle-Files: 188.0 KB \t<188.0 Bytes>/file\n",
      "Clump-Files:    184.25 KB \t<184.25 Bytes>/file\n",
      "\n",
      "\n",
      "mtime: 2017-07-27T01:22:09\n",
      "ctime: 2019-12-24T09:57:04.822\n"
     ]
    }
   ],
   "source": [
    "storageoverview(info)"
   ]
  }
 ],
 "metadata": {
  "kernelspec": {
   "display_name": "Julia 1.3.0",
   "language": "julia",
   "name": "julia-1.3"
  },
  "language_info": {
   "file_extension": ".jl",
   "mimetype": "application/julia",
   "name": "julia",
   "version": "1.3.0"
  }
 },
 "nbformat": 4,
 "nbformat_minor": 4
}
