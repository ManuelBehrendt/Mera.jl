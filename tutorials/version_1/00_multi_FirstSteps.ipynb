{
 "cells": [
  {
   "cell_type": "markdown",
   "metadata": {},
   "source": [
    "\n",
    "# First Steps"
   ]
  },
  {
   "cell_type": "markdown",
   "metadata": {},
   "source": [
    "## Simulation Overview\n",
    "The first call of **MERA** will compile the package!"
   ]
  },
  {
   "cell_type": "code",
   "execution_count": 1,
   "metadata": {},
   "outputs": [
    {
     "name": "stderr",
     "output_type": "stream",
     "text": [
      "┌ Info: Precompiling Mera [02f895e8-fdb1-4346-8fe6-c721699f5126]\n",
      "└ @ Base loading.jl:1273\n"
     ]
    },
    {
     "name": "stdout",
     "output_type": "stream",
     "text": [
      "\n",
      "*__   __ _______ ______   _______ \n",
      "|  |_|  |       |    _ | |   _   |\n",
      "|       |    ___|   | || |  |_|  |\n",
      "|       |   |___|   |_||_|       |\n",
      "|       |    ___|    __  |       |\n",
      "| ||_|| |   |___|   |  | |   _   |\n",
      "|_|   |_|_______|___|  |_|__| |__|\n",
      "\n"
     ]
    }
   ],
   "source": [
    "using Mera"
   ]
  },
  {
   "cell_type": "markdown",
   "metadata": {},
   "source": [
    "Get information with the function ``getinfo`` about the simulation for a selected output and assign it to an object, here: \"info\"  (composite type). The RAMSES output folders are assumed to be in the current working directory, and the user can give a relative or absolute path. The information is read from several files: info-file, header-file, from the header of the Fortran binary files of the first CPU (hydro, grav, part, clump, sink, ... if they exist), etc. Many familiar names and acronyms known from RAMSES are maintained. The function ``getinfo`` prints a small summary and the given units are printed in human-readable representation."
   ]
  },
  {
   "cell_type": "code",
   "execution_count": 2,
   "metadata": {},
   "outputs": [
    {
     "name": "stdout",
     "output_type": "stream",
     "text": [
      "\u001b[0m\u001b[1m[Mera]: 2020-02-15T22:02:55.164\u001b[22m\n",
      "\n",
      "Code: RAMSES\n",
      "output [420] summary:\n",
      "mtime: 2017-07-27T01:22:09\n",
      "ctime: 2019-12-24T09:57:04.822\n",
      "\u001b[0m\u001b[1m=======================================================\u001b[22m\n",
      "simulation time: 624.91 [Myr]\n",
      "boxlen: 48.0 [kpc]\n",
      "ncpu: 1024\n",
      "ndim: 3\n",
      "-------------------------------------------------------\n",
      "amr:           true\n",
      "level(s): 6 - 10 --> cellsize(s): 750.0 [pc] - 46.88 [pc]\n",
      "-------------------------------------------------------\n",
      "hydro:         true\n",
      "hydro-variables:  6  --> (:rho, :vx, :vy, :vz, :p, :var6)\n",
      "hydro-descriptor: (:density, :velocity_x, :velocity_y, :velocity_z, :thermal_pressure, :passive_scalar_1)\n",
      "γ: 1.01\n",
      "-------------------------------------------------------\n",
      "gravity:       true\n",
      "gravity-variables: (:epot, :ax, :ay, :az)\n",
      "-------------------------------------------------------\n",
      "particles:     true\n",
      "particle variables: (:vx, :vy, :vz, :mass, :birth)\n",
      "-------------------------------------------------------\n",
      "clumps:        true\n",
      "clump-variables: (:index, :lev, :parent, :ncell, :peak_x, :peak_y, :peak_z, Symbol(\"rho-\"), Symbol(\"rho+\"), :rho_av, :mass_cl, :relevance)\n",
      "-------------------------------------------------------\n",
      "namelist-file: false\n",
      "timer-file:       false\n",
      "compilation-file: true\n",
      "makefile:         true\n",
      "patchfile:        true\n",
      "\u001b[0m\u001b[1m=======================================================\u001b[22m\n",
      "\n"
     ]
    }
   ],
   "source": [
    "info = getinfo(420, \"../../testing/simulations/manu_sim_sf_L10\"); # output=400 in given path"
   ]
  },
  {
   "cell_type": "markdown",
   "metadata": {},
   "source": [
    "The simulation output can be selected in several ways, which is realised by using multiple dispatch. See the different defined methods on the function ``getinfo``:"
   ]
  },
  {
   "cell_type": "code",
   "execution_count": 3,
   "metadata": {},
   "outputs": [
    {
     "data": {
      "text/html": [
       "# 4 methods for generic function <b>getinfo</b>:<ul><li> getinfo(; <i>output, path, namelist, verbose</i>) in Mera at <a href=\"https://github.com/ManuelBehrendt/Mera/tree/842df32fed43af26d4495b0b36af67a122651d9a//src/read_data/RAMSES/getinfo.jl#L51\" target=\"_blank\">/Users/mabe/Documents/Projects/dev/Mera/src/read_data/RAMSES/getinfo.jl:51</a></li> <li> getinfo(path::<b>String</b>; <i>output, namelist, verbose</i>) in Mera at <a href=\"https://github.com/ManuelBehrendt/Mera/tree/842df32fed43af26d4495b0b36af67a122651d9a//src/read_data/RAMSES/getinfo.jl#L46\" target=\"_blank\">/Users/mabe/Documents/Projects/dev/Mera/src/read_data/RAMSES/getinfo.jl:46</a></li> <li> getinfo(output::<b>Real</b>; <i>path, namelist, verbose</i>) in Mera at <a href=\"https://github.com/ManuelBehrendt/Mera/tree/842df32fed43af26d4495b0b36af67a122651d9a//src/read_data/RAMSES/getinfo.jl#L38\" target=\"_blank\">/Users/mabe/Documents/Projects/dev/Mera/src/read_data/RAMSES/getinfo.jl:38</a></li> <li> getinfo(output::<b>Real</b>, path::<b>String</b>; <i>namelist, verbose</i>) in Mera at <a href=\"https://github.com/ManuelBehrendt/Mera/tree/842df32fed43af26d4495b0b36af67a122651d9a//src/read_data/RAMSES/getinfo.jl#L42\" target=\"_blank\">/Users/mabe/Documents/Projects/dev/Mera/src/read_data/RAMSES/getinfo.jl:42</a></li> </ul>"
      ],
      "text/plain": [
       "# 4 methods for generic function \"getinfo\":\n",
       "[1] getinfo(; output, path, namelist, verbose) in Mera at /Users/mabe/Documents/Projects/dev/Mera/src/read_data/RAMSES/getinfo.jl:51\n",
       "[2] getinfo(path::String; output, namelist, verbose) in Mera at /Users/mabe/Documents/Projects/dev/Mera/src/read_data/RAMSES/getinfo.jl:46\n",
       "[3] getinfo(output::Real; path, namelist, verbose) in Mera at /Users/mabe/Documents/Projects/dev/Mera/src/read_data/RAMSES/getinfo.jl:38\n",
       "[4] getinfo(output::Real, path::String; namelist, verbose) in Mera at /Users/mabe/Documents/Projects/dev/Mera/src/read_data/RAMSES/getinfo.jl:42"
      ]
     },
     "execution_count": 3,
     "metadata": {},
     "output_type": "execute_result"
    }
   ],
   "source": [
    "# info = getinfo(); # default: output=1 in current folder, \n",
    "# info = getinfo(\"../simulations/\"); # given path, default: output=1\n",
    "# info = getinfo(output=400, path=\"../simulations/\"); # pass path and output number by keywords\n",
    "methods(getinfo)"
   ]
  },
  {
   "cell_type": "markdown",
   "metadata": {},
   "source": [
    "## Fields\n",
    "The created object ``info`` is of type ``InfoType`` (composite type):"
   ]
  },
  {
   "cell_type": "code",
   "execution_count": 4,
   "metadata": {},
   "outputs": [
    {
     "data": {
      "text/plain": [
       "InfoType"
      ]
     },
     "execution_count": 4,
     "metadata": {},
     "output_type": "execute_result"
    }
   ],
   "source": [
    "typeof(info)"
   ]
  },
  {
   "cell_type": "markdown",
   "metadata": {},
   "source": [
    "The previously printed information and even more simulation properties are assigned to the object and can be accessed from fields and sub-fields.\n",
    "Get an overview with:"
   ]
  },
  {
   "cell_type": "code",
   "execution_count": 5,
   "metadata": {},
   "outputs": [
    {
     "name": "stdout",
     "output_type": "stream",
     "text": [
      "output\t= 420\n",
      "path\t= /Users/mabe/Documents/Projects/dev/Mera/tutorials/version_1/../../testing/simulations/manu_sim_sf_L10\n",
      "\u001b[0m\u001b[1mfnames ==> subfields: (:output, :info, :amr, :hydro, :hydro_descriptor, :gravity, :particles, :part_descriptor, :clumps, :timer, :header, :namelist, :compilation, :makefile, :patchfile)\u001b[22m\n",
      "\n",
      "simcode\t= RAMSES\n",
      "mtime\t= 2017-07-27T01:22:09\n",
      "ctime\t= 2019-12-24T09:57:04.822\n",
      "ncpu\t= 1024\n",
      "ndim\t= 3\n",
      "levelmin\t= 6\n",
      "levelmax\t= 10\n",
      "boxlen\t= 48.0\n",
      "time\t= 41.9092891721775\n",
      "aexp\t= 1.0\n",
      "H0\t= 1.0\n",
      "omega_m\t= 1.0\n",
      "omega_l\t= 0.0\n",
      "omega_k\t= 0.0\n",
      "omega_b\t= 0.0\n",
      "unit_l\t= 3.085677581282e21\n",
      "unit_d\t= 6.76838218451376e-23\n",
      "unit_m\t= 1.9885499720830952e42\n",
      "unit_v\t= 6.557528732282063e6\n",
      "unit_t\t= 4.70554946422349e14\n",
      "gamma\t= 1.01\n",
      "hydro\t= true\n",
      "nvarh\t= 6\n",
      "nvarp\t= 5\n",
      "variable_list\t= Symbol[:rho, :vx, :vy, :vz, :p, :var6]\n",
      "gravity_variable_list\t= Symbol[:epot, :ax, :ay, :az]\n",
      "particles_variable_list\t= Symbol[:vx, :vy, :vz, :mass, :birth]\n",
      "clumps_variable_list\t= Symbol[:index, :lev, :parent, :ncell, :peak_x, :peak_y, :peak_z, Symbol(\"rho-\"), Symbol(\"rho+\"), :rho_av, :mass_cl, :relevance]\n",
      "sinks_variable_list\t= Symbol[]\n",
      "\u001b[0m\u001b[1mdescriptor ==> subfields: (:hversion, :hydro, :htypes, :usehydro, :hydrofile, :pversion, :particles, :ptypes, :useparticles, :particlesfile, :gravity, :usegravity, :gravityfile, :clumps, :useclumps, :clumpsfile, :sinks, :usesinks, :sinksfile, :rt, :usert, :rtfile)\u001b[22m\n",
      "\n",
      "amr\t= true\n",
      "gravity\t= true\n",
      "particles\t= true\n",
      "clumps\t= true\n",
      "sinks\t= false\n",
      "rt\t= false\n",
      "namelist\t= false\n",
      "\u001b[0m\u001b[1mnamelist_content ==> dictionary: ()\u001b[22m\n",
      "\n",
      "headerfile\t= true\n",
      "makefile\t= true\n",
      "\u001b[0m\u001b[1mfiles_content ==> subfields: (:makefile, :timerfile, :patchfile)\u001b[22m\n",
      "\n",
      "timerfile\t= false\n",
      "compilationfile\t= true\n",
      "patchfile\t= true\n",
      "Narraysize\t= 0\n",
      "\n",
      "\u001b[0m\u001b[1mscale ==> subfields: (:Mpc, :kpc, :pc, :mpc, :ly, :Au, :km, :m, :cm, :mm, :μm, :Mpc3, :kpc3, :pc3, :mpc3, :ly3, :Au3, :km3, :m3, :cm3, :mm3, :μm3, :Msol_pc3, :g_cm3, :Msol_pc2, :g_cm2, :Gyr, :Myr, :yr, :s, :ms, :Msol, :Mearth, :Mjupiter, :g, :km_s, :m_s, :cm_s, :nH, :erg, :g_cms2, :T_mu, :Ba)\u001b[22m\n",
      "\n",
      "\u001b[0m\u001b[1mgrid_info ==> subfields: (:ngridmax, :nstep_coarse, :nx, :ny, :nz, :nlevelmax, :nboundary, :ngrid_current, :bound_key, :cpu_read)\u001b[22m\n",
      "\n",
      "\u001b[0m\u001b[1mpart_info ==> subfields: (:eta_sn, :age_sn, :f_w, :Npart, :Ndm, :Nstars, :Nsinks, :Ncloud, :Ndebris, :Nother, :Nundefined, :other_tracer1, :debris_tracer, :cloud_tracer, :star_tracer, :other_tracer2, :gas_tracer)\u001b[22m\n",
      "\n",
      "\u001b[0m\u001b[1mcompilation ==> subfields: (:compile_date, :patch_dir, :remote_repo, :local_branch, :last_commit)\u001b[22m\n",
      "\n",
      "\u001b[0m\u001b[1mconstants ==> subfields: (:Au, :Mpc, :kpc, :pc, :mpc, :ly, :Msol, :Mearth, :Mjupiter, :Rsol, :me, :mp, :mn, :mH, :amu, :NA, :c, :G, :kB, :Gyr, :Myr, :yr)\u001b[22m\n",
      "\n",
      "\n"
     ]
    }
   ],
   "source": [
    "viewfields(info);"
   ]
  },
  {
   "cell_type": "markdown",
   "metadata": {},
   "source": [
    "Get a simple list of the fields of any object:"
   ]
  },
  {
   "cell_type": "code",
   "execution_count": 6,
   "metadata": {},
   "outputs": [
    {
     "data": {
      "text/plain": [
       "(:output, :path, :fnames, :simcode, :mtime, :ctime, :ncpu, :ndim, :levelmin, :levelmax, :boxlen, :time, :aexp, :H0, :omega_m, :omega_l, :omega_k, :omega_b, :unit_l, :unit_d, :unit_m, :unit_v, :unit_t, :gamma, :hydro, :nvarh, :nvarp, :variable_list, :gravity_variable_list, :particles_variable_list, :clumps_variable_list, :sinks_variable_list, :descriptor, :amr, :gravity, :particles, :clumps, :sinks, :rt, :namelist, :namelist_content, :headerfile, :makefile, :files_content, :timerfile, :compilationfile, :patchfile, :Narraysize, :scale, :grid_info, :part_info, :compilation, :constants)"
      ]
     },
     "execution_count": 6,
     "metadata": {},
     "output_type": "execute_result"
    }
   ],
   "source": [
    "propertynames(info)"
   ]
  },
  {
   "cell_type": "markdown",
   "metadata": {},
   "source": [
    "## Physical Units\n",
    "All calculations in **MERA** are processed in the code units of the loades simulation. The **RAMSES** scaling factors from code- to cgs-units are given for the length, density, mass, velocity and time, assigned to the fields: unit_l, unit_d, unit_m, unit_v, unit_t"
   ]
  },
  {
   "cell_type": "markdown",
   "metadata": {},
   "source": [
    "To make life easier, we provide more predefined scaling factors, assigned to the sub-field ``scale``:"
   ]
  },
  {
   "cell_type": "code",
   "execution_count": 7,
   "metadata": {},
   "outputs": [
    {
     "name": "stdout",
     "output_type": "stream",
     "text": [
      "\n",
      "\u001b[0m\u001b[1m[Mera]: Fields to scale from user/code units to selected units\u001b[22m\n",
      "\u001b[0m\u001b[1m=======================================================================\u001b[22m\n",
      "Mpc\t= 0.0010000000000006482\n",
      "kpc\t= 1.0000000000006481\n",
      "pc\t= 1000.0000000006482\n",
      "mpc\t= 1.0000000000006482e6\n",
      "ly\t= 3261.5637769461323\n",
      "Au\t= 2.0626480623310105e23\n",
      "km\t= 3.0856775812820004e16\n",
      "m\t= 3.085677581282e19\n",
      "cm\t= 3.085677581282e21\n",
      "mm\t= 3.085677581282e22\n",
      "μm\t= 3.085677581282e25\n",
      "Mpc3\t= 1.0000000000019446e-9\n",
      "kpc3\t= 1.0000000000019444\n",
      "pc3\t= 1.0000000000019448e9\n",
      "mpc3\t= 1.0000000000019446e18\n",
      "ly3\t= 3.469585750743794e10\n",
      "Au3\t= 8.775571306099254e69\n",
      "km3\t= 2.9379989454983075e49\n",
      "m3\t= 2.9379989454983063e58\n",
      "cm3\t= 2.9379989454983065e64\n",
      "mm3\t= 2.937998945498306e67\n",
      "μm3\t= 2.937998945498306e76\n",
      "Msol_pc3\t= 0.9997234790001649\n",
      "g_cm3\t= 6.76838218451376e-23\n",
      "Msol_pc2\t= 999.7234790008131\n",
      "g_cm2\t= 0.20885045168302602\n",
      "Gyr\t= 0.014910986463557083\n",
      "Myr\t= 14.910986463557084\n",
      "yr\t= 1.4910986463557083e7\n",
      "s\t= 4.70554946422349e14\n",
      "ms\t= 4.70554946422349e17\n",
      "Msol\t= 9.99723479002109e8\n",
      "Mearth\t= 3.329677459032007e14\n",
      "Mjupiter\t= 1.0476363431814971e12\n",
      "g\t= 1.9885499720830952e42\n",
      "km_s\t= 65.57528732282063\n",
      "m_s\t= 65575.28732282063\n",
      "cm_s\t= 6.557528732282063e6\n",
      "nH\t= 30.987773856809987\n",
      "erg\t= 8.551000140274429e55\n",
      "g_cms2\t= 2.9104844143584656e-9\n",
      "T_mu\t= 517028.3199143136\n",
      "Ba\t= 2.910484414358466e-9\n",
      "\n"
     ]
    }
   ],
   "source": [
    "viewfields(info.scale) "
   ]
  },
  {
   "cell_type": "code",
   "execution_count": 8,
   "metadata": {},
   "outputs": [
    {
     "data": {
      "text/plain": [
       "(:Mpc, :kpc, :pc, :mpc, :ly, :Au, :km, :m, :cm, :mm, :μm, :Mpc3, :kpc3, :pc3, :mpc3, :ly3, :Au3, :km3, :m3, :cm3, :mm3, :μm3, :Msol_pc3, :g_cm3, :Msol_pc2, :g_cm2, :Gyr, :Myr, :yr, :s, :ms, :Msol, :Mearth, :Mjupiter, :g, :km_s, :m_s, :cm_s, :nH, :erg, :g_cms2, :T_mu, :Ba)"
      ]
     },
     "execution_count": 8,
     "metadata": {},
     "output_type": "execute_result"
    }
   ],
   "source": [
    "list_field = propertynames( info.scale )"
   ]
  },
  {
   "cell_type": "markdown",
   "metadata": {},
   "source": [
    "The underline in the unit representation corresponds to the fraction line, e.g.:\n",
    " \n",
    "|field name | corresponding unit |\n",
    "|---- | ----|\n",
    "|Msol_pc3        | Msol * pc^-3|\n",
    "|g_cm3          | g * cm^-3 |\n",
    "|Msol_pc2        | Msol * pc^-2|\n",
    "|g_cm2           | g * cm^-2|\n",
    "|            km_s| km * s^-1|\n",
    "|             m_s| m * s^-1|\n",
    "|            cm_s| cm * s^-1|\n",
    "|          g_cms2| g / (cm * s^2)|\n",
    "|          nH    | cm^-3 |\n",
    "|          T_mu  | T / μ |\n",
    "|          Ba    | = Barye (pressure) [cm^-1 * g * s^-2] |"
   ]
  },
  {
   "cell_type": "markdown",
   "metadata": {},
   "source": [
    "Access a scaling factor to use it in your calculations or plots by e.g.:"
   ]
  },
  {
   "cell_type": "code",
   "execution_count": 9,
   "metadata": {},
   "outputs": [
    {
     "data": {
      "text/plain": [
       "65.57528732282063"
      ]
     },
     "execution_count": 9,
     "metadata": {},
     "output_type": "execute_result"
    }
   ],
   "source": [
    "info.scale.km_s  "
   ]
  },
  {
   "cell_type": "markdown",
   "metadata": {},
   "source": [
    "To reduce the hierarchy of sub-fields, assign a new object:"
   ]
  },
  {
   "cell_type": "code",
   "execution_count": 10,
   "metadata": {},
   "outputs": [],
   "source": [
    "scale = info.scale;"
   ]
  },
  {
   "cell_type": "markdown",
   "metadata": {},
   "source": [
    "The scaling factor can now be accessed by:"
   ]
  },
  {
   "cell_type": "code",
   "execution_count": 11,
   "metadata": {},
   "outputs": [
    {
     "data": {
      "text/plain": [
       "65.57528732282063"
      ]
     },
     "execution_count": 11,
     "metadata": {},
     "output_type": "execute_result"
    }
   ],
   "source": [
    "scale.km_s"
   ]
  },
  {
   "cell_type": "markdown",
   "metadata": {},
   "source": [
    "Furthermore, the scales can be assigned by applying the function ``createscales`` on an object of type ``InfoType`` (here: `info`):"
   ]
  },
  {
   "cell_type": "code",
   "execution_count": 12,
   "metadata": {},
   "outputs": [
    {
     "data": {
      "text/plain": [
       "InfoType"
      ]
     },
     "execution_count": 12,
     "metadata": {},
     "output_type": "execute_result"
    }
   ],
   "source": [
    "typeof(info)"
   ]
  },
  {
   "cell_type": "code",
   "execution_count": 13,
   "metadata": {},
   "outputs": [
    {
     "data": {
      "text/plain": [
       "65.57528732282063"
      ]
     },
     "execution_count": 13,
     "metadata": {},
     "output_type": "execute_result"
    }
   ],
   "source": [
    "my_scales = createscales(info)\n",
    "my_scales.km_s"
   ]
  },
  {
   "cell_type": "markdown",
   "metadata": {},
   "source": [
    "## Physical Constants\n",
    "Some useful constants are assigned to the `InfoType` object:"
   ]
  },
  {
   "cell_type": "code",
   "execution_count": 14,
   "metadata": {},
   "outputs": [
    {
     "name": "stdout",
     "output_type": "stream",
     "text": [
      "\n",
      "\u001b[0m\u001b[1m[Mera]: Constants given in cgs units\u001b[22m\n",
      "\u001b[0m\u001b[1m=========================================\u001b[22m\n",
      "Au\t= 0.01495978707\n",
      "Mpc\t= 3.08567758128e24\n",
      "kpc\t= 3.08567758128e21\n",
      "pc\t= 3.08567758128e18\n",
      "mpc\t= 3.08567758128e15\n",
      "ly\t= 9.4607304725808e17\n",
      "Msol\t= 1.9891e33\n",
      "Mearth\t= 5.9722e27\n",
      "Mjupiter\t= 1.89813e30\n",
      "Rsol\t= 6.96e10\n",
      "me\t= 9.1093897e-28\n",
      "mp\t= 1.6726231e-24\n",
      "mn\t= 1.6749286e-24\n",
      "mH\t= 1.66e-24\n",
      "amu\t= 1.6605402e-24\n",
      "NA\t= 6.0221367e23\n",
      "c\t= 2.99792458e10\n",
      "G\t= 6.67259e-8\n",
      "kB\t= 1.38062e-16\n",
      "Gyr\t= 3.15576e16\n",
      "Myr\t= 3.15576e13\n",
      "yr\t= 3.15576e7\n",
      "\n"
     ]
    }
   ],
   "source": [
    "viewfields(info.constants)"
   ]
  },
  {
   "cell_type": "markdown",
   "metadata": {},
   "source": [
    "Reduce the hierarchy of sub-fields:"
   ]
  },
  {
   "cell_type": "code",
   "execution_count": 15,
   "metadata": {},
   "outputs": [],
   "source": [
    "con = info.constants;"
   ]
  },
  {
   "cell_type": "code",
   "execution_count": 16,
   "metadata": {},
   "outputs": [
    {
     "name": "stdout",
     "output_type": "stream",
     "text": [
      "\n",
      "\u001b[0m\u001b[1m[Mera]: Constants given in cgs units\u001b[22m\n",
      "\u001b[0m\u001b[1m=========================================\u001b[22m\n",
      "Au\t= 0.01495978707\n",
      "Mpc\t= 3.08567758128e24\n",
      "kpc\t= 3.08567758128e21\n",
      "pc\t= 3.08567758128e18\n",
      "mpc\t= 3.08567758128e15\n",
      "ly\t= 9.4607304725808e17\n",
      "Msol\t= 1.9891e33\n",
      "Mearth\t= 5.9722e27\n",
      "Mjupiter\t= 1.89813e30\n",
      "Rsol\t= 6.96e10\n",
      "me\t= 9.1093897e-28\n",
      "mp\t= 1.6726231e-24\n",
      "mn\t= 1.6749286e-24\n",
      "mH\t= 1.66e-24\n",
      "amu\t= 1.6605402e-24\n",
      "NA\t= 6.0221367e23\n",
      "c\t= 2.99792458e10\n",
      "G\t= 6.67259e-8\n",
      "kB\t= 1.38062e-16\n",
      "Gyr\t= 3.15576e16\n",
      "Myr\t= 3.15576e13\n",
      "yr\t= 3.15576e7\n",
      "\n"
     ]
    }
   ],
   "source": [
    "viewfields(con)"
   ]
  },
  {
   "cell_type": "markdown",
   "metadata": {},
   "source": [
    "## InfoType Fields Overview\n",
    "All fields and sub-fields that are assigned to the `InfoType` or from other objects can be viewed by the function **viewfields**, **namelist**, **makefile**, **timerfile**, **patchfile**.\n",
    "See the methods list:"
   ]
  },
  {
   "cell_type": "code",
   "execution_count": 17,
   "metadata": {},
   "outputs": [
    {
     "data": {
      "text/html": [
       "# 10 methods for generic function <b>viewfields</b>:<ul><li> viewfields(object::<b>PhysicalUnitsType</b>) in Mera at <a href=\"https://github.com/ManuelBehrendt/Mera/tree/842df32fed43af26d4495b0b36af67a122651d9a//src/functions/viewfields.jl#L181\" target=\"_blank\">/Users/mabe/Documents/Projects/dev/Mera/src/functions/viewfields.jl:181</a></li> <li> viewfields(object::<b>Mera.FilesContentType</b>) in Mera at <a href=\"https://github.com/ManuelBehrendt/Mera/tree/842df32fed43af26d4495b0b36af67a122651d9a//src/functions/viewfields.jl#L166\" target=\"_blank\">/Users/mabe/Documents/Projects/dev/Mera/src/functions/viewfields.jl:166</a></li> <li> viewfields(object::<b>DescriptorType</b>) in Mera at <a href=\"https://github.com/ManuelBehrendt/Mera/tree/842df32fed43af26d4495b0b36af67a122651d9a//src/functions/viewfields.jl#L150\" target=\"_blank\">/Users/mabe/Documents/Projects/dev/Mera/src/functions/viewfields.jl:150</a></li> <li> viewfields(object::<b>FileNamesType</b>) in Mera at <a href=\"https://github.com/ManuelBehrendt/Mera/tree/842df32fed43af26d4495b0b36af67a122651d9a//src/functions/viewfields.jl#L134\" target=\"_blank\">/Users/mabe/Documents/Projects/dev/Mera/src/functions/viewfields.jl:134</a></li> <li> viewfields(object::<b>CompilationInfoType</b>) in Mera at <a href=\"https://github.com/ManuelBehrendt/Mera/tree/842df32fed43af26d4495b0b36af67a122651d9a//src/functions/viewfields.jl#L116\" target=\"_blank\">/Users/mabe/Documents/Projects/dev/Mera/src/functions/viewfields.jl:116</a></li> <li> viewfields(object::<b>GridInfoType</b>) in Mera at <a href=\"https://github.com/ManuelBehrendt/Mera/tree/842df32fed43af26d4495b0b36af67a122651d9a//src/functions/viewfields.jl#L90\" target=\"_blank\">/Users/mabe/Documents/Projects/dev/Mera/src/functions/viewfields.jl:90</a></li> <li> viewfields(object::<b>PartInfoType</b>) in Mera at <a href=\"https://github.com/ManuelBehrendt/Mera/tree/842df32fed43af26d4495b0b36af67a122651d9a//src/functions/viewfields.jl#L73\" target=\"_blank\">/Users/mabe/Documents/Projects/dev/Mera/src/functions/viewfields.jl:73</a></li> <li> viewfields(object::<b>ScalesType</b>) in Mera at <a href=\"https://github.com/ManuelBehrendt/Mera/tree/842df32fed43af26d4495b0b36af67a122651d9a//src/functions/viewfields.jl#L57\" target=\"_blank\">/Users/mabe/Documents/Projects/dev/Mera/src/functions/viewfields.jl:57</a></li> <li> viewfields(object::<b>InfoType</b>) in Mera at <a href=\"https://github.com/ManuelBehrendt/Mera/tree/842df32fed43af26d4495b0b36af67a122651d9a//src/functions/viewfields.jl#L12\" target=\"_blank\">/Users/mabe/Documents/Projects/dev/Mera/src/functions/viewfields.jl:12</a></li> <li> viewfields(object::<b>DataSetType</b>) in Mera at <a href=\"https://github.com/ManuelBehrendt/Mera/tree/842df32fed43af26d4495b0b36af67a122651d9a//src/functions/viewfields.jl#L197\" target=\"_blank\">/Users/mabe/Documents/Projects/dev/Mera/src/functions/viewfields.jl:197</a></li> </ul>"
      ],
      "text/plain": [
       "# 10 methods for generic function \"viewfields\":\n",
       "[1] viewfields(object::PhysicalUnitsType) in Mera at /Users/mabe/Documents/Projects/dev/Mera/src/functions/viewfields.jl:181\n",
       "[2] viewfields(object::Mera.FilesContentType) in Mera at /Users/mabe/Documents/Projects/dev/Mera/src/functions/viewfields.jl:166\n",
       "[3] viewfields(object::DescriptorType) in Mera at /Users/mabe/Documents/Projects/dev/Mera/src/functions/viewfields.jl:150\n",
       "[4] viewfields(object::FileNamesType) in Mera at /Users/mabe/Documents/Projects/dev/Mera/src/functions/viewfields.jl:134\n",
       "[5] viewfields(object::CompilationInfoType) in Mera at /Users/mabe/Documents/Projects/dev/Mera/src/functions/viewfields.jl:116\n",
       "[6] viewfields(object::GridInfoType) in Mera at /Users/mabe/Documents/Projects/dev/Mera/src/functions/viewfields.jl:90\n",
       "[7] viewfields(object::PartInfoType) in Mera at /Users/mabe/Documents/Projects/dev/Mera/src/functions/viewfields.jl:73\n",
       "[8] viewfields(object::ScalesType) in Mera at /Users/mabe/Documents/Projects/dev/Mera/src/functions/viewfields.jl:57\n",
       "[9] viewfields(object::InfoType) in Mera at /Users/mabe/Documents/Projects/dev/Mera/src/functions/viewfields.jl:12\n",
       "[10] viewfields(object::DataSetType) in Mera at /Users/mabe/Documents/Projects/dev/Mera/src/functions/viewfields.jl:197"
      ]
     },
     "execution_count": 17,
     "metadata": {},
     "output_type": "execute_result"
    }
   ],
   "source": [
    "methods(viewfields)"
   ]
  },
  {
   "cell_type": "code",
   "execution_count": 18,
   "metadata": {},
   "outputs": [
    {
     "data": {
      "text/html": [
       "# 2 methods for generic function <b>namelist</b>:<ul><li> namelist(object::<b>Dict{Any,Any}</b>) in Mera at <a href=\"https://github.com/ManuelBehrendt/Mera/tree/842df32fed43af26d4495b0b36af67a122651d9a//src/functions/viewfields.jl#L244\" target=\"_blank\">/Users/mabe/Documents/Projects/dev/Mera/src/functions/viewfields.jl:244</a></li> <li> namelist(object::<b>InfoType</b>) in Mera at <a href=\"https://github.com/ManuelBehrendt/Mera/tree/842df32fed43af26d4495b0b36af67a122651d9a//src/functions/viewfields.jl#L226\" target=\"_blank\">/Users/mabe/Documents/Projects/dev/Mera/src/functions/viewfields.jl:226</a></li> </ul>"
      ],
      "text/plain": [
       "# 2 methods for generic function \"namelist\":\n",
       "[1] namelist(object::Dict{Any,Any}) in Mera at /Users/mabe/Documents/Projects/dev/Mera/src/functions/viewfields.jl:244\n",
       "[2] namelist(object::InfoType) in Mera at /Users/mabe/Documents/Projects/dev/Mera/src/functions/viewfields.jl:226"
      ]
     },
     "execution_count": 18,
     "metadata": {},
     "output_type": "execute_result"
    }
   ],
   "source": [
    "methods(namelist)"
   ]
  },
  {
   "cell_type": "markdown",
   "metadata": {},
   "source": [
    "Get a detailed overview of all the fields from MERA composite types:"
   ]
  },
  {
   "cell_type": "code",
   "execution_count": 19,
   "metadata": {},
   "outputs": [
    {
     "name": "stdout",
     "output_type": "stream",
     "text": [
      "output\t= 420\n",
      "path\t= /Users/mabe/Documents/Projects/dev/Mera/tutorials/version_1/../../testing/simulations/manu_sim_sf_L10\n",
      "\u001b[0m\u001b[1mfnames ==> subfields: (:output, :info, :amr, :hydro, :hydro_descriptor, :gravity, :particles, :part_descriptor, :clumps, :timer, :header, :namelist, :compilation, :makefile, :patchfile)\u001b[22m\n",
      "\n",
      "simcode\t= RAMSES\n",
      "mtime\t= 2017-07-27T01:22:09\n",
      "ctime\t= 2019-12-24T09:57:04.822\n",
      "ncpu\t= 1024\n",
      "ndim\t= 3\n",
      "levelmin\t= 6\n",
      "levelmax\t= 10\n",
      "boxlen\t= 48.0\n",
      "time\t= 41.9092891721775\n",
      "aexp\t= 1.0\n",
      "H0\t= 1.0\n",
      "omega_m\t= 1.0\n",
      "omega_l\t= 0.0\n",
      "omega_k\t= 0.0\n",
      "omega_b\t= 0.0\n",
      "unit_l\t= 3.085677581282e21\n",
      "unit_d\t= 6.76838218451376e-23\n",
      "unit_m\t= 1.9885499720830952e42\n",
      "unit_v\t= 6.557528732282063e6\n",
      "unit_t\t= 4.70554946422349e14\n",
      "gamma\t= 1.01\n",
      "hydro\t= true\n",
      "nvarh\t= 6\n",
      "nvarp\t= 5\n",
      "variable_list\t= Symbol[:rho, :vx, :vy, :vz, :p, :var6]\n",
      "gravity_variable_list\t= Symbol[:epot, :ax, :ay, :az]\n",
      "particles_variable_list\t= Symbol[:vx, :vy, :vz, :mass, :birth]\n",
      "clumps_variable_list\t= Symbol[:index, :lev, :parent, :ncell, :peak_x, :peak_y, :peak_z, Symbol(\"rho-\"), Symbol(\"rho+\"), :rho_av, :mass_cl, :relevance]\n",
      "sinks_variable_list\t= Symbol[]\n",
      "\u001b[0m\u001b[1mdescriptor ==> subfields: (:hversion, :hydro, :htypes, :usehydro, :hydrofile, :pversion, :particles, :ptypes, :useparticles, :particlesfile, :gravity, :usegravity, :gravityfile, :clumps, :useclumps, :clumpsfile, :sinks, :usesinks, :sinksfile, :rt, :usert, :rtfile)\u001b[22m\n",
      "\n",
      "amr\t= true\n",
      "gravity\t= true\n",
      "particles\t= true\n",
      "clumps\t= true\n",
      "sinks\t= false\n",
      "rt\t= false\n",
      "namelist\t= false\n",
      "\u001b[0m\u001b[1mnamelist_content ==> dictionary: ()\u001b[22m\n",
      "\n",
      "headerfile\t= true\n",
      "makefile\t= true\n",
      "\u001b[0m\u001b[1mfiles_content ==> subfields: (:makefile, :timerfile, :patchfile)\u001b[22m\n",
      "\n",
      "timerfile\t= false\n",
      "compilationfile\t= true\n",
      "patchfile\t= true\n",
      "Narraysize\t= 0\n",
      "\n",
      "\u001b[0m\u001b[1mscale ==> subfields: (:Mpc, :kpc, :pc, :mpc, :ly, :Au, :km, :m, :cm, :mm, :μm, :Mpc3, :kpc3, :pc3, :mpc3, :ly3, :Au3, :km3, :m3, :cm3, :mm3, :μm3, :Msol_pc3, :g_cm3, :Msol_pc2, :g_cm2, :Gyr, :Myr, :yr, :s, :ms, :Msol, :Mearth, :Mjupiter, :g, :km_s, :m_s, :cm_s, :nH, :erg, :g_cms2, :T_mu, :Ba)\u001b[22m\n",
      "\n",
      "\u001b[0m\u001b[1mgrid_info ==> subfields: (:ngridmax, :nstep_coarse, :nx, :ny, :nz, :nlevelmax, :nboundary, :ngrid_current, :bound_key, :cpu_read)\u001b[22m\n",
      "\n",
      "\u001b[0m\u001b[1mpart_info ==> subfields: (:eta_sn, :age_sn, :f_w, :Npart, :Ndm, :Nstars, :Nsinks, :Ncloud, :Ndebris, :Nother, :Nundefined, :other_tracer1, :debris_tracer, :cloud_tracer, :star_tracer, :other_tracer2, :gas_tracer)\u001b[22m\n",
      "\n",
      "\u001b[0m\u001b[1mcompilation ==> subfields: (:compile_date, :patch_dir, :remote_repo, :local_branch, :last_commit)\u001b[22m\n",
      "\n",
      "\u001b[0m\u001b[1mconstants ==> subfields: (:Au, :Mpc, :kpc, :pc, :mpc, :ly, :Msol, :Mearth, :Mjupiter, :Rsol, :me, :mp, :mn, :mH, :amu, :NA, :c, :G, :kB, :Gyr, :Myr, :yr)\u001b[22m\n",
      "\n",
      "\n",
      "\n",
      "\u001b[0m\u001b[1m[Mera]: Fields to scale from user/code units to selected units\u001b[22m\n",
      "\u001b[0m\u001b[1m=======================================================================\u001b[22m\n",
      "Mpc\t= 0.0010000000000006482\n",
      "kpc\t= 1.0000000000006481\n",
      "pc\t= 1000.0000000006482\n",
      "mpc\t= 1.0000000000006482e6\n",
      "ly\t= 3261.5637769461323\n",
      "Au\t= 2.0626480623310105e23\n",
      "km\t= 3.0856775812820004e16\n",
      "m\t= 3.085677581282e19\n",
      "cm\t= 3.085677581282e21\n",
      "mm\t= 3.085677581282e22\n",
      "μm\t= 3.085677581282e25\n",
      "Mpc3\t= 1.0000000000019446e-9\n",
      "kpc3\t= 1.0000000000019444\n",
      "pc3\t= 1.0000000000019448e9\n",
      "mpc3\t= 1.0000000000019446e18\n",
      "ly3\t= 3.469585750743794e10\n",
      "Au3\t= 8.775571306099254e69\n",
      "km3\t= 2.9379989454983075e49\n",
      "m3\t= 2.9379989454983063e58\n",
      "cm3\t= 2.9379989454983065e64\n",
      "mm3\t= 2.937998945498306e67\n",
      "μm3\t= 2.937998945498306e76\n",
      "Msol_pc3\t= 0.9997234790001649\n",
      "g_cm3\t= 6.76838218451376e-23\n",
      "Msol_pc2\t= 999.7234790008131\n",
      "g_cm2\t= 0.20885045168302602\n",
      "Gyr\t= 0.014910986463557083\n",
      "Myr\t= 14.910986463557084\n",
      "yr\t= 1.4910986463557083e7\n",
      "s\t= 4.70554946422349e14\n",
      "ms\t= 4.70554946422349e17\n",
      "Msol\t= 9.99723479002109e8\n",
      "Mearth\t= 3.329677459032007e14\n",
      "Mjupiter\t= 1.0476363431814971e12\n",
      "g\t= 1.9885499720830952e42\n",
      "km_s\t= 65.57528732282063\n",
      "m_s\t= 65575.28732282063\n",
      "cm_s\t= 6.557528732282063e6\n",
      "nH\t= 30.987773856809987\n",
      "erg\t= 8.551000140274429e55\n",
      "g_cms2\t= 2.9104844143584656e-9\n",
      "T_mu\t= 517028.3199143136\n",
      "Ba\t= 2.910484414358466e-9\n",
      "\n",
      "\n",
      "\u001b[0m\u001b[1m[Mera]: Constants given in cgs units\u001b[22m\n",
      "\u001b[0m\u001b[1m=========================================\u001b[22m\n",
      "Au\t= 0.01495978707\n",
      "Mpc\t= 3.08567758128e24\n",
      "kpc\t= 3.08567758128e21\n",
      "pc\t= 3.08567758128e18\n",
      "mpc\t= 3.08567758128e15\n",
      "ly\t= 9.4607304725808e17\n",
      "Msol\t= 1.9891e33\n",
      "Mearth\t= 5.9722e27\n",
      "Mjupiter\t= 1.89813e30\n",
      "Rsol\t= 6.96e10\n",
      "me\t= 9.1093897e-28\n",
      "mp\t= 1.6726231e-24\n",
      "mn\t= 1.6749286e-24\n",
      "mH\t= 1.66e-24\n",
      "amu\t= 1.6605402e-24\n",
      "NA\t= 6.0221367e23\n",
      "c\t= 2.99792458e10\n",
      "G\t= 6.67259e-8\n",
      "kB\t= 1.38062e-16\n",
      "Gyr\t= 3.15576e16\n",
      "Myr\t= 3.15576e13\n",
      "yr\t= 3.15576e7\n",
      "\n",
      "\n",
      "\u001b[0m\u001b[1m[Mera]: Paths and file-names\u001b[22m\n",
      "\u001b[0m\u001b[1m=================================\u001b[22m\n",
      "output\t= /Users/mabe/Documents/Projects/dev/Mera/tutorials/version_1/../../testing/simulations/manu_sim_sf_L10/output_00420\n",
      "info\t= /Users/mabe/Documents/Projects/dev/Mera/tutorials/version_1/../../testing/simulations/manu_sim_sf_L10/output_00420/info_00420.txt\n",
      "amr\t= /Users/mabe/Documents/Projects/dev/Mera/tutorials/version_1/../../testing/simulations/manu_sim_sf_L10/output_00420/amr_00420.\n",
      "hydro\t= /Users/mabe/Documents/Projects/dev/Mera/tutorials/version_1/../../testing/simulations/manu_sim_sf_L10/output_00420/hydro_00420.\n",
      "hydro_descriptor\t= /Users/mabe/Documents/Projects/dev/Mera/tutorials/version_1/../../testing/simulations/manu_sim_sf_L10/output_00420/hydro_file_descriptor.txt\n",
      "gravity\t= /Users/mabe/Documents/Projects/dev/Mera/tutorials/version_1/../../testing/simulations/manu_sim_sf_L10/output_00420/grav_00420.\n",
      "particles\t= /Users/mabe/Documents/Projects/dev/Mera/tutorials/version_1/../../testing/simulations/manu_sim_sf_L10/output_00420/part_00420.\n",
      "part_descriptor\t= /Users/mabe/Documents/Projects/dev/Mera/tutorials/version_1/../../testing/simulations/manu_sim_sf_L10/output_00420/part_file_descriptor.txt\n",
      "clumps\t= /Users/mabe/Documents/Projects/dev/Mera/tutorials/version_1/../../testing/simulations/manu_sim_sf_L10/output_00420/clump_00420.\n",
      "timer\t= /Users/mabe/Documents/Projects/dev/Mera/tutorials/version_1/../../testing/simulations/manu_sim_sf_L10/output_00420/timer_00420.txt\n",
      "header\t= /Users/mabe/Documents/Projects/dev/Mera/tutorials/version_1/../../testing/simulations/manu_sim_sf_L10/output_00420/header_00420.txt\n",
      "namelist\t= /Users/mabe/Documents/Projects/dev/Mera/tutorials/version_1/../../testing/simulations/manu_sim_sf_L10/output_00420/namelist.txt\n",
      "compilation\t= /Users/mabe/Documents/Projects/dev/Mera/tutorials/version_1/../../testing/simulations/manu_sim_sf_L10/output_00420/compilation.txt\n",
      "makefile\t= /Users/mabe/Documents/Projects/dev/Mera/tutorials/version_1/../../testing/simulations/manu_sim_sf_L10/output_00420/makefile.txt\n",
      "patchfile\t= /Users/mabe/Documents/Projects/dev/Mera/tutorials/version_1/../../testing/simulations/manu_sim_sf_L10/output_00420/patches.txt\n",
      "\n",
      "\n",
      "\u001b[0m\u001b[1m[Mera]: Descriptor overview\u001b[22m\n",
      "\u001b[0m\u001b[1m=================================\u001b[22m\n",
      "hversion\t= 0\n",
      "hydro\t= Symbol[:density, :velocity_x, :velocity_y, :velocity_z, :thermal_pressure, :passive_scalar_1]\n",
      "htypes\t= String[]\n",
      "usehydro\t= false\n",
      "hydrofile\t= true\n",
      "pversion\t= 0\n",
      "particles\t= Symbol[:vx, :vy, :vz, :mass, :birth]\n",
      "ptypes\t= String[]\n",
      "useparticles\t= false\n",
      "particlesfile\t= false\n",
      "gravity\t= Symbol[:epot, :ax, :ay, :az]\n",
      "usegravity\t= false\n",
      "gravityfile\t= false\n",
      "clumps\t= Symbol[:index, :lev, :parent, :ncell, :peak_x, :peak_y, :peak_z, Symbol(\"rho-\"), Symbol(\"rho+\"), :rho_av, :mass_cl, :relevance]\n",
      "useclumps\t= false\n",
      "clumpsfile\t= false\n",
      "sinks\t= Symbol[]\n",
      "usesinks\t= false\n",
      "sinksfile\t= false\n",
      "rt\t= Symbol[]\n",
      "usert\t= false\n",
      "rtfile\t= false\n",
      "\n",
      "\n",
      "\u001b[0m\u001b[1m[Mera]: Namelist file content\u001b[22m\n",
      "\u001b[0m\u001b[1m=================================\u001b[22m\n",
      "\n",
      "\u001b[0m\u001b[1m[Mera]: Grid overview \u001b[22m\n",
      "\u001b[0m\u001b[1m============================\u001b[22m\n",
      "ngridmax\t= 850000\n",
      "nstep_coarse\t= 1644\n",
      "nx\t= 3\n",
      "ny\t= 3\n",
      "nz\t= 3\n",
      "nlevelmax\t= 10\n",
      "nboundary\t= 6\n",
      "ngrid_current\t= 2383\n",
      "bound_key ==> length(1025)\n",
      "cpu_read ==> length(1025)\n",
      "\n",
      "\n",
      "\u001b[0m\u001b[1m[Mera]: Particle overview\u001b[22m\n",
      "\u001b[0m\u001b[1m===============================\u001b[22m\n",
      "eta_sn\t= 0.0\n",
      "age_sn\t= 0.6706464407596582\n",
      "f_w\t= 0.0\n",
      "Npart\t= 0\n",
      "Ndm\t= 0\n",
      "Nstars\t= 0\n",
      "Nsinks\t= 0\n",
      "Ncloud\t= 0\n",
      "Ndebris\t= 0\n",
      "Nother\t= 0\n",
      "Nundefined\t= 0\n",
      "other_tracer1\t= 0\n",
      "debris_tracer\t= 0\n",
      "cloud_tracer\t= 0\n",
      "star_tracer\t= 0\n",
      "other_tracer2\t= 0\n",
      "gas_tracer\t= 0\n",
      "\n",
      "\n",
      "\u001b[0m\u001b[1m[Mera]: Compilation file overview\u001b[22m\n",
      "\u001b[0m\u001b[1m========================================\u001b[22m\n",
      "compile_date\t=  01/12/16-18:13:59\n",
      "patch_dir\t=  /hydra/u/manb/sf_sim/patch\n",
      "remote_repo\t=  \n",
      "local_branch\t=  \n",
      "last_commit\t=  \n",
      "\n",
      "\n",
      "\u001b[0m\u001b[1m[Mera]: Makefile content\u001b[22m\n",
      "\u001b[0m\u001b[1m=================================\u001b[22m\n",
      "#############################################################################\n",
      "# If you have problems with this makefile, contact Romain.Teyssier@gmail.com\n",
      "#############################################################################\n",
      "# Compilation time parameters\n",
      "NVECTOR = 32\n",
      "NDIM = 3\n",
      "NPRE = 8\n",
      "NVAR = 6\n",
      "NENER = 0\n",
      "SOLVER = hydro\n",
      "PATCH = /hydra/u/manb/sf_sim/patch\n",
      "EXEC = ramses_neu\n",
      "#############################################################################\n",
      "GITBRANCH = $(shell git rev-parse --abbrev-ref HEAD)\n",
      "GITHASH = $(shell git log --pretty=format:'%H' -n 1)\n",
      "GITREPO = $(shell git config --get remote.origin.url)\n",
      "BUILDDATE = $(shell date +\"%D-%T\")\n",
      "DEFINES = -DNVECTOR=$(NVECTOR) -DNDIM=$(NDIM) -DNPRE=$(NPRE) -DNENER=$(NENER) -DNVAR=$(NVAR) \\\n",
      "          -DSOLVER$(SOLVER)\n",
      "#############################################################################\n",
      "# Fortran compiler options and directives\n",
      "\n",
      "# --- No MPI, gfortran -------------------------------\n",
      "#F90 = gfortran -O3 -frecord-marker=4 -fbacktrace -ffree-line-length-none -g\n",
      "#FFLAGS = -x f95-cpp-input $(DEFINES) -DWITHOUTMPI\n",
      "\n",
      "# --- No MPI, tau ----------------------------------\n",
      "#F90 = tau_f90.sh -optKeepFiles -optPreProcess -optCPPOpts=$(DEFINES) -DWITHOUTMPI\n",
      "\n",
      "# --- No MPI, pgf90 ----------------------------------\n",
      "#F90 = pgf90\n",
      "#FFLAGS = -Mpreprocess $(DEFINES) -DWITHOUTMPI\n",
      "\n",
      "# --- No MPI, xlf ------------------------------------\n",
      "#F90 = xlf\n",
      "#FFLAGS = -WF,-DNDIM=$(NDIM),-DNPRE=$(NPRE),-DNVAR=$(NVAR),-DSOLVER$(SOLVER),-DWITHOUTMPI -qfree=f90 -qsuffix=f=f90 -qsuffix=cpp=f90\n",
      "\n",
      "# --- No MPI, f90 ------------------------------------\n",
      "#F90 = f90\n",
      "#FFLAGS = -cpp $(DEFINES) -DWITHOUTMPI\n",
      "\n",
      "# --- No MPI, ifort ----------------------------------\n",
      "#F90 = ifort\n",
      "#FFLAGS = -cpp $(DEFINES) -DWITHOUTMPI\n",
      "\n",
      "# --- MPI, gfortran syntax ------------------------------\n",
      "#F90 = mpif90 -frecord-marker=4 -O3 -ffree-line-length-none -g -fbacktrace \n",
      "#FFLAGS = -x f95-cpp-input $(DEFINES)\n",
      "\n",
      "# --- MPI, gfortran DEBUG syntax ------------------------------ \n",
      "#F90 = mpif90 -frecord-marker=4 -ffree-line-length-none -fbacktrace -g -O -fbounds-check -Wuninitialized -Wall\n",
      "#FFLAGS = -x f95-cpp-input -ffpe-trap=zero,underflow,overflow,invalid -finit-real=nan  $(DEFINES)    \n",
      "\n",
      "# --- MPI, pgf90 syntax ------------------------------\n",
      "#F90 = mpif90 -O3\n",
      "#FFLAGS = -Mpreprocess $(DEFINES)\n",
      "\n",
      "# --- MPI, ifort syntax ------------------------------\n",
      "F90 = mpiifort\n",
      "#FFLAGS = -cpp -fast $(DEFINES) -DNOSYSTEM\n",
      "FFLAGS = -O3 -g -traceback -fpe0 -ftrapuv -cpp $(DEFINES) -DNOSYSTEM\n",
      "\n",
      "# --- MPI, ifort syntax, additional checks -----------\n",
      "#F90 = mpif90\n",
      "#FFLAGS = -warn all -O0 -g -traceback -fpe0 -ftrapuv -check bounds -cpp $(DEFINES) -DNOSYSTEM\n",
      "\n",
      "\n",
      "# --- MPI, ifort syntax ------------------------------\n",
      "#F90 = ftn\n",
      "#FFLAGS = -xAVX -g -traceback -fpp -fast $(DEFINES) -DNOSYSTEM #-DRT \n",
      "\n",
      "# --- MPI, ifort syntax, additional checks -----------\n",
      "#F90 = ftn\n",
      "#FFLAGS = -O3 -g -traceback -fpe0 -ftrapuv -cpp $(DEFINES) -DNOSYSTEM #-DRT\n",
      "\n",
      "#############################################################################\n",
      "MOD = mod\n",
      "#############################################################################\n",
      "# MPI librairies\n",
      "LIBMPI = \n",
      "#LIBMPI = -lfmpi -lmpi -lelan\n",
      "\n",
      "# --- CUDA libraries, for Titane ---\n",
      "LIBCUDA = -L/opt/cuda/lib  -lm -lcuda -lcudart\n",
      "\n",
      "LIBS = $(LIBMPI)\n",
      "#############################################################################\n",
      "# Sources directories are searched in this exact order\n",
      "VPATH = $(PATCH):../$(SOLVER):../aton:../hydro:../pm:../poisson:../amr:../tools\n",
      "#############################################################################\n",
      "# All objects\n",
      "MODOBJ = amr_parameters.o amr_commons.o random.o pm_parameters.o pm_commons.o poisson_parameters.o \\\n",
      "         poisson_commons.o hydro_parameters.o hydro_commons.o cooling_module.o bisection.o sparse_mat.o \\\n",
      "         clfind_commons.o gadgetreadfile.o write_makefile.o write_patch.o write_gitinfo.o\n",
      "\n",
      "AMROBJ = read_params.o init_amr.o init_time.o init_refine.o adaptive_loop.o amr_step.o update_time.o \\\n",
      "         output_amr.o flag_utils.o physical_boundaries.o virtual_boundaries.o refine_utils.o nbors_utils.o \\\n",
      "         hilbert.o load_balance.o title.o sort.o cooling_fine.o units.o light_cone.o movie.o\n",
      "# Particle-Mesh objects\n",
      "PMOBJ = init_part.o output_part.o rho_fine.o synchro_fine.o move_fine.o newdt_fine.o particle_tree.o \\\n",
      "        add_list.o remove_list.o star_formation.o sink_particle.o feedback.o clump_finder.o clump_merger.o \\\n",
      "        flag_formation_sites.o init_sink.o output_sink.o\n",
      "# Poisson solver objects\n",
      "POISSONOBJ = init_poisson.o phi_fine_cg.o interpol_phi.o force_fine.o multigrid_coarse.o multigrid_fine_commons.o \\\n",
      "             multigrid_fine_fine.o multigrid_fine_coarse.o gravana.o boundary_potential.o rho_ana.o output_poisson.o\n",
      "# Hydro objects\n",
      "HYDROOBJ = init_hydro.o init_flow_fine.o write_screen.o output_hydro.o courant_fine.o godunov_fine.o \\\n",
      "           uplmde.o umuscl.o interpol_hydro.o godunov_utils.o condinit.o hydro_flag.o hydro_boundary.o \\\n",
      "           boundana.o read_hydro_params.o synchro_hydro_fine.o\n",
      "EXTTOOLS = specfun.o\n",
      "\n",
      "# All objects\n",
      "AMRLIB = $(EXTTOOLS)  $(AMROBJ) $(HYDROOBJ) $(PMOBJ) $(POISSONOBJ)\n",
      "# ATON objects\n",
      "ATON_MODOBJ = timing.o radiation_commons.o rad_step.o\n",
      "ATON_OBJ = observe.o init_radiation.o rad_init.o rad_boundary.o rad_stars.o rad_backup.o ../aton/atonlib/libaton.a\n",
      "#############################################################################\n",
      "ramses:\t$(MODOBJ) $(AMRLIB) ramses.o\n",
      "\t$(F90) $(MODOBJ) $(AMRLIB) ramses.o -o $(EXEC)$(NDIM)d $(LIBS)\n",
      "\trm write_makefile.f90\n",
      "\trm write_patch.f90\n",
      "ramses_aton: $(MODOBJ) $(ATON_MODOBJ) $(AMRLIB) $(ATON_OBJ) ramses.o\n",
      "\t$(F90) $(MODOBJ) $(ATON_MODOBJ) $(AMRLIB) $(ATON_OBJ) ramses.o -o $(EXEC)$(NDIM)d $(LIBS) $(LIBCUDA)\n",
      "\trm write_makefile.f90\n",
      "\trm write_patch.f90\n",
      "#############################################################################\n",
      "write_gitinfo.o: FORCE\n",
      "\t$(F90) $(FFLAGS) -DPATCH=\\'$(PATCH)\\' -DGITBRANCH=\\'$(GITBRANCH)\\' -DGITHASH=\\'\"$(GITHASH)\"\\' \\\n",
      " -DGITREPO=\\'$(GITREPO)\\' -DBUILDDATE=\\'\"$(BUILDDATE)\"\\' -c ../amr/write_gitinfo.f90 -o $@\t\t\n",
      "write_makefile.o: FORCE\n",
      "\t../utils/scripts/cr_write_makefile.sh $(MAKEFILE_LIST)\n",
      "\t$(F90) $(FFLAGS) -c write_makefile.f90 -o $@\n",
      "write_patch.o: FORCE\n",
      "\t../utils/scripts/cr_write_patch.sh $(PATCH)\n",
      "\t$(F90) $(FFLAGS) -c write_patch.f90 -o $@\n",
      "%.o:%.f90\n",
      "\t$(F90) $(FFLAGS) -c $^ -o $@\n",
      "FORCE:\n",
      "#############################################################################\n",
      "clean :\n",
      "\trm *.o *.$(MOD)\n",
      "#############################################################################\n",
      "\n",
      "\n",
      "\u001b[0m\u001b[1m[Mera]: Timer-file content\u001b[22m\n",
      "\u001b[0m\u001b[1m=================================\u001b[22m\n",
      "[Mera]: No timer-file found!\n",
      "\n"
     ]
    }
   ],
   "source": [
    "viewallfields(info)"
   ]
  },
  {
   "cell_type": "markdown",
   "metadata": {},
   "source": [
    "## Disc Space\n",
    "Gives an overview of the used disc space for the different data types of the selected output:"
   ]
  },
  {
   "cell_type": "code",
   "execution_count": 20,
   "metadata": {},
   "outputs": [
    {
     "name": "stdout",
     "output_type": "stream",
     "text": [
      "\u001b[0m\u001b[1mOverview of the used disc space for output: [420]\u001b[22m\n",
      "\u001b[0m\u001b[1m------------------------------------------------------\u001b[22m\n",
      "Folder:         1.38 GB \t<282.44 KB>/file\n",
      "AMR-Files:      321.44 MB \t<321.44 KB>/file\n",
      "Hydro-Files:    607.0 MB \t<606.41 KB>/file\n",
      "Gravity-Files:  485.14 MB \t<485.14 KB>/file\n",
      "Particle-Files: 188.0 KB \t<188.0 Bytes>/file\n",
      "Clump-Files:    184.25 KB \t<184.25 Bytes>/file\n",
      "\n",
      "\n",
      "mtime: 2017-07-27T01:22:09\n",
      "ctime: 2019-12-24T09:57:04.822\n"
     ]
    }
   ],
   "source": [
    "storageoverview(info)"
   ]
  },
  {
   "cell_type": "code",
   "execution_count": null,
   "metadata": {},
   "outputs": [],
   "source": []
  }
 ],
 "metadata": {
  "kernelspec": {
   "display_name": "Julia 1.3.1",
   "language": "julia",
   "name": "julia-1.3"
  },
  "language_info": {
   "file_extension": ".jl",
   "mimetype": "application/julia",
   "name": "julia",
   "version": "1.3.1"
  }
 },
 "nbformat": 4,
 "nbformat_minor": 4
}
