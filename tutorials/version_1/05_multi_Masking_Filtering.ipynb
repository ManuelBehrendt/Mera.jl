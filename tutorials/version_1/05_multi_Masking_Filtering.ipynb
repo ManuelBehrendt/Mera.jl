{
 "cells": [
  {
   "cell_type": "markdown",
   "metadata": {},
   "source": [
    "# 5. Mask/Select/Map/Filter/Metaprogramming...\n",
    "- Learn how to extract data from the data table with JuliaDB and Mera functions\n",
    "- Filter the data table according to one or several conditions\n",
    "- Extract data from a filtered data table and use it for further calculations\n",
    "- Extend the data table with new columns/variables\n",
    "- Mask data with different methods and apply it to some functions"
   ]
  },
  {
   "cell_type": "markdown",
   "metadata": {},
   "source": [
    "## Load The Data"
   ]
  },
  {
   "cell_type": "code",
   "execution_count": 2,
   "metadata": {},
   "outputs": [
    {
     "name": "stdout",
     "output_type": "stream",
     "text": [
      "\u001b[0m\u001b[1m[Mera]: 2020-01-30T16:53:24.625\u001b[22m\n",
      "\n",
      "Code: RAMSES\n",
      "output [400] summary:\n",
      "mtime: 2018-09-05T09:51:55.041\n",
      "ctime: 2019-11-01T17:35:21.051\n",
      "\u001b[0m\u001b[1m=======================================================\u001b[22m\n",
      "simulation time: 594.98 [Myr]\n",
      "boxlen: 48.0 [kpc]\n",
      "ncpu: 2048\n",
      "ndim: 3\n",
      "-------------------------------------------------------\n",
      "amr:           true\n",
      "level(s): 6 - 14 --> cellsize(s): 750.0 [pc] - 2.93 [pc]\n",
      "-------------------------------------------------------\n",
      "hydro:         true\n",
      "hydro-variables:  7  --> (:rho, :vx, :vy, :vz, :p, :var6, :var7)\n",
      "hydro-descriptor: (:density, :velocity_x, :velocity_y, :velocity_z, :thermal_pressure, :passive_scalar_1, :passive_scalar_2)\n",
      "γ: 1.6667\n",
      "-------------------------------------------------------\n",
      "gravity:       true\n",
      "gravity-variables: (:epot, :ax, :ay, :az)\n",
      "-------------------------------------------------------\n",
      "particles:     true\n",
      "- Npart:    5.091500e+05 \n",
      "- Nstars:   5.066030e+05 \n",
      "- Ndm:      2.547000e+03 \n",
      "particle variables: (:vx, :vy, :vz, :mass, :birth)\n",
      "-------------------------------------------------------\n",
      "clumps:        true\n",
      "clump-variables: (:index, :lev, :parent, :ncell, :peak_x, :peak_y, :peak_z, Symbol(\"rho-\"), Symbol(\"rho+\"), :rho_av, :mass_cl, :relevance)\n",
      "-------------------------------------------------------\n",
      "namelist-file: false\n",
      "timer-file:       false\n",
      "compilation-file: true\n",
      "makefile:         true\n",
      "patchfile:        true\n",
      "\u001b[0m\u001b[1m=======================================================\u001b[22m\n",
      "\n",
      "\u001b[0m\u001b[1m[Mera]: Get hydro data: 2020-01-30T16:53:33.366\u001b[22m\n",
      "\n",
      "Key vars=(:level, :cx, :cy, :cz)\n",
      "Using var(s)=(1, 2, 3, 4, 5, 6, 7) = (:rho, :vx, :vy, :vz, :p, :var6, :var7) \n",
      "\n",
      "domain:\n",
      "xmin::xmax: 0.0 :: 1.0  \t==> 0.0 [kpc] :: 48.0 [kpc]\n",
      "ymin::ymax: 0.0 :: 1.0  \t==> 0.0 [kpc] :: 48.0 [kpc]\n",
      "zmin::zmax: 0.0 :: 1.0  \t==> 0.0 [kpc] :: 48.0 [kpc]\n",
      "\n",
      "Reading data...\n"
     ]
    },
    {
     "name": "stderr",
     "output_type": "stream",
     "text": [
      "\u001b[32m100%|███████████████████████████████████████████████████| Time: 0:02:18\u001b[39m\n"
     ]
    },
    {
     "name": "stdout",
     "output_type": "stream",
     "text": [
      "Memory used for data table :71.28007793426514 MB\n",
      "-------------------------------------------------------\n",
      "\n",
      "\u001b[0m\u001b[1m[Mera]: Get particle data: 2020-01-30T16:55:58.177\u001b[22m\n",
      "\n",
      "Key vars=(:level, :x, :y, :z, :id)\n",
      "Using var(s)=(1, 2, 3, 4, 5) = (:vx, :vy, :vz, :mass, :birth) \n",
      "\n",
      "domain:\n",
      "xmin::xmax: 0.0 :: 1.0  \t==> 0.0 [kpc] :: 48.0 [kpc]\n",
      "ymin::ymax: 0.0 :: 1.0  \t==> 0.0 [kpc] :: 48.0 [kpc]\n",
      "zmin::zmax: 0.0 :: 1.0  \t==> 0.0 [kpc] :: 48.0 [kpc]\n",
      "\n"
     ]
    },
    {
     "name": "stderr",
     "output_type": "stream",
     "text": [
      "\u001b[32mReading data...100%|████████████████████████████████████| Time: 0:00:03\u001b[39m\n"
     ]
    },
    {
     "name": "stdout",
     "output_type": "stream",
     "text": [
      "Found 5.089390e+05 particles\n",
      "Memory used for data table :34.947275161743164 MB\n",
      "-------------------------------------------------------\n",
      "\n",
      "\u001b[0m\u001b[1m[Mera]: Get clump data: 2020-01-30T16:56:04.184\u001b[22m\n",
      "\n",
      "domain:\n",
      "xmin::xmax: 0.0 :: 1.0  \t==> 0.0 [kpc] :: 48.0 [kpc]\n",
      "ymin::ymax: 0.0 :: 1.0  \t==> 0.0 [kpc] :: 48.0 [kpc]\n",
      "zmin::zmax: 0.0 :: 1.0  \t==> 0.0 [kpc] :: 48.0 [kpc]\n",
      "\n",
      "Read 12 colums: \n",
      "Symbol[:index, :lev, :parent, :ncell, :peak_x, :peak_y, :peak_z, Symbol(\"rho-\"), Symbol(\"rho+\"), :rho_av, :mass_cl, :relevance]\n",
      "Memory used for data table :61.77734375 KB\n",
      "-------------------------------------------------------\n",
      "\n"
     ]
    }
   ],
   "source": [
    "using Mera\n",
    "info = getinfo(400, \"../../testing/simulations/manu_sim_sf_L14\");\n",
    "gas       = gethydro(info, lmax=8, smallr=1e-5);  \n",
    "particles = getparticles(info)\n",
    "clumps    = getclumps(info);"
   ]
  },
  {
   "cell_type": "markdown",
   "metadata": {},
   "source": [
    "## Select From Data Table"
   ]
  },
  {
   "cell_type": "markdown",
   "metadata": {},
   "source": [
    "### Select a single column/variable"
   ]
  },
  {
   "cell_type": "markdown",
   "metadata": {},
   "source": [
    "##### By using JuliaDB or Mera functions "
   ]
  },
  {
   "cell_type": "code",
   "execution_count": 28,
   "metadata": {},
   "outputs": [],
   "source": [
    "using JuliaDB"
   ]
  },
  {
   "cell_type": "markdown",
   "metadata": {},
   "source": [
    "The JuliaDB data table is stored in the *data*-field of any *DataSetType*. Extract an existing column (variable):"
   ]
  },
  {
   "cell_type": "code",
   "execution_count": 3,
   "metadata": {},
   "outputs": [
    {
     "data": {
      "text/plain": [
       "849332-element Array{Float64,1}:\n",
       " 1.0e-5                \n",
       " 1.0e-5                \n",
       " 1.0e-5                \n",
       " 1.0e-5                \n",
       " 1.0e-5                \n",
       " 1.0e-5                \n",
       " 1.0e-5                \n",
       " 1.0e-5                \n",
       " 1.0e-5                \n",
       " 1.0e-5                \n",
       " 1.0e-5                \n",
       " 1.0e-5                \n",
       " 1.0e-5                \n",
       " ⋮                     \n",
       " 0.00010967104288285959\n",
       " 0.0001088040126114162 \n",
       " 0.00010915603617815434\n",
       " 0.00010917096551347797\n",
       " 0.00012465438542871006\n",
       " 0.00011934527871880502\n",
       " 0.00011294656300014925\n",
       " 0.00011110068692986109\n",
       " 0.00010901341218606515\n",
       " 0.00010849404903183988\n",
       " 0.00010900588395976569\n",
       " 0.00010910219163333514"
      ]
     },
     "execution_count": 3,
     "metadata": {},
     "output_type": "execute_result"
    }
   ],
   "source": [
    "select(gas.data, :rho) # JuliaDB"
   ]
  },
  {
   "cell_type": "markdown",
   "metadata": {},
   "source": [
    "Pass the entire *DataSetType* (here *gas*) to the Mera function *getvar* to extract the selected variable or derived quantity from the data table.\n",
    "Call *getvar()* to get a list of the predefined quantities."
   ]
  },
  {
   "cell_type": "code",
   "execution_count": 4,
   "metadata": {},
   "outputs": [
    {
     "data": {
      "text/plain": [
       "849332-element Array{Float64,1}:\n",
       " 1.0e-5                \n",
       " 1.0e-5                \n",
       " 1.0e-5                \n",
       " 1.0e-5                \n",
       " 1.0e-5                \n",
       " 1.0e-5                \n",
       " 1.0e-5                \n",
       " 1.0e-5                \n",
       " 1.0e-5                \n",
       " 1.0e-5                \n",
       " 1.0e-5                \n",
       " 1.0e-5                \n",
       " 1.0e-5                \n",
       " ⋮                     \n",
       " 0.00010967104288285959\n",
       " 0.0001088040126114162 \n",
       " 0.00010915603617815434\n",
       " 0.00010917096551347797\n",
       " 0.00012465438542871006\n",
       " 0.00011934527871880502\n",
       " 0.00011294656300014925\n",
       " 0.00011110068692986109\n",
       " 0.00010901341218606515\n",
       " 0.00010849404903183988\n",
       " 0.00010900588395976569\n",
       " 0.00010910219163333514"
      ]
     },
     "execution_count": 4,
     "metadata": {},
     "output_type": "execute_result"
    }
   ],
   "source": [
    "getvar(gas, :rho) # MERA"
   ]
  },
  {
   "cell_type": "markdown",
   "metadata": {},
   "source": [
    "### Select several columns"
   ]
  },
  {
   "cell_type": "markdown",
   "metadata": {},
   "source": [
    "By selecting several columns a new JuliaDB databse is returned:"
   ]
  },
  {
   "cell_type": "code",
   "execution_count": 5,
   "metadata": {},
   "outputs": [
    {
     "data": {
      "text/plain": [
       "Table with 849332 rows, 2 columns:\n",
       "rho          \u001b[1mlevel\u001b[22m\n",
       "──────────────────\n",
       "1.0e-5       6\n",
       "1.0e-5       6\n",
       "1.0e-5       6\n",
       "1.0e-5       6\n",
       "1.0e-5       6\n",
       "1.0e-5       6\n",
       "1.0e-5       6\n",
       "1.0e-5       6\n",
       "1.0e-5       6\n",
       "1.0e-5       6\n",
       "1.0e-5       6\n",
       "1.0e-5       6\n",
       "⋮\n",
       "0.000108804  8\n",
       "0.000109156  8\n",
       "0.000109171  8\n",
       "0.000124654  8\n",
       "0.000119345  8\n",
       "0.000112947  8\n",
       "0.000111101  8\n",
       "0.000109013  8\n",
       "0.000108494  8\n",
       "0.000109006  8\n",
       "0.000109102  8"
      ]
     },
     "execution_count": 5,
     "metadata": {},
     "output_type": "execute_result"
    }
   ],
   "source": [
    "select(gas.data, (:rho, :level)) #JuliaDB"
   ]
  },
  {
   "cell_type": "markdown",
   "metadata": {},
   "source": [
    "The getvar function returns a dictionary containing the extracted arrays:"
   ]
  },
  {
   "cell_type": "code",
   "execution_count": 6,
   "metadata": {},
   "outputs": [
    {
     "data": {
      "text/plain": [
       "Dict{Any,Any} with 2 entries:\n",
       "  :level => [6.0, 6.0, 6.0, 6.0, 6.0, 6.0, 6.0, 6.0, 6.0, 6.0  …  8.0, 8.0, 8.0…\n",
       "  :rho   => [1.0e-5, 1.0e-5, 1.0e-5, 1.0e-5, 1.0e-5, 1.0e-5, 1.0e-5, 1.0e-5, 1.…"
      ]
     },
     "execution_count": 6,
     "metadata": {},
     "output_type": "execute_result"
    }
   ],
   "source": [
    "getvar(gas, [:rho, :level]) # MERA"
   ]
  },
  {
   "cell_type": "markdown",
   "metadata": {},
   "source": [
    "Select one or more columns and get a tuple of vectors:"
   ]
  },
  {
   "cell_type": "code",
   "execution_count": 7,
   "metadata": {},
   "outputs": [
    {
     "data": {
      "text/plain": [
       "(rho = [1.0e-5, 1.0e-5, 1.0e-5, 1.0e-5, 1.0e-5, 1.0e-5, 1.0e-5, 1.0e-5, 1.0e-5, 1.0e-5  …  0.00010915603617815434, 0.00010917096551347797, 0.00012465438542871006, 0.00011934527871880502, 0.00011294656300014925, 0.00011110068692986109, 0.00010901341218606515, 0.00010849404903183988, 0.00010900588395976569, 0.00010910219163333514], level = [6, 6, 6, 6, 6, 6, 6, 6, 6, 6  …  8, 8, 8, 8, 8, 8, 8, 8, 8, 8])"
      ]
     },
     "execution_count": 7,
     "metadata": {},
     "output_type": "execute_result"
    }
   ],
   "source": [
    "vtuple = columns(gas.data, (:rho, :level)) # JuliaDB"
   ]
  },
  {
   "cell_type": "code",
   "execution_count": 8,
   "metadata": {},
   "outputs": [
    {
     "data": {
      "text/plain": [
       "(:rho, :level)"
      ]
     },
     "execution_count": 8,
     "metadata": {},
     "output_type": "execute_result"
    }
   ],
   "source": [
    "propertynames(vtuple)"
   ]
  },
  {
   "cell_type": "code",
   "execution_count": 9,
   "metadata": {},
   "outputs": [
    {
     "data": {
      "text/plain": [
       "849332-element Array{Float64,1}:\n",
       " 1.0e-5                \n",
       " 1.0e-5                \n",
       " 1.0e-5                \n",
       " 1.0e-5                \n",
       " 1.0e-5                \n",
       " 1.0e-5                \n",
       " 1.0e-5                \n",
       " 1.0e-5                \n",
       " 1.0e-5                \n",
       " 1.0e-5                \n",
       " 1.0e-5                \n",
       " 1.0e-5                \n",
       " 1.0e-5                \n",
       " ⋮                     \n",
       " 0.00010967104288285959\n",
       " 0.0001088040126114162 \n",
       " 0.00010915603617815434\n",
       " 0.00010917096551347797\n",
       " 0.00012465438542871006\n",
       " 0.00011934527871880502\n",
       " 0.00011294656300014925\n",
       " 0.00011110068692986109\n",
       " 0.00010901341218606515\n",
       " 0.00010849404903183988\n",
       " 0.00010900588395976569\n",
       " 0.00010910219163333514"
      ]
     },
     "execution_count": 9,
     "metadata": {},
     "output_type": "execute_result"
    }
   ],
   "source": [
    "vtuple.rho"
   ]
  },
  {
   "cell_type": "markdown",
   "metadata": {},
   "source": [
    "## Filter by Condition\n",
    "### With JuliaDB (example A)"
   ]
  },
  {
   "cell_type": "markdown",
   "metadata": {},
   "source": [
    "Get all the data corresponding to cells/rows with level=6. Here, the variable *p* is used as placeholder for rows. A new JuliaDB data table is returend:"
   ]
  },
  {
   "cell_type": "code",
   "execution_count": 5,
   "metadata": {},
   "outputs": [
    {
     "data": {
      "text/plain": [
       "Table with 240956 rows, 11 columns:\n",
       "Columns:\n",
       "\u001b[1m#   \u001b[22m\u001b[1mcolname  \u001b[22m\u001b[1mtype\u001b[22m\n",
       "────────────────────\n",
       "1   level    Int64\n",
       "2   cx       Int64\n",
       "3   cy       Int64\n",
       "4   cz       Int64\n",
       "5   rho      Float64\n",
       "6   vx       Float64\n",
       "7   vy       Float64\n",
       "8   vz       Float64\n",
       "9   p        Float64\n",
       "10  var6     Float64\n",
       "11  var7     Float64"
      ]
     },
     "execution_count": 5,
     "metadata": {},
     "output_type": "execute_result"
    }
   ],
   "source": [
    "filtered_db = filter(p->p.level==6, gas.data ) # JuliaDB\n",
    "# see the reduced row number"
   ]
  },
  {
   "cell_type": "markdown",
   "metadata": {},
   "source": [
    "### With Macro Expression (example A)\n",
    "(see the documentation at: <https://piever.github.io/JuliaDBMeta.jl/stable/> )"
   ]
  },
  {
   "cell_type": "code",
   "execution_count": 6,
   "metadata": {},
   "outputs": [],
   "source": [
    "using JuliaDBMeta"
   ]
  },
  {
   "cell_type": "code",
   "execution_count": 13,
   "metadata": {},
   "outputs": [
    {
     "data": {
      "text/plain": [
       "Table with 240956 rows, 12 columns:\n",
       "Columns:\n",
       "\u001b[1m#   \u001b[22m\u001b[1mcolname  \u001b[22m\u001b[1mtype\u001b[22m\n",
       "────────────────────\n",
       "1   level    Int64\n",
       "2   cpu      Int64\n",
       "3   cx       Int64\n",
       "4   cy       Int64\n",
       "5   cz       Int64\n",
       "6   rho      Float64\n",
       "7   vx       Float64\n",
       "8   vy       Float64\n",
       "9   vz       Float64\n",
       "10  p        Float64\n",
       "11  var6     Float64\n",
       "12  var7     Float64"
      ]
     },
     "execution_count": 13,
     "metadata": {},
     "output_type": "execute_result"
    }
   ],
   "source": [
    "filtered_db = @filter gas.data :level==6 # JuliaDBMeta"
   ]
  },
  {
   "cell_type": "markdown",
   "metadata": {},
   "source": [
    "### With JuliaDB (example B)"
   ]
  },
  {
   "cell_type": "markdown",
   "metadata": {},
   "source": [
    "Get all cells/rows with densities >= 3 Msol/pc^3. Since the data is given in code units, we need to convert from the given physical units:"
   ]
  },
  {
   "cell_type": "code",
   "execution_count": 7,
   "metadata": {},
   "outputs": [
    {
     "data": {
      "text/plain": [
       "Table with 210 rows, 11 columns:\n",
       "Columns:\n",
       "\u001b[1m#   \u001b[22m\u001b[1mcolname  \u001b[22m\u001b[1mtype\u001b[22m\n",
       "────────────────────\n",
       "1   level    Int64\n",
       "2   cx       Int64\n",
       "3   cy       Int64\n",
       "4   cz       Int64\n",
       "5   rho      Float64\n",
       "6   vx       Float64\n",
       "7   vy       Float64\n",
       "8   vz       Float64\n",
       "9   p        Float64\n",
       "10  var6     Float64\n",
       "11  var7     Float64"
      ]
     },
     "execution_count": 7,
     "metadata": {},
     "output_type": "execute_result"
    }
   ],
   "source": [
    "density = 3. / gas.scale.Msol_pc3\n",
    "filtered_db = filter(p->p.rho>= density, gas.data ) # JuliaDB"
   ]
  },
  {
   "cell_type": "markdown",
   "metadata": {},
   "source": [
    "### With Macro Expression (example B)"
   ]
  },
  {
   "cell_type": "code",
   "execution_count": 8,
   "metadata": {},
   "outputs": [
    {
     "data": {
      "text/plain": [
       "Table with 210 rows, 11 columns:\n",
       "Columns:\n",
       "\u001b[1m#   \u001b[22m\u001b[1mcolname  \u001b[22m\u001b[1mtype\u001b[22m\n",
       "────────────────────\n",
       "1   level    Int64\n",
       "2   cx       Int64\n",
       "3   cy       Int64\n",
       "4   cz       Int64\n",
       "5   rho      Float64\n",
       "6   vx       Float64\n",
       "7   vy       Float64\n",
       "8   vz       Float64\n",
       "9   p        Float64\n",
       "10  var6     Float64\n",
       "11  var7     Float64"
      ]
     },
     "execution_count": 8,
     "metadata": {},
     "output_type": "execute_result"
    }
   ],
   "source": [
    "density = 3. /gas.scale.Msol_pc3\n",
    "filtered_db = @filter gas.data :rho>= density # JuliaDBMeta"
   ]
  },
  {
   "cell_type": "markdown",
   "metadata": {},
   "source": [
    "### Get a Quantity/Variable from The Filtered Data Table"
   ]
  },
  {
   "cell_type": "markdown",
   "metadata": {},
   "source": [
    "Calculate the mass for each cell and the sum:"
   ]
  },
  {
   "cell_type": "code",
   "execution_count": 9,
   "metadata": {},
   "outputs": [
    {
     "data": {
      "text/plain": [
       "3.0968754148332745e10"
      ]
     },
     "execution_count": 9,
     "metadata": {},
     "output_type": "execute_result"
    }
   ],
   "source": [
    "mass_tot = getvar(gas, :mass, :Msol) # the full data table\n",
    "sum(mass_tot)"
   ]
  },
  {
   "cell_type": "markdown",
   "metadata": {},
   "source": [
    "The same calculation is possible for the filtered data base which has to be passed together with the original object, here: *gas*"
   ]
  },
  {
   "cell_type": "code",
   "execution_count": 10,
   "metadata": {},
   "outputs": [
    {
     "data": {
      "text/plain": [
       "1.4862767967535206e10"
      ]
     },
     "execution_count": 10,
     "metadata": {},
     "output_type": "execute_result"
    }
   ],
   "source": [
    "mass_filtered_tot = getvar(gas, :mass, :Msol, filtered_db=filtered_db) # the filtered data table\n",
    "sum(mass_filtered_tot)"
   ]
  },
  {
   "cell_type": "markdown",
   "metadata": {},
   "source": [
    "### Create a New DataSetType from a Filtered Data Table"
   ]
  },
  {
   "cell_type": "markdown",
   "metadata": {},
   "source": [
    "A new *DataSetType* can be constructed for the filtered data table that can be passed to the functions."
   ]
  },
  {
   "cell_type": "code",
   "execution_count": 12,
   "metadata": {},
   "outputs": [],
   "source": [
    "density = 3. /gas.scale.Msol_pc3\n",
    "filtered_db = @filter gas.data :rho >= density\n",
    "gas_new = construct_datatype(filtered_db, gas);"
   ]
  },
  {
   "cell_type": "code",
   "execution_count": 14,
   "metadata": {},
   "outputs": [
    {
     "name": "stdout",
     "output_type": "stream",
     "text": [
      "HydroDataType\n",
      "HydroDataType\n"
     ]
    }
   ],
   "source": [
    "# Both are now of HydroDataType and include the same information about the simulation properties (besides the canged data table)\n",
    "println( typeof(gas) )\n",
    "println( typeof(gas_new) )"
   ]
  },
  {
   "cell_type": "code",
   "execution_count": 16,
   "metadata": {},
   "outputs": [
    {
     "data": {
      "text/plain": [
       "1.4862767967535206e10"
      ]
     },
     "execution_count": 16,
     "metadata": {},
     "output_type": "execute_result"
    }
   ],
   "source": [
    "mass_filtered_tot = getvar(gas_new, :mass, :Msol)\n",
    "sum(mass_filtered_tot)"
   ]
  },
  {
   "cell_type": "markdown",
   "metadata": {},
   "source": [
    "## Filter by Multiple Conditions"
   ]
  },
  {
   "cell_type": "markdown",
   "metadata": {},
   "source": [
    "### With JuliaDB"
   ]
  },
  {
   "cell_type": "markdown",
   "metadata": {},
   "source": [
    "Get the mass of all cells/rows with densities >= 3 Msol/pc^3 that is within the disk radius of 3 kpc and 2 kpc from the plane:"
   ]
  },
  {
   "cell_type": "code",
   "execution_count": 17,
   "metadata": {},
   "outputs": [
    {
     "data": {
      "text/plain": [
       "2.750632450062189e9"
      ]
     },
     "execution_count": 17,
     "metadata": {},
     "output_type": "execute_result"
    }
   ],
   "source": [
    "boxlen = info.boxlen\n",
    "cv = boxlen/2. # box-center \n",
    "density = 3. /gas.scale.Msol_pc3\n",
    "radius  = 3. /gas.scale.kpc\n",
    "height  = 2. /gas.scale.kpc\n",
    "\n",
    "# filter cells/rows that contain rho greater equal density\n",
    "filtered_db = filter(p->p.rho >= density, gas.data )\n",
    "\n",
    "# filter cells/rows lower equal the defined radius and height\n",
    "# (convert the cell number to a position according to its cellsize and relative to the box center)\n",
    "filtered_db = filter(row-> sqrt( (row.cx * boxlen /2^row.level - cv)^2 + (row.cy * boxlen /2^row.level - cv)^2) <= radius &&\n",
    "                              abs(row.cz * boxlen /2^row.level - cv) <= height, filtered_db)\n",
    "\n",
    "var_filtered = getvar(gas, :mass, filtered_db=filtered_db, unit=:Msol)\n",
    "sum(var_filtered) # [Msol]"
   ]
  },
  {
   "cell_type": "markdown",
   "metadata": {},
   "source": [
    "### Use Pipeline Macros"
   ]
  },
  {
   "cell_type": "code",
   "execution_count": 18,
   "metadata": {},
   "outputs": [
    {
     "data": {
      "text/plain": [
       "2.750632450062189e9"
      ]
     },
     "execution_count": 18,
     "metadata": {},
     "output_type": "execute_result"
    }
   ],
   "source": [
    "boxlen = info.boxlen\n",
    "cv = boxlen/2.\n",
    "density = 3. /gas.scale.Msol_pc3\n",
    "radius  = 3. /gas.scale.kpc\n",
    "height  = 2. /gas.scale.kpc\n",
    "\n",
    "filtered_db = @apply gas.data begin\n",
    "     @where :rho >= density\n",
    "     @where sqrt( (:cx * boxlen/2^:level - cv)^2 + (:cy * boxlen/2^:level - cv)^2 ) <= radius\n",
    "     @where abs(:cz * boxlen/2^:level -cv) <= height\n",
    "end\n",
    "\n",
    "var_filtered = getvar(gas, :mass, filtered_db=filtered_db, unit=:Msol)\n",
    "sum(var_filtered) # [Msol]"
   ]
  },
  {
   "cell_type": "markdown",
   "metadata": {},
   "source": [
    "### External Functions With JuliaDB"
   ]
  },
  {
   "cell_type": "code",
   "execution_count": 19,
   "metadata": {},
   "outputs": [
    {
     "data": {
      "text/plain": [
       "2.750632450062189e9"
      ]
     },
     "execution_count": 19,
     "metadata": {},
     "output_type": "execute_result"
    }
   ],
   "source": [
    "boxlen = info.boxlen\n",
    "function r(x,y,level,boxlen)\n",
    "    return sqrt((x * boxlen /2^level - boxlen/2.)^2 + (y * boxlen /2^level - boxlen/2.)^2)\n",
    "end\n",
    "\n",
    "function h(z,level,boxlen)\n",
    "    return abs(z  * boxlen /2^level - boxlen/2.)\n",
    "end\n",
    "\n",
    "\n",
    "density = 3. /gas.scale.Msol_pc3\n",
    "radius  = 3. /gas.scale.kpc\n",
    "height  = 2. /gas.scale.kpc\n",
    "\n",
    "\n",
    "filtered_db = filter(row->  row.rho >= density &&\n",
    "                            r(row.cx,row.cy, row.level, boxlen) <= radius &&\n",
    "                            h(row.cz,row.level, boxlen) <= height,  gas.data)\n",
    "\n",
    "\n",
    "var_filtered = getvar(gas, :mass, filtered_db=filtered_db, unit=:Msol)\n",
    "sum(var_filtered) # [Msol]"
   ]
  },
  {
   "cell_type": "markdown",
   "metadata": {},
   "source": [
    "### External Functions With Macro Expression"
   ]
  },
  {
   "cell_type": "code",
   "execution_count": 20,
   "metadata": {},
   "outputs": [
    {
     "data": {
      "text/plain": [
       "2.750632450062189e9"
      ]
     },
     "execution_count": 20,
     "metadata": {},
     "output_type": "execute_result"
    }
   ],
   "source": [
    "boxlen = info.boxlen\n",
    "cv = boxlen/2.\n",
    "density = 3. /gas.scale.Msol_pc3\n",
    "radius  = 3. /gas.scale.kpc\n",
    "height  = 2. /gas.scale.kpc\n",
    "\n",
    "function p(val, level, boxlen)\n",
    "    cv = boxlen/2\n",
    "    return val * boxlen /2^level - cv\n",
    "end\n",
    "\n",
    "filtered_db = @apply gas.data begin\n",
    "     @where :rho >= density\n",
    "     @where sqrt( p(:cx, :level, boxlen)^2 + p(:cy, :level, boxlen)^2  ) <= radius\n",
    "     @where abs( p(:cz, :level, boxlen) ) <= height\n",
    "end\n",
    "\n",
    "var_filtered = getvar(gas, :mass, filtered_db=filtered_db, unit=:Msol)\n",
    "sum(var_filtered) # [Msol]"
   ]
  },
  {
   "cell_type": "markdown",
   "metadata": {},
   "source": [
    "### Compare With Predefined Functions"
   ]
  },
  {
   "cell_type": "markdown",
   "metadata": {},
   "source": [
    "Compare the previous calculations with the predefined *subregion* function:\n",
    "The *subregion* function takes the intersected cells of the range borders into account (default):"
   ]
  },
  {
   "cell_type": "code",
   "execution_count": 21,
   "metadata": {},
   "outputs": [
    {
     "data": {
      "text/plain": [
       "2.9388306102361355e9"
      ]
     },
     "execution_count": 21,
     "metadata": {},
     "output_type": "execute_result"
    }
   ],
   "source": [
    "density = 3. /gas.scale.Msol_pc3 # in code units\n",
    "\n",
    "sub_region = subregion(gas, :cylinder, radius=3., height=2., center=[:boxcenter], range_unit=:kpc, verbose=false ) # default: cell=true\n",
    "filtered_db = @filter sub_region.data :rho >= density\n",
    "\n",
    "var_filtered = getvar(gas, :mass, :Msol, filtered_db=filtered_db)\n",
    "sum(var_filtered) # [Msol]"
   ]
  },
  {
   "cell_type": "markdown",
   "metadata": {},
   "source": [
    "By setting the keyword *cell=false*, only the cell-centres within the defined region are taken into account (as in the calculations in the previous section)."
   ]
  },
  {
   "cell_type": "code",
   "execution_count": 22,
   "metadata": {},
   "outputs": [
    {
     "data": {
      "text/plain": [
       "2.750632450062189e9"
      ]
     },
     "execution_count": 22,
     "metadata": {},
     "output_type": "execute_result"
    }
   ],
   "source": [
    "density = 3. /gas.scale.Msol_pc3 # in code units\n",
    "\n",
    "sub_region = subregion(gas, :cylinder, radius=3., height=2., center=[:boxcenter], range_unit=:kpc, cell=false, verbose=false )\n",
    "filtered_db = @filter sub_region.data :rho >= density\n",
    "\n",
    "var_filtered = getvar(gas, :mass, :Msol, filtered_db=filtered_db)\n",
    "sum(var_filtered)"
   ]
  },
  {
   "cell_type": "markdown",
   "metadata": {},
   "source": [
    "## Extend the Data Table\n",
    "Add costum columns/variables to the data that can be automatically processed in some functions:\n",
    "(note: to take advantage of the Mera unit management, store new data in code-units)"
   ]
  },
  {
   "cell_type": "code",
   "execution_count": 23,
   "metadata": {},
   "outputs": [],
   "source": [
    "# calculate the Mach number in each cell\n",
    "mach = getvar(gas, :mach); "
   ]
  },
  {
   "cell_type": "code",
   "execution_count": 35,
   "metadata": {},
   "outputs": [
    {
     "data": {
      "text/plain": [
       "Table with 849332 rows, 12 columns:\n",
       "Columns:\n",
       "\u001b[1m#   \u001b[22m\u001b[1mcolname  \u001b[22m\u001b[1mtype\u001b[22m\n",
       "────────────────────\n",
       "1   level    Int64\n",
       "2   cx       Int64\n",
       "3   cy       Int64\n",
       "4   cz       Int64\n",
       "5   rho      Float64\n",
       "6   vx       Float64\n",
       "7   vy       Float64\n",
       "8   vz       Float64\n",
       "9   p        Float64\n",
       "10  var6     Float64\n",
       "11  var7     Float64\n",
       "12  mach     Float64"
      ]
     },
     "execution_count": 35,
     "metadata": {},
     "output_type": "execute_result"
    }
   ],
   "source": [
    "# add the extracted Mach number (1dim-array) to the data in the object \"gas\"\n",
    "# the array has the same length and order (rows/cells) as in the data table\n",
    "# push a column at the end of the table:\n",
    "# transform(data-table, key => new-data)\n",
    "gas.data = transform(gas.data, :mach => mach) # JuliaDB"
   ]
  },
  {
   "cell_type": "code",
   "execution_count": 76,
   "metadata": {},
   "outputs": [
    {
     "name": "stdout",
     "output_type": "stream",
     "text": [
      "\u001b[0m\u001b[1m[Mera]: 2020-01-28T21:11:28.999\u001b[22m\n",
      "\n",
      "center: [0.5, 0.5, 0.5] ==> [24.0 [kpc] :: 24.0 [kpc] :: 24.0 [kpc]]\n",
      "\n",
      "domain:\n",
      "xmin::xmax: 0.3333333 :: 0.6666667  \t==> 16.0 [kpc] :: 32.0 [kpc]\n",
      "ymin::ymax: 0.3333333 :: 0.6666667  \t==> 16.0 [kpc] :: 32.0 [kpc]\n",
      "zmin::zmax: 0.4583333 :: 0.5416667  \t==> 22.0 [kpc] :: 26.0 [kpc]\n",
      "\n",
      "Selected var(s)=(:mach,) \n",
      "\n"
     ]
    },
    {
     "name": "stderr",
     "output_type": "stream",
     "text": [
      "\u001b[32m100%|███████████████████████████████████████████████████| Time: 0:00:07\u001b[39m\n"
     ]
    }
   ],
   "source": [
    "proj_z = projection(gas, :mach, xrange=[-8.,8.], yrange=[-8.,8.], zrange=[-2.,2.], center=[:boxcenter], range_unit=:kpc);"
   ]
  },
  {
   "cell_type": "code",
   "execution_count": 75,
   "metadata": {},
   "outputs": [
    {
     "data": {
      "image/png": "[encoded data removed]",
      "text/plain": [
       "Figure(PyObject <Figure size 640x480 with 2 Axes>)"
      ]
     },
     "metadata": {},
     "output_type": "display_data"
    }
   ],
   "source": [
    "using PyPlot\n",
    "imshow( ( permutedims(proj_z.maps[:mach]) ), origin=\"lower\", extent=proj_z.cextent)\n",
    "colorbar();"
   ]
  },
  {
   "cell_type": "markdown",
   "metadata": {},
   "source": [
    "Remove the column :mach from the table:"
   ]
  },
  {
   "cell_type": "code",
   "execution_count": 38,
   "metadata": {},
   "outputs": [
    {
     "data": {
      "text/plain": [
       "Table with 849332 rows, 11 columns:\n",
       "Columns:\n",
       "\u001b[1m#   \u001b[22m\u001b[1mcolname  \u001b[22m\u001b[1mtype\u001b[22m\n",
       "────────────────────\n",
       "1   level    Int64\n",
       "2   cx       Int64\n",
       "3   cy       Int64\n",
       "4   cz       Int64\n",
       "5   rho      Float64\n",
       "6   vx       Float64\n",
       "7   vy       Float64\n",
       "8   vz       Float64\n",
       "9   p        Float64\n",
       "10  var6     Float64\n",
       "11  var7     Float64"
      ]
     },
     "execution_count": 38,
     "metadata": {},
     "output_type": "execute_result"
    }
   ],
   "source": [
    "gas.data = select(gas.data, Not(:mach)) # select all columns, not :mach"
   ]
  },
  {
   "cell_type": "markdown",
   "metadata": {},
   "source": [
    "## Masking\n",
    "Many functions in **MERA** provide the opportunity to use a mask on selected data without changing the content in the data table. Here we present several methods to prepare a mask and apply it to some functions. A created mask is an array of type: *MaskType*, which can be Array{Bool,1} or BitArray{1}. A masked cell/row corresponds to a **false**."
   ]
  },
  {
   "cell_type": "markdown",
   "metadata": {},
   "source": [
    "#### Version 1: External Function\n",
    "Create an array which represents the cells with the selected condition by true.\n",
    "The function checks if the following requirement is true or false for each row/cell in the data table:"
   ]
  },
  {
   "cell_type": "code",
   "execution_count": 6,
   "metadata": {},
   "outputs": [
    {
     "name": "stdout",
     "output_type": "stream",
     "text": [
      "849332\n",
      "Array{Bool,1}\n"
     ]
    }
   ],
   "source": [
    "function ftest(value)\n",
    "    density = (4. / gas.scale.Msol_pc3)\n",
    "    if value < density\n",
    "        return true\n",
    "     else \n",
    "        return false\n",
    "    end\n",
    "end\n",
    "\n",
    "mask_v1 = map(row->ftest(row.rho), gas.data);\n",
    "\n",
    "println( length(mask_v1) )\n",
    "println( typeof(mask_v1) )"
   ]
  },
  {
   "cell_type": "markdown",
   "metadata": {},
   "source": [
    "#### Version 2: Short Syntax"
   ]
  },
  {
   "cell_type": "markdown",
   "metadata": {},
   "source": [
    "##### Example 1"
   ]
  },
  {
   "cell_type": "code",
   "execution_count": 56,
   "metadata": {},
   "outputs": [
    {
     "name": "stdout",
     "output_type": "stream",
     "text": [
      "849332\n",
      "Array{Bool,1}\n"
     ]
    }
   ],
   "source": [
    "mask_v2 = map(row->row.rho < 4. / gas.scale.Msol_pc3, gas.data);\n",
    "\n",
    "println( length(mask_v2) )\n",
    "println( typeof(mask_v2) )"
   ]
  },
  {
   "cell_type": "markdown",
   "metadata": {},
   "source": [
    "##### Example 2"
   ]
  },
  {
   "cell_type": "code",
   "execution_count": 5,
   "metadata": {},
   "outputs": [
    {
     "name": "stdout",
     "output_type": "stream",
     "text": [
      "849332\n",
      "BitArray{1}\n"
     ]
    }
   ],
   "source": [
    "mask_v2b = getvar(gas, :rho, :Msol_pc3) .> 1. ;\n",
    "\n",
    "println( length(mask_v2b) )\n",
    "println( typeof(mask_v2b) )"
   ]
  },
  {
   "cell_type": "markdown",
   "metadata": {},
   "source": [
    "#### Version 3: Longer Syntax"
   ]
  },
  {
   "cell_type": "code",
   "execution_count": 55,
   "metadata": {},
   "outputs": [
    {
     "name": "stdout",
     "output_type": "stream",
     "text": [
      "849332\n",
      "BitArray{1}\n"
     ]
    }
   ],
   "source": [
    "rho_array = select(gas.data, :rho);\n",
    "mask_v3 = rho_array .< 1. / gas.scale.Msol_pc3;\n",
    "\n",
    "println( length(mask_v3) )\n",
    "println( typeof(mask_v3) )"
   ]
  },
  {
   "cell_type": "markdown",
   "metadata": {},
   "source": [
    "### Some Functions With Masking Functionality\n",
    "The masked rows are not considered in the calculations (mask-element = false )."
   ]
  },
  {
   "cell_type": "markdown",
   "metadata": {},
   "source": [
    "### Examples"
   ]
  },
  {
   "cell_type": "markdown",
   "metadata": {},
   "source": [
    "### Total Mass"
   ]
  },
  {
   "cell_type": "code",
   "execution_count": 58,
   "metadata": {},
   "outputs": [
    {
     "name": "stdout",
     "output_type": "stream",
     "text": [
      "\n",
      "Gas Mtot masked: 1.336918953133308e10 Msol\n",
      "Gas Mtot:        3.0968754148332745e10 Msol\n",
      "\n"
     ]
    }
   ],
   "source": [
    "mask = map(row->row.rho < 1. / gas.scale.Msol_pc3, gas.data);\n",
    "mtot_masked = msum(gas, :Msol, mask=mask) \n",
    "mtot        = msum(gas, :Msol) \n",
    "println()\n",
    "println( \"Gas Mtot masked: \", mtot_masked  , \" Msol\" )\n",
    "println( \"Gas Mtot:        \", mtot         , \" Msol\" )\n",
    "println()"
   ]
  },
  {
   "cell_type": "code",
   "execution_count": 61,
   "metadata": {},
   "outputs": [
    {
     "name": "stdout",
     "output_type": "stream",
     "text": [
      "\n",
      "Particles Mtot masked: 1.4537556611888414e7 Msol\n",
      "Particles Mtot:        5.804426008528437e9 Msol\n",
      "\n"
     ]
    }
   ],
   "source": [
    "mask = map(row->row.birth < 100. / particles.scale.Myr, particles.data);\n",
    "mtot_masked = msum(particles, :Msol, mask=mask) \n",
    "mtot        = msum(particles, :Msol) \n",
    "println()\n",
    "println( \"Particles Mtot masked: \", mtot_masked , \" Msol\" )\n",
    "println( \"Particles Mtot:        \", mtot        , \" Msol\" )\n",
    "println()"
   ]
  },
  {
   "cell_type": "code",
   "execution_count": 62,
   "metadata": {},
   "outputs": [
    {
     "name": "stdout",
     "output_type": "stream",
     "text": [
      "\n",
      "Clumps Mtot masked:    2.926390055686605e7 Msol\n",
      "Clumps Mtot:           1.3743280681841677e10 Msol\n",
      "\n"
     ]
    }
   ],
   "source": [
    "mask = map(row->row.mass_cl < 1e6 / clumps.scale.Msol, clumps.data);\n",
    "mtot_masked = msum(clumps, :Msol, mask=mask) \n",
    "mtot        = msum(clumps, :Msol) \n",
    "println()\n",
    "println( \"Clumps Mtot masked:    \", mtot_masked , \" Msol\" )\n",
    "println( \"Clumps Mtot:           \", mtot        , \" Msol\" )\n",
    "println()"
   ]
  },
  {
   "cell_type": "markdown",
   "metadata": {},
   "source": [
    "### Center-Of-Mass"
   ]
  },
  {
   "cell_type": "code",
   "execution_count": 63,
   "metadata": {},
   "outputs": [
    {
     "name": "stdout",
     "output_type": "stream",
     "text": [
      "\n",
      "Gas COM masked: (23.632781376611646, 24.017935187730938, 24.078280687627124) kpc\n",
      "Gas COM:        (23.47221401632259, 23.93931869865653, 24.08483637116779) kpc\n",
      "\n"
     ]
    }
   ],
   "source": [
    "mask = map(row->row.rho < 100. / gas.scale.nH, gas.data);\n",
    "com_gas_masked = center_of_mass(gas, :kpc, mask=mask) \n",
    "com_gas        = center_of_mass(gas, :kpc) \n",
    "println()\n",
    "println( \"Gas COM masked: \", com_gas_masked , \" kpc\" )\n",
    "println( \"Gas COM:        \", com_gas        , \" kpc\" )\n",
    "println()"
   ]
  },
  {
   "cell_type": "code",
   "execution_count": 65,
   "metadata": {},
   "outputs": [
    {
     "name": "stdout",
     "output_type": "stream",
     "text": [
      "\n",
      "Particles COM masked: (22.766374936557934, 24.817294529838456, 24.020065595650212) kpc\n",
      "Particles COM:        (22.891354761211332, 24.174147282680273, 24.003205056545575) kpc\n",
      "\n"
     ]
    }
   ],
   "source": [
    "mask = map(row->row.birth < 100. / particles.scale.Myr, particles.data);\n",
    "com_particles_masked = center_of_mass(particles, :kpc, mask=mask) \n",
    "com_particles        = center_of_mass(particles, :kpc) \n",
    "println()\n",
    "println( \"Particles COM masked: \", com_particles_masked , \" kpc\" )\n",
    "println( \"Particles COM:        \", com_particles        , \" kpc\" )\n",
    "println()"
   ]
  },
  {
   "cell_type": "code",
   "execution_count": 66,
   "metadata": {},
   "outputs": [
    {
     "name": "stdout",
     "output_type": "stream",
     "text": [
      "Joint COM (Gas + Particles) masked: (23.632014753139174, 24.01864248583754, 24.078229177095928) kpc\n",
      "Joint COM (Gas + Particles):        (23.380528865533876, 23.976384982693947, 24.07195135758772) kpc\n"
     ]
    }
   ],
   "source": [
    "# calculate joint center-of-mass from gas and particles\n",
    "mask1 = map(row->row.rho < 100. / gas.scale.nH, gas.data); # mask for the hydro data\n",
    "mask2 = map(row->row.birth < 100.  / particles.scale.Myr, particles.data); # mask for the particle data\n",
    "\n",
    "println( \"Joint COM (Gas + Particles) masked: \", center_of_mass([gas,particles], :kpc, mask=[mask1, mask2]) , \" kpc\" )\n",
    "println( \"Joint COM (Gas + Particles):        \", center_of_mass([gas,particles], :kpc) , \" kpc\" )"
   ]
  },
  {
   "cell_type": "code",
   "execution_count": 67,
   "metadata": {},
   "outputs": [
    {
     "name": "stdout",
     "output_type": "stream",
     "text": [
      "\n",
      "Clumps COM masked:(22.979676622296815, 23.22447986984898, 24.11056806473746) kpc\n",
      "Clumps COM:       (23.135765457064576, 23.741712325649264, 24.0050127185862) kpc\n",
      "\n"
     ]
    }
   ],
   "source": [
    "mask = map(row->row.mass_cl < 1e6 / clumps.scale.Msol, clumps.data);\n",
    "com_clumps_masked = center_of_mass(clumps, mask=mask) \n",
    "com_clumps        = center_of_mass(clumps) \n",
    "println()\n",
    "println( \"Clumps COM masked:\", com_clumps_masked .* clumps.scale.kpc, \" kpc\" )\n",
    "println( \"Clumps COM:       \", com_clumps        .* clumps.scale.kpc, \" kpc\" )\n",
    "println()"
   ]
  },
  {
   "cell_type": "markdown",
   "metadata": {},
   "source": [
    "### Bulk-Velocity"
   ]
  },
  {
   "cell_type": "code",
   "execution_count": 68,
   "metadata": {},
   "outputs": [
    {
     "name": "stdout",
     "output_type": "stream",
     "text": [
      "\n",
      "Gas bulk velocity masked: (-0.046336703401138456, -6.60993479840688, -1.000280146674773) km/s\n",
      "Gas bulk velocity:        (-1.1999253584798182, -10.678485153330122, -0.44038538452508785) km/s\n",
      "\n"
     ]
    }
   ],
   "source": [
    "mask = map(row->row.rho < 100. / gas.scale.nH, gas.data);\n",
    "bv_gas_masked = bulk_velocity(gas, :km_s, mask=mask) \n",
    "bv_gas        = bulk_velocity(gas, :km_s)  \n",
    "println()\n",
    "println( \"Gas bulk velocity masked: \", bv_gas_masked , \" km/s\" )\n",
    "println( \"Gas bulk velocity:        \", bv_gas        , \" km/s\" )\n",
    "println()"
   ]
  },
  {
   "cell_type": "code",
   "execution_count": 69,
   "metadata": {},
   "outputs": [
    {
     "name": "stdout",
     "output_type": "stream",
     "text": [
      "\n",
      "Particles bulk velocity masked: (-27.702254113836513, -7.532075727552787, -1.3273993940211153) km/s\n",
      "Particles bulk velocity:        (-11.623422700314535, -18.440572802490234, -0.3291927731417528) km/s\n",
      "\n"
     ]
    }
   ],
   "source": [
    "mask = map(row->row.birth < 100. / particles.scale.Myr, particles.data);\n",
    "bv_particles_masked = bulk_velocity(particles, :km_s, mask=mask) \n",
    "bv_particles        = bulk_velocity(particles, :km_s) \n",
    "println()\n",
    "println( \"Particles bulk velocity masked: \", bv_particles_masked , \" km/s\" )\n",
    "println( \"Particles bulk velocity:        \", bv_particles        , \" km/s\" )\n",
    "println()"
   ]
  },
  {
   "cell_type": "markdown",
   "metadata": {},
   "source": [
    "### Weighted Statistics"
   ]
  },
  {
   "cell_type": "markdown",
   "metadata": {},
   "source": [
    "(It is also possible to use the mask within the *getvar* function)"
   ]
  },
  {
   "cell_type": "code",
   "execution_count": 72,
   "metadata": {},
   "outputs": [
    {
     "name": "stdout",
     "output_type": "stream",
     "text": [
      "Gas        <vx>_cells masked      : -0.04633670340114798 km/s (mass weighted)\n",
      "Particles  <vx>_particles masked  : -27.702254113836517 km/s (mass weighted)\n",
      "Clumps <peak_x>_clumps masked     : 22.907689025275953 kpc  (mass weighted)\n",
      "\n"
     ]
    }
   ],
   "source": [
    "maskgas   = map(row->row.rho < 100. / gas.scale.nH, gas.data);\n",
    "maskpart  = map(row->row.birth < 100.  / particles.scale.Myr, particles.data);\n",
    "maskclump = map(row->row.mass_cl < 1e7 / clumps.scale.Msol, clumps.data);\n",
    "\n",
    "stats_gas_masked       = wstat( getvar(gas,       :vx,     :km_s), weight=getvar(gas,       :mass  ),  mask=maskgas);\n",
    "stats_particles_masked = wstat( getvar(particles, :vx,     :km_s), weight=getvar(particles, :mass   ), mask=maskpart);\n",
    "stats_clumps_masked    = wstat( getvar(clumps,    :peak_x, :kpc ), weight=getvar(clumps,    :mass_cl), mask=maskclump)  ;\n",
    "\n",
    "println( \"Gas        <vx>_cells masked      : \",  stats_gas_masked.mean,       \" km/s (mass weighted)\" )\n",
    "println( \"Particles  <vx>_particles masked  : \",  stats_particles_masked.mean, \" km/s (mass weighted)\" )\n",
    "println( \"Clumps <peak_x>_clumps masked     : \",  stats_clumps_masked.mean,    \" kpc  (mass weighted)\" )\n",
    "println()"
   ]
  },
  {
   "cell_type": "code",
   "execution_count": 73,
   "metadata": {},
   "outputs": [
    {
     "name": "stdout",
     "output_type": "stream",
     "text": [
      "Gas        <vx>_allcells     : -1.199925358479736 km/s (mass weighted)\n",
      "Particles  <vx>_allparticles : -11.623422700314544 km/s (mass weighted)\n",
      "Clumps <peak_x>_allclumps    : 23.13576545706458 kpc  (mass weighted)\n",
      "\n"
     ]
    }
   ],
   "source": [
    "stats_gas       = wstat( getvar(gas,       :vx,     :km_s), weight=getvar(gas,       :mass  ));\n",
    "stats_particles = wstat( getvar(particles, :vx,     :km_s), weight=getvar(particles, :mass   ));\n",
    "stats_clumps    = wstat( getvar(clumps,    :peak_x, :kpc ), weight=getvar(clumps,    :mass_cl))  ;\n",
    "\n",
    "println( \"Gas        <vx>_allcells     : \",  stats_gas.mean,       \" km/s (mass weighted)\" )\n",
    "println( \"Particles  <vx>_allparticles : \",  stats_particles.mean, \" km/s (mass weighted)\" )\n",
    "println( \"Clumps <peak_x>_allclumps    : \",  stats_clumps.mean,    \" kpc  (mass weighted)\" )\n",
    "println()"
   ]
  },
  {
   "cell_type": "code",
   "execution_count": null,
   "metadata": {},
   "outputs": [],
   "source": []
  }
 ],
 "metadata": {
  "kernelspec": {
   "display_name": "Julia 1.3.0",
   "language": "julia",
   "name": "julia-1.3"
  },
  "language_info": {
   "file_extension": ".jl",
   "mimetype": "application/julia",
   "name": "julia",
   "version": "1.3.1"
  }
 },
 "nbformat": 4,
 "nbformat_minor": 4
}
