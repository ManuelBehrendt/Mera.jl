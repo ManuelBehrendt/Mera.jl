{
 "cells": [
  {
   "cell_type": "markdown",
   "metadata": {},
   "source": [
    "# Export/Import Data (ASCII/Binary)\n",
    "This notebook presents several ways to export your data.\n",
    "\n",
    "Used libraries in this tutorial:\n",
    "- DelimitedFiles, Serialization (comes with Julia)\n",
    "- JuliaDB, FileIO, CSVFiles, JLD, CodecZlib, HDF5, Numpy, FITS, Matlap, GZip (needs to be installed)"
   ]
  },
  {
   "cell_type": "markdown",
   "metadata": {},
   "source": [
    "## Load The Data"
   ]
  },
  {
   "cell_type": "code",
   "execution_count": 2,
   "metadata": {},
   "outputs": [],
   "source": [
    "using Mera"
   ]
  },
  {
   "cell_type": "code",
   "execution_count": 43,
   "metadata": {},
   "outputs": [
    {
     "name": "stdout",
     "output_type": "stream",
     "text": [
      "\u001b[0m\u001b[1m[Mera]: Get hydro data: 2020-02-29T17:54:15.397\u001b[22m\n",
      "\n",
      "Key vars=(:level, :cx, :cy, :cz)\n",
      "Using var(s)=(1,) = (:rho,) \n",
      "\n",
      "domain:\n",
      "xmin::xmax: 0.0 :: 1.0  \t==> 0.0 [kpc] :: 48.0 [kpc]\n",
      "ymin::ymax: 0.0 :: 1.0  \t==> 0.0 [kpc] :: 48.0 [kpc]\n",
      "zmin::zmax: 0.0 :: 1.0  \t==> 0.0 [kpc] :: 48.0 [kpc]\n",
      "\n",
      "Reading data...\n"
     ]
    },
    {
     "name": "stderr",
     "output_type": "stream",
     "text": [
      "\u001b[32m100%|███████████████████████████████████████████████████| Time: 0:02:55\u001b[39m\n"
     ]
    },
    {
     "name": "stdout",
     "output_type": "stream",
     "text": [
      "Memory used for data table :186.1558656692505 MB\n",
      "-------------------------------------------------------\n",
      "\n",
      "\u001b[0m\u001b[1m[Mera]: Get particle data: 2020-02-29T17:57:14.49\u001b[22m\n",
      "\n",
      "Key vars=(:level, :x, :y, :z, :id)\n",
      "Using var(s)=(4,) = (:mass,) \n",
      "\n",
      "domain:\n",
      "xmin::xmax: 0.0 :: 1.0  \t==> 0.0 [kpc] :: 48.0 [kpc]\n",
      "ymin::ymax: 0.0 :: 1.0  \t==> 0.0 [kpc] :: 48.0 [kpc]\n",
      "zmin::zmax: 0.0 :: 1.0  \t==> 0.0 [kpc] :: 48.0 [kpc]\n",
      "\n"
     ]
    },
    {
     "name": "stderr",
     "output_type": "stream",
     "text": [
      "\u001b[32mReading data...100%|████████████████████████████████████| Time: 0:00:03\u001b[39m\n"
     ]
    },
    {
     "name": "stdout",
     "output_type": "stream",
     "text": [
      "Found 5.089390e+05 particles\n",
      "Memory used for data table :19.4152889251709 MB\n",
      "-------------------------------------------------------\n",
      "\n"
     ]
    }
   ],
   "source": [
    "info = getinfo(400, \"../../../testing/simulations/manu_sim_sf_L14\", verbose=false)\n",
    "hydro = gethydro(info, :rho, smallr=1e-5, lmax=10)\n",
    "particles = getparticles(info, :mass);"
   ]
  },
  {
   "cell_type": "code",
   "execution_count": 44,
   "metadata": {},
   "outputs": [
    {
     "name": "stdout",
     "output_type": "stream",
     "text": [
      "Cells: 4879946\n",
      "Particles: 508939\n"
     ]
    }
   ],
   "source": [
    "println(\"Cells: \", length(hydro.data))\n",
    "println(\"Particles: \", length(particles.data))"
   ]
  },
  {
   "cell_type": "markdown",
   "metadata": {},
   "source": [
    "Define a function to preview the first lines of the created ASCII files:"
   ]
  },
  {
   "cell_type": "code",
   "execution_count": 45,
   "metadata": {},
   "outputs": [
    {
     "data": {
      "text/plain": [
       "viewheader (generic function with 1 method)"
      ]
     },
     "execution_count": 45,
     "metadata": {},
     "output_type": "execute_result"
    }
   ],
   "source": [
    "function viewheader(filename, lines)\n",
    "    open(filename) do f\n",
    "        line = 1\n",
    "        while line<=lines\n",
    "            x = readline(f)\n",
    "            println(x)\n",
    "            line += 1\n",
    "        end\n",
    "    end\n",
    "end"
   ]
  },
  {
   "cell_type": "markdown",
   "metadata": {},
   "source": [
    "## Collect The Data For Export"
   ]
  },
  {
   "cell_type": "code",
   "execution_count": 46,
   "metadata": {},
   "outputs": [],
   "source": [
    "# Get the cell and particle positions relative to the box-center\n",
    "# Choose the relevant units\n",
    "# The function getvar returns a dictionary containing a 1d-array for each quantity\n",
    "hvals = getvar(hydro, [:x,:y,:z,:cellsize,:rho], [:kpc,:kpc,:kpc,:kpc,:g_cm3], center=[:boxcenter]);\n",
    "pvals = getvar(hydro, [:x,:y,:z,:mass], [:kpc,:kpc,:kpc,:Msol], center=[:boxcenter]);"
   ]
  },
  {
   "cell_type": "code",
   "execution_count": 47,
   "metadata": {},
   "outputs": [
    {
     "data": {
      "text/plain": [
       "Dict{Any,Any} with 5 entries:\n",
       "  :cellsize => [0.75, 0.75, 0.75, 0.75, 0.75, 0.75, 0.75, 0.75, 0.75, 0.75  …  …\n",
       "  :y        => [-23.25, -23.25, -23.25, -23.25, -23.25, -23.25, -23.25, -23.25,…\n",
       "  :rho      => [6.76838e-28, 6.76838e-28, 6.76838e-28, 6.76838e-28, 6.76838e-28…\n",
       "  :z        => [-23.25, -22.5, -21.75, -21.0, -20.25, -19.5, -18.75, -18.0, -17…\n",
       "  :x        => [-23.25, -23.25, -23.25, -23.25, -23.25, -23.25, -23.25, -23.25,…"
      ]
     },
     "execution_count": 47,
     "metadata": {},
     "output_type": "execute_result"
    }
   ],
   "source": [
    "hvals"
   ]
  },
  {
   "cell_type": "code",
   "execution_count": 48,
   "metadata": {},
   "outputs": [
    {
     "data": {
      "text/plain": [
       "Dict{Any,Any} with 4 entries:\n",
       "  :y    => [-23.25, -23.25, -23.25, -23.25, -23.25, -23.25, -23.25, -23.25, -23…\n",
       "  :z    => [-23.25, -22.5, -21.75, -21.0, -20.25, -19.5, -18.75, -18.0, -17.25,…\n",
       "  :mass => [4217.58, 4217.58, 4217.58, 4217.58, 4217.58, 4217.58, 4217.58, 4217…\n",
       "  :x    => [-23.25, -23.25, -23.25, -23.25, -23.25, -23.25, -23.25, -23.25, -23…"
      ]
     },
     "execution_count": 48,
     "metadata": {},
     "output_type": "execute_result"
    }
   ],
   "source": [
    "pvals"
   ]
  },
  {
   "cell_type": "markdown",
   "metadata": {},
   "source": [
    "## ASCII: DelimitedFiles Library"
   ]
  },
  {
   "cell_type": "code",
   "execution_count": 49,
   "metadata": {},
   "outputs": [],
   "source": [
    "using DelimitedFiles"
   ]
  },
  {
   "cell_type": "markdown",
   "metadata": {},
   "source": [
    "Save into an ASCII file with no header, comma separated:"
   ]
  },
  {
   "cell_type": "code",
   "execution_count": 50,
   "metadata": {},
   "outputs": [],
   "source": [
    "open(\"simulation_hydro.csv\", \"w\") do io\n",
    "    writedlm(io, [hvals[:x] hvals[:y] hvals[:z] hvals[:cellsize] hvals[:rho]], \",\")\n",
    "end"
   ]
  },
  {
   "cell_type": "markdown",
   "metadata": {},
   "source": [
    "Check the first lines in the file:"
   ]
  },
  {
   "cell_type": "code",
   "execution_count": 51,
   "metadata": {},
   "outputs": [
    {
     "name": "stdout",
     "output_type": "stream",
     "text": [
      "-23.25000000001507,-23.25000000001507,-23.25000000001507,0.7500000000004861,6.768382184513761e-28\n",
      "-23.25000000001507,-23.25000000001507,-22.500000000014584,0.7500000000004861,6.768382184513761e-28\n",
      "-23.25000000001507,-23.25000000001507,-21.750000000014097,0.7500000000004861,6.768382184513761e-28\n",
      "-23.25000000001507,-23.25000000001507,-21.00000000001361,0.7500000000004861,6.768382184513761e-28\n",
      "-23.25000000001507,-23.25000000001507,-20.250000000013124,0.7500000000004861,6.768382184513761e-28\n"
     ]
    }
   ],
   "source": [
    "viewheader(\"simulation_hydro.csv\", 5)"
   ]
  },
  {
   "cell_type": "markdown",
   "metadata": {},
   "source": [
    "Use a different syntax; save into file with header and tab-separated values:"
   ]
  },
  {
   "cell_type": "code",
   "execution_count": 52,
   "metadata": {},
   "outputs": [],
   "source": [
    "header = [\"x/kpc\" \"y/kpc\" \"z/kpc\" \"cellsize/kpc\" \"rho/g_cm3\"]\n",
    "valsrray = [hvals[:x] hvals[:y] hvals[:z] hvals[:cellsize] hvals[:rho]] # Array with the columns\n",
    "writedlm(\"simulation_hydro.dat\", [header ; valsrray], \"\\t\")"
   ]
  },
  {
   "cell_type": "code",
   "execution_count": 53,
   "metadata": {},
   "outputs": [
    {
     "name": "stdout",
     "output_type": "stream",
     "text": [
      "x/kpc\ty/kpc\tz/kpc\tcellsize/kpc\trho/g_cm3\n",
      "-23.25000000001507\t-23.25000000001507\t-23.25000000001507\t0.7500000000004861\t6.768382184513761e-28\n",
      "-23.25000000001507\t-23.25000000001507\t-22.500000000014584\t0.7500000000004861\t6.768382184513761e-28\n",
      "-23.25000000001507\t-23.25000000001507\t-21.750000000014097\t0.7500000000004861\t6.768382184513761e-28\n",
      "-23.25000000001507\t-23.25000000001507\t-21.00000000001361\t0.7500000000004861\t6.768382184513761e-28\n"
     ]
    }
   ],
   "source": [
    "viewheader(\"simulation_hydro.dat\", 5)"
   ]
  },
  {
   "cell_type": "markdown",
   "metadata": {},
   "source": [
    "Write the particles data into an ASCII file with header:"
   ]
  },
  {
   "cell_type": "code",
   "execution_count": 54,
   "metadata": {},
   "outputs": [],
   "source": [
    "header = [\"x/kpc\" \"y/kpc\" \"z/kpc\" \"mass/Msol\"]\n",
    "valsrray = [pvals[:x] pvals[:y] pvals[:z] pvals[:mass]]\n",
    "writedlm(\"simulation_particles.dat\", [header ; valsrray], \"\\t\")"
   ]
  },
  {
   "cell_type": "code",
   "execution_count": 55,
   "metadata": {},
   "outputs": [
    {
     "name": "stdout",
     "output_type": "stream",
     "text": [
      "x/kpc\ty/kpc\tz/kpc\tmass/Msol\n",
      "-23.25000000001507\t-23.25000000001507\t-23.25000000001507\t4217.583427040147\n",
      "-23.25000000001507\t-23.25000000001507\t-22.500000000014584\t4217.583427040147\n",
      "-23.25000000001507\t-23.25000000001507\t-21.750000000014097\t4217.583427040147\n",
      "-23.25000000001507\t-23.25000000001507\t-21.00000000001361\t4217.583427040147\n"
     ]
    }
   ],
   "source": [
    "viewheader(\"simulation_particles.dat\", 5)"
   ]
  },
  {
   "cell_type": "markdown",
   "metadata": {},
   "source": [
    "## ASCII: Save JuliaDB Database into a CSV-File with FileIO"
   ]
  },
  {
   "cell_type": "code",
   "execution_count": 56,
   "metadata": {},
   "outputs": [],
   "source": [
    "using FileIO"
   ]
  },
  {
   "cell_type": "markdown",
   "metadata": {},
   "source": [
    "See for documentation https://github.com/JuliaIO/FileIO.jl/tree/master/docs"
   ]
  },
  {
   "cell_type": "markdown",
   "metadata": {},
   "source": [
    "The simulation data is stored in a JuliadB database:"
   ]
  },
  {
   "cell_type": "code",
   "execution_count": 57,
   "metadata": {},
   "outputs": [
    {
     "data": {
      "text/plain": [
       "Table with 508939 rows, 6 columns:\n",
       "\u001b[1mlevel  \u001b[22m\u001b[1mx           \u001b[22m\u001b[1my        \u001b[22m\u001b[1mz        \u001b[22m\u001b[1mid      \u001b[22mmass\n",
       "───────────────────────────────────────────────────────\n",
       "6      0.00462947  22.3885  24.571   327957  1.13606e-5\n",
       "6      0.109066    22.3782  21.5844  116193  1.13606e-5\n",
       "6      0.238211    28.7537  24.8191  194252  1.13606e-5\n",
       "6      0.271366    22.7512  31.5681  130805  1.13606e-5\n",
       "6      0.312574    16.2385  23.7591  162174  1.13606e-5\n",
       "6      0.314957    28.2084  30.966   320052  1.13606e-5\n",
       "6      0.328337    4.59858  23.5001  292889  1.13606e-5\n",
       "6      0.420712    27.6688  26.5735  102940  1.13606e-5\n",
       "6      0.509144    33.1737  23.9789  183902  1.13606e-5\n",
       "6      0.565516    25.9409  26.0579  342278  1.13606e-5\n",
       "6      0.587289    9.60231  23.8477  280020  1.13606e-5\n",
       "6      0.592878    25.5519  21.3079  64182   1.13606e-5\n",
       "⋮\n",
       "14     37.6271     25.857   23.8833  437164  1.13606e-5\n",
       "14     37.6299     25.8403  23.9383  421177  1.13606e-5\n",
       "14     37.6301     25.8502  23.9361  478941  1.13606e-5\n",
       "14     37.6326     25.8544  23.9383  428429  1.13606e-5\n",
       "14     37.6528     25.8898  23.9928  467148  1.13606e-5\n",
       "14     37.6643     25.9061  23.9945  496129  1.13606e-5\n",
       "14     37.6813     25.8743  23.9789  435636  1.13606e-5\n",
       "14     37.7207     25.8623  23.8775  476398  1.13606e-5\n",
       "14     38.173      25.8862  23.7978  347919  1.13606e-5\n",
       "14     38.1738     25.8914  23.7979  403094  1.13606e-5\n",
       "14     38.1739     25.8905  23.7992  381503  1.13606e-5"
      ]
     },
     "execution_count": 57,
     "metadata": {},
     "output_type": "execute_result"
    }
   ],
   "source": [
    "particles.data"
   ]
  },
  {
   "cell_type": "code",
   "execution_count": 84,
   "metadata": {},
   "outputs": [
    {
     "name": "stderr",
     "output_type": "stream",
     "text": [
      "┌ Info: Precompiling CSVFiles [5d742f6a-9f54-50ce-8119-2520741973ca]\n",
      "└ @ Base loading.jl:1273\n"
     ]
    }
   ],
   "source": [
    "FileIO.save(\"database_partilces.csv\", particles.data)"
   ]
  },
  {
   "cell_type": "code",
   "execution_count": 85,
   "metadata": {},
   "outputs": [
    {
     "name": "stdout",
     "output_type": "stream",
     "text": [
      "\"level\",\"x\",\"y\",\"z\",\"id\",\"mass\"\n",
      "6,0.004629472789625229,22.388543919075275,24.571021484979347,327957,1.1360607549574087e-5\n",
      "6,0.1090659052277639,22.3782196217294,21.58442789512976,116193,1.1360607549574087e-5\n",
      "6,0.2382109772356709,28.753723953405462,24.81911909925676,194252,1.1360607549574087e-5\n",
      "6,0.271365638325332,22.751224267806695,31.568145104287826,130805,1.1360607549574087e-5\n"
     ]
    }
   ],
   "source": [
    "viewheader(\"database_partilces.csv\", 5)"
   ]
  },
  {
   "cell_type": "markdown",
   "metadata": {},
   "source": [
    "Export selected variables from the datatable:"
   ]
  },
  {
   "cell_type": "code",
   "execution_count": 86,
   "metadata": {},
   "outputs": [],
   "source": [
    "using JuliaDB"
   ]
  },
  {
   "cell_type": "markdown",
   "metadata": {},
   "source": [
    "See for documentation https://juliacomputing.github.io/JuliaDB.jl/latest/"
   ]
  },
  {
   "cell_type": "code",
   "execution_count": 87,
   "metadata": {},
   "outputs": [],
   "source": [
    "FileIO.save(\"database_partilces.csv\", select(particles.data, (:x,:y,:mass)) )"
   ]
  },
  {
   "cell_type": "code",
   "execution_count": 88,
   "metadata": {},
   "outputs": [
    {
     "name": "stdout",
     "output_type": "stream",
     "text": [
      "\"x\",\"y\",\"mass\"\n",
      "0.004629472789625229,22.388543919075275,1.1360607549574087e-5\n",
      "0.1090659052277639,22.3782196217294,1.1360607549574087e-5\n",
      "0.2382109772356709,28.753723953405462,1.1360607549574087e-5\n",
      "0.271365638325332,22.751224267806695,1.1360607549574087e-5\n"
     ]
    }
   ],
   "source": [
    "viewheader(\"database_partilces.csv\", 5)"
   ]
  },
  {
   "cell_type": "markdown",
   "metadata": {},
   "source": [
    "## Binary: Save JuliaDB Database into a Binary Format"
   ]
  },
  {
   "cell_type": "code",
   "execution_count": 89,
   "metadata": {},
   "outputs": [
    {
     "data": {
      "text/plain": [
       "Table with 4879946 rows, 5 columns:\n",
       "\u001b[1mlevel  \u001b[22m\u001b[1mcx   \u001b[22m\u001b[1mcy   \u001b[22m\u001b[1mcz   \u001b[22mrho\n",
       "─────────────────────────────────\n",
       "6      1    1    1    1.0e-5\n",
       "6      1    1    2    1.0e-5\n",
       "6      1    1    3    1.0e-5\n",
       "6      1    1    4    1.0e-5\n",
       "6      1    1    5    1.0e-5\n",
       "6      1    1    6    1.0e-5\n",
       "6      1    1    7    1.0e-5\n",
       "6      1    1    8    1.0e-5\n",
       "6      1    1    9    1.0e-5\n",
       "6      1    1    10   1.0e-5\n",
       "6      1    1    11   1.0e-5\n",
       "6      1    1    12   1.0e-5\n",
       "⋮\n",
       "10     826  554  512  0.000561671\n",
       "10     826  554  513  0.000634561\n",
       "10     826  554  514  0.000585903\n",
       "10     826  555  509  0.000368259\n",
       "10     826  555  510  0.000381535\n",
       "10     826  555  511  0.000401867\n",
       "10     826  555  512  0.000413433\n",
       "10     826  556  509  0.000353701\n",
       "10     826  556  510  0.000360669\n",
       "10     826  556  511  0.000380094\n",
       "10     826  556  512  0.000386327"
      ]
     },
     "execution_count": 89,
     "metadata": {},
     "output_type": "execute_result"
    }
   ],
   "source": [
    "JuliaDB.save(hydro.data, \"database_hydro.jdb\")"
   ]
  },
  {
   "cell_type": "code",
   "execution_count": 90,
   "metadata": {},
   "outputs": [
    {
     "data": {
      "text/plain": [
       "Table with 4879946 rows, 5 columns:\n",
       "\u001b[1mlevel  \u001b[22m\u001b[1mcx   \u001b[22m\u001b[1mcy   \u001b[22m\u001b[1mcz   \u001b[22mrho\n",
       "─────────────────────────────────\n",
       "6      1    1    1    1.0e-5\n",
       "6      1    1    2    1.0e-5\n",
       "6      1    1    3    1.0e-5\n",
       "6      1    1    4    1.0e-5\n",
       "6      1    1    5    1.0e-5\n",
       "6      1    1    6    1.0e-5\n",
       "6      1    1    7    1.0e-5\n",
       "6      1    1    8    1.0e-5\n",
       "6      1    1    9    1.0e-5\n",
       "6      1    1    10   1.0e-5\n",
       "6      1    1    11   1.0e-5\n",
       "6      1    1    12   1.0e-5\n",
       "⋮\n",
       "10     826  554  512  0.000561671\n",
       "10     826  554  513  0.000634561\n",
       "10     826  554  514  0.000585903\n",
       "10     826  555  509  0.000368259\n",
       "10     826  555  510  0.000381535\n",
       "10     826  555  511  0.000401867\n",
       "10     826  555  512  0.000413433\n",
       "10     826  556  509  0.000353701\n",
       "10     826  556  510  0.000360669\n",
       "10     826  556  511  0.000380094\n",
       "10     826  556  512  0.000386327"
      ]
     },
     "execution_count": 90,
     "metadata": {},
     "output_type": "execute_result"
    }
   ],
   "source": [
    "hdata = JuliaDB.load(\"database_hydro.jdb\")"
   ]
  },
  {
   "cell_type": "markdown",
   "metadata": {},
   "source": [
    "## Binary: Save Multiple Data into a JLD File\n",
    "See for documentation: https://github.com/JuliaIO/JLD.jl"
   ]
  },
  {
   "cell_type": "code",
   "execution_count": 91,
   "metadata": {},
   "outputs": [],
   "source": [
    "using JLD"
   ]
  },
  {
   "cell_type": "code",
   "execution_count": 95,
   "metadata": {},
   "outputs": [],
   "source": [
    "jldopen(\"mydata.jld\", \"w\") do file\n",
    "    write(file, \"hydro\", hvals ) \n",
    "    write(file, \"particles\", pvals ) \n",
    "end"
   ]
  },
  {
   "cell_type": "markdown",
   "metadata": {},
   "source": [
    "Open file for read and get an overview of the stored dataset:"
   ]
  },
  {
   "cell_type": "code",
   "execution_count": 96,
   "metadata": {},
   "outputs": [
    {
     "data": {
      "text/plain": [
       "Julia data file version 0.1.3: mydata.jld"
      ]
     },
     "execution_count": 96,
     "metadata": {},
     "output_type": "execute_result"
    }
   ],
   "source": [
    "file = jldopen(\"mydata.jld\",\"r\")"
   ]
  },
  {
   "cell_type": "code",
   "execution_count": 97,
   "metadata": {},
   "outputs": [
    {
     "data": {
      "text/plain": [
       "2-element Array{String,1}:\n",
       " \"hydro\"    \n",
       " \"particles\""
      ]
     },
     "execution_count": 97,
     "metadata": {},
     "output_type": "execute_result"
    }
   ],
   "source": [
    "names(file)"
   ]
  },
  {
   "cell_type": "code",
   "execution_count": 98,
   "metadata": {},
   "outputs": [
    {
     "data": {
      "text/plain": [
       "Dict{Any,Any} with 5 entries:\n",
       "  :x        => [-23.25, -23.25, -23.25, -23.25, -23.25, -23.25, -23.25, -23.25,…\n",
       "  :y        => [-23.25, -23.25, -23.25, -23.25, -23.25, -23.25, -23.25, -23.25,…\n",
       "  :rho      => [6.76838e-28, 6.76838e-28, 6.76838e-28, 6.76838e-28, 6.76838e-28…\n",
       "  :z        => [-23.25, -22.5, -21.75, -21.0, -20.25, -19.5, -18.75, -18.0, -17…\n",
       "  :cellsize => [0.75, 0.75, 0.75, 0.75, 0.75, 0.75, 0.75, 0.75, 0.75, 0.75  …  …"
      ]
     },
     "execution_count": 98,
     "metadata": {},
     "output_type": "execute_result"
    }
   ],
   "source": [
    "hydrodata = read(file, \"hydro\")"
   ]
  },
  {
   "cell_type": "code",
   "execution_count": 99,
   "metadata": {},
   "outputs": [
    {
     "data": {
      "text/plain": [
       "Dict{Any,Any} with 4 entries:\n",
       "  :y    => [-23.25, -23.25, -23.25, -23.25, -23.25, -23.25, -23.25, -23.25, -23…\n",
       "  :z    => [-23.25, -22.5, -21.75, -21.0, -20.25, -19.5, -18.75, -18.0, -17.25,…\n",
       "  :mass => [4217.58, 4217.58, 4217.58, 4217.58, 4217.58, 4217.58, 4217.58, 4217…\n",
       "  :x    => [-23.25, -23.25, -23.25, -23.25, -23.25, -23.25, -23.25, -23.25, -23…"
      ]
     },
     "execution_count": 99,
     "metadata": {},
     "output_type": "execute_result"
    }
   ],
   "source": [
    "particledata = read(file, \"particles\")"
   ]
  },
  {
   "cell_type": "markdown",
   "metadata": {},
   "source": [
    "Compare stored with original data:"
   ]
  },
  {
   "cell_type": "code",
   "execution_count": 100,
   "metadata": {},
   "outputs": [
    {
     "data": {
      "text/plain": [
       "true"
      ]
     },
     "execution_count": 100,
     "metadata": {},
     "output_type": "execute_result"
    }
   ],
   "source": [
    "hydrodata == hvals"
   ]
  },
  {
   "cell_type": "code",
   "execution_count": 101,
   "metadata": {},
   "outputs": [
    {
     "data": {
      "text/plain": [
       "true"
      ]
     },
     "execution_count": 101,
     "metadata": {},
     "output_type": "execute_result"
    }
   ],
   "source": [
    "particledata == pvals"
   ]
  },
  {
   "cell_type": "markdown",
   "metadata": {},
   "source": [
    "## Binary: Compress Data into a gz-File"
   ]
  },
  {
   "cell_type": "code",
   "execution_count": 102,
   "metadata": {},
   "outputs": [],
   "source": [
    "using CodecZlib, Serialization"
   ]
  },
  {
   "cell_type": "markdown",
   "metadata": {},
   "source": [
    "See for documentation: https://github.com/JuliaIO/CodecZlib.jl"
   ]
  },
  {
   "cell_type": "code",
   "execution_count": 103,
   "metadata": {},
   "outputs": [],
   "source": [
    "fo= GzipCompressorStream( open(\"sample-data.jls.gz\", \"w\") ); serialize(fo, hvals); close(fo)"
   ]
  },
  {
   "cell_type": "code",
   "execution_count": 104,
   "metadata": {},
   "outputs": [
    {
     "data": {
      "text/plain": [
       "Dict{Any,Any} with 5 entries:\n",
       "  :x        => [-23.25, -23.25, -23.25, -23.25, -23.25, -23.25, -23.25, -23.25,…\n",
       "  :y        => [-23.25, -23.25, -23.25, -23.25, -23.25, -23.25, -23.25, -23.25,…\n",
       "  :rho      => [6.76838e-28, 6.76838e-28, 6.76838e-28, 6.76838e-28, 6.76838e-28…\n",
       "  :z        => [-23.25, -22.5, -21.75, -21.0, -20.25, -19.5, -18.75, -18.0, -17…\n",
       "  :cellsize => [0.75, 0.75, 0.75, 0.75, 0.75, 0.75, 0.75, 0.75, 0.75, 0.75  …  …"
      ]
     },
     "execution_count": 104,
     "metadata": {},
     "output_type": "execute_result"
    }
   ],
   "source": [
    "hydrodata1 = deserialize( GzipDecompressorStream( open(\"sample-data.jls.gz\", \"r\") ) )"
   ]
  },
  {
   "cell_type": "code",
   "execution_count": 105,
   "metadata": {},
   "outputs": [
    {
     "data": {
      "text/plain": [
       "true"
      ]
     },
     "execution_count": 105,
     "metadata": {},
     "output_type": "execute_result"
    }
   ],
   "source": [
    "hydrodata1 == hvals"
   ]
  },
  {
   "cell_type": "markdown",
   "metadata": {},
   "source": [
    "Prepare variable-array:"
   ]
  },
  {
   "cell_type": "code",
   "execution_count": 106,
   "metadata": {},
   "outputs": [
    {
     "data": {
      "text/plain": [
       "4879946×5 Array{Float64,2}:\n",
       " -23.25    -23.25     -23.25      0.75      6.76838e-28\n",
       " -23.25    -23.25     -22.5       0.75      6.76838e-28\n",
       " -23.25    -23.25     -21.75      0.75      6.76838e-28\n",
       " -23.25    -23.25     -21.0       0.75      6.76838e-28\n",
       " -23.25    -23.25     -20.25      0.75      6.76838e-28\n",
       " -23.25    -23.25     -19.5       0.75      6.76838e-28\n",
       " -23.25    -23.25     -18.75      0.75      6.76838e-28\n",
       " -23.25    -23.25     -18.0       0.75      6.76838e-28\n",
       " -23.25    -23.25     -17.25      0.75      6.76838e-28\n",
       " -23.25    -23.25     -16.5       0.75      6.76838e-28\n",
       " -23.25    -23.25     -15.75      0.75      6.76838e-28\n",
       " -23.25    -23.25     -15.0       0.75      6.76838e-28\n",
       " -23.25    -23.25     -14.25      0.75      6.76838e-28\n",
       "   ⋮                                                   \n",
       "  14.7188    1.96875   -0.046875  0.046875  3.59298e-26\n",
       "  14.7188    1.96875    0.0       0.046875  3.80161e-26\n",
       "  14.7188    1.96875    0.046875  0.046875  4.29495e-26\n",
       "  14.7188    1.96875    0.09375   0.046875  3.96562e-26\n",
       "  14.7188    2.01563   -0.140625  0.046875  2.49252e-26\n",
       "  14.7188    2.01563   -0.09375   0.046875  2.58237e-26\n",
       "  14.7188    2.01563   -0.046875  0.046875  2.71999e-26\n",
       "  14.7188    2.01563    0.0       0.046875  2.79827e-26\n",
       "  14.7188    2.0625    -0.140625  0.046875  2.39398e-26\n",
       "  14.7188    2.0625    -0.09375   0.046875  2.44115e-26\n",
       "  14.7188    2.0625    -0.046875  0.046875  2.57262e-26\n",
       "  14.7188    2.0625     0.0       0.046875  2.61481e-26"
      ]
     },
     "execution_count": 106,
     "metadata": {},
     "output_type": "execute_result"
    }
   ],
   "source": [
    "varsarray = [hvals[:x] hvals[:y] hvals[:z] hvals[:cellsize] hvals[:rho]]"
   ]
  },
  {
   "cell_type": "code",
   "execution_count": 107,
   "metadata": {},
   "outputs": [],
   "source": [
    "fo= GzipCompressorStream( open(\"sample-data2.jls.gz\", \"w\") ); serialize(fo, varsarray); close(fo)"
   ]
  },
  {
   "cell_type": "markdown",
   "metadata": {},
   "source": [
    "Read the data again:"
   ]
  },
  {
   "cell_type": "code",
   "execution_count": 108,
   "metadata": {},
   "outputs": [
    {
     "data": {
      "text/plain": [
       "4879946×5 Array{Float64,2}:\n",
       " -23.25    -23.25     -23.25      0.75      6.76838e-28\n",
       " -23.25    -23.25     -22.5       0.75      6.76838e-28\n",
       " -23.25    -23.25     -21.75      0.75      6.76838e-28\n",
       " -23.25    -23.25     -21.0       0.75      6.76838e-28\n",
       " -23.25    -23.25     -20.25      0.75      6.76838e-28\n",
       " -23.25    -23.25     -19.5       0.75      6.76838e-28\n",
       " -23.25    -23.25     -18.75      0.75      6.76838e-28\n",
       " -23.25    -23.25     -18.0       0.75      6.76838e-28\n",
       " -23.25    -23.25     -17.25      0.75      6.76838e-28\n",
       " -23.25    -23.25     -16.5       0.75      6.76838e-28\n",
       " -23.25    -23.25     -15.75      0.75      6.76838e-28\n",
       " -23.25    -23.25     -15.0       0.75      6.76838e-28\n",
       " -23.25    -23.25     -14.25      0.75      6.76838e-28\n",
       "   ⋮                                                   \n",
       "  14.7188    1.96875   -0.046875  0.046875  3.59298e-26\n",
       "  14.7188    1.96875    0.0       0.046875  3.80161e-26\n",
       "  14.7188    1.96875    0.046875  0.046875  4.29495e-26\n",
       "  14.7188    1.96875    0.09375   0.046875  3.96562e-26\n",
       "  14.7188    2.01563   -0.140625  0.046875  2.49252e-26\n",
       "  14.7188    2.01563   -0.09375   0.046875  2.58237e-26\n",
       "  14.7188    2.01563   -0.046875  0.046875  2.71999e-26\n",
       "  14.7188    2.01563    0.0       0.046875  2.79827e-26\n",
       "  14.7188    2.0625    -0.140625  0.046875  2.39398e-26\n",
       "  14.7188    2.0625    -0.09375   0.046875  2.44115e-26\n",
       "  14.7188    2.0625    -0.046875  0.046875  2.57262e-26\n",
       "  14.7188    2.0625     0.0       0.046875  2.61481e-26"
      ]
     },
     "execution_count": 108,
     "metadata": {},
     "output_type": "execute_result"
    }
   ],
   "source": [
    "hydrodata2 = deserialize( GzipDecompressorStream( open(\"sample-data2.jls.gz\", \"r\") ) )"
   ]
  },
  {
   "cell_type": "markdown",
   "metadata": {},
   "source": [
    "Compare original with loaded data:"
   ]
  },
  {
   "cell_type": "code",
   "execution_count": 109,
   "metadata": {},
   "outputs": [
    {
     "data": {
      "text/plain": [
       "true"
      ]
     },
     "execution_count": 109,
     "metadata": {},
     "output_type": "execute_result"
    }
   ],
   "source": [
    "hydrodata2 == varsarray"
   ]
  },
  {
   "cell_type": "markdown",
   "metadata": {},
   "source": [
    "Store array with header:"
   ]
  },
  {
   "cell_type": "code",
   "execution_count": 110,
   "metadata": {},
   "outputs": [],
   "source": [
    "header = [\"x/kpc\" \"y/kpc\" \"z/kpc\" \"cellsize/kpc\" \"rho/g_cm3\"]\n",
    "fo= GzipCompressorStream( open(\"sample-data3.jls.gz\", \"w\") ); serialize(fo, [header ; varsarray]); close(fo)"
   ]
  },
  {
   "cell_type": "code",
   "execution_count": 111,
   "metadata": {},
   "outputs": [
    {
     "data": {
      "text/plain": [
       "4879947×5 Array{Any,2}:\n",
       "    \"x/kpc\"     \"y/kpc\"     \"z/kpc\"   \"cellsize/kpc\"   \"rho/g_cm3\"\n",
       " -23.25      -23.25      -23.25      0.75             6.76838e-28 \n",
       " -23.25      -23.25      -22.5       0.75             6.76838e-28 \n",
       " -23.25      -23.25      -21.75      0.75             6.76838e-28 \n",
       " -23.25      -23.25      -21.0       0.75             6.76838e-28 \n",
       " -23.25      -23.25      -20.25      0.75             6.76838e-28 \n",
       " -23.25      -23.25      -19.5       0.75             6.76838e-28 \n",
       " -23.25      -23.25      -18.75      0.75             6.76838e-28 \n",
       " -23.25      -23.25      -18.0       0.75             6.76838e-28 \n",
       " -23.25      -23.25      -17.25      0.75             6.76838e-28 \n",
       " -23.25      -23.25      -16.5       0.75             6.76838e-28 \n",
       " -23.25      -23.25      -15.75      0.75             6.76838e-28 \n",
       " -23.25      -23.25      -15.0       0.75             6.76838e-28 \n",
       "   ⋮                                                              \n",
       "  14.7188      1.96875    -0.046875  0.046875         3.59298e-26 \n",
       "  14.7188      1.96875     0.0       0.046875         3.80161e-26 \n",
       "  14.7188      1.96875     0.046875  0.046875         4.29495e-26 \n",
       "  14.7188      1.96875     0.09375   0.046875         3.96562e-26 \n",
       "  14.7188      2.01563    -0.140625  0.046875         2.49252e-26 \n",
       "  14.7188      2.01563    -0.09375   0.046875         2.58237e-26 \n",
       "  14.7188      2.01563    -0.046875  0.046875         2.71999e-26 \n",
       "  14.7188      2.01563     0.0       0.046875         2.79827e-26 \n",
       "  14.7188      2.0625     -0.140625  0.046875         2.39398e-26 \n",
       "  14.7188      2.0625     -0.09375   0.046875         2.44115e-26 \n",
       "  14.7188      2.0625     -0.046875  0.046875         2.57262e-26 \n",
       "  14.7188      2.0625      0.0       0.046875         2.61481e-26 "
      ]
     },
     "execution_count": 111,
     "metadata": {},
     "output_type": "execute_result"
    }
   ],
   "source": [
    "hydrodata3 = deserialize( GzipDecompressorStream( open(\"sample-data3.jls.gz\", \"r\") ) )"
   ]
  },
  {
   "cell_type": "markdown",
   "metadata": {},
   "source": [
    "## Other File Formats\n",
    "- HDF5 https://github.com/JuliaIO/HDF5.jl\n",
    "- Numpy https://github.com/fhs/NPZ.jl\n",
    "- FITS https://github.com/JuliaAstro/FITSIO.jl\n",
    "- FITS https://github.com/emmt/EasyFITS.jl\n",
    "- Matlab https://github.com/JuliaIO/MAT.jl\n",
    "- GZip https://github.com/JuliaIO/GZip.jl"
   ]
  },
  {
   "cell_type": "code",
   "execution_count": null,
   "metadata": {},
   "outputs": [],
   "source": []
  }
 ],
 "metadata": {
  "kernelspec": {
   "display_name": "Julia 1.3.1",
   "language": "julia",
   "name": "julia-1.3"
  },
  "language_info": {
   "file_extension": ".jl",
   "mimetype": "application/julia",
   "name": "julia",
   "version": "1.3.1"
  }
 },
 "nbformat": 4,
 "nbformat_minor": 4
}
