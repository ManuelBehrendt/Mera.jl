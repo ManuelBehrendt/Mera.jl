{
 "cells": [
  {
   "cell_type": "markdown",
   "metadata": {},
   "source": [
    "# Load Data from Existing Outputs"
   ]
  },
  {
   "cell_type": "code",
   "execution_count": 1,
   "metadata": {},
   "outputs": [
    {
     "name": "stderr",
     "output_type": "stream",
     "text": [
      "┌ Info: Precompiling Mera [02f895e8-fdb1-4346-8fe6-c721699f5126]\n",
      "└ @ Base loading.jl:1273\n"
     ]
    },
    {
     "name": "stdout",
     "output_type": "stream",
     "text": [
      "\n",
      "*__   __ _______ ______   _______ \n",
      "|  |_|  |       |    _ | |   _   |\n",
      "|       |    ___|   | || |  |_|  |\n",
      "|       |   |___|   |_||_|       |\n",
      "|       |    ___|    __  |       |\n",
      "| ||_|| |   |___|   |  | |   _   |\n",
      "|_|   |_|_______|___|  |_|__| |__|\n",
      "\n"
     ]
    }
   ],
   "source": [
    "using Mera"
   ]
  },
  {
   "cell_type": "markdown",
   "metadata": {},
   "source": [
    "## Load data from a sequence of snapshots"
   ]
  },
  {
   "cell_type": "code",
   "execution_count": null,
   "metadata": {},
   "outputs": [],
   "source": [
    "for i = 1:10\n",
    "    info = getinfo(output=i, \"../../../testing/simulations/manu_sim_sf_L10\", verbose=false)\n",
    "    #...gethydro(info)...getparticles(info)... etc.\n",
    "end"
   ]
  },
  {
   "cell_type": "markdown",
   "metadata": {},
   "source": [
    "## Load data from existing simulations in a given folder\n",
    "List the content of a given folder:"
   ]
  },
  {
   "cell_type": "code",
   "execution_count": 2,
   "metadata": {},
   "outputs": [
    {
     "data": {
      "text/plain": [
       "9-element Array{String,1}:\n",
       " \".ipynb_checkpoints\"\n",
       " \"output_00001\"      \n",
       " \"output_00003\"      \n",
       " \"output_00004\"      \n",
       " \"output_00007\"      \n",
       " \"output_00010\"      \n",
       " \"output_00013\"      \n",
       " \"output_00016\"      \n",
       " \"output_00019\"      "
      ]
     },
     "execution_count": 2,
     "metadata": {},
     "output_type": "execute_result"
    }
   ],
   "source": [
    "path = \"../../../testing/simulations/ramses_star_formation\"\n",
    "readdir(path)"
   ]
  },
  {
   "cell_type": "markdown",
   "metadata": {},
   "source": [
    "Get the relevant simulation output-numbers:"
   ]
  },
  {
   "cell_type": "code",
   "execution_count": 3,
   "metadata": {},
   "outputs": [],
   "source": [
    "N = checkoutputs(path);"
   ]
  },
  {
   "cell_type": "code",
   "execution_count": 4,
   "metadata": {},
   "outputs": [
    {
     "data": {
      "text/plain": [
       "7-element Array{Int64,1}:\n",
       "  1\n",
       "  4\n",
       "  7\n",
       " 10\n",
       " 13\n",
       " 16\n",
       " 19"
      ]
     },
     "execution_count": 4,
     "metadata": {},
     "output_type": "execute_result"
    }
   ],
   "source": [
    "N.outputs"
   ]
  },
  {
   "cell_type": "markdown",
   "metadata": {},
   "source": [
    "List of empty simulation folders:"
   ]
  },
  {
   "cell_type": "code",
   "execution_count": 5,
   "metadata": {},
   "outputs": [
    {
     "data": {
      "text/plain": [
       "1-element Array{Int64,1}:\n",
       " 3"
      ]
     },
     "execution_count": 5,
     "metadata": {},
     "output_type": "execute_result"
    }
   ],
   "source": [
    "N.missing"
   ]
  },
  {
   "cell_type": "markdown",
   "metadata": {},
   "source": [
    "Load the data:"
   ]
  },
  {
   "cell_type": "code",
   "execution_count": 6,
   "metadata": {},
   "outputs": [
    {
     "name": "stdout",
     "output_type": "stream",
     "text": [
      "Output: 1\n",
      "Output: 4\n",
      "Output: 7\n",
      "Output: 10\n",
      "Output: 13\n",
      "Output: 16\n",
      "Output: 19\n"
     ]
    }
   ],
   "source": [
    "for i in N.outputs\n",
    "    println(\"Output: $i\")\n",
    "    info = getinfo(output=i, path, verbose=false)\n",
    "    #...gethydro(info)...getparticles(info)... etc.\n",
    "end"
   ]
  },
  {
   "cell_type": "markdown",
   "metadata": {},
   "source": [
    "Get the physical time of all existing outputs:"
   ]
  },
  {
   "cell_type": "code",
   "execution_count": 7,
   "metadata": {},
   "outputs": [
    {
     "data": {
      "text/plain": [
       "7-element Array{Float64,1}:\n",
       " 0.0               \n",
       " 0.6974071892328049\n",
       " 0.8722968605999833\n",
       " 1.0432588470755855\n",
       " 1.2217932462903247\n",
       " 1.4016810597086558\n",
       " 1.5865234202798626"
      ]
     },
     "execution_count": 7,
     "metadata": {},
     "output_type": "execute_result"
    }
   ],
   "source": [
    "gettime.(N.outputs, path, :Myr)"
   ]
  },
  {
   "cell_type": "code",
   "execution_count": null,
   "metadata": {},
   "outputs": [],
   "source": []
  }
 ],
 "metadata": {
  "kernelspec": {
   "display_name": "Julia 1.3.1",
   "language": "julia",
   "name": "julia-1.3"
  },
  "language_info": {
   "file_extension": ".jl",
   "mimetype": "application/julia",
   "name": "julia",
   "version": "1.3.1"
  }
 },
 "nbformat": 4,
 "nbformat_minor": 4
}
