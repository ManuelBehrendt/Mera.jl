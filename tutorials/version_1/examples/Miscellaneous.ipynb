{
 "cells": [
  {
   "cell_type": "markdown",
   "id": "aae322c1-7667-4881-8013-a7df2c37d504",
   "metadata": {},
   "source": [
    "# Miscellaneous"
   ]
  },
  {
   "cell_type": "code",
   "execution_count": 6,
   "id": "9a7c7813-cda0-46b8-bce1-0192605fb255",
   "metadata": {
    "tags": []
   },
   "outputs": [],
   "source": [
    "using Mera\n",
    "info=getinfo(300, \"../../../testing/simulations/mw_L10/\", verbose=false);"
   ]
  },
  {
   "cell_type": "markdown",
   "id": "a897d655-c22c-4128-bb19-699dd92917c2",
   "metadata": {},
   "source": [
    "## MyArguments"
   ]
  },
  {
   "cell_type": "markdown",
   "id": "fb179fe3-29ff-43a3-b7c4-34f79addb925",
   "metadata": {},
   "source": [
    "Pass several arguments at once to a function for better readability!"
   ]
  },
  {
   "cell_type": "code",
   "execution_count": 5,
   "id": "02e865d3-393e-4a4f-9526-a8a8e4557028",
   "metadata": {
    "tags": []
   },
   "outputs": [
    {
     "data": {
      "text/plain": [
       "ArgumentsType(missing, missing, missing, missing, missing, missing, missing, missing, missing, missing, missing, missing, missing, missing, missing, missing, missing, missing, missing)"
      ]
     },
     "execution_count": 5,
     "metadata": {},
     "output_type": "execute_result"
    }
   ],
   "source": [
    "# create an empty struct for arguments:\n",
    "myargs = ArgumentsType()"
   ]
  },
  {
   "cell_type": "code",
   "execution_count": 4,
   "id": "617633a4-fee3-4043-a52d-6262db44b9d3",
   "metadata": {
    "tags": []
   },
   "outputs": [
    {
     "name": "stdout",
     "output_type": "stream",
     "text": [
      "\n",
      "\u001b[0m\u001b[1m[Mera]: Fields to use as arguments in functions\u001b[22m\n",
      "\u001b[0m\u001b[1m=======================================================================\u001b[22m\n",
      "pxsize\t= missing\n",
      "res\t= missing\n",
      "lmax\t= missing\n",
      "xrange\t= missing\n",
      "yrange\t= missing\n",
      "zrange\t= missing\n",
      "radius\t= missing\n",
      "height\t= missing\n",
      "direction\t= missing\n",
      "plane\t= missing\n",
      "plane_ranges\t= missing\n",
      "thickness\t= missing\n",
      "position\t= missing\n",
      "center\t= missing\n",
      "range_unit\t= missing\n",
      "data_center\t= missing\n",
      "data_center_unit\t= missing\n",
      "verbose\t= missing\n",
      "show_progress\t= missing\n",
      "\n"
     ]
    }
   ],
   "source": [
    "viewfields(myargs)"
   ]
  },
  {
   "cell_type": "code",
   "execution_count": 6,
   "id": "9f901c4f-49e6-4aa3-8406-fa730a1c331c",
   "metadata": {
    "tags": []
   },
   "outputs": [],
   "source": [
    "# assign necessary fields:\n",
    "myargs.pxsize = [100., :pc]\n",
    "myargs.xrange=[-10.,10.]\n",
    "myargs.yrange=[-10.,10.]\n",
    "myargs.zrange=[-2.,2.]\n",
    "myargs.center=[:boxcenter]\n",
    "myargs.range_unit=:kpc;"
   ]
  },
  {
   "cell_type": "markdown",
   "id": "dc77aa1d-34d9-41c7-b30b-de615d3b4b8d",
   "metadata": {
    "tags": []
   },
   "source": [
    "<div class=\"alert alert-block alert-info\"> <b>NOTE</b> All functions that hold the upper listed arguments can handle the ArgumentsType struct! </div>"
   ]
  },
  {
   "cell_type": "code",
   "execution_count": 13,
   "id": "bf6f9f48-12c0-4006-a794-c65e0f7729f7",
   "metadata": {
    "tags": []
   },
   "outputs": [
    {
     "name": "stdout",
     "output_type": "stream",
     "text": [
      "\u001b[0m\u001b[1m[Mera]: Get hydro data: 2023-04-10T21:15:35.249\u001b[22m\n",
      "\n",
      "Key vars=(:level, :cx, :cy, :cz)\n",
      "Using var(s)=(1, 2, 3, 4, 5, 6, 7) = (:rho, :vx, :vy, :vz, :p, :var6, :var7) \n",
      "\n",
      "center: [0.5, 0.5, 0.5] ==> [24.0 [kpc] :: 24.0 [kpc] :: 24.0 [kpc]]\n",
      "\n",
      "domain:\n",
      "xmin::xmax: 0.2916667 :: 0.7083333  \t==> 14.0 [kpc] :: 34.0 [kpc]\n",
      "ymin::ymax: 0.2916667 :: 0.7083333  \t==> 14.0 [kpc] :: 34.0 [kpc]\n",
      "zmin::zmax: 0.4583333 :: 0.5416667  \t==> 22.0 [kpc] :: 26.0 [kpc]\n",
      "\n",
      "Reading data...\n"
     ]
    },
    {
     "name": "stderr",
     "output_type": "stream",
     "text": [
      "\u001b[32mProgress: 100%|█████████████████████████████████████████| Time: 0:00:17\u001b[39m\n"
     ]
    },
    {
     "name": "stdout",
     "output_type": "stream",
     "text": [
      "Memory used for data table :580.2776288986206 MB\n",
      "-------------------------------------------------------\n",
      "\n"
     ]
    }
   ],
   "source": [
    "gas = gethydro(info, myargs=myargs);"
   ]
  },
  {
   "cell_type": "code",
   "execution_count": 14,
   "id": "b99923e4-4f3c-40b2-9f21-ecb276a74bee",
   "metadata": {
    "tags": []
   },
   "outputs": [
    {
     "name": "stdout",
     "output_type": "stream",
     "text": [
      "\u001b[0m\u001b[1m[Mera]: Get particle data: 2023-04-10T21:15:57.394\u001b[22m\n",
      "\n",
      "Key vars=(:level, :x, :y, :z, :id, :family, :tag)\n",
      "Using var(s)=(1, 2, 3, 4, 7) = (:vx, :vy, :vz, :mass, :birth) \n",
      "\n",
      "center: [0.5, 0.5, 0.5] ==> [24.0 [kpc] :: 24.0 [kpc] :: 24.0 [kpc]]\n",
      "\n",
      "domain:\n",
      "xmin::xmax: 0.2916667 :: 0.7083333  \t==> 14.0 [kpc] :: 34.0 [kpc]\n",
      "ymin::ymax: 0.2916667 :: 0.7083333  \t==> 14.0 [kpc] :: 34.0 [kpc]\n",
      "zmin::zmax: 0.4583333 :: 0.5416667  \t==> 22.0 [kpc] :: 26.0 [kpc]\n",
      "\n",
      "Found 5.368130e+05 particles\n",
      "Memory used for data table :37.88558769226074 MB\n",
      "-------------------------------------------------------\n",
      "\n"
     ]
    }
   ],
   "source": [
    "part = getparticles(info, myargs=myargs);"
   ]
  },
  {
   "cell_type": "code",
   "execution_count": 15,
   "id": "f95dc98b-c069-4135-8fd0-0249216a82bc",
   "metadata": {
    "tags": []
   },
   "outputs": [
    {
     "name": "stdout",
     "output_type": "stream",
     "text": [
      "\u001b[0m\u001b[1m[Mera]: 2023-04-10T21:16:08.050\u001b[22m\n",
      "\n",
      "center: [0.5, 0.5, 0.5] ==> [24.0 [kpc] :: 24.0 [kpc] :: 24.0 [kpc]]\n",
      "\n",
      "domain:\n",
      "xmin::xmax: 0.2916667 :: 0.7083333  \t==> 14.0 [kpc] :: 34.0 [kpc]\n",
      "ymin::ymax: 0.2916667 :: 0.7083333  \t==> 14.0 [kpc] :: 34.0 [kpc]\n",
      "zmin::zmax: 0.4583333 :: 0.5416667  \t==> 22.0 [kpc] :: 26.0 [kpc]\n",
      "\n",
      "Selected var(s)=(:sd,) \n",
      "Weighting      = :mass\n",
      "\n",
      "Effective resolution: 481^2\n",
      "Map size: 201 x 201\n",
      "Pixel size: 99.792 [pc]\n",
      "Simulation min.: 46.875 [pc]\n",
      "\n"
     ]
    }
   ],
   "source": [
    "p = projection(gas, :sd, :Msun_pc2, myargs=myargs);"
   ]
  },
  {
   "cell_type": "code",
   "execution_count": 20,
   "id": "9fde3f0b-98c8-42c7-8eef-44b96a05f5f9",
   "metadata": {
    "tags": []
   },
   "outputs": [],
   "source": [
    "# add more args for silent screen:\n",
    "myargs.verbose=false\n",
    "myargs.show_progress=false;"
   ]
  },
  {
   "cell_type": "code",
   "execution_count": 17,
   "id": "d91a5d5b-1df4-47a7-8d1b-17c79f21d06c",
   "metadata": {
    "tags": []
   },
   "outputs": [],
   "source": [
    "gas = gethydro(info, myargs=myargs);"
   ]
  },
  {
   "cell_type": "code",
   "execution_count": 18,
   "id": "e5d1bb9f-de19-43b2-adf0-891c87a50d7b",
   "metadata": {
    "tags": []
   },
   "outputs": [],
   "source": [
    "part = getparticles(info, myargs=myargs);"
   ]
  },
  {
   "cell_type": "code",
   "execution_count": 19,
   "id": "f2285b00-9e5a-4d13-a575-dcea4ac3cf49",
   "metadata": {
    "tags": []
   },
   "outputs": [],
   "source": [
    "p = projection(gas, :sd, :Msun_pc2, myargs=myargs);"
   ]
  },
  {
   "cell_type": "code",
   "execution_count": null,
   "id": "731fa521-285e-4cfd-ac3b-9e5e5eada182",
   "metadata": {},
   "outputs": [],
   "source": []
  },
  {
   "cell_type": "markdown",
   "id": "b5b95322-048c-48ef-9b01-16a1df474ed1",
   "metadata": {},
   "source": [
    "## Verbose & Progressbar Switch\n",
    "Master switch to toggle the verbose mode and progress bar for all functions:"
   ]
  },
  {
   "cell_type": "code",
   "execution_count": 21,
   "id": "83c4ebd5-417e-4cc4-9ab3-ee0825fe52b6",
   "metadata": {
    "tags": []
   },
   "outputs": [
    {
     "name": "stdout",
     "output_type": "stream",
     "text": [
      "verbose_mode: nothing\n"
     ]
    }
   ],
   "source": [
    "# current status\n",
    "# \"nothing\" allows the functions to use the passed argument: \n",
    "# verbose=false/true\n",
    "verbose()"
   ]
  },
  {
   "cell_type": "code",
   "execution_count": 22,
   "id": "3423f02f-e517-4fb0-b9e7-d718c34982d7",
   "metadata": {
    "tags": []
   },
   "outputs": [
    {
     "data": {
      "text/plain": [
       "false"
      ]
     },
     "execution_count": 22,
     "metadata": {},
     "output_type": "execute_result"
    }
   ],
   "source": [
    "# switch off verbose mode globally:\n",
    "verbose(false)"
   ]
  },
  {
   "cell_type": "code",
   "execution_count": 23,
   "id": "d5acdbd9-663b-4c2f-8624-e2ce44fd2bfd",
   "metadata": {
    "tags": []
   },
   "outputs": [
    {
     "name": "stdout",
     "output_type": "stream",
     "text": [
      "Reading data...\n"
     ]
    },
    {
     "name": "stderr",
     "output_type": "stream",
     "text": [
      "\u001b[32mProgress: 100%|█████████████████████████████████████████| Time: 0:00:22\u001b[39m\n"
     ]
    }
   ],
   "source": [
    "# check\n",
    "gas = gethydro(info);"
   ]
  },
  {
   "cell_type": "code",
   "execution_count": null,
   "id": "0585cfd8-7449-4a04-ae66-09a9b50449de",
   "metadata": {},
   "outputs": [],
   "source": [
    "# switch on verbose mode globally:\n",
    "# the passed argument verbose=false/true to the individual\n",
    "# functions is ignored.\n",
    "verbose(true)"
   ]
  },
  {
   "cell_type": "code",
   "execution_count": 24,
   "id": "bedc9136-8bd5-4811-a3b0-3d6dd54ce315",
   "metadata": {
    "tags": []
   },
   "outputs": [
    {
     "name": "stdout",
     "output_type": "stream",
     "text": [
      "\u001b[0m\u001b[1m[Mera]: Get hydro data: 2023-04-10T21:21:09.500\u001b[22m\n",
      "\n",
      "Key vars=(:level, :cx, :cy, :cz)\n",
      "Using var(s)=(1, 2, 3, 4, 5, 6, 7) = (:rho, :vx, :vy, :vz, :p, :var6, :var7) \n",
      "\n",
      "domain:\n",
      "xmin::xmax: 0.0 :: 1.0  \t==> 0.0 [kpc] :: 48.0 [kpc]\n",
      "ymin::ymax: 0.0 :: 1.0  \t==> 0.0 [kpc] :: 48.0 [kpc]\n",
      "zmin::zmax: 0.0 :: 1.0  \t==> 0.0 [kpc] :: 48.0 [kpc]\n",
      "\n",
      "Reading data...\n"
     ]
    },
    {
     "name": "stderr",
     "output_type": "stream",
     "text": [
      "\u001b[32mProgress: 100%|█████████████████████████████████████████| Time: 0:00:24\u001b[39m\n"
     ]
    },
    {
     "name": "stdout",
     "output_type": "stream",
     "text": [
      "Memory used for data table :2.3210865957662463 GB\n",
      "-------------------------------------------------------\n",
      "\n"
     ]
    }
   ],
   "source": [
    "gas = gethydro(info);"
   ]
  },
  {
   "cell_type": "code",
   "execution_count": null,
   "id": "87773147-2a8e-4d8e-b62b-c139d780394f",
   "metadata": {},
   "outputs": [],
   "source": []
  },
  {
   "cell_type": "code",
   "execution_count": 28,
   "id": "ba9d9b2c-d341-474a-8976-323dda6e8ca6",
   "metadata": {
    "tags": []
   },
   "outputs": [
    {
     "name": "stdout",
     "output_type": "stream",
     "text": [
      "showprogress_mode: nothing\n"
     ]
    }
   ],
   "source": [
    "# current status\n",
    "# \"nothing\" allows the functions to use the passed argument: \n",
    "# show_progress=false/true\n",
    "showprogress()"
   ]
  },
  {
   "cell_type": "code",
   "execution_count": 33,
   "id": "d5e87541-4374-499a-b2cf-bd1af5966310",
   "metadata": {
    "tags": []
   },
   "outputs": [
    {
     "data": {
      "text/plain": [
       "false"
      ]
     },
     "execution_count": 33,
     "metadata": {},
     "output_type": "execute_result"
    }
   ],
   "source": [
    "# switch off the progressbar globally:\n",
    "showprogress(false)"
   ]
  },
  {
   "cell_type": "code",
   "execution_count": 35,
   "id": "405f46b3-2cdb-4bcd-82d9-e15cf02e135e",
   "metadata": {
    "tags": []
   },
   "outputs": [
    {
     "name": "stdout",
     "output_type": "stream",
     "text": [
      "showprogress_mode: false\n"
     ]
    }
   ],
   "source": [
    "# check\n",
    "showprogress()"
   ]
  },
  {
   "cell_type": "code",
   "execution_count": 34,
   "id": "e46e4893-f4db-4cd5-b5dc-1eff326e2f48",
   "metadata": {
    "tags": []
   },
   "outputs": [
    {
     "name": "stdout",
     "output_type": "stream",
     "text": [
      "\u001b[0m\u001b[1m[Mera]: Get hydro data: 2023-04-10T21:25:05.493\u001b[22m\n",
      "\n",
      "Key vars=(:level, :cx, :cy, :cz)\n",
      "Using var(s)=(1, 2, 3, 4, 5, 6, 7) = (:rho, :vx, :vy, :vz, :p, :var6, :var7) \n",
      "\n",
      "domain:\n",
      "xmin::xmax: 0.0 :: 1.0  \t==> 0.0 [kpc] :: 48.0 [kpc]\n",
      "ymin::ymax: 0.0 :: 1.0  \t==> 0.0 [kpc] :: 48.0 [kpc]\n",
      "zmin::zmax: 0.0 :: 1.0  \t==> 0.0 [kpc] :: 48.0 [kpc]\n",
      "\n",
      "Memory used for data table :2.3210865957662463 GB\n",
      "-------------------------------------------------------\n",
      "\n"
     ]
    }
   ],
   "source": [
    "gas = gethydro(info);"
   ]
  },
  {
   "cell_type": "code",
   "execution_count": null,
   "id": "7f89b29a-a27b-4992-bff9-174887e3ead8",
   "metadata": {
    "tags": []
   },
   "outputs": [],
   "source": []
  },
  {
   "cell_type": "code",
   "execution_count": 31,
   "id": "bfb6a7f4-444d-4a63-8741-fbd90795501a",
   "metadata": {
    "tags": []
   },
   "outputs": [
    {
     "data": {
      "text/plain": [
       "true"
      ]
     },
     "execution_count": 31,
     "metadata": {},
     "output_type": "execute_result"
    }
   ],
   "source": [
    "# switch on the progressbar globally:\n",
    "# the passed argument show_progress=false/true to the individual\n",
    "# functions is ignored.\n",
    "showprogress(true)"
   ]
  },
  {
   "cell_type": "code",
   "execution_count": 32,
   "id": "951cfc3a-87bf-44df-a4dd-36ca85ccebb3",
   "metadata": {
    "tags": []
   },
   "outputs": [
    {
     "name": "stdout",
     "output_type": "stream",
     "text": [
      "showprogress_mode: true\n"
     ]
    }
   ],
   "source": [
    "# check\n",
    "showprogress()"
   ]
  },
  {
   "cell_type": "code",
   "execution_count": 36,
   "id": "31183a27-7c36-4175-bfbd-003c50796298",
   "metadata": {
    "tags": []
   },
   "outputs": [],
   "source": [
    "# return to neutral mode\n",
    "showprogress(nothing)"
   ]
  },
  {
   "cell_type": "code",
   "execution_count": 37,
   "id": "a2f986a1-54cb-4bf7-b13e-f21478cf6b14",
   "metadata": {
    "tags": []
   },
   "outputs": [
    {
     "name": "stdout",
     "output_type": "stream",
     "text": [
      "showprogress_mode: nothing\n"
     ]
    }
   ],
   "source": [
    "# check\n",
    "showprogress()"
   ]
  },
  {
   "cell_type": "code",
   "execution_count": null,
   "id": "26293920-bdc5-489c-8c15-cb857aee2f1f",
   "metadata": {},
   "outputs": [],
   "source": []
  },
  {
   "cell_type": "markdown",
   "id": "73a21bbc-0a35-46f1-948e-39ea8bdcfab4",
   "metadata": {},
   "source": [
    "## Notification Bell "
   ]
  },
  {
   "cell_type": "code",
   "execution_count": 9,
   "id": "918c6b4e-b2e6-48a6-ad90-0fbb42656810",
   "metadata": {},
   "outputs": [
    {
     "name": "stdout",
     "output_type": "stream",
     "text": [
      "search: \u001b[0m\u001b[1mb\u001b[22m\u001b[0m\u001b[1me\u001b[22m\u001b[0m\u001b[1ml\u001b[22m\u001b[0m\u001b[1ml\u001b[22m \u001b[0m\u001b[1mb\u001b[22myt\u001b[0m\u001b[1me\u001b[22msavai\u001b[0m\u001b[1ml\u001b[22mab\u001b[0m\u001b[1ml\u001b[22me @la\u001b[0m\u001b[1mb\u001b[22m\u001b[0m\u001b[1me\u001b[22m\u001b[0m\u001b[1ml\u001b[22m \u001b[0m\u001b[1mb\u001b[22mulk_v\u001b[0m\u001b[1me\u001b[22m\u001b[0m\u001b[1ml\u001b[22mocity \u001b[0m\u001b[1mb\u001b[22mar\u001b[0m\u001b[1me\u001b[22mmodu\u001b[0m\u001b[1ml\u001b[22me A\u001b[0m\u001b[1mb\u001b[22mstractChann\u001b[0m\u001b[1me\u001b[22m\u001b[0m\u001b[1ml\u001b[22m\n",
      "\n"
     ]
    },
    {
     "data": {
      "text/latex": [
       "\\subsubsection{Get a notification sound, e.g., when your calculations are finished.}\n",
       "This may not apply when working remotely on a server:\n",
       "\n",
       "\\begin{verbatim}\n",
       "julia> bell()\n",
       "\\end{verbatim}\n"
      ],
      "text/markdown": [
       "### Get a notification sound, e.g., when your calculations are finished.\n",
       "\n",
       "This may not apply when working remotely on a server:\n",
       "\n",
       "```julia\n",
       "julia> bell()\n",
       "```\n"
      ],
      "text/plain": [
       "\u001b[1m  Get a notification sound, e.g., when your calculations are finished.\u001b[22m\n",
       "\u001b[1m  ––––––––––––––––––––––––––––––––––––––––––––––––––––––––––––––––––––––\u001b[22m\n",
       "\n",
       "  This may not apply when working remotely on a server:\n",
       "\n",
       "\u001b[36m  julia> bell()\u001b[39m"
      ]
     },
     "execution_count": 9,
     "metadata": {},
     "output_type": "execute_result"
    }
   ],
   "source": [
    "?bell"
   ]
  },
  {
   "cell_type": "markdown",
   "id": "6a6bf7e2-1e14-4c02-ab37-371ce387625f",
   "metadata": {
    "tags": []
   },
   "source": [
    "## Notification E-Mail "
   ]
  },
  {
   "cell_type": "code",
   "execution_count": 7,
   "id": "b3e4007a-7972-4758-a7ed-0d690b9dd437",
   "metadata": {
    "tags": []
   },
   "outputs": [
    {
     "name": "stdout",
     "output_type": "stream",
     "text": [
      "search: \u001b[0m\u001b[1mn\u001b[22m\u001b[0m\u001b[1mo\u001b[22m\u001b[0m\u001b[1mt\u001b[22m\u001b[0m\u001b[1mi\u001b[22m\u001b[0m\u001b[1mf\u001b[22m\u001b[0m\u001b[1my\u001b[22m\u001b[0m\u001b[1mm\u001b[22m\u001b[0m\u001b[1me\u001b[22m \u001b[0m\u001b[1mn\u001b[22m\u001b[0m\u001b[1mo\u001b[22m\u001b[0m\u001b[1mt\u001b[22m\u001b[0m\u001b[1mi\u001b[22m\u001b[0m\u001b[1mf\u001b[22m\u001b[0m\u001b[1my\u001b[22m\n",
      "\n"
     ]
    },
    {
     "data": {
      "text/latex": [
       "\\subsubsection{Get an email notification, e.g., when your calculations are finished.}\n",
       "Mandatory: \n",
       "\n",
       "\\begin{itemize}\n",
       "\\item the email client \"mail\" needs to be installed\n",
       "\n",
       "\n",
       "\\item put a file with the name \"email.txt\" in your home folder that contains your email address in the first line \n",
       "\n",
       "\\end{itemize}\n",
       "\\begin{verbatim}\n",
       "julia> notifyme()\n",
       "\\end{verbatim}\n",
       "or:\n",
       "\n",
       "\\begin{verbatim}\n",
       "julia> notifyme(\"Calculation 1 finished!\")\n",
       "\\end{verbatim}\n"
      ],
      "text/markdown": [
       "### Get an email notification, e.g., when your calculations are finished.\n",
       "\n",
       "Mandatory: \n",
       "\n",
       "  * the email client \"mail\" needs to be installed\n",
       "  * put a file with the name \"email.txt\" in your home folder that contains your email address in the first line\n",
       "\n",
       "```julia\n",
       "julia> notifyme()\n",
       "```\n",
       "\n",
       "or:\n",
       "\n",
       "```julia\n",
       "julia> notifyme(\"Calculation 1 finished!\")\n",
       "```\n"
      ],
      "text/plain": [
       "\u001b[1m  Get an email notification, e.g., when your calculations are finished.\u001b[22m\n",
       "\u001b[1m  –––––––––––––––––––––––––––––––––––––––––––––––––––––––––––––––––––––––\u001b[22m\n",
       "\n",
       "  Mandatory:\n",
       "\n",
       "    •  the email client \"mail\" needs to be installed\n",
       "\n",
       "    •  put a file with the name \"email.txt\" in your home folder that\n",
       "       contains your email address in the first line\n",
       "\n",
       "\u001b[36m  julia> notifyme()\u001b[39m\n",
       "\n",
       "  or:\n",
       "\n",
       "\u001b[36m  julia> notifyme(\"Calculation 1 finished!\")\u001b[39m"
      ]
     },
     "execution_count": 7,
     "metadata": {},
     "output_type": "execute_result"
    }
   ],
   "source": [
    "?notifyme"
   ]
  },
  {
   "cell_type": "code",
   "execution_count": null,
   "id": "73b90039-7614-46a5-8c3d-5aeab514e707",
   "metadata": {},
   "outputs": [],
   "source": []
  }
 ],
 "metadata": {
  "kernelspec": {
   "display_name": "Julia 1.6.7",
   "language": "julia",
   "name": "julia-1.6"
  },
  "language_info": {
   "file_extension": ".jl",
   "mimetype": "application/julia",
   "name": "julia",
   "version": "1.6.7"
  }
 },
 "nbformat": 4,
 "nbformat_minor": 5
}
