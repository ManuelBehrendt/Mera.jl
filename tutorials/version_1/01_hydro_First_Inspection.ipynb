{
 "cells": [
  {
   "cell_type": "markdown",
   "metadata": {},
   "source": [
    "# 1. Hydro: First Data Inspection"
   ]
  },
  {
   "cell_type": "markdown",
   "metadata": {},
   "source": [
    "## Simulation Overview"
   ]
  },
  {
   "cell_type": "code",
   "execution_count": 1,
   "metadata": {
    "tags": []
   },
   "outputs": [
    {
     "name": "stdout",
     "output_type": "stream",
     "text": [
      "\u001b[0m\u001b[1m[Mera]: 2025-06-21T20:47:48.296\u001b[22m\n",
      "\n",
      "Code: RAMSES\n",
      "output [300] summary:\n",
      "mtime: 2023-04-09T05:34:09\n",
      "ctime: 2025-06-21T18:31:24.020\n",
      "\u001b[0m\u001b[1m=======================================================\u001b[22m\n",
      "simulation time: 445.89 [Myr]\n",
      "boxlen: 48.0 [kpc]\n",
      "ncpu: 640\n",
      "ndim: 3\n",
      "-------------------------------------------------------\n",
      "amr:           true\n",
      "level(s): 6 - 10 --> cellsize(s): 750.0 [pc] - 46.88 [pc]\n",
      "-------------------------------------------------------\n",
      "hydro:         true\n",
      "hydro-variables:  7  --> (:rho, :vx, :vy, :vz, :p, :var6, :var7)\n",
      "hydro-descriptor: (:density, :velocity_x, :velocity_y, :velocity_z, :pressure, :scalar_00, :scalar_01)\n",
      "γ: 1.6667\n",
      "-------------------------------------------------------\n",
      "gravity:       true\n",
      "gravity-variables: (:epot, :ax, :ay, :az)\n",
      "-------------------------------------------------------\n",
      "particles:     true\n",
      "- Nstars:   5.445150e+05 \n",
      "particle-variables: 7  --> (:vx, :vy, :vz, :mass, :family, :tag, :birth)\n",
      "particle-descriptor: (:position_x, :position_y, :position_z, :velocity_x, :velocity_y, :velocity_z, :mass, :identity, :levelp, :family, :tag, :birth_time)\n",
      "-------------------------------------------------------\n",
      "rt:            false\n",
      "clumps:           false\n",
      "-------------------------------------------------------\n",
      "namelist-file: (\"&COOLING_PARAMS\", \"&SF_PARAMS\", \"&AMR_PARAMS\", \"&BOUNDARY_PARAMS\", \"&OUTPUT_PARAMS\", \"&POISSON_PARAMS\", \"&RUN_PARAMS\", \"&FEEDBACK_PARAMS\", \"&HYDRO_PARAMS\", \"&INIT_PARAMS\", \"&REFINE_PARAMS\")\n",
      "-------------------------------------------------------\n",
      "timer-file:       true\n",
      "compilation-file: false\n",
      "makefile:         true\n",
      "patchfile:        true\n",
      "\u001b[0m\u001b[1m=======================================================\u001b[22m\n",
      "\n"
     ]
    }
   ],
   "source": [
    "using Mera\n",
    "info = getinfo(300, \"/Volumes/FASTStorage/Simulations/Mera-Tests/mw_L10\");"
   ]
  },
  {
   "cell_type": "markdown",
   "metadata": {},
   "source": [
    "A short overview of the loaded hydro properties is printed:\n",
    "- existence of hydro files\n",
    "- the number and predefined variables\n",
    "- the variable names from the descriptor file\n",
    "- adiabatic index"
   ]
  },
  {
   "cell_type": "markdown",
   "metadata": {},
   "source": [
    "The functions in **Mera** \"know\" the predefined hydro variable names: :rho, :vx, :vy, :vz, :p, :var6, :var7,.... In a future version the variable names from the hydro descriptor can be used by setting the field info.descriptor.usehydro = true . Furthermore, the user has the opportunity to overwrite the variable names in the discriptor list by changing the entries in the array:"
   ]
  },
  {
   "cell_type": "code",
   "execution_count": 2,
   "metadata": {
    "tags": []
   },
   "outputs": [
    {
     "data": {
      "text/plain": [
       "7-element Vector{Symbol}:\n",
       " :density\n",
       " :velocity_x\n",
       " :velocity_y\n",
       " :velocity_z\n",
       " :pressure\n",
       " :scalar_00\n",
       " :scalar_01"
      ]
     },
     "execution_count": 2,
     "metadata": {},
     "output_type": "execute_result"
    }
   ],
   "source": [
    "info.descriptor.hydro"
   ]
  },
  {
   "cell_type": "markdown",
   "metadata": {},
   "source": [
    "For example:"
   ]
  },
  {
   "cell_type": "code",
   "execution_count": 3,
   "metadata": {
    "tags": []
   },
   "outputs": [],
   "source": [
    "info.descriptor.hydro[2] = :vel_x;"
   ]
  },
  {
   "cell_type": "code",
   "execution_count": 4,
   "metadata": {
    "tags": []
   },
   "outputs": [
    {
     "data": {
      "text/plain": [
       "7-element Vector{Symbol}:\n",
       " :density\n",
       " :vel_x\n",
       " :velocity_y\n",
       " :velocity_z\n",
       " :pressure\n",
       " :scalar_00\n",
       " :scalar_01"
      ]
     },
     "execution_count": 4,
     "metadata": {},
     "output_type": "execute_result"
    }
   ],
   "source": [
    "info.descriptor.hydro"
   ]
  },
  {
   "cell_type": "markdown",
   "metadata": {},
   "source": [
    "Get an overview of the loaded descriptor properties:"
   ]
  },
  {
   "cell_type": "code",
   "execution_count": 5,
   "metadata": {
    "tags": []
   },
   "outputs": [
    {
     "name": "stdout",
     "output_type": "stream",
     "text": [
      "\n",
      "\u001b[0m\u001b[1m[Mera]: Descriptor overview\u001b[22m\n",
      "\u001b[0m\u001b[1m=================================\u001b[22m\n",
      "hversion\t= 1\n",
      "hydro\t= [:density, :vel_x, :velocity_y, :velocity_z, :pressure, :scalar_00, :scalar_01]\n",
      "htypes\t= [\"d\", \"d\", \"d\", \"d\", \"d\", \"d\", \"d\"]\n",
      "usehydro\t= false\n",
      "hydrofile\t= true\n",
      "pversion\t= 1\n",
      "particles\t= [:position_x, :position_y, :position_z, :velocity_x, :velocity_y, :velocity_z, :mass, :identity, :levelp, :family, :tag, :birth_time]\n",
      "ptypes\t= [\"d\", \"d\", \"d\", \"d\", \"d\", \"d\", \"d\", \"i\", \"i\", \"b\", \"b\", \"d\"]\n",
      "useparticles\t= false\n",
      "particlesfile\t= true\n",
      "gravity\t= [:epot, :ax, :ay, :az]\n",
      "usegravity\t= false\n",
      "gravityfile\t= false\n",
      "rtversion\t= 0\n",
      "rt\t= Dict{Any, Any}()\n",
      "rtPhotonGroups\t= Dict{Any, Any}()\n",
      "usert\t= false\n",
      "rtfile\t= false\n",
      "clumps\t= Symbol[]\n",
      "useclumps\t= false\n",
      "clumpsfile\t= false\n",
      "sinks\t= Symbol[]\n",
      "usesinks\t= false\n",
      "sinksfile\t= false\n",
      "\n"
     ]
    }
   ],
   "source": [
    "viewfields(info.descriptor)"
   ]
  },
  {
   "cell_type": "markdown",
   "metadata": {},
   "source": [
    "Get a simple list of the fields:"
   ]
  },
  {
   "cell_type": "code",
   "execution_count": 6,
   "metadata": {
    "tags": []
   },
   "outputs": [
    {
     "data": {
      "text/plain": [
       "(:hversion, :hydro, :htypes, :usehydro, :hydrofile, :pversion, :particles, :ptypes, :useparticles, :particlesfile, :gravity, :usegravity, :gravityfile, :rtversion, :rt, :rtPhotonGroups, :usert, :rtfile, :clumps, :useclumps, :clumpsfile, :sinks, :usesinks, :sinksfile)"
      ]
     },
     "execution_count": 6,
     "metadata": {},
     "output_type": "execute_result"
    }
   ],
   "source": [
    "propertynames(info.descriptor)"
   ]
  },
  {
   "cell_type": "markdown",
   "metadata": {},
   "source": [
    "## Load AMR/Hydro Data"
   ]
  },
  {
   "cell_type": "code",
   "execution_count": 7,
   "metadata": {
    "tags": []
   },
   "outputs": [],
   "source": [
    "info = getinfo(300, \"/Volumes/FASTStorage/Simulations/Mera-Tests/mw_L10\", verbose=false); # used to overwrite the previous changes"
   ]
  },
  {
   "cell_type": "markdown",
   "metadata": {},
   "source": [
    "Read the AMR and the Hydro data from all files of the full box with all existing variables and cell positions (only leaf cells of the AMR grid)."
   ]
  },
  {
   "cell_type": "code",
   "execution_count": 8,
   "metadata": {
    "tags": []
   },
   "outputs": [
    {
     "name": "stdout",
     "output_type": "stream",
     "text": [
      "\u001b[0m\u001b[1m[Mera]: Get hydro data: 2025-06-21T20:47:55.574\u001b[22m\n",
      "\n",
      "Key vars=(:level, :cx, :cy, :cz)\n",
      "Using var(s)=(1, 2, 3, 4, 5, 6, 7) = (:rho, :vx, :vy, :vz, :p, :var6, :var7) \n",
      "\n",
      "domain:\n",
      "xmin::xmax: 0.0 :: 1.0  \t==> 0.0 [kpc] :: 48.0 [kpc]\n",
      "ymin::ymax: 0.0 :: 1.0  \t==> 0.0 [kpc] :: 48.0 [kpc]\n",
      "zmin::zmax: 0.0 :: 1.0  \t==> 0.0 [kpc] :: 48.0 [kpc]\n",
      "\n",
      "Reading data...\n"
     ]
    },
    {
     "name": "stderr",
     "output_type": "stream",
     "text": [
      "\u001b[32mProgress: 100%|█████████████████████████████████████████| Time: 0:01:19\u001b[39m\n"
     ]
    },
    {
     "name": "stdout",
     "output_type": "stream",
     "text": [
      "Memory used for data table :2.321086215786636 GB\n",
      "-------------------------------------------------------\n",
      "\n"
     ]
    }
   ],
   "source": [
    "gas = gethydro(info);"
   ]
  },
  {
   "cell_type": "markdown",
   "metadata": {},
   "source": [
    "The memory consumption of the data table is printed at the end. We provide a function which gives the possibility to print the used memory of any object: "
   ]
  },
  {
   "cell_type": "code",
   "execution_count": 9,
   "metadata": {
    "tags": []
   },
   "outputs": [
    {
     "name": "stdout",
     "output_type": "stream",
     "text": [
      "Memory used: 2.321 GB\n"
     ]
    }
   ],
   "source": [
    "usedmemory(gas);"
   ]
  },
  {
   "cell_type": "markdown",
   "metadata": {},
   "source": [
    "The assigned data object is now of type `HydroDataType`:"
   ]
  },
  {
   "cell_type": "code",
   "execution_count": 10,
   "metadata": {
    "tags": []
   },
   "outputs": [
    {
     "data": {
      "text/plain": [
       "HydroDataType"
      ]
     },
     "execution_count": 10,
     "metadata": {},
     "output_type": "execute_result"
    }
   ],
   "source": [
    "typeof(gas)"
   ]
  },
  {
   "cell_type": "markdown",
   "metadata": {},
   "source": [
    "It is a sub-type of `ContainMassDataSetType`"
   ]
  },
  {
   "cell_type": "code",
   "execution_count": 11,
   "metadata": {
    "tags": []
   },
   "outputs": [
    {
     "data": {
      "text/plain": [
       "DataSetType"
      ]
     },
     "execution_count": 11,
     "metadata": {},
     "output_type": "execute_result"
    }
   ],
   "source": [
    "supertype( ContainMassDataSetType )"
   ]
  },
  {
   "cell_type": "markdown",
   "metadata": {},
   "source": [
    "`ContainMassDataSetType` is a sub-type of to the super-type `DataSetType`"
   ]
  },
  {
   "cell_type": "code",
   "execution_count": 12,
   "metadata": {
    "tags": []
   },
   "outputs": [
    {
     "data": {
      "text/plain": [
       "HydroPartType"
      ]
     },
     "execution_count": 12,
     "metadata": {},
     "output_type": "execute_result"
    }
   ],
   "source": [
    "supertype( HydroDataType )"
   ]
  },
  {
   "cell_type": "markdown",
   "metadata": {},
   "source": [
    "The data is stored in a **IndexedTables** table and the user selected hydro variables and parameters are assigned to fields:"
   ]
  },
  {
   "cell_type": "code",
   "execution_count": 13,
   "metadata": {
    "tags": []
   },
   "outputs": [
    {
     "name": "stdout",
     "output_type": "stream",
     "text": [
      "\n",
      "\u001b[0m\u001b[1mdata ==> JuliaDB table: (:level, :cx, :cy, :cz, :rho, :vx, :vy, :vz, :p, :var6, :var7)\u001b[22m\n",
      "\n",
      "\u001b[0m\u001b[1minfo ==> subfields: (:output, :path, :fnames, :simcode, :mtime, :ctime, :ncpu, :ndim, :levelmin, :levelmax, :boxlen, :time, :aexp, :H0, :omega_m, :omega_l, :omega_k, :omega_b, :unit_l, :unit_d, :unit_m, :unit_v, :unit_t, :gamma, :hydro, :nvarh, :nvarp, :nvarrt, :variable_list, :gravity_variable_list, :particles_variable_list, :rt_variable_list, :clumps_variable_list, :sinks_variable_list, :descriptor, :amr, :gravity, :particles, :rt, :clumps, :sinks, :namelist, :namelist_content, :headerfile, :makefile, :files_content, :timerfile, :compilationfile, :patchfile, :Narraysize, :scale, :grid_info, :part_info, :compilation, :constants)\u001b[22m\n",
      "\n",
      "lmin\t= 6\n",
      "lmax\t= 10\n",
      "boxlen\t= 48.0\n",
      "ranges\t= [0.0, 1.0, 0.0, 1.0, 0.0, 1.0]\n",
      "selected_hydrovars\t= [1, 2, 3, 4, 5, 6, 7]\n",
      "smallr\t= 0.0\n",
      "smallc\t= 0.0\n",
      "\n",
      "\u001b[0m\u001b[1mscale ==> subfields: (:Mpc, :kpc, :pc, :mpc, :ly, :Au, :km, :m, :cm, :mm, :μm, :Mpc3, :kpc3, :pc3, :mpc3, :ly3, :Au3, :km3, :m3, :cm3, :mm3, :μm3, :Msol_pc3, :Msun_pc3, :g_cm3, :Msol_pc2, :Msun_pc2, :g_cm2, :Gyr, :Myr, :yr, :s, :ms, :Msol, :Msun, :Mearth, :Mjupiter, :g, :km_s, :m_s, :cm_s, :nH, :erg, :g_cms2, :T_mu, :K_mu, :T, :K, :Ba, :g_cm_s2, :p_kB, :K_cm3)\u001b[22m\n",
      "\n",
      "\n"
     ]
    }
   ],
   "source": [
    "viewfields(gas)"
   ]
  },
  {
   "cell_type": "markdown",
   "metadata": {},
   "source": [
    "For convenience, all the fields from the info-object above (InfoType) are now also accessible from the object with \"gas.info\" and the scaling relations from code to cgs units in \"gas.scale\". The minimum and maximum level of the loaded data, the box length, the selected ranges and number of the hydro variables are retained."
   ]
  },
  {
   "cell_type": "markdown",
   "metadata": {},
   "source": [
    "A minimum density or sound speed can be set for the loaded data (e.g. to overwrite negative densities) and is then represented by the fields smallr and smallc of the object `gas` (here). An example:"
   ]
  },
  {
   "cell_type": "code",
   "execution_count": 14,
   "metadata": {
    "tags": []
   },
   "outputs": [
    {
     "name": "stdout",
     "output_type": "stream",
     "text": [
      "\u001b[0m\u001b[1m[Mera]: Get hydro data: 2025-06-21T20:49:53.650\u001b[22m\n",
      "\n",
      "Key vars=(:level, :cx, :cy, :cz)\n",
      "Using var(s)=(1, 2, 3, 4, 5, 6, 7) = (:rho, :vx, :vy, :vz, :p, :var6, :var7) \n",
      "\n",
      "domain:\n",
      "xmin::xmax: 0.0 :: 1.0  \t==> 0.0 [kpc] :: 48.0 [kpc]\n",
      "ymin::ymax: 0.0 :: 1.0  \t==> 0.0 [kpc] :: 48.0 [kpc]\n",
      "zmin::zmax: 0.0 :: 1.0  \t==> 0.0 [kpc] :: 48.0 [kpc]\n",
      "\n",
      "Reading data...\n"
     ]
    },
    {
     "name": "stderr",
     "output_type": "stream",
     "text": [
      "\u001b[32mProgress: 100%|█████████████████████████████████████████| Time: 0:01:13\u001b[39m\n"
     ]
    },
    {
     "name": "stdout",
     "output_type": "stream",
     "text": [
      "Memory used for data table :2.321086215786636 GB\n",
      "-------------------------------------------------------\n",
      "\n"
     ]
    }
   ],
   "source": [
    "gas = gethydro(info, smallr=1e-11);"
   ]
  },
  {
   "cell_type": "markdown",
   "metadata": {},
   "source": [
    "Print the fields of an object (composite type) in a simple list:"
   ]
  },
  {
   "cell_type": "code",
   "execution_count": 15,
   "metadata": {
    "tags": []
   },
   "outputs": [
    {
     "data": {
      "text/plain": [
       "(:data, :info, :lmin, :lmax, :boxlen, :ranges, :selected_hydrovars, :used_descriptors, :smallr, :smallc, :scale)"
      ]
     },
     "execution_count": 15,
     "metadata": {},
     "output_type": "execute_result"
    }
   ],
   "source": [
    "propertynames(gas)"
   ]
  },
  {
   "cell_type": "markdown",
   "metadata": {},
   "source": [
    "## Overview of AMR/Hydro"
   ]
  },
  {
   "cell_type": "markdown",
   "metadata": {},
   "source": [
    "Get an overview of the AMR structure associated with the object `gas` (HydroDataType).\n",
    "The printed information is stored into the object `overview_amr` as a **IndexedTables** table (code units)  and can be used for further calculations:"
   ]
  },
  {
   "cell_type": "code",
   "execution_count": 16,
   "metadata": {
    "tags": []
   },
   "outputs": [
    {
     "name": "stdout",
     "output_type": "stream",
     "text": [
      "Counting...\n"
     ]
    },
    {
     "data": {
      "text/plain": [
       "Table with 5 rows, 3 columns:\n",
       "level  cells     cellsize\n",
       "─────────────────────────\n",
       "6      66568     0.75\n",
       "7      374908    0.375\n",
       "8      7806793   0.1875\n",
       "9      12774134  0.09375\n",
       "10     7298576   0.046875"
      ]
     },
     "execution_count": 16,
     "metadata": {},
     "output_type": "execute_result"
    }
   ],
   "source": [
    "overview_amr = amroverview(gas)"
   ]
  },
  {
   "cell_type": "markdown",
   "metadata": {},
   "source": [
    "Get some overview of the data that is associated with the object `gas`. The calculated information can be accessed from the object `data_overview` (here) in code units for further calculations:"
   ]
  },
  {
   "cell_type": "code",
   "execution_count": 17,
   "metadata": {
    "inputHidden": false,
    "outputHidden": false,
    "tags": []
   },
   "outputs": [
    {
     "name": "stdout",
     "output_type": "stream",
     "text": [
      "Calculating...\n"
     ]
    },
    {
     "name": "stderr",
     "output_type": "stream",
     "text": [
      "\u001b[32m 100%|███████████████████████████████████████████████████| Time: 0:03:09\u001b[39m\n"
     ]
    },
    {
     "data": {
      "text/plain": [
       "Table with 5 rows, 16 columns:\n",
       "Columns:\n",
       "\u001b[1m#   \u001b[22m\u001b[1mcolname   \u001b[22m\u001b[1mtype\u001b[22m\n",
       "──────────────────\n",
       "1   level     Any\n",
       "2   mass      Any\n",
       "3   rho_min   Any\n",
       "4   rho_max   Any\n",
       "5   vx_min    Any\n",
       "6   vx_max    Any\n",
       "7   vy_min    Any\n",
       "8   vy_max    Any\n",
       "9   vz_min    Any\n",
       "10  vz_max    Any\n",
       "11  p_min     Any\n",
       "12  p_max     Any\n",
       "13  var6_min  Any\n",
       "14  var6_max  Any\n",
       "15  var7_min  Any\n",
       "16  var7_max  Any"
      ]
     },
     "execution_count": 17,
     "metadata": {},
     "output_type": "execute_result"
    }
   ],
   "source": [
    "data_overview = dataoverview(gas)"
   ]
  },
  {
   "cell_type": "markdown",
   "metadata": {},
   "source": [
    "If the number of columns is relatively long, the table is typically represented by an overview. To access certain columns, use the `select` function. The representation \":mass\" is called a quoted Symbol ([see in Julia documentation](https://docs.julialang.org/en/v1/manual/metaprogramming/#Symbols-1)):"
   ]
  },
  {
   "cell_type": "code",
   "execution_count": 18,
   "metadata": {
    "tags": []
   },
   "outputs": [],
   "source": [
    "using Mera.IndexedTables"
   ]
  },
  {
   "cell_type": "code",
   "execution_count": 19,
   "metadata": {
    "tags": []
   },
   "outputs": [
    {
     "data": {
      "text/plain": [
       "Table with 5 rows, 4 columns:\n",
       "level  mass         rho_min     rho_max\n",
       "───────────────────────────────────────────\n",
       "6      0.000698165  2.61776e-9  1.16831e-7\n",
       "7      0.00126374   1.15139e-8  2.21103e-7\n",
       "8      0.0201245    2.44071e-8  0.000222309\n",
       "9      0.204407     1.2142e-7   0.0141484\n",
       "10     6.83618      4.49036e-7  3.32984"
      ]
     },
     "execution_count": 19,
     "metadata": {},
     "output_type": "execute_result"
    }
   ],
   "source": [
    "select(data_overview, (:level,:mass, :rho_min, :rho_max ) )"
   ]
  },
  {
   "cell_type": "markdown",
   "metadata": {},
   "source": [
    "Get an array from the column \":mass\" in `data_overview` and scale it to the units `Msol`. The order of the calculated data is consistent with the table above:"
   ]
  },
  {
   "cell_type": "code",
   "execution_count": 20,
   "metadata": {
    "tags": []
   },
   "outputs": [
    {
     "data": {
      "text/plain": [
       "5-element Vector{Float64}:\n",
       " 697971.5415380469\n",
       "      1.2633877595077453e6\n",
       "      2.01189316548175e7\n",
       "      2.0435047070331135e8\n",
       "      6.834288803451587e9"
      ]
     },
     "execution_count": 20,
     "metadata": {},
     "output_type": "execute_result"
    }
   ],
   "source": [
    "column(data_overview, :mass) * info.scale.Msol "
   ]
  },
  {
   "cell_type": "markdown",
   "metadata": {},
   "source": [
    "Or simply convert the `:mass` data in the table to `Msol` units by manipulating the column:"
   ]
  },
  {
   "cell_type": "code",
   "execution_count": 21,
   "metadata": {
    "tags": []
   },
   "outputs": [],
   "source": [
    "data_overview = transform(data_overview, :mass => :mass => value->value * info.scale.Msol);"
   ]
  },
  {
   "cell_type": "code",
   "execution_count": 22,
   "metadata": {
    "tags": []
   },
   "outputs": [
    {
     "data": {
      "text/plain": [
       "Table with 5 rows, 4 columns:\n",
       "level  mass       rho_min     rho_max\n",
       "─────────────────────────────────────────\n",
       "6      6.97972e5  2.61776e-9  1.16831e-7\n",
       "7      1.26339e6  1.15139e-8  2.21103e-7\n",
       "8      2.01189e7  2.44071e-8  0.000222309\n",
       "9      2.0435e8   1.2142e-7   0.0141484\n",
       "10     6.83429e9  4.49036e-7  3.32984"
      ]
     },
     "execution_count": 22,
     "metadata": {},
     "output_type": "execute_result"
    }
   ],
   "source": [
    "select(data_overview, (:level, :mass, :rho_min, :rho_max ) )"
   ]
  },
  {
   "cell_type": "markdown",
   "metadata": {},
   "source": [
    "## Data Inspection\n",
    "The data is associated with the field `gas.data` as a **IndexedTables** table (code units).\n",
    "Each row corresponds to a cell and each column to a property which makes it easy to  find, filter, map, aggregate, group the data, etc.\n",
    "More information can be found in the **Mera** tutorials or in: [JuliaDB API Reference](http://juliadb.org/latest/api/)"
   ]
  },
  {
   "cell_type": "markdown",
   "metadata": {
    "inputHidden": false,
    "outputHidden": false
   },
   "source": [
    "### Table View\n",
    "The cell positions cx,cy,cz correspond to a uniform 3D array for each level. E.g., for level=8, the positions range from 1-256 for each dimension, for level=14, 1-16384 while not all positions within this range exist due to the complex AMR structure. The integers cx,cy,cz are used to reconstruct the grid in many functions of **MERA** and should not be modified."
   ]
  },
  {
   "cell_type": "code",
   "execution_count": 23,
   "metadata": {
    "tags": []
   },
   "outputs": [
    {
     "data": {
      "text/plain": [
       "Table with 28320979 rows, 11 columns:\n",
       "Columns:\n",
       "\u001b[1m#   \u001b[22m\u001b[1mcolname  \u001b[22m\u001b[1mtype\u001b[22m\n",
       "────────────────────\n",
       "1   level    Int64\n",
       "2   cx       Int64\n",
       "3   cy       Int64\n",
       "4   cz       Int64\n",
       "5   rho      Float64\n",
       "6   vx       Float64\n",
       "7   vy       Float64\n",
       "8   vz       Float64\n",
       "9   p        Float64\n",
       "10  var6     Float64\n",
       "11  var7     Float64"
      ]
     },
     "execution_count": 23,
     "metadata": {},
     "output_type": "execute_result"
    }
   ],
   "source": [
    "gas.data"
   ]
  },
  {
   "cell_type": "markdown",
   "metadata": {},
   "source": [
    "A more detailed view into the data:"
   ]
  },
  {
   "cell_type": "code",
   "execution_count": 24,
   "metadata": {
    "tags": []
   },
   "outputs": [
    {
     "data": {
      "text/plain": [
       "Table with 28320979 rows, 5 columns:\n",
       "\u001b[1mlevel  \u001b[22m\u001b[1mcx   \u001b[22m\u001b[1mcy   \u001b[22m\u001b[1mcz   \u001b[22mrho\n",
       "─────────────────────────────────\n",
       "6      1    1    1    3.18647e-9\n",
       "6      1    1    2    3.58591e-9\n",
       "6      1    1    3    3.906e-9\n",
       "6      1    1    4    4.27441e-9\n",
       "6      1    1    5    4.61042e-9\n",
       "6      1    1    6    4.83977e-9\n",
       "6      1    1    7    4.974e-9\n",
       "6      1    1    8    5.08112e-9\n",
       "6      1    1    9    5.20596e-9\n",
       "6      1    1    10   5.38372e-9\n",
       "6      1    1    11   5.67209e-9\n",
       "6      1    1    12   6.14423e-9\n",
       "⋮\n",
       "10     814  493  514  0.000321702\n",
       "10     814  494  509  1.42963e-6\n",
       "10     814  494  510  1.4351e-6\n",
       "10     814  494  511  0.00029515\n",
       "10     814  494  512  0.000395273\n",
       "10     814  494  513  0.000321133\n",
       "10     814  494  514  0.000319678\n",
       "10     814  495  511  0.00024646\n",
       "10     814  495  512  0.000269009\n",
       "10     814  496  511  0.000235329\n",
       "10     814  496  512  0.000242422"
      ]
     },
     "execution_count": 24,
     "metadata": {},
     "output_type": "execute_result"
    }
   ],
   "source": [
    "select(gas.data, (:level,:cx, :cy, :cz, :rho) )"
   ]
  },
  {
   "cell_type": "code",
   "execution_count": null,
   "metadata": {},
   "outputs": [],
   "source": []
  }
 ],
 "metadata": {
  "kernel_info": {
   "name": "julia-0.6"
  },
  "kernelspec": {
   "display_name": "Julia 1.11.5",
   "language": "julia",
   "name": "julia-1.11"
  },
  "language_info": {
   "file_extension": ".jl",
   "mimetype": "application/julia",
   "name": "julia",
   "version": "1.11.5"
  },
  "nteract": {
   "version": "0.7.1"
  }
 },
 "nbformat": 4,
 "nbformat_minor": 4
}
