{
 "cells": [
  {
   "cell_type": "markdown",
   "metadata": {},
   "source": [
    "# 2. Particles: Load Selected Variables and Data Ranges"
   ]
  },
  {
   "cell_type": "markdown",
   "metadata": {},
   "source": [
    "## Simulation Overview"
   ]
  },
  {
   "cell_type": "code",
   "execution_count": 1,
   "metadata": {
    "tags": []
   },
   "outputs": [
    {
     "name": "stdout",
     "output_type": "stream",
     "text": [
      "\u001b[0m\u001b[1m[Mera]: 2025-06-21T21:14:39.119\u001b[22m\n",
      "\n",
      "Code: RAMSES\n",
      "output [300] summary:\n",
      "mtime: 2023-04-09T05:34:09\n",
      "ctime: 2025-06-21T18:31:24.020\n",
      "\u001b[0m\u001b[1m=======================================================\u001b[22m\n",
      "simulation time: 445.89 [Myr]\n",
      "boxlen: 48.0 [kpc]\n",
      "ncpu: 640\n",
      "ndim: 3\n",
      "-------------------------------------------------------\n",
      "amr:           true\n",
      "level(s): 6 - 10 --> cellsize(s): 750.0 [pc] - 46.88 [pc]\n",
      "-------------------------------------------------------\n",
      "hydro:         true\n",
      "hydro-variables:  7  --> (:rho, :vx, :vy, :vz, :p, :var6, :var7)\n",
      "hydro-descriptor: (:density, :velocity_x, :velocity_y, :velocity_z, :pressure, :scalar_00, :scalar_01)\n",
      "γ: 1.6667\n",
      "-------------------------------------------------------\n",
      "gravity:       true\n",
      "gravity-variables: (:epot, :ax, :ay, :az)\n",
      "-------------------------------------------------------\n",
      "particles:     true\n",
      "- Nstars:   5.445150e+05 \n",
      "particle-variables: 7  --> (:vx, :vy, :vz, :mass, :family, :tag, :birth)\n",
      "particle-descriptor: (:position_x, :position_y, :position_z, :velocity_x, :velocity_y, :velocity_z, :mass, :identity, :levelp, :family, :tag, :birth_time)\n",
      "-------------------------------------------------------\n",
      "rt:            false\n",
      "clumps:           false\n",
      "-------------------------------------------------------\n",
      "namelist-file: (\"&COOLING_PARAMS\", \"&SF_PARAMS\", \"&AMR_PARAMS\", \"&BOUNDARY_PARAMS\", \"&OUTPUT_PARAMS\", \"&POISSON_PARAMS\", \"&RUN_PARAMS\", \"&FEEDBACK_PARAMS\", \"&HYDRO_PARAMS\", \"&INIT_PARAMS\", \"&REFINE_PARAMS\")\n",
      "-------------------------------------------------------\n",
      "timer-file:       true\n",
      "compilation-file: false\n",
      "makefile:         true\n",
      "patchfile:        true\n",
      "\u001b[0m\u001b[1m=======================================================\u001b[22m\n",
      "\n"
     ]
    }
   ],
   "source": [
    "using Mera\n",
    "info = getinfo(300, \"/Volumes/FASTStorage/Simulations/Mera-Tests/mw_L10\");"
   ]
  },
  {
   "cell_type": "markdown",
   "metadata": {},
   "source": [
    "## Select Variables"
   ]
  },
  {
   "cell_type": "markdown",
   "metadata": {},
   "source": [
    "Choose from the existing particle variables listed in the simulation-info. \n",
    "The functions in **Mera** \"know\" the predefined particle variable names: \n",
    "- From >= ramses-version-2018: :vx, :vy, :vz, :mass, :family, :tag, :birth, :metals :var9,.... \n",
    "- For  =< ramses-version-2017: :vx, :vy, :vz, :mass, :birth, :var6, :var7,.... \n",
    "- Currently, the following variables are loaded by default (if exist): :level, :x, :y, :z, :id, :family, :tag.\n",
    "- The cpu number associated with the particles can be loaded with the variable names: :cpu or :varn1\n",
    "- In a future version the variable names from the particle descriptor can be used by setting the field info.descriptor.useparticles = true . "
   ]
  },
  {
   "cell_type": "markdown",
   "metadata": {},
   "source": [
    "### Read all variables by default"
   ]
  },
  {
   "cell_type": "code",
   "execution_count": 2,
   "metadata": {
    "tags": []
   },
   "outputs": [
    {
     "name": "stdout",
     "output_type": "stream",
     "text": [
      "\u001b[0m\u001b[1m[Mera]: Get particle data: 2025-06-21T21:14:44.099\u001b[22m\n",
      "\n",
      "Key vars=(:level, :x, :y, :z, :id, :family, :tag)\n",
      "Using var(s)=(1, 2, 3, 4, 7) = (:vx, :vy, :vz, :mass, :birth) \n",
      "\n",
      "domain:\n",
      "xmin::xmax: 0.0 :: 1.0  \t==> 0.0 [kpc] :: 48.0 [kpc]\n",
      "ymin::ymax: 0.0 :: 1.0  \t==> 0.0 [kpc] :: 48.0 [kpc]\n",
      "zmin::zmax: 0.0 :: 1.0  \t==> 0.0 [kpc] :: 48.0 [kpc]\n",
      "\n"
     ]
    },
    {
     "name": "stderr",
     "output_type": "stream",
     "text": [
      "\u001b[32mProgress: 100%|█████████████████████████████████████████| Time: 0:00:08\u001b[39m\n"
     ]
    },
    {
     "name": "stdout",
     "output_type": "stream",
     "text": [
      "Found 5.445150e+05 particles\n",
      "Memory used for data table :38.428720474243164 MB\n",
      "-------------------------------------------------------\n",
      "\n"
     ]
    }
   ],
   "source": [
    "particles = getparticles(info);"
   ]
  },
  {
   "cell_type": "code",
   "execution_count": 3,
   "metadata": {
    "tags": []
   },
   "outputs": [
    {
     "data": {
      "text/plain": [
       "Table with 544515 rows, 12 columns:\n",
       "Columns:\n",
       "\u001b[1m#   \u001b[22m\u001b[1mcolname  \u001b[22m\u001b[1mtype\u001b[22m\n",
       "────────────────────\n",
       "1   level    Int32\n",
       "2   x        Float64\n",
       "3   y        Float64\n",
       "4   z        Float64\n",
       "5   id       Int32\n",
       "6   family   Int8\n",
       "7   tag      Int8\n",
       "8   vx       Float64\n",
       "9   vy       Float64\n",
       "10  vz       Float64\n",
       "11  mass     Float64\n",
       "12  birth    Float64"
      ]
     },
     "execution_count": 3,
     "metadata": {},
     "output_type": "execute_result"
    }
   ],
   "source": [
    "particles.data"
   ]
  },
  {
   "cell_type": "markdown",
   "metadata": {},
   "source": [
    "### Select several variables w/o a keyword"
   ]
  },
  {
   "cell_type": "code",
   "execution_count": 4,
   "metadata": {
    "tags": []
   },
   "outputs": [
    {
     "name": "stdout",
     "output_type": "stream",
     "text": [
      "\u001b[0m\u001b[1m[Mera]: Get particle data: 2025-06-21T21:14:57.806\u001b[22m\n",
      "\n",
      "Key vars=(:level, :x, :y, :z, :id, :family, :tag)\n",
      "Using var(s)=(4, 7) = (:mass, :birth) \n",
      "\n",
      "domain:\n",
      "xmin::xmax: 0.0 :: 1.0  \t==> 0.0 [kpc] :: 48.0 [kpc]\n",
      "ymin::ymax: 0.0 :: 1.0  \t==> 0.0 [kpc] :: 48.0 [kpc]\n",
      "zmin::zmax: 0.0 :: 1.0  \t==> 0.0 [kpc] :: 48.0 [kpc]\n",
      "\n",
      "Found 5.445150e+05 particles\n",
      "Memory used for data table :25.965506553649902 MB\n",
      "-------------------------------------------------------\n",
      "\n"
     ]
    }
   ],
   "source": [
    "particles_a = getparticles(info, vars=[:mass, :birth]); "
   ]
  },
  {
   "cell_type": "markdown",
   "metadata": {},
   "source": [
    "The same variables can be read by using the var-number:"
   ]
  },
  {
   "cell_type": "code",
   "execution_count": 5,
   "metadata": {
    "tags": []
   },
   "outputs": [
    {
     "name": "stdout",
     "output_type": "stream",
     "text": [
      "\u001b[0m\u001b[1m[Mera]: Get particle data: 2025-06-21T21:14:58.565\u001b[22m\n",
      "\n",
      "Key vars=(:level, :x, :y, :z, :id, :family, :tag)\n",
      "Using var(s)=(4, 7) = (:mass, :birth) \n",
      "\n",
      "domain:\n",
      "xmin::xmax: 0.0 :: 1.0  \t==> 0.0 [kpc] :: 48.0 [kpc]\n",
      "ymin::ymax: 0.0 :: 1.0  \t==> 0.0 [kpc] :: 48.0 [kpc]\n",
      "zmin::zmax: 0.0 :: 1.0  \t==> 0.0 [kpc] :: 48.0 [kpc]\n",
      "\n",
      "Found 5.445150e+05 particles\n",
      "Memory used for data table :25.965506553649902 MB\n",
      "-------------------------------------------------------\n",
      "\n"
     ]
    }
   ],
   "source": [
    "particles_a = getparticles(info, vars=[:var4, :var7]); "
   ]
  },
  {
   "cell_type": "markdown",
   "metadata": {},
   "source": [
    "A keyword argument for the variables is not needed if the following order is preserved: InfoType-object, variables:"
   ]
  },
  {
   "cell_type": "code",
   "execution_count": 6,
   "metadata": {
    "tags": []
   },
   "outputs": [
    {
     "name": "stdout",
     "output_type": "stream",
     "text": [
      "\u001b[0m\u001b[1m[Mera]: Get particle data: 2025-06-21T21:14:58.961\u001b[22m\n",
      "\n",
      "Key vars=(:level, :x, :y, :z, :id, :family, :tag)\n",
      "Using var(s)=(4, 7) = (:mass, :birth) \n",
      "\n",
      "domain:\n",
      "xmin::xmax: 0.0 :: 1.0  \t==> 0.0 [kpc] :: 48.0 [kpc]\n",
      "ymin::ymax: 0.0 :: 1.0  \t==> 0.0 [kpc] :: 48.0 [kpc]\n",
      "zmin::zmax: 0.0 :: 1.0  \t==> 0.0 [kpc] :: 48.0 [kpc]\n",
      "\n",
      "Found 5.445150e+05 particles\n",
      "Memory used for data table :25.965506553649902 MB\n",
      "-------------------------------------------------------\n",
      "\n"
     ]
    }
   ],
   "source": [
    "particles_a = getparticles(info, [:mass, :birth]); "
   ]
  },
  {
   "cell_type": "code",
   "execution_count": 7,
   "metadata": {
    "tags": []
   },
   "outputs": [
    {
     "data": {
      "text/plain": [
       "Table with 544515 rows, 9 columns:\n",
       "\u001b[1mlevel  \u001b[22m\u001b[1mx        \u001b[22m\u001b[1my        \u001b[22m\u001b[1mz        \u001b[22m\u001b[1mid      \u001b[22m\u001b[1mfamily  \u001b[22m\u001b[1mtag  \u001b[22mmass        birth\n",
       "──────────────────────────────────────────────────────────────────────────\n",
       "9      9.17918  22.4404  24.0107  128710  2       0    8.00221e-7  8.86726\n",
       "9      9.23642  21.5559  24.0144  126838  2       0    8.00221e-7  8.71495\n",
       "9      9.35638  20.7472  24.0475  114721  2       0    8.00221e-7  7.91459\n",
       "9      9.39529  21.1854  24.0155  113513  2       0    8.00221e-7  7.85302\n",
       "9      9.42686  20.9697  24.0162  120213  2       0    8.00221e-7  8.2184\n",
       "9      9.42691  22.2181  24.0137  125689  2       0    8.00221e-7  8.6199\n",
       "9      9.48834  22.0913  24.0137  126716  2       0    8.00221e-7  8.70493\n",
       "9      9.5262   20.652   24.0179  115550  2       0    8.00221e-7  7.96008\n",
       "9      9.60376  21.2814  24.0155  116996  2       0    8.00221e-7  8.03346\n",
       "9      9.6162   20.6243  24.0506  125003  2       0    8.00221e-7  8.56482\n",
       "9      9.62155  20.6248  24.0173  112096  2       0    8.00221e-7  7.78062\n",
       "9      9.62252  24.4396  24.0206  136641  2       0    8.00221e-7  9.44825\n",
       "⋮\n",
       "10     37.7913  25.6793  24.018   141792  2       0    8.00221e-7  9.78881\n",
       "10     37.8255  22.6271  24.0279  143663  2       0    8.00221e-7  9.89052\n",
       "10     37.8451  22.7506  24.027   138989  2       0    8.00221e-7  9.61716\n",
       "10     37.8799  25.5668  24.0193  150226  2       0    8.00221e-7  10.2294\n",
       "10     37.969   23.2135  24.0273  142995  2       0    8.00221e-7  9.85439\n",
       "10     37.9754  22.6288  24.0265  137301  2       0    8.00221e-7  9.4959\n",
       "10     37.9811  23.2854  24.0283  145294  2       0    8.00221e-7  9.9782\n",
       "10     37.9919  22.873   24.0271  132010  2       0    8.00221e-7  9.12003\n",
       "10     37.9966  23.092   24.0281  136766  2       0    8.00221e-7  9.45574\n",
       "10     38.0328  22.8404  24.0265  141557  2       0    8.00221e-7  9.77493\n",
       "10     38.0953  22.8757  24.0231  133214  2       0    8.00221e-7  9.20251"
      ]
     },
     "execution_count": 7,
     "metadata": {},
     "output_type": "execute_result"
    }
   ],
   "source": [
    "particles_a.data"
   ]
  },
  {
   "cell_type": "markdown",
   "metadata": {},
   "source": [
    "### Select one variable"
   ]
  },
  {
   "cell_type": "markdown",
   "metadata": {},
   "source": [
    "In this case, no array and keyword is necessary, but preserve the following order: InfoType-object, variable:"
   ]
  },
  {
   "cell_type": "code",
   "execution_count": 8,
   "metadata": {
    "tags": []
   },
   "outputs": [
    {
     "name": "stdout",
     "output_type": "stream",
     "text": [
      "\u001b[0m\u001b[1m[Mera]: Get particle data: 2025-06-21T21:14:59.548\u001b[22m\n",
      "\n",
      "Key vars=(:level, :x, :y, :z, :id, :family, :tag)\n",
      "Using var(s)=(1,) = (:vx,) \n",
      "\n",
      "domain:\n",
      "xmin::xmax: 0.0 :: 1.0  \t==> 0.0 [kpc] :: 48.0 [kpc]\n",
      "ymin::ymax: 0.0 :: 1.0  \t==> 0.0 [kpc] :: 48.0 [kpc]\n",
      "zmin::zmax: 0.0 :: 1.0  \t==> 0.0 [kpc] :: 48.0 [kpc]\n",
      "\n",
      "Found 5.445150e+05 particles\n",
      "Memory used for data table :21.81110191345215 MB\n",
      "-------------------------------------------------------\n",
      "\n"
     ]
    }
   ],
   "source": [
    "particles_c = getparticles(info, :vx ); "
   ]
  },
  {
   "cell_type": "code",
   "execution_count": 9,
   "metadata": {
    "tags": []
   },
   "outputs": [
    {
     "data": {
      "text/plain": [
       "Table with 544515 rows, 8 columns:\n",
       "\u001b[1mlevel  \u001b[22m\u001b[1mx        \u001b[22m\u001b[1my        \u001b[22m\u001b[1mz        \u001b[22m\u001b[1mid      \u001b[22m\u001b[1mfamily  \u001b[22m\u001b[1mtag  \u001b[22mvx\n",
       "─────────────────────────────────────────────────────────────────\n",
       "9      9.17918  22.4404  24.0107  128710  2       0    0.670852\n",
       "9      9.23642  21.5559  24.0144  126838  2       0    0.810008\n",
       "9      9.35638  20.7472  24.0475  114721  2       0    0.93776\n",
       "9      9.39529  21.1854  24.0155  113513  2       0    0.870351\n",
       "9      9.42686  20.9697  24.0162  120213  2       0    0.899373\n",
       "9      9.42691  22.2181  24.0137  125689  2       0    0.717235\n",
       "9      9.48834  22.0913  24.0137  126716  2       0    0.739564\n",
       "9      9.5262   20.652   24.0179  115550  2       0    0.946747\n",
       "9      9.60376  21.2814  24.0155  116996  2       0    0.893236\n",
       "9      9.6162   20.6243  24.0506  125003  2       0    0.996445\n",
       "9      9.62155  20.6248  24.0173  112096  2       0    0.960817\n",
       "9      9.62252  24.4396  24.0206  136641  2       0    0.239579\n",
       "⋮\n",
       "10     37.7913  25.6793  24.018   141792  2       0    -0.466362\n",
       "10     37.8255  22.6271  24.0279  143663  2       0    0.129315\n",
       "10     37.8451  22.7506  24.027   138989  2       0    0.100542\n",
       "10     37.8799  25.5668  24.0193  150226  2       0    -0.397774\n",
       "10     37.969   23.2135  24.0273  142995  2       0    -0.0192855\n",
       "10     37.9754  22.6288  24.0265  137301  2       0    0.10287\n",
       "10     37.9811  23.2854  24.0283  145294  2       0    -0.0461542\n",
       "10     37.9919  22.873   24.0271  132010  2       0    0.0570142\n",
       "10     37.9966  23.092   24.0281  136766  2       0    -0.0185658\n",
       "10     38.0328  22.8404  24.0265  141557  2       0    0.0391784\n",
       "10     38.0953  22.8757  24.0231  133214  2       0    -0.0510545"
      ]
     },
     "execution_count": 9,
     "metadata": {},
     "output_type": "execute_result"
    }
   ],
   "source": [
    "particles_c.data"
   ]
  },
  {
   "cell_type": "markdown",
   "metadata": {},
   "source": [
    "## Selected Spatial Ranges"
   ]
  },
  {
   "cell_type": "markdown",
   "metadata": {},
   "source": [
    "### Use RAMSES Standard Notation\n",
    "Ranges correspond to the domain [0:1]^3 and are related to the box corner at [0., 0., 0.] by default."
   ]
  },
  {
   "cell_type": "code",
   "execution_count": 10,
   "metadata": {
    "tags": []
   },
   "outputs": [
    {
     "name": "stdout",
     "output_type": "stream",
     "text": [
      "\u001b[0m\u001b[1m[Mera]: Get particle data: 2025-06-21T21:15:00.733\u001b[22m\n",
      "\n",
      "Key vars=(:level, :x, :y, :z, :id, :family, :tag)\n",
      "Using var(s)=(1, 2, 3, 4, 7) = (:vx, :vy, :vz, :mass, :birth) \n",
      "\n",
      "domain:\n",
      "xmin::xmax: 0.2 :: 0.8  \t==> 9.6 [kpc] :: 38.4 [kpc]\n",
      "ymin::ymax: 0.2 :: 0.8  \t==> 9.6 [kpc] :: 38.4 [kpc]\n",
      "zmin::zmax: 0.4 :: 0.6  \t==> 19.2 [kpc] :: 28.8 [kpc]\n",
      "\n",
      "Found 5.444850e+05 particles\n",
      "Memory used for data table :38.42660331726074 MB\n",
      "-------------------------------------------------------\n",
      "\n"
     ]
    }
   ],
   "source": [
    "particles = getparticles(  info, \n",
    "                            xrange=[0.2,0.8], \n",
    "                            yrange=[0.2,0.8], \n",
    "                            zrange=[0.4,0.6]); "
   ]
  },
  {
   "cell_type": "markdown",
   "metadata": {},
   "source": [
    "The loaded data ranges are assigned to the field `ranges` as an array in  **RAMSES** standard notation (domain: [0:1]^3):"
   ]
  },
  {
   "cell_type": "code",
   "execution_count": 11,
   "metadata": {
    "tags": []
   },
   "outputs": [
    {
     "data": {
      "text/plain": [
       "6-element Vector{Float64}:\n",
       " 0.2\n",
       " 0.8\n",
       " 0.2\n",
       " 0.8\n",
       " 0.4\n",
       " 0.6"
      ]
     },
     "execution_count": 11,
     "metadata": {},
     "output_type": "execute_result"
    }
   ],
   "source": [
    "particles.ranges"
   ]
  },
  {
   "cell_type": "markdown",
   "metadata": {},
   "source": [
    "### Ranges relative to a given center:"
   ]
  },
  {
   "cell_type": "code",
   "execution_count": 12,
   "metadata": {
    "tags": []
   },
   "outputs": [
    {
     "name": "stdout",
     "output_type": "stream",
     "text": [
      "\u001b[0m\u001b[1m[Mera]: Get particle data: 2025-06-21T21:15:03.413\u001b[22m\n",
      "\n",
      "Key vars=(:level, :x, :y, :z, :id, :family, :tag)\n",
      "Using var(s)=(1, 2, 3, 4, 7) = (:vx, :vy, :vz, :mass, :birth) \n",
      "\n",
      "center: [0.5, 0.5, 0.5] ==> [24.0 [kpc] :: 24.0 [kpc] :: 24.0 [kpc]]\n",
      "\n",
      "domain:\n",
      "xmin::xmax: 0.2 :: 0.8  \t==> 9.6 [kpc] :: 38.4 [kpc]\n",
      "ymin::ymax: 0.2 :: 0.8  \t==> 9.6 [kpc] :: 38.4 [kpc]\n",
      "zmin::zmax: 0.4 :: 0.6  \t==> 19.2 [kpc] :: 28.8 [kpc]\n",
      "\n",
      "Found 5.444850e+05 particles\n",
      "Memory used for data table :38.42660331726074 MB\n",
      "-------------------------------------------------------\n",
      "\n"
     ]
    }
   ],
   "source": [
    "particles = getparticles(  info, \n",
    "                            xrange=[-0.3, 0.3], \n",
    "                            yrange=[-0.3, 0.3], \n",
    "                            zrange=[-0.1, 0.1], \n",
    "                            center=[0.5, 0.5, 0.5]);"
   ]
  },
  {
   "cell_type": "markdown",
   "metadata": {},
   "source": [
    "### Use notation in physical units\n",
    "In the following example the ranges are given in unit \"kpc\", relative to the box corner [0., 0., 0.] (default):"
   ]
  },
  {
   "cell_type": "code",
   "execution_count": 13,
   "metadata": {
    "tags": []
   },
   "outputs": [
    {
     "name": "stdout",
     "output_type": "stream",
     "text": [
      "\u001b[0m\u001b[1m[Mera]: Get particle data: 2025-06-21T21:15:04.910\u001b[22m\n",
      "\n",
      "Key vars=(:level, :x, :y, :z, :id, :family, :tag)\n",
      "Using var(s)=(1, 2, 3, 4, 7) = (:vx, :vy, :vz, :mass, :birth) \n",
      "\n",
      "domain:\n",
      "xmin::xmax: 0.0416667 :: 0.4583333  \t==> 2.0 [kpc] :: 22.0 [kpc]\n",
      "ymin::ymax: 0.0416667 :: 0.4583333  \t==> 2.0 [kpc] :: 22.0 [kpc]\n",
      "zmin::zmax: 0.4583333 :: 0.5416667  \t==> 22.0 [kpc] :: 26.0 [kpc]\n",
      "\n",
      "Found 3.091600e+04 particles\n",
      "Memory used for data table :2.183063507080078 MB\n",
      "-------------------------------------------------------\n",
      "\n"
     ]
    }
   ],
   "source": [
    "particles = getparticles(  info, \n",
    "                            xrange=[2.,22.], \n",
    "                            yrange=[2.,22.], \n",
    "                            zrange=[22.,26.], \n",
    "                            range_unit=:kpc); "
   ]
  },
  {
   "cell_type": "markdown",
   "metadata": {},
   "source": [
    "The possible physical length units for the keyword `range_unit` are defined in the field `scale` : "
   ]
  },
  {
   "cell_type": "code",
   "execution_count": 14,
   "metadata": {
    "tags": []
   },
   "outputs": [
    {
     "name": "stdout",
     "output_type": "stream",
     "text": [
      "\n",
      "\u001b[0m\u001b[1m[Mera]: Fields to scale from user/code units to selected units\u001b[22m\n",
      "\u001b[0m\u001b[1m=======================================================================\u001b[22m\n",
      "Mpc\t= 0.0010000000000006482\n",
      "kpc\t= 1.0000000000006481\n",
      "pc\t= 1000.0000000006482\n",
      "mpc\t= 1.0000000000006482e6\n",
      "ly\t= 3261.5637769461323\n",
      "Au\t= 2.0626480623310105e23\n",
      "km\t= 3.0856775812820004e16\n",
      "m\t= 3.085677581282e19\n",
      "cm\t= 3.085677581282e21\n",
      "mm\t= 3.085677581282e22\n",
      "μm\t= 3.085677581282e25\n",
      "Mpc3\t= 1.0000000000019446e-9\n",
      "kpc3\t= 1.0000000000019444\n",
      "pc3\t= 1.0000000000019448e9\n",
      "mpc3\t= 1.0000000000019446e18\n",
      "ly3\t= 3.469585750743794e10\n",
      "Au3\t= 8.775571306099254e69\n",
      "km3\t= 2.9379989454983075e49\n",
      "m3\t= 2.9379989454983063e58\n",
      "cm3\t= 2.9379989454983065e64\n",
      "mm3\t= 2.937998945498306e67\n",
      "μm3\t= 2.937998945498306e76\n",
      "Msol_pc3\t= 0.9997234790001649\n",
      "Msun_pc3\t= 0.9997234790001649\n",
      "g_cm3\t= 6.76838218451376e-23\n",
      "Msol_pc2\t= 999.7234790008131\n",
      "Msun_pc2\t= 999.7234790008131\n",
      "g_cm2\t= 0.20885045168302602\n",
      "Gyr\t= 0.014910986463557083\n",
      "Myr\t= 14.910986463557084\n",
      "yr\t= 1.4910986463557083e7\n",
      "s\t= 4.70554946422349e14\n",
      "ms\t= 4.70554946422349e17\n",
      "Msol\t= 9.99723479002109e8\n",
      "Msun\t= 9.99723479002109e8\n",
      "Mearth\t= 3.329677459032007e14\n",
      "Mjupiter\t= 1.0476363431814971e12\n",
      "g\t= 1.9885499720830952e42\n",
      "km_s\t= 65.57528732282063\n",
      "m_s\t= 65575.28732282063\n",
      "cm_s\t= 6.557528732282063e6\n",
      "nH\t= 30.987773856809987\n",
      "erg\t= 8.551000140274429e55\n",
      "g_cms2\t= 2.9104844143584656e-9\n",
      "T_mu\t= 517028.3199143136\n",
      "K_mu\t= 517028.3199143136\n",
      "T\t= 680300.4209398864\n",
      "K\t= 680300.4209398864\n",
      "Ba\t= 2.910484414358466e-9\n",
      "g_cm_s2\t= 2.910484414358466e-9\n",
      "p_kB\t= 2.1080995598777838e7\n",
      "K_cm3\t= 2.1080995598777838e7\n",
      "\n"
     ]
    }
   ],
   "source": [
    "viewfields(info.scale)  # or e.g.: gas.info.scale"
   ]
  },
  {
   "cell_type": "markdown",
   "metadata": {},
   "source": [
    "### Ranges relative to the given center e.g. in unit \"kpc\":"
   ]
  },
  {
   "cell_type": "code",
   "execution_count": 15,
   "metadata": {
    "tags": []
   },
   "outputs": [
    {
     "name": "stdout",
     "output_type": "stream",
     "text": [
      "\u001b[0m\u001b[1m[Mera]: Get particle data: 2025-06-21T21:15:05.240\u001b[22m\n",
      "\n",
      "Key vars=(:level, :x, :y, :z, :id, :family, :tag)\n",
      "Using var(s)=(1, 2, 3, 4, 7) = (:vx, :vy, :vz, :mass, :birth) \n",
      "\n",
      "center: [1.0416667, 1.0416667, 1.0416667] ==> [50.0 [kpc] :: 50.0 [kpc] :: 50.0 [kpc]]\n",
      "\n",
      "domain:\n",
      "xmin::xmax: 0.7083333 :: 1.0  \t==> 34.0 [kpc] :: 48.0 [kpc]\n",
      "ymin::ymax: 0.7083333 :: 1.0  \t==> 34.0 [kpc] :: 48.0 [kpc]\n",
      "zmin::zmax: 1.0 :: 1.0  \t==> 48.0 [kpc] :: 48.0 [kpc]\n",
      "\n",
      "Found 0.000000e+00 particles\n",
      "Memory used for data table :1.10546875 KB\n",
      "-------------------------------------------------------\n",
      "\n"
     ]
    }
   ],
   "source": [
    "particles = getparticles(  info, \n",
    "                            xrange=[-16.,16.], \n",
    "                            yrange=[-16.,16.], \n",
    "                            zrange=[-2.,2.], \n",
    "                            center=[50.,50.,50.], \n",
    "                            range_unit=:kpc); "
   ]
  },
  {
   "cell_type": "markdown",
   "metadata": {},
   "source": [
    "Use the short notation for the box center :bc or :boxcenter for all  dimensions (x,y,z):"
   ]
  },
  {
   "cell_type": "code",
   "execution_count": 16,
   "metadata": {
    "tags": []
   },
   "outputs": [
    {
     "name": "stdout",
     "output_type": "stream",
     "text": [
      "\u001b[0m\u001b[1m[Mera]: Get particle data: 2025-06-21T21:15:05.667\u001b[22m\n",
      "\n",
      "Key vars=(:level, :x, :y, :z, :id, :family, :tag)\n",
      "Using var(s)=(1, 2, 3, 4, 7) = (:vx, :vy, :vz, :mass, :birth) \n",
      "\n",
      "center: [0.5, 0.5, 0.5] ==> [24.0 [kpc] :: 24.0 [kpc] :: 24.0 [kpc]]\n",
      "\n",
      "domain:\n",
      "xmin::xmax: 0.1666667 :: 0.8333333  \t==> 8.0 [kpc] :: 40.0 [kpc]\n",
      "ymin::ymax: 0.1666667 :: 0.8333333  \t==> 8.0 [kpc] :: 40.0 [kpc]\n",
      "zmin::zmax: 0.4583333 :: 0.5416667  \t==> 22.0 [kpc] :: 26.0 [kpc]\n",
      "\n",
      "Found 5.445150e+05 particles\n",
      "Memory used for data table :38.428720474243164 MB\n",
      "-------------------------------------------------------\n",
      "\n"
     ]
    }
   ],
   "source": [
    "particles = getparticles(  info, \n",
    "                            xrange=[-16.,16.], \n",
    "                            yrange=[-16.,16.], \n",
    "                            zrange=[-2.,2.], \n",
    "                            center=[:boxcenter], \n",
    "                            range_unit=:kpc); "
   ]
  },
  {
   "cell_type": "code",
   "execution_count": 17,
   "metadata": {
    "tags": []
   },
   "outputs": [
    {
     "name": "stdout",
     "output_type": "stream",
     "text": [
      "\u001b[0m\u001b[1m[Mera]: Get particle data: 2025-06-21T21:15:07.133\u001b[22m\n",
      "\n",
      "Key vars=(:level, :x, :y, :z, :id, :family, :tag)\n",
      "Using var(s)=(1, 2, 3, 4, 7) = (:vx, :vy, :vz, :mass, :birth) \n",
      "\n",
      "center: [0.5, 0.5, 0.5] ==> [24.0 [kpc] :: 24.0 [kpc] :: 24.0 [kpc]]\n",
      "\n",
      "domain:\n",
      "xmin::xmax: 0.1666667 :: 0.8333333  \t==> 8.0 [kpc] :: 40.0 [kpc]\n",
      "ymin::ymax: 0.1666667 :: 0.8333333  \t==> 8.0 [kpc] :: 40.0 [kpc]\n",
      "zmin::zmax: 0.4583333 :: 0.5416667  \t==> 22.0 [kpc] :: 26.0 [kpc]\n",
      "\n",
      "Found 5.445150e+05 particles\n",
      "Memory used for data table :38.428720474243164 MB\n",
      "-------------------------------------------------------\n",
      "\n"
     ]
    }
   ],
   "source": [
    "particles = getparticles(  info, \n",
    "                            xrange=[-16.,16.], \n",
    "                            yrange=[-16.,16.], \n",
    "                            zrange=[-2.,2.], \n",
    "                            center=[:bc], \n",
    "                            range_unit=:kpc); "
   ]
  },
  {
   "cell_type": "markdown",
   "metadata": {},
   "source": [
    "Use the box center notation for individual dimensions, here x,z:"
   ]
  },
  {
   "cell_type": "code",
   "execution_count": 18,
   "metadata": {
    "tags": []
   },
   "outputs": [
    {
     "name": "stdout",
     "output_type": "stream",
     "text": [
      "\u001b[0m\u001b[1m[Mera]: Get particle data: 2025-06-21T21:15:08.777\u001b[22m\n",
      "\n",
      "Key vars=(:level, :x, :y, :z, :id, :family, :tag)\n",
      "Using var(s)=(1, 2, 3, 4, 7) = (:vx, :vy, :vz, :mass, :birth) \n",
      "\n",
      "center: [0.5, 1.0416667, 0.5] ==> [24.0 [kpc] :: 50.0 [kpc] :: 24.0 [kpc]]\n",
      "\n",
      "domain:\n",
      "xmin::xmax: 0.1666667 :: 0.8333333  \t==> 8.0 [kpc] :: 40.0 [kpc]\n",
      "ymin::ymax: 0.7083333 :: 1.0  \t==> 34.0 [kpc] :: 48.0 [kpc]\n",
      "zmin::zmax: 0.4583333 :: 0.5416667  \t==> 22.0 [kpc] :: 26.0 [kpc]\n",
      "\n",
      "Found 2.078000e+03 particles\n",
      "Memory used for data table :151.4609375 KB\n",
      "-------------------------------------------------------\n",
      "\n"
     ]
    }
   ],
   "source": [
    "particles = getparticles(  info, \n",
    "                            xrange=[-16.,16.], \n",
    "                            yrange=[-16.,16.], \n",
    "                            zrange=[-2.,2.], \n",
    "                            center=[:bc, 50., :bc], \n",
    "                            range_unit=:kpc); "
   ]
  },
  {
   "cell_type": "code",
   "execution_count": null,
   "metadata": {},
   "outputs": [],
   "source": []
  }
 ],
 "metadata": {
  "kernelspec": {
   "display_name": "Julia 1.11.5",
   "language": "julia",
   "name": "julia-1.11"
  },
  "language_info": {
   "file_extension": ".jl",
   "mimetype": "application/julia",
   "name": "julia",
   "version": "1.11.5"
  }
 },
 "nbformat": 4,
 "nbformat_minor": 4
}
