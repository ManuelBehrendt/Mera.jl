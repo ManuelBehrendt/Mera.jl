{
 "cells": [
  {
   "cell_type": "markdown",
   "metadata": {},
   "source": [
    "# 2. Particles: Load Selected Variables and Data Ranges"
   ]
  },
  {
   "cell_type": "markdown",
   "metadata": {},
   "source": [
    "## Simulation Overview"
   ]
  },
  {
   "cell_type": "code",
   "execution_count": 1,
   "metadata": {},
   "outputs": [
    {
     "name": "stdout",
     "output_type": "stream",
     "text": [
      "\u001b[0m\u001b[1m[Mera]: 2020-02-08T13:43:41.281\u001b[22m\n",
      "\n",
      "Code: RAMSES\n",
      "output [1] summary:\n",
      "mtime: 2020-01-04T21:08:11.996\n",
      "ctime: 2020-01-04T21:08:11.996\n",
      "\u001b[0m\u001b[1m=======================================================\u001b[22m\n",
      "simulation time: 0.0 [x]\n",
      "boxlen: 100.0 [kpc]\n",
      "ncpu: 32\n",
      "ndim: 3\n",
      "-------------------------------------------------------\n",
      "amr:           true\n",
      "level(s): 8 - 10 --> cellsize(s): 390.63 [pc] - 97.66 [pc]\n",
      "-------------------------------------------------------\n",
      "hydro:         true\n",
      "hydro-variables:  7  --> (:rho, :vx, :vy, :vz, :p, :var6, :var7)\n",
      "hydro-descriptor: (:density, :velocity_x, :velocity_y, :velocity_z, :pressure, :metallicity, :scalar_01)\n",
      "γ: 1.6667\n",
      "-------------------------------------------------------\n",
      "gravity:       true\n",
      "gravity-variables: (:epot, :ax, :ay, :az)\n",
      "-------------------------------------------------------\n",
      "particles:     true\n",
      "- Nstars:   1.050000e+05 \n",
      "- Ndm:      9.993500e+04 \n",
      "particle variables: (:vx, :vy, :vz, :mass, :family, :tag, :birth, :metals)\n",
      "particle-descriptor: (:position_x, :position_y, :position_z, :velocity_x, :velocity_y, :velocity_z, :mass, :identity, :levelp, :family, :tag, :birth_time, :metallicity)\n",
      "-------------------------------------------------------\n",
      "clumps:        false\n",
      "-------------------------------------------------------\n",
      "namelist-file: (\"&AMR_PARAMS\", \"&OUTPUT_PARAMS\", \"&BOUNDARY_PARAMS\", \"&POISSON_PARAMS\", \"&RUN_PARAMS\", \"&HYDRO_PARAMS\", \"&cooling_params\", \"&sf_params\", \"&feedback_params\", \"&DICE_PARAMS\", \"&units_params\", \"&INIT_PARAMS\", \"\", \"&REFINE_PARAMS\", \"!&PHYSICS_PARAMS\")\n",
      "-------------------------------------------------------\n",
      "timer-file:       true\n",
      "compilation-file: true\n",
      "makefile:         true\n",
      "patchfile:        true\n",
      "\u001b[0m\u001b[1m=======================================================\u001b[22m\n",
      "\n"
     ]
    }
   ],
   "source": [
    "using Mera\n",
    "info = getinfo(1, \"../../testing/simulations/manu_stable_2019\");"
   ]
  },
  {
   "cell_type": "markdown",
   "metadata": {},
   "source": [
    "## Select Variables"
   ]
  },
  {
   "cell_type": "markdown",
   "metadata": {},
   "source": [
    "Choose from the existing particle variables listed in the simulation-info. \n",
    "The functions in **Mera** \"know\" the predefined particle variable names: \n",
    "- From >= ramses-version-2018: :vx, :vy, :vz, :mass, :family, :tag, :birth, :metals :var9,.... \n",
    "- For  =< ramses-version-2017: :vx, :vy, :vz, :mass, :birth, :var6, :var7,.... \n",
    "- Currently, the following variables are loaded by default (if exist): :level, :x, :y, :z, :id, :family, :tag.\n",
    "- The cpu number associated with the particles can be loaded with the variable names: :cpu or :varn1\n",
    "- In a future version the variable names from the particle descriptor can be used by setting the field info.descriptor.useparticles = true . "
   ]
  },
  {
   "cell_type": "markdown",
   "metadata": {},
   "source": [
    "### Read all variables by default"
   ]
  },
  {
   "cell_type": "code",
   "execution_count": 2,
   "metadata": {},
   "outputs": [
    {
     "name": "stdout",
     "output_type": "stream",
     "text": [
      "\u001b[0m\u001b[1m[Mera]: Get particle data: 2020-02-08T13:43:54.032\u001b[22m\n",
      "\n",
      "Key vars=(:level, :x, :y, :z, :id, :family, :tag)\n",
      "Using var(s)=(1, 2, 3, 4, 7, 8) = (:vx, :vy, :vz, :mass, :birth, :metallicity) \n",
      "\n",
      "domain:\n",
      "xmin::xmax: 0.0 :: 1.0  \t==> 0.0 [kpc] :: 100.0 [kpc]\n",
      "ymin::ymax: 0.0 :: 1.0  \t==> 0.0 [kpc] :: 100.0 [kpc]\n",
      "zmin::zmax: 0.0 :: 1.0  \t==> 0.0 [kpc] :: 100.0 [kpc]\n",
      "\n",
      "Found 2.049350e+05 particles\n",
      "Memory used for data table :16.027705192565918 MB\n",
      "-------------------------------------------------------\n",
      "\n"
     ]
    }
   ],
   "source": [
    "particles = getparticles(info);"
   ]
  },
  {
   "cell_type": "code",
   "execution_count": 3,
   "metadata": {},
   "outputs": [
    {
     "data": {
      "text/plain": [
       "Table with 204935 rows, 13 columns:\n",
       "Columns:\n",
       "\u001b[1m#   \u001b[22m\u001b[1mcolname  \u001b[22m\u001b[1mtype\u001b[22m\n",
       "────────────────────\n",
       "1   level    Int32\n",
       "2   x        Float64\n",
       "3   y        Float64\n",
       "4   z        Float64\n",
       "5   id       Int8\n",
       "6   family   Int32\n",
       "7   tag      Int8\n",
       "8   vx       Float64\n",
       "9   vy       Float64\n",
       "10  vz       Float64\n",
       "11  mass     Float64\n",
       "12  birth    Float64\n",
       "13  metals   Float64"
      ]
     },
     "execution_count": 3,
     "metadata": {},
     "output_type": "execute_result"
    }
   ],
   "source": [
    "particles.data"
   ]
  },
  {
   "cell_type": "markdown",
   "metadata": {},
   "source": [
    "### Select several variables w/o a keyword"
   ]
  },
  {
   "cell_type": "code",
   "execution_count": 4,
   "metadata": {},
   "outputs": [
    {
     "name": "stdout",
     "output_type": "stream",
     "text": [
      "\u001b[0m\u001b[1m[Mera]: Get particle data: 2020-02-08T13:44:01.662\u001b[22m\n",
      "\n",
      "Key vars=(:level, :x, :y, :z, :id, :family, :tag)\n",
      "Using var(s)=(4, 7) = (:mass, :birth) \n",
      "\n",
      "domain:\n",
      "xmin::xmax: 0.0 :: 1.0  \t==> 0.0 [kpc] :: 100.0 [kpc]\n",
      "ymin::ymax: 0.0 :: 1.0  \t==> 0.0 [kpc] :: 100.0 [kpc]\n",
      "zmin::zmax: 0.0 :: 1.0  \t==> 0.0 [kpc] :: 100.0 [kpc]\n",
      "\n",
      "Found 2.049350e+05 particles\n",
      "Memory used for data table :9.773184776306152 MB\n",
      "-------------------------------------------------------\n",
      "\n"
     ]
    }
   ],
   "source": [
    "particles_a = getparticles(info, vars=[:mass, :birth]); "
   ]
  },
  {
   "cell_type": "markdown",
   "metadata": {},
   "source": [
    "The same variables can be read by using the var-number:"
   ]
  },
  {
   "cell_type": "code",
   "execution_count": 5,
   "metadata": {},
   "outputs": [
    {
     "name": "stdout",
     "output_type": "stream",
     "text": [
      "\u001b[0m\u001b[1m[Mera]: Get particle data: 2020-02-08T13:44:03.329\u001b[22m\n",
      "\n",
      "Key vars=(:level, :x, :y, :z, :id, :family, :tag)\n",
      "Using var(s)=(4, 7) = (:mass, :birth) \n",
      "\n",
      "domain:\n",
      "xmin::xmax: 0.0 :: 1.0  \t==> 0.0 [kpc] :: 100.0 [kpc]\n",
      "ymin::ymax: 0.0 :: 1.0  \t==> 0.0 [kpc] :: 100.0 [kpc]\n",
      "zmin::zmax: 0.0 :: 1.0  \t==> 0.0 [kpc] :: 100.0 [kpc]\n",
      "\n",
      "Found 2.049350e+05 particles\n",
      "Memory used for data table :9.773184776306152 MB\n",
      "-------------------------------------------------------\n",
      "\n"
     ]
    }
   ],
   "source": [
    "particles_a = getparticles(info, vars=[:var4, :var7]); "
   ]
  },
  {
   "cell_type": "markdown",
   "metadata": {},
   "source": [
    "A keyword argument for the variables is not needed if the following order is preserved: InfoType-object, variables:"
   ]
  },
  {
   "cell_type": "code",
   "execution_count": 6,
   "metadata": {},
   "outputs": [
    {
     "name": "stdout",
     "output_type": "stream",
     "text": [
      "\u001b[0m\u001b[1m[Mera]: Get particle data: 2020-02-08T13:44:03.984\u001b[22m\n",
      "\n",
      "Key vars=(:level, :x, :y, :z, :id, :family, :tag)\n",
      "Using var(s)=(4, 7) = (:mass, :birth) \n",
      "\n",
      "domain:\n",
      "xmin::xmax: 0.0 :: 1.0  \t==> 0.0 [kpc] :: 100.0 [kpc]\n",
      "ymin::ymax: 0.0 :: 1.0  \t==> 0.0 [kpc] :: 100.0 [kpc]\n",
      "zmin::zmax: 0.0 :: 1.0  \t==> 0.0 [kpc] :: 100.0 [kpc]\n",
      "\n",
      "Found 2.049350e+05 particles\n",
      "Memory used for data table :9.773184776306152 MB\n",
      "-------------------------------------------------------\n",
      "\n"
     ]
    }
   ],
   "source": [
    "particles_a = getparticles(info, [:mass, :birth]); "
   ]
  },
  {
   "cell_type": "code",
   "execution_count": 7,
   "metadata": {},
   "outputs": [
    {
     "data": {
      "text/plain": [
       "Table with 204935 rows, 9 columns:\n",
       "\u001b[1mlevel  \u001b[22m\u001b[1mx         \u001b[22m\u001b[1my        \u001b[22m\u001b[1mz        \u001b[22m\u001b[1mid  \u001b[22m\u001b[1mfamily    \u001b[22m\u001b[1mtag  \u001b[22mmass         birth\n",
       "────────────────────────────────────────────────────────────────────────\n",
       "8      0.162018  48.7716  38.9408  1   13076927  0    0.000359393  0.0\n",
       "8      0.241993  43.34    61.1182  1   13057738  0    0.000359393  0.0\n",
       "8      0.351147  47.5691  46.5596  1   13020347  0    0.000359393  0.0\n",
       "8      0.530987  55.3409  40.0985  1   13057752  0    0.000359393  0.0\n",
       "8      0.711498  41.6374  46.4307  1   13020736  0    0.000359393  0.0\n",
       "8      0.75967   58.6955  37.0071  1   13076417  0    0.000359393  0.0\n",
       "8      0.780296  35.406   50.9124  1   13065542  0    0.000359393  0.0\n",
       "8      0.882309  38.8843  54.2554  1   13008907  0    0.000359393  0.0\n",
       "8      0.89698   61.4106  60.336   1   13076479  0    0.000359393  0.0\n",
       "8      0.979073  44.4677  63.8858  1   13051722  0    0.000359393  0.0\n",
       "8      1.04498   40.9592  69.235   1   13003955  0    0.000359393  0.0\n",
       "8      1.18224   51.4781  50.0146  1   13089657  0    0.000359393  0.0\n",
       "⋮\n",
       "8      99.3534   53.6374  56.8546  1   13009482  0    0.000359393  0.0\n",
       "8      99.3742   42.8799  68.9125  1   13089718  0    0.000359393  0.0\n",
       "8      99.4208   33.6806  60.4349  1   13057697  0    0.000359393  0.0\n",
       "8      99.6151   54.8829  36.4236  1   13057437  0    0.000359393  0.0\n",
       "8      99.6609   47.92    50.0631  1   13089673  0    0.000359393  0.0\n",
       "8      99.6624   40.7391  56.939   1   13066194  0    0.000359393  0.0\n",
       "8      99.7309   58.3593  37.43    1   13050186  0    0.000359393  0.0\n",
       "8      99.8277   51.3123  55.7462  1   13081505  0    0.000359393  0.0\n",
       "8      99.8709   42.983   59.9095  1   13066188  0    0.000359393  0.0\n",
       "8      99.8864   49.9097  51.638   1   13008893  0    0.000359393  0.0\n",
       "8      99.9239   45.4416  37.0604  1   13057426  0    0.000359393  0.0"
      ]
     },
     "execution_count": 7,
     "metadata": {},
     "output_type": "execute_result"
    }
   ],
   "source": [
    "particles_a.data"
   ]
  },
  {
   "cell_type": "markdown",
   "metadata": {},
   "source": [
    "### Select one variable"
   ]
  },
  {
   "cell_type": "markdown",
   "metadata": {},
   "source": [
    "In this case, no array and keyword is necessary, but preserve the following order: InfoType-object, variable:"
   ]
  },
  {
   "cell_type": "code",
   "execution_count": 8,
   "metadata": {},
   "outputs": [
    {
     "name": "stdout",
     "output_type": "stream",
     "text": [
      "\u001b[0m\u001b[1m[Mera]: Get particle data: 2020-02-08T13:44:05.126\u001b[22m\n",
      "\n",
      "Key vars=(:level, :x, :y, :z, :id, :family, :tag)\n",
      "Using var(s)=(1,) = (:vx,) \n",
      "\n",
      "domain:\n",
      "xmin::xmax: 0.0 :: 1.0  \t==> 0.0 [kpc] :: 100.0 [kpc]\n",
      "ymin::ymax: 0.0 :: 1.0  \t==> 0.0 [kpc] :: 100.0 [kpc]\n",
      "zmin::zmax: 0.0 :: 1.0  \t==> 0.0 [kpc] :: 100.0 [kpc]\n",
      "\n",
      "Found 2.049350e+05 particles\n",
      "Memory used for data table :8.209554672241211 MB\n",
      "-------------------------------------------------------\n",
      "\n"
     ]
    }
   ],
   "source": [
    "particles_c = getparticles(info, :vx ); "
   ]
  },
  {
   "cell_type": "code",
   "execution_count": 9,
   "metadata": {},
   "outputs": [
    {
     "data": {
      "text/plain": [
       "Table with 204935 rows, 8 columns:\n",
       "\u001b[1mlevel  \u001b[22m\u001b[1mx         \u001b[22m\u001b[1my        \u001b[22m\u001b[1mz        \u001b[22m\u001b[1mid  \u001b[22m\u001b[1mfamily    \u001b[22m\u001b[1mtag  \u001b[22mvx\n",
       "────────────────────────────────────────────────────────────────\n",
       "8      0.162018  48.7716  38.9408  1   13076927  0    0.127661\n",
       "8      0.241993  43.34    61.1182  1   13057738  0    -0.329024\n",
       "8      0.351147  47.5691  46.5596  1   13020347  0    -0.849745\n",
       "8      0.530987  55.3409  40.0985  1   13057752  0    -0.0592976\n",
       "8      0.711498  41.6374  46.4307  1   13020736  0    -0.471851\n",
       "8      0.75967   58.6955  37.0071  1   13076417  0    0.982907\n",
       "8      0.780296  35.406   50.9124  1   13065542  0    -0.356155\n",
       "8      0.882309  38.8843  54.2554  1   13008907  0    -1.44461\n",
       "8      0.89698   61.4106  60.336   1   13076479  0    -0.50173\n",
       "8      0.979073  44.4677  63.8858  1   13051722  0    -0.285347\n",
       "8      1.04498   40.9592  69.235   1   13003955  0    0.0818029\n",
       "8      1.18224   51.4781  50.0146  1   13089657  0    -0.984195\n",
       "⋮\n",
       "8      99.3534   53.6374  56.8546  1   13009482  0    -0.442525\n",
       "8      99.3742   42.8799  68.9125  1   13089718  0    0.187082\n",
       "8      99.4208   33.6806  60.4349  1   13057697  0    -0.801086\n",
       "8      99.6151   54.8829  36.4236  1   13057437  0    -0.0448441\n",
       "8      99.6609   47.92    50.0631  1   13089673  0    -1.80605\n",
       "8      99.6624   40.7391  56.939   1   13066194  0    -0.254425\n",
       "8      99.7309   58.3593  37.43    1   13050186  0    0.39214\n",
       "8      99.8277   51.3123  55.7462  1   13081505  0    0.422148\n",
       "8      99.8709   42.983   59.9095  1   13066188  0    -2.84491\n",
       "8      99.8864   49.9097  51.638   1   13008893  0    -1.36332\n",
       "8      99.9239   45.4416  37.0604  1   13057426  0    -0.108421"
      ]
     },
     "execution_count": 9,
     "metadata": {},
     "output_type": "execute_result"
    }
   ],
   "source": [
    "particles_c.data"
   ]
  },
  {
   "cell_type": "markdown",
   "metadata": {},
   "source": [
    "## Selected Spatial Ranges"
   ]
  },
  {
   "cell_type": "markdown",
   "metadata": {},
   "source": [
    "### Use RAMSES Standard Notation\n",
    "Ranges correspond to the domain [0:1]^3 and are related to the box corner at [0., 0., 0.] by default."
   ]
  },
  {
   "cell_type": "code",
   "execution_count": 10,
   "metadata": {},
   "outputs": [
    {
     "name": "stdout",
     "output_type": "stream",
     "text": [
      "\u001b[0m\u001b[1m[Mera]: Get particle data: 2020-02-08T13:44:07.416\u001b[22m\n",
      "\n",
      "Key vars=(:level, :x, :y, :z, :id, :family, :tag)\n",
      "Using var(s)=(1, 2, 3, 4, 7, 8) = (:vx, :vy, :vz, :mass, :birth, :metallicity) \n",
      "\n",
      "domain:\n",
      "xmin::xmax: 0.2 :: 0.8  \t==> 20.0 [kpc] :: 80.0 [kpc]\n",
      "ymin::ymax: 0.2 :: 0.8  \t==> 20.0 [kpc] :: 80.0 [kpc]\n",
      "zmin::zmax: 0.4 :: 0.6  \t==> 40.0 [kpc] :: 60.0 [kpc]\n",
      "\n",
      "Found 1.753150e+05 particles\n",
      "Memory used for data table :13.711382865905762 MB\n",
      "-------------------------------------------------------\n",
      "\n"
     ]
    }
   ],
   "source": [
    "particles = getparticles(  info, \n",
    "                            xrange=[0.2,0.8], \n",
    "                            yrange=[0.2,0.8], \n",
    "                            zrange=[0.4,0.6]); "
   ]
  },
  {
   "cell_type": "markdown",
   "metadata": {},
   "source": [
    "The loaded data ranges are assigned to the field `ranges` as an array in  **RAMSES** standard notation (domain: [0:1]^3):"
   ]
  },
  {
   "cell_type": "code",
   "execution_count": 11,
   "metadata": {},
   "outputs": [
    {
     "data": {
      "text/plain": [
       "6-element Array{Float64,1}:\n",
       " 0.2\n",
       " 0.8\n",
       " 0.2\n",
       " 0.8\n",
       " 0.4\n",
       " 0.6"
      ]
     },
     "execution_count": 11,
     "metadata": {},
     "output_type": "execute_result"
    }
   ],
   "source": [
    "particles.ranges"
   ]
  },
  {
   "cell_type": "markdown",
   "metadata": {},
   "source": [
    "### Ranges relative to a given center:"
   ]
  },
  {
   "cell_type": "code",
   "execution_count": 12,
   "metadata": {},
   "outputs": [
    {
     "name": "stdout",
     "output_type": "stream",
     "text": [
      "\u001b[0m\u001b[1m[Mera]: Get particle data: 2020-02-08T13:44:09.718\u001b[22m\n",
      "\n",
      "Key vars=(:level, :x, :y, :z, :id, :family, :tag)\n",
      "Using var(s)=(1, 2, 3, 4, 7, 8) = (:vx, :vy, :vz, :mass, :birth, :metallicity) \n",
      "\n",
      "center: [0.5, 0.5, 0.5] ==> [50.0 [kpc] :: 50.0 [kpc] :: 50.0 [kpc]]\n",
      "\n",
      "domain:\n",
      "xmin::xmax: 0.2 :: 0.8  \t==> 20.0 [kpc] :: 80.0 [kpc]\n",
      "ymin::ymax: 0.2 :: 0.8  \t==> 20.0 [kpc] :: 80.0 [kpc]\n",
      "zmin::zmax: 0.4 :: 0.6  \t==> 40.0 [kpc] :: 60.0 [kpc]\n",
      "\n",
      "Found 1.753150e+05 particles\n",
      "Memory used for data table :13.711382865905762 MB\n",
      "-------------------------------------------------------\n",
      "\n"
     ]
    }
   ],
   "source": [
    "particles = getparticles(  info, \n",
    "                            xrange=[-0.3, 0.3], \n",
    "                            yrange=[-0.3, 0.3], \n",
    "                            zrange=[-0.1, 0.1], \n",
    "                            center=[0.5, 0.5, 0.5]);"
   ]
  },
  {
   "cell_type": "markdown",
   "metadata": {},
   "source": [
    "### Use notation in physical units\n",
    "In the following example the ranges are given in unit \"kpc\", relative to the box corner [0., 0., 0.] (default):"
   ]
  },
  {
   "cell_type": "code",
   "execution_count": 13,
   "metadata": {},
   "outputs": [
    {
     "name": "stdout",
     "output_type": "stream",
     "text": [
      "\u001b[0m\u001b[1m[Mera]: Get particle data: 2020-02-08T13:44:11.119\u001b[22m\n",
      "\n",
      "Key vars=(:level, :x, :y, :z, :id, :family, :tag)\n",
      "Using var(s)=(1, 2, 3, 4, 7, 8) = (:vx, :vy, :vz, :mass, :birth, :metallicity) \n",
      "\n",
      "domain:\n",
      "xmin::xmax: 0.02 :: 0.22  \t==> 2.0 [kpc] :: 22.0 [kpc]\n",
      "ymin::ymax: 0.02 :: 0.22  \t==> 2.0 [kpc] :: 22.0 [kpc]\n",
      "zmin::zmax: 0.22 :: 0.26  \t==> 22.0 [kpc] :: 26.0 [kpc]\n",
      "\n",
      "Found 1.000000e+00 particles\n",
      "Memory used for data table :1.6396484375 KB\n",
      "-------------------------------------------------------\n",
      "\n"
     ]
    }
   ],
   "source": [
    "particles = getparticles(  info, \n",
    "                            xrange=[2.,22.], \n",
    "                            yrange=[2.,22.], \n",
    "                            zrange=[22.,26.], \n",
    "                            range_unit=:kpc); "
   ]
  },
  {
   "cell_type": "markdown",
   "metadata": {},
   "source": [
    "The possible physical length units for the keyword `range_unit` are defined in the field `scale` : "
   ]
  },
  {
   "cell_type": "code",
   "execution_count": 14,
   "metadata": {},
   "outputs": [
    {
     "name": "stdout",
     "output_type": "stream",
     "text": [
      "\n",
      "\u001b[0m\u001b[1m[Mera]: Fields to scale from user/code units to selected units\u001b[22m\n",
      "\u001b[0m\u001b[1m=======================================================================\u001b[22m\n",
      "Mpc\t= 0.0010000000000006482\n",
      "kpc\t= 1.0000000000006481\n",
      "pc\t= 1000.0000000006482\n",
      "mpc\t= 1.0000000000006482e6\n",
      "ly\t= 3261.5637769461323\n",
      "Au\t= 2.0626480623310105e23\n",
      "km\t= 3.0856775812820004e16\n",
      "m\t= 3.085677581282e19\n",
      "cm\t= 3.085677581282e21\n",
      "mm\t= 3.085677581282e22\n",
      "μm\t= 3.085677581282e25\n",
      "Msol_pc3\t= 0.9999999999980551\n",
      "g_cm3\t= 6.77025430198932e-23\n",
      "Msol_pc2\t= 999.9999999987034\n",
      "g_cm2\t= 0.20890821919226463\n",
      "Gyr\t= 0.014907037050462488\n",
      "Myr\t= 14.907037050462488\n",
      "yr\t= 1.4907037050462488e7\n",
      "s\t= 4.70430312423675e14\n",
      "ms\t= 4.70430312423675e17\n",
      "Msol\t= 9.999999999999998e8\n",
      "Mearth\t= 3.330598439436053e14\n",
      "Mjupiter\t= 1.0479261167570186e12\n",
      "g\t= 1.9890999999999996e42\n",
      "km_s\t= 65.59266058737735\n",
      "m_s\t= 65592.66058737735\n",
      "cm_s\t= 6.559266058737735e6\n",
      "nH\t= 30.996344997059538\n",
      "erg\t= 8.557898117221824e55\n",
      "g_cms2\t= 2.9128322630389308e-9\n",
      "T_mu\t= 517302.3151964531\n",
      "Ba\t= 2.9128322630389304e-9\n",
      "\n"
     ]
    }
   ],
   "source": [
    "viewfields(info.scale)  # or e.g.: gas.info.scale"
   ]
  },
  {
   "cell_type": "markdown",
   "metadata": {},
   "source": [
    "### Ranges relative to the given center e.g. in unit \"kpc\":"
   ]
  },
  {
   "cell_type": "code",
   "execution_count": 15,
   "metadata": {},
   "outputs": [
    {
     "name": "stdout",
     "output_type": "stream",
     "text": [
      "\u001b[0m\u001b[1m[Mera]: Get particle data: 2020-02-08T13:44:11.576\u001b[22m\n",
      "\n",
      "Key vars=(:level, :x, :y, :z, :id, :family, :tag)\n",
      "Using var(s)=(1, 2, 3, 4, 7, 8) = (:vx, :vy, :vz, :mass, :birth, :metallicity) \n",
      "\n",
      "center: [0.5, 0.5, 0.5] ==> [50.0 [kpc] :: 50.0 [kpc] :: 50.0 [kpc]]\n",
      "\n",
      "domain:\n",
      "xmin::xmax: 0.34 :: 0.66  \t==> 34.0 [kpc] :: 66.0 [kpc]\n",
      "ymin::ymax: 0.34 :: 0.66  \t==> 34.0 [kpc] :: 66.0 [kpc]\n",
      "zmin::zmax: 0.48 :: 0.52  \t==> 48.0 [kpc] :: 52.0 [kpc]\n",
      "\n",
      "Found 1.295770e+05 particles\n",
      "Memory used for data table :10.134612083435059 MB\n",
      "-------------------------------------------------------\n",
      "\n"
     ]
    }
   ],
   "source": [
    "particles = getparticles(  info, \n",
    "                            xrange=[-16.,16.], \n",
    "                            yrange=[-16.,16.], \n",
    "                            zrange=[-2.,2.], \n",
    "                            center=[50.,50.,50.], \n",
    "                            range_unit=:kpc); "
   ]
  },
  {
   "cell_type": "markdown",
   "metadata": {},
   "source": [
    "Use the short notation for the box center :bc or :boxcenter for all  dimensions (x,y,z):"
   ]
  },
  {
   "cell_type": "code",
   "execution_count": 16,
   "metadata": {},
   "outputs": [
    {
     "name": "stdout",
     "output_type": "stream",
     "text": [
      "\u001b[0m\u001b[1m[Mera]: Get particle data: 2020-02-08T13:44:12.793\u001b[22m\n",
      "\n",
      "Key vars=(:level, :x, :y, :z, :id, :family, :tag)\n",
      "Using var(s)=(1, 2, 3, 4, 7, 8) = (:vx, :vy, :vz, :mass, :birth, :metallicity) \n",
      "\n",
      "center: [0.5, 0.5, 0.5] ==> [50.0 [kpc] :: 50.0 [kpc] :: 50.0 [kpc]]\n",
      "\n",
      "domain:\n",
      "xmin::xmax: 0.34 :: 0.66  \t==> 34.0 [kpc] :: 66.0 [kpc]\n",
      "ymin::ymax: 0.34 :: 0.66  \t==> 34.0 [kpc] :: 66.0 [kpc]\n",
      "zmin::zmax: 0.48 :: 0.52  \t==> 48.0 [kpc] :: 52.0 [kpc]\n",
      "\n",
      "Found 1.295770e+05 particles\n",
      "Memory used for data table :10.134612083435059 MB\n",
      "-------------------------------------------------------\n",
      "\n"
     ]
    }
   ],
   "source": [
    "particles = getparticles(  info, \n",
    "                            xrange=[-16.,16.], \n",
    "                            yrange=[-16.,16.], \n",
    "                            zrange=[-2.,2.], \n",
    "                            center=[:boxcenter], \n",
    "                            range_unit=:kpc); "
   ]
  },
  {
   "cell_type": "code",
   "execution_count": 17,
   "metadata": {},
   "outputs": [
    {
     "name": "stdout",
     "output_type": "stream",
     "text": [
      "\u001b[0m\u001b[1m[Mera]: Get particle data: 2020-02-08T13:44:13.572\u001b[22m\n",
      "\n",
      "Key vars=(:level, :x, :y, :z, :id, :family, :tag)\n",
      "Using var(s)=(1, 2, 3, 4, 7, 8) = (:vx, :vy, :vz, :mass, :birth, :metallicity) \n",
      "\n",
      "center: [0.5, 0.5, 0.5] ==> [50.0 [kpc] :: 50.0 [kpc] :: 50.0 [kpc]]\n",
      "\n",
      "domain:\n",
      "xmin::xmax: 0.34 :: 0.66  \t==> 34.0 [kpc] :: 66.0 [kpc]\n",
      "ymin::ymax: 0.34 :: 0.66  \t==> 34.0 [kpc] :: 66.0 [kpc]\n",
      "zmin::zmax: 0.48 :: 0.52  \t==> 48.0 [kpc] :: 52.0 [kpc]\n",
      "\n",
      "Found 1.295770e+05 particles\n",
      "Memory used for data table :10.134612083435059 MB\n",
      "-------------------------------------------------------\n",
      "\n"
     ]
    }
   ],
   "source": [
    "particles = getparticles(  info, \n",
    "                            xrange=[-16.,16.], \n",
    "                            yrange=[-16.,16.], \n",
    "                            zrange=[-2.,2.], \n",
    "                            center=[:bc], \n",
    "                            range_unit=:kpc); "
   ]
  },
  {
   "cell_type": "markdown",
   "metadata": {},
   "source": [
    "Use the box center notation for individual dimensions, here x,z:"
   ]
  },
  {
   "cell_type": "code",
   "execution_count": 18,
   "metadata": {},
   "outputs": [
    {
     "name": "stdout",
     "output_type": "stream",
     "text": [
      "\u001b[0m\u001b[1m[Mera]: Get particle data: 2020-02-08T13:44:15.41\u001b[22m\n",
      "\n",
      "Key vars=(:level, :x, :y, :z, :id, :family, :tag)\n",
      "Using var(s)=(1, 2, 3, 4, 7, 8) = (:vx, :vy, :vz, :mass, :birth, :metallicity) \n",
      "\n",
      "center: [0.5, 0.5, 0.5] ==> [50.0 [kpc] :: 50.0 [kpc] :: 50.0 [kpc]]\n",
      "\n",
      "domain:\n",
      "xmin::xmax: 0.34 :: 0.66  \t==> 34.0 [kpc] :: 66.0 [kpc]\n",
      "ymin::ymax: 0.34 :: 0.66  \t==> 34.0 [kpc] :: 66.0 [kpc]\n",
      "zmin::zmax: 0.48 :: 0.52  \t==> 48.0 [kpc] :: 52.0 [kpc]\n",
      "\n",
      "Found 1.295770e+05 particles\n",
      "Memory used for data table :10.134612083435059 MB\n",
      "-------------------------------------------------------\n",
      "\n"
     ]
    }
   ],
   "source": [
    "particles = getparticles(  info, \n",
    "                            xrange=[-16.,16.], \n",
    "                            yrange=[-16.,16.], \n",
    "                            zrange=[-2.,2.], \n",
    "                            center=[:bc, 50., :bc], \n",
    "                            range_unit=:kpc); "
   ]
  },
  {
   "cell_type": "code",
   "execution_count": null,
   "metadata": {},
   "outputs": [],
   "source": []
  }
 ],
 "metadata": {
  "kernelspec": {
   "display_name": "Julia 1.3.1",
   "language": "julia",
   "name": "julia-1.3"
  },
  "language_info": {
   "file_extension": ".jl",
   "mimetype": "application/julia",
   "name": "julia",
   "version": "1.3.1"
  }
 },
 "nbformat": 4,
 "nbformat_minor": 4
}
