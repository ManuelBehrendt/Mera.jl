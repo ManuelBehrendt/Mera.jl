{
 "cells": [
  {
   "cell_type": "markdown",
   "metadata": {},
   "source": [
    "# 2. Clumps: Load Selected Variables and Data Ranges"
   ]
  },
  {
   "cell_type": "markdown",
   "metadata": {},
   "source": [
    "## Simulation Overview"
   ]
  },
  {
   "cell_type": "code",
   "execution_count": 1,
   "metadata": {},
   "outputs": [
    {
     "name": "stdout",
     "output_type": "stream",
     "text": [
      "\u001b[0m\u001b[1m[Mera]: 2020-02-08T13:43:44.724\u001b[22m\n",
      "\n",
      "Code: RAMSES\n",
      "output [400] summary:\n",
      "mtime: 2018-09-05T09:51:55.041\n",
      "ctime: 2019-11-01T17:35:21.051\n",
      "\u001b[0m\u001b[1m=======================================================\u001b[22m\n",
      "simulation time: 594.98 [Myr]\n",
      "boxlen: 48.0 [kpc]\n",
      "ncpu: 2048\n",
      "ndim: 3\n",
      "-------------------------------------------------------\n",
      "amr:           true\n",
      "level(s): 6 - 14 --> cellsize(s): 750.0 [pc] - 2.93 [pc]\n",
      "-------------------------------------------------------\n",
      "hydro:         true\n",
      "hydro-variables:  7  --> (:rho, :vx, :vy, :vz, :p, :var6, :var7)\n",
      "hydro-descriptor: (:density, :velocity_x, :velocity_y, :velocity_z, :thermal_pressure, :passive_scalar_1, :passive_scalar_2)\n",
      "γ: 1.6667\n",
      "-------------------------------------------------------\n",
      "gravity:       true\n",
      "gravity-variables: (:epot, :ax, :ay, :az)\n",
      "-------------------------------------------------------\n",
      "particles:     true\n",
      "- Npart:    5.091500e+05 \n",
      "- Nstars:   5.066030e+05 \n",
      "- Ndm:      2.547000e+03 \n",
      "particle variables: (:vx, :vy, :vz, :mass, :birth)\n",
      "-------------------------------------------------------\n",
      "clumps:        true\n",
      "clump-variables: (:index, :lev, :parent, :ncell, :peak_x, :peak_y, :peak_z, Symbol(\"rho-\"), Symbol(\"rho+\"), :rho_av, :mass_cl, :relevance)\n",
      "-------------------------------------------------------\n",
      "namelist-file: false\n",
      "timer-file:       false\n",
      "compilation-file: true\n",
      "makefile:         true\n",
      "patchfile:        true\n",
      "\u001b[0m\u001b[1m=======================================================\u001b[22m\n",
      "\n"
     ]
    }
   ],
   "source": [
    "using Mera\n",
    "info = getinfo(400, \"../../testing/simulations/manu_sim_sf_L14\");"
   ]
  },
  {
   "cell_type": "markdown",
   "metadata": {},
   "source": [
    "## Select Variables\n",
    "**MERA** reads the first line of a clump file to identify the number of columns and their names. "
   ]
  },
  {
   "cell_type": "markdown",
   "metadata": {},
   "source": [
    "### Read all variables (default)"
   ]
  },
  {
   "cell_type": "code",
   "execution_count": 2,
   "metadata": {},
   "outputs": [
    {
     "name": "stdout",
     "output_type": "stream",
     "text": [
      "\u001b[0m\u001b[1m[Mera]: Get clump data: 2020-02-08T13:43:54.134\u001b[22m\n",
      "\n",
      "domain:\n",
      "xmin::xmax: 0.0 :: 1.0  \t==> 0.0 [kpc] :: 48.0 [kpc]\n",
      "ymin::ymax: 0.0 :: 1.0  \t==> 0.0 [kpc] :: 48.0 [kpc]\n",
      "zmin::zmax: 0.0 :: 1.0  \t==> 0.0 [kpc] :: 48.0 [kpc]\n",
      "\n",
      "Read 12 colums: \n",
      "Symbol[:index, :lev, :parent, :ncell, :peak_x, :peak_y, :peak_z, Symbol(\"rho-\"), Symbol(\"rho+\"), :rho_av, :mass_cl, :relevance]\n",
      "Memory used for data table :61.77734375 KB\n",
      "-------------------------------------------------------\n",
      "\n"
     ]
    }
   ],
   "source": [
    "clumps = getclumps(info);"
   ]
  },
  {
   "cell_type": "code",
   "execution_count": 3,
   "metadata": {},
   "outputs": [
    {
     "data": {
      "text/plain": [
       "Table with 644 rows, 12 columns:\n",
       "Columns:\n",
       "\u001b[1m#   \u001b[22m\u001b[1mcolname    \u001b[22m\u001b[1mtype\u001b[22m\n",
       "──────────────────────\n",
       "1   index      Float64\n",
       "2   lev        Float64\n",
       "3   parent     Float64\n",
       "4   ncell      Float64\n",
       "5   peak_x     Float64\n",
       "6   peak_y     Float64\n",
       "7   peak_z     Float64\n",
       "8   rho-       Float64\n",
       "9   rho+       Float64\n",
       "10  rho_av     Float64\n",
       "11  mass_cl    Float64\n",
       "12  relevance  Float64"
      ]
     },
     "execution_count": 3,
     "metadata": {},
     "output_type": "execute_result"
    }
   ],
   "source": [
    "clumps.data"
   ]
  },
  {
   "cell_type": "markdown",
   "metadata": {},
   "source": [
    "The colum names should not be changed, since they are assumed in some functions. The usage of individual descriptor variables will be implemented in the future."
   ]
  },
  {
   "cell_type": "markdown",
   "metadata": {},
   "source": [
    "### Select several variables w/o a keyword"
   ]
  },
  {
   "cell_type": "markdown",
   "metadata": {},
   "source": [
    "Currently, the length of the loaded variable list can be modified. E.g. the list can be extended with more names if there are more columns in the data than given by the header in the files. "
   ]
  },
  {
   "cell_type": "markdown",
   "metadata": {},
   "source": [
    "Load less than the found 12 columns from the header of the clump files; Pass an array with the variables to the keyword argument `vars`. The order of the variables has to be consistent with the header in the clump files:}"
   ]
  },
  {
   "cell_type": "code",
   "execution_count": 4,
   "metadata": {},
   "outputs": [
    {
     "name": "stdout",
     "output_type": "stream",
     "text": [
      "\u001b[0m\u001b[1m[Mera]: Get clump data: 2020-02-08T13:44:01.434\u001b[22m\n",
      "\n",
      "domain:\n",
      "xmin::xmax: 0.0 :: 1.0  \t==> 0.0 [kpc] :: 48.0 [kpc]\n",
      "ymin::ymax: 0.0 :: 1.0  \t==> 0.0 [kpc] :: 48.0 [kpc]\n",
      "zmin::zmax: 0.0 :: 1.0  \t==> 0.0 [kpc] :: 48.0 [kpc]\n",
      "\n",
      "Read 7 colums: \n",
      "Symbol[:index, :lev, :parent, :ncell, :peak_x, :peak_y, :peak_z]\n",
      "Memory used for data table :36.1083984375 KB\n",
      "-------------------------------------------------------\n",
      "\n"
     ]
    }
   ],
   "source": [
    "clumps = getclumps(info, vars=[ :index, :lev, :parent, :ncell, :peak_x, :peak_y, :peak_z]);"
   ]
  },
  {
   "cell_type": "markdown",
   "metadata": {},
   "source": [
    "Pass an array that contains the variables without the keyword argument `vars`. The following order has to be preserved: InfoType-object, variables"
   ]
  },
  {
   "cell_type": "code",
   "execution_count": 5,
   "metadata": {},
   "outputs": [
    {
     "name": "stdout",
     "output_type": "stream",
     "text": [
      "\u001b[0m\u001b[1m[Mera]: Get clump data: 2020-02-08T13:44:03.36\u001b[22m\n",
      "\n",
      "domain:\n",
      "xmin::xmax: 0.0 :: 1.0  \t==> 0.0 [kpc] :: 48.0 [kpc]\n",
      "ymin::ymax: 0.0 :: 1.0  \t==> 0.0 [kpc] :: 48.0 [kpc]\n",
      "zmin::zmax: 0.0 :: 1.0  \t==> 0.0 [kpc] :: 48.0 [kpc]\n",
      "\n",
      "Read 7 colums: \n",
      "Symbol[:index, :lev, :parent, :ncell, :peak_x, :peak_y, :peak_z]\n",
      "Memory used for data table :36.1083984375 KB\n",
      "-------------------------------------------------------\n",
      "\n"
     ]
    }
   ],
   "source": [
    "clumps = getclumps(info, [ :index, :lev, :parent, :ncell, :peak_x, :peak_y, :peak_z]);"
   ]
  },
  {
   "cell_type": "code",
   "execution_count": 6,
   "metadata": {},
   "outputs": [
    {
     "data": {
      "text/plain": [
       "Table with 644 rows, 7 columns:\n",
       "index   lev  parent  ncell   peak_x   peak_y   peak_z\n",
       "──────────────────────────────────────────────────────\n",
       "4.0     0.0  4.0     740.0   20.1094  11.5005  23.9604\n",
       "5.0     0.0  5.0     1073.0  20.1592  11.5122  23.9253\n",
       "9.0     0.0  9.0     551.0   21.7852  17.855   23.814\n",
       "12.0    0.0  12.0    463.0   21.8232  17.8608  23.855\n",
       "13.0    0.0  13.0    2141.0  21.8906  17.2837  23.5415\n",
       "18.0    0.0  18.0    691.0   21.7822  16.8823  23.7817\n",
       "19.0    0.0  19.0    608.0   21.75    16.8589  23.7993\n",
       "20.0    0.0  20.0    1253.0  21.6006  17.5679  23.7935\n",
       "25.0    0.0  25.0    1275.0  21.5801  17.6177  23.9341\n",
       "26.0    0.0  26.0    1212.0  21.5859  17.5796  23.9165\n",
       "29.0    0.0  29.0    1759.0  21.5625  17.5854  23.8726\n",
       "46.0    0.0  46.0    4741.0  21.5215  17.6235  23.9458\n",
       "⋮\n",
       "2115.0  0.0  2115.0  1071.0  27.7705  13.2788  23.8081\n",
       "2116.0  0.0  2116.0  839.0   27.7617  13.3081  23.8081\n",
       "2117.0  0.0  2117.0  753.0   27.7793  13.2993  23.6851\n",
       "2120.0  0.0  2120.0  866.0   27.7559  13.1792  23.8638\n",
       "2125.0  0.0  2125.0  181.0   27.7939  13.0298  23.9194\n",
       "2128.0  0.0  2128.0  296.0   27.791   13.0649  23.9019\n",
       "2131.0  0.0  2131.0  323.0   28.3037  12.8188  23.9487\n",
       "2132.0  0.0  2132.0  615.0   28.626   12.8188  23.8755\n",
       "2137.0  0.0  2137.0  318.0   29.9736  15.0571  23.7202\n",
       "2140.0  0.0  2140.0  1719.0  27.1436  15.6401  23.9048\n",
       "2147.0  0.0  2147.0  1535.0  25.1953  9.93604  23.9897"
      ]
     },
     "execution_count": 6,
     "metadata": {},
     "output_type": "execute_result"
    }
   ],
   "source": [
    "clumps.data"
   ]
  },
  {
   "cell_type": "markdown",
   "metadata": {},
   "source": [
    "Load more than the found 12 columns from the header of the clump files. The order of the variables has to be consistent with the header in the clump files:"
   ]
  },
  {
   "cell_type": "code",
   "execution_count": 7,
   "metadata": {},
   "outputs": [
    {
     "name": "stdout",
     "output_type": "stream",
     "text": [
      "\u001b[0m\u001b[1m[Mera]: Get clump data: 2020-02-08T13:44:04.175\u001b[22m\n",
      "\n",
      "domain:\n",
      "xmin::xmax: 0.0 :: 1.0  \t==> 0.0 [kpc] :: 48.0 [kpc]\n",
      "ymin::ymax: 0.0 :: 1.0  \t==> 0.0 [kpc] :: 48.0 [kpc]\n",
      "zmin::zmax: 0.0 :: 1.0  \t==> 0.0 [kpc] :: 48.0 [kpc]\n",
      "\n",
      "Read 15 colums: \n",
      "Symbol[:index, :lev, :parent, :ncell, :peak_x, :peak_y, :peak_z, Symbol(\"rho-\"), Symbol(\"rho+\"), :rho_av, :mass_cl, :relevance, :vx, :vy, :vz]\n",
      "Memory used for data table :77.1787109375 KB\n",
      "-------------------------------------------------------\n",
      "\n"
     ]
    }
   ],
   "source": [
    "clumps = getclumps(info, vars=[  :index, :lev, :parent, :ncell, :peak_x, :peak_y, :peak_z, Symbol(\"rho-\"), Symbol(\"rho+\"), :rho_av, :mass_cl, :relevance, :vx, :vy, :vz]);"
   ]
  },
  {
   "cell_type": "code",
   "execution_count": 8,
   "metadata": {},
   "outputs": [
    {
     "data": {
      "text/plain": [
       "Table with 644 rows, 15 columns:\n",
       "Columns:\n",
       "\u001b[1m#   \u001b[22m\u001b[1mcolname    \u001b[22m\u001b[1mtype\u001b[22m\n",
       "──────────────────────\n",
       "1   index      Float64\n",
       "2   lev        Float64\n",
       "3   parent     Float64\n",
       "4   ncell      Float64\n",
       "5   peak_x     Float64\n",
       "6   peak_y     Float64\n",
       "7   peak_z     Float64\n",
       "8   rho-       Float64\n",
       "9   rho+       Float64\n",
       "10  rho_av     Float64\n",
       "11  mass_cl    Float64\n",
       "12  relevance  Float64\n",
       "13  vx         Float64\n",
       "14  vy         Float64\n",
       "15  vz         Float64"
      ]
     },
     "execution_count": 8,
     "metadata": {},
     "output_type": "execute_result"
    }
   ],
   "source": [
    "clumps.data"
   ]
  },
  {
   "cell_type": "markdown",
   "metadata": {},
   "source": [
    "## Select Spatial Ranges"
   ]
  },
  {
   "cell_type": "markdown",
   "metadata": {},
   "source": [
    "### Use RAMSES Standard Notation\n",
    "Ranges correspond to the domain [0:1]^3 and are related to the box corner at [0., 0., 0.] by default."
   ]
  },
  {
   "cell_type": "code",
   "execution_count": 9,
   "metadata": {},
   "outputs": [
    {
     "name": "stdout",
     "output_type": "stream",
     "text": [
      "\u001b[0m\u001b[1m[Mera]: Get clump data: 2020-02-08T13:44:06.579\u001b[22m\n",
      "\n",
      "domain:\n",
      "xmin::xmax: 0.2 :: 0.8  \t==> 9.6 [kpc] :: 38.4 [kpc]\n",
      "ymin::ymax: 0.2 :: 0.8  \t==> 9.6 [kpc] :: 38.4 [kpc]\n",
      "zmin::zmax: 0.4 :: 0.6  \t==> 19.2 [kpc] :: 28.8 [kpc]\n",
      "\n",
      "Read 12 colums: \n",
      "Symbol[:index, :lev, :parent, :ncell, :peak_x, :peak_y, :peak_z, Symbol(\"rho-\"), Symbol(\"rho+\"), :rho_av, :mass_cl, :relevance]\n",
      "Memory used for data table :61.77734375 KB\n",
      "-------------------------------------------------------\n",
      "\n"
     ]
    }
   ],
   "source": [
    "clumps = getclumps(info, \n",
    "                    xrange=[0.2,0.8], \n",
    "                    yrange=[0.2,0.8], \n",
    "                    zrange=[0.4,0.6]); "
   ]
  },
  {
   "cell_type": "markdown",
   "metadata": {},
   "source": [
    "The loaded data ranges are assigned to the field `ranges` in an array in  **RAMSES** standard notation (domain: [0:1]^3):"
   ]
  },
  {
   "cell_type": "code",
   "execution_count": 10,
   "metadata": {},
   "outputs": [
    {
     "data": {
      "text/plain": [
       "6-element Array{Float64,1}:\n",
       " 0.2\n",
       " 0.8\n",
       " 0.2\n",
       " 0.8\n",
       " 0.4\n",
       " 0.6"
      ]
     },
     "execution_count": 10,
     "metadata": {},
     "output_type": "execute_result"
    }
   ],
   "source": [
    "clumps.ranges"
   ]
  },
  {
   "cell_type": "markdown",
   "metadata": {},
   "source": [
    "### Ranges relative to a given center:"
   ]
  },
  {
   "cell_type": "code",
   "execution_count": 11,
   "metadata": {},
   "outputs": [
    {
     "name": "stdout",
     "output_type": "stream",
     "text": [
      "\u001b[0m\u001b[1m[Mera]: Get clump data: 2020-02-08T13:44:09.633\u001b[22m\n",
      "\n",
      "center: [0.5, 0.5, 0.5] ==> [24.0 [kpc] :: 24.0 [kpc] :: 24.0 [kpc]]\n",
      "\n",
      "domain:\n",
      "xmin::xmax: 0.2 :: 0.8  \t==> 9.6 [kpc] :: 38.4 [kpc]\n",
      "ymin::ymax: 0.2 :: 0.8  \t==> 9.6 [kpc] :: 38.4 [kpc]\n",
      "zmin::zmax: 0.4 :: 0.6  \t==> 19.2 [kpc] :: 28.8 [kpc]\n",
      "\n",
      "Read 12 colums: \n",
      "Symbol[:index, :lev, :parent, :ncell, :peak_x, :peak_y, :peak_z, Symbol(\"rho-\"), Symbol(\"rho+\"), :rho_av, :mass_cl, :relevance]\n",
      "Memory used for data table :61.77734375 KB\n",
      "-------------------------------------------------------\n",
      "\n"
     ]
    }
   ],
   "source": [
    "clumps = getclumps(info, \n",
    "                    xrange=[-0.3, 0.3], \n",
    "                    yrange=[-0.3, 0.3], \n",
    "                    zrange=[-0.1, 0.1], \n",
    "                    center=[0.5, 0.5, 0.5]); "
   ]
  },
  {
   "cell_type": "markdown",
   "metadata": {},
   "source": [
    "### Use notation in physical units\n",
    "In the following example the ranges are given in units \"kpc\", relative to the box corner [0., 0., 0.] (default):"
   ]
  },
  {
   "cell_type": "code",
   "execution_count": 12,
   "metadata": {},
   "outputs": [
    {
     "name": "stdout",
     "output_type": "stream",
     "text": [
      "\u001b[0m\u001b[1m[Mera]: Get clump data: 2020-02-08T13:44:09.96\u001b[22m\n",
      "\n",
      "domain:\n",
      "xmin::xmax: 0.0416667 :: 0.4583333  \t==> 2.0 [kpc] :: 22.0 [kpc]\n",
      "ymin::ymax: 0.0416667 :: 0.4583333  \t==> 2.0 [kpc] :: 22.0 [kpc]\n",
      "zmin::zmax: 0.4583333 :: 0.5416667  \t==> 22.0 [kpc] :: 26.0 [kpc]\n",
      "\n",
      "Read 12 colums: \n",
      "Symbol[:index, :lev, :parent, :ncell, :peak_x, :peak_y, :peak_z, Symbol(\"rho-\"), Symbol(\"rho+\"), :rho_av, :mass_cl, :relevance]\n",
      "Memory used for data table :12.83984375 KB\n",
      "-------------------------------------------------------\n",
      "\n"
     ]
    }
   ],
   "source": [
    "clumps = getclumps(info, \n",
    "                    xrange=[2.,22.], \n",
    "                    yrange=[2.,22.], \n",
    "                    zrange=[22.,26.], \n",
    "                    range_unit=:kpc); "
   ]
  },
  {
   "cell_type": "markdown",
   "metadata": {},
   "source": [
    "The possible physical length units for the keyword `range_unit` are defined in the field `scale` : "
   ]
  },
  {
   "cell_type": "code",
   "execution_count": 13,
   "metadata": {},
   "outputs": [
    {
     "name": "stdout",
     "output_type": "stream",
     "text": [
      "\n",
      "\u001b[0m\u001b[1m[Mera]: Fields to scale from user/code units to selected units\u001b[22m\n",
      "\u001b[0m\u001b[1m=======================================================================\u001b[22m\n",
      "Mpc\t= 0.0010000000000006482\n",
      "kpc\t= 1.0000000000006481\n",
      "pc\t= 1000.0000000006482\n",
      "mpc\t= 1.0000000000006482e6\n",
      "ly\t= 3261.5637769461323\n",
      "Au\t= 2.0626480623310105e23\n",
      "km\t= 3.0856775812820004e16\n",
      "m\t= 3.085677581282e19\n",
      "cm\t= 3.085677581282e21\n",
      "mm\t= 3.085677581282e22\n",
      "μm\t= 3.085677581282e25\n",
      "Msol_pc3\t= 0.9997234790001649\n",
      "g_cm3\t= 6.76838218451376e-23\n",
      "Msol_pc2\t= 999.7234790008131\n",
      "g_cm2\t= 0.20885045168302602\n",
      "Gyr\t= 0.014910986463557083\n",
      "Myr\t= 14.910986463557084\n",
      "yr\t= 1.4910986463557083e7\n",
      "s\t= 4.70554946422349e14\n",
      "ms\t= 4.70554946422349e17\n",
      "Msol\t= 9.99723479002109e8\n",
      "Mearth\t= 3.329677459032007e14\n",
      "Mjupiter\t= 1.0476363431814971e12\n",
      "g\t= 1.9885499720830952e42\n",
      "km_s\t= 65.57528732282063\n",
      "m_s\t= 65575.28732282063\n",
      "cm_s\t= 6.557528732282063e6\n",
      "nH\t= 30.987773856809987\n",
      "erg\t= 8.551000140274429e55\n",
      "g_cms2\t= 2.9104844143584656e-9\n",
      "T_mu\t= 517028.3199143136\n",
      "Ba\t= 2.910484414358466e-9\n",
      "\n"
     ]
    }
   ],
   "source": [
    "viewfields(info.scale) # or e.g.: clumps.info.scale"
   ]
  },
  {
   "cell_type": "markdown",
   "metadata": {},
   "source": [
    "### Ranges relative to a given center e.g. in units \"kpc\":"
   ]
  },
  {
   "cell_type": "code",
   "execution_count": 14,
   "metadata": {},
   "outputs": [
    {
     "name": "stdout",
     "output_type": "stream",
     "text": [
      "\u001b[0m\u001b[1m[Mera]: Get clump data: 2020-02-08T13:44:10.318\u001b[22m\n",
      "\n",
      "center: [0.5, 0.5, 0.5] ==> [24.0 [kpc] :: 24.0 [kpc] :: 24.0 [kpc]]\n",
      "\n",
      "domain:\n",
      "xmin::xmax: 0.1666667 :: 0.8333333  \t==> 8.0 [kpc] :: 40.0 [kpc]\n",
      "ymin::ymax: 0.1666667 :: 0.8333333  \t==> 8.0 [kpc] :: 40.0 [kpc]\n",
      "zmin::zmax: 0.4583333 :: 0.5416667  \t==> 22.0 [kpc] :: 26.0 [kpc]\n",
      "\n",
      "Read 12 colums: \n",
      "Symbol[:index, :lev, :parent, :ncell, :peak_x, :peak_y, :peak_z, Symbol(\"rho-\"), Symbol(\"rho+\"), :rho_av, :mass_cl, :relevance]\n",
      "Memory used for data table :61.77734375 KB\n",
      "-------------------------------------------------------\n",
      "\n"
     ]
    }
   ],
   "source": [
    "clumps = getclumps(info, \n",
    "                    xrange=[-16.,16.], \n",
    "                    yrange=[-16.,16.], \n",
    "                    zrange=[-2.,2.], \n",
    "                    center=[24.,24.,24.], \n",
    "                    range_unit=:kpc); "
   ]
  },
  {
   "cell_type": "markdown",
   "metadata": {},
   "source": [
    "Use the short notation for the box center :bc or :boxcenter for all dimensions (x,y,z):"
   ]
  },
  {
   "cell_type": "code",
   "execution_count": 15,
   "metadata": {},
   "outputs": [
    {
     "name": "stdout",
     "output_type": "stream",
     "text": [
      "\u001b[0m\u001b[1m[Mera]: Get clump data: 2020-02-08T13:44:11.159\u001b[22m\n",
      "\n",
      "center: [0.5, 0.5, 0.5] ==> [24.0 [kpc] :: 24.0 [kpc] :: 24.0 [kpc]]\n",
      "\n",
      "domain:\n",
      "xmin::xmax: 0.1666667 :: 0.8333333  \t==> 8.0 [kpc] :: 40.0 [kpc]\n",
      "ymin::ymax: 0.1666667 :: 0.8333333  \t==> 8.0 [kpc] :: 40.0 [kpc]\n",
      "zmin::zmax: 0.4583333 :: 0.5416667  \t==> 22.0 [kpc] :: 26.0 [kpc]\n",
      "\n",
      "Read 12 colums: \n",
      "Symbol[:index, :lev, :parent, :ncell, :peak_x, :peak_y, :peak_z, Symbol(\"rho-\"), Symbol(\"rho+\"), :rho_av, :mass_cl, :relevance]\n",
      "Memory used for data table :61.77734375 KB\n",
      "-------------------------------------------------------\n",
      "\n"
     ]
    }
   ],
   "source": [
    "clumps = getclumps(info, \n",
    "                    xrange=[-16.,16.], \n",
    "                    yrange=[-16.,16.], \n",
    "                    zrange=[-2.,2.], \n",
    "                    center=[:boxcenter], \n",
    "                    range_unit=:kpc); "
   ]
  },
  {
   "cell_type": "code",
   "execution_count": 16,
   "metadata": {},
   "outputs": [
    {
     "name": "stdout",
     "output_type": "stream",
     "text": [
      "\u001b[0m\u001b[1m[Mera]: Get clump data: 2020-02-08T13:44:11.478\u001b[22m\n",
      "\n",
      "center: [0.5, 0.5, 0.5] ==> [24.0 [kpc] :: 24.0 [kpc] :: 24.0 [kpc]]\n",
      "\n",
      "domain:\n",
      "xmin::xmax: 0.1666667 :: 0.8333333  \t==> 8.0 [kpc] :: 40.0 [kpc]\n",
      "ymin::ymax: 0.1666667 :: 0.8333333  \t==> 8.0 [kpc] :: 40.0 [kpc]\n",
      "zmin::zmax: 0.4583333 :: 0.5416667  \t==> 22.0 [kpc] :: 26.0 [kpc]\n",
      "\n",
      "Read 12 colums: \n",
      "Symbol[:index, :lev, :parent, :ncell, :peak_x, :peak_y, :peak_z, Symbol(\"rho-\"), Symbol(\"rho+\"), :rho_av, :mass_cl, :relevance]\n",
      "Memory used for data table :61.77734375 KB\n",
      "-------------------------------------------------------\n",
      "\n"
     ]
    }
   ],
   "source": [
    "clumps = getclumps(info, \n",
    "                    xrange=[-16.,16.], \n",
    "                    yrange=[-16.,16.], \n",
    "                    zrange=[-2.,2.], \n",
    "                    center=[:bc], \n",
    "                    range_unit=:kpc); "
   ]
  },
  {
   "cell_type": "markdown",
   "metadata": {},
   "source": [
    "Use the box center notation for individual dimensions, here x,z:"
   ]
  },
  {
   "cell_type": "code",
   "execution_count": 17,
   "metadata": {},
   "outputs": [
    {
     "name": "stdout",
     "output_type": "stream",
     "text": [
      "\u001b[0m\u001b[1m[Mera]: Get clump data: 2020-02-08T13:44:12.344\u001b[22m\n",
      "\n",
      "center: [0.5, 0.5, 0.5] ==> [24.0 [kpc] :: 24.0 [kpc] :: 24.0 [kpc]]\n",
      "\n",
      "domain:\n",
      "xmin::xmax: 0.1666667 :: 0.8333333  \t==> 8.0 [kpc] :: 40.0 [kpc]\n",
      "ymin::ymax: 0.1666667 :: 0.8333333  \t==> 8.0 [kpc] :: 40.0 [kpc]\n",
      "zmin::zmax: 0.4583333 :: 0.5416667  \t==> 22.0 [kpc] :: 26.0 [kpc]\n",
      "\n",
      "Read 12 colums: \n",
      "Symbol[:index, :lev, :parent, :ncell, :peak_x, :peak_y, :peak_z, Symbol(\"rho-\"), Symbol(\"rho+\"), :rho_av, :mass_cl, :relevance]\n",
      "Memory used for data table :61.77734375 KB\n",
      "-------------------------------------------------------\n",
      "\n"
     ]
    }
   ],
   "source": [
    "clumps = getclumps(info, \n",
    "                    xrange=[-16.,16.], \n",
    "                    yrange=[-16.,16.], \n",
    "                    zrange=[-2.,2.], \n",
    "                    center=[:bc, 24., :bc], \n",
    "                    range_unit=:kpc); "
   ]
  },
  {
   "cell_type": "code",
   "execution_count": null,
   "metadata": {},
   "outputs": [],
   "source": []
  }
 ],
 "metadata": {
  "kernelspec": {
   "display_name": "Julia 1.3.1",
   "language": "julia",
   "name": "julia-1.3"
  },
  "language_info": {
   "file_extension": ".jl",
   "mimetype": "application/julia",
   "name": "julia",
   "version": "1.3.1"
  }
 },
 "nbformat": 4,
 "nbformat_minor": 4
}
