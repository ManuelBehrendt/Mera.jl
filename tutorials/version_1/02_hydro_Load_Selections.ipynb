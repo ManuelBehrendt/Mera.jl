{
 "cells": [
  {
   "cell_type": "markdown",
   "metadata": {},
   "source": [
    "# 2. Hydro: Load Selected Variables and Data Ranges"
   ]
  },
  {
   "cell_type": "markdown",
   "metadata": {},
   "source": [
    "## Simulation Overview"
   ]
  },
  {
   "cell_type": "code",
   "execution_count": 1,
   "metadata": {},
   "outputs": [
    {
     "name": "stdout",
     "output_type": "stream",
     "text": [
      "\u001b[0m\u001b[1m[Mera]: 2020-01-02T10:51:09.837\u001b[22m\n",
      "\n",
      "Code: RAMSES\n",
      "output [420] summary:\n",
      "mtime: 2017-07-27T01:22:09\n",
      "ctime: 2019-12-24T09:57:04.822\n",
      "\u001b[0m\u001b[1m=======================================================\u001b[22m\n",
      "simulation time: 624.91 [Myr]\n",
      "boxlen: 48.0 [kpc]\n",
      "ncpu: 1024\n",
      "ndim: 3\n",
      "-------------------------------------------------------\n",
      "amr:           true\n",
      "level(s): 6 - 10 --> cellsize(s): 750.0 [pc] - 46.88 [pc]\n",
      "-------------------------------------------------------\n",
      "hydro:         true\n",
      "hydro-variables:  6  --> (:rho, :vx, :vy, :vz, :p, :var6)\n",
      "hydro-descriptor: (:density, :velocity_x, :velocity_y, :velocity_z, :thermal_pressure, :passive_scalar_1)\n",
      "γ: 1.01\n",
      "-------------------------------------------------------\n",
      "gravity:       true\n",
      "gravity-variables: (:epot, :ax, :ay, :az)\n",
      "-------------------------------------------------------\n",
      "particles:     true\n",
      "particle variables: (:vx, :vy, :vz, :mass, :age)\n",
      "-------------------------------------------------------\n",
      "clumps:        true\n",
      "clump-variables: (:index, :lev, :parent, :ncell, :peak_x, :peak_y, :peak_z, Symbol(\"rho-\"), Symbol(\"rho+\"), :rho_av, :mass_cl, :relevance)\n",
      "-------------------------------------------------------\n",
      "namelist-file: false\n",
      "timer-file:       false\n",
      "compilation-file: true\n",
      "makefile:         true\n",
      "patchfile:        true\n",
      "\u001b[0m\u001b[1m=======================================================\u001b[22m\n",
      "\n"
     ]
    }
   ],
   "source": [
    "using Mera\n",
    "info = getinfo(420, \"../../testing/simulations/manu_sim_sf_L10\");"
   ]
  },
  {
   "cell_type": "markdown",
   "metadata": {},
   "source": [
    "## Select Variables"
   ]
  },
  {
   "cell_type": "markdown",
   "metadata": {},
   "source": [
    "Choose from the existing hydro variables listed in the simulation-info. Use the quoted Symbols: :varn1 or :cpu (=neg. one), :var1 or :rho, :var2 or :vx, :var3 or :vy, :var4 or :vz, :var5 or :p. Variables above 5 can be selected by :var6, :var7 etc. . No order is required. The selection of the variable's names from the descriptor files will be implemented in the future.\n"
   ]
  },
  {
   "cell_type": "markdown",
   "metadata": {},
   "source": [
    "### Read all variables (default)"
   ]
  },
  {
   "cell_type": "code",
   "execution_count": 2,
   "metadata": {},
   "outputs": [
    {
     "name": "stdout",
     "output_type": "stream",
     "text": [
      "\u001b[0m\u001b[1m[Mera]: Get hydro data: 2019-12-31T12:22:07.195\u001b[22m\n",
      "\n",
      "Key vars=(:level, :cx, :cy, :cz)\n",
      "Using var(s)=(1, 2, 3, 4, 5, 6) = (:rho, :vx, :vy, :vz, :p, :var6) \n",
      "\n",
      "domain:\n",
      "xmin::xmax: 0.0 :: 1.0  \t==> 0.0 [kpc] :: 48.0 [kpc]\n",
      "ymin::ymax: 0.0 :: 1.0  \t==> 0.0 [kpc] :: 48.0 [kpc]\n",
      "zmin::zmax: 0.0 :: 1.0  \t==> 0.0 [kpc] :: 48.0 [kpc]\n",
      "\n",
      "Reading data...\n"
     ]
    },
    {
     "name": "stderr",
     "output_type": "stream",
     "text": [
      "\u001b[32m100%|███████████████████████████████████████████████████| Time: 0:00:59\u001b[39m\n"
     ]
    },
    {
     "name": "stdout",
     "output_type": "stream",
     "text": [
      "Memory used for data table :85.94877052307129 MB\n",
      "-------------------------------------------------------\n",
      "\n"
     ]
    }
   ],
   "source": [
    "gas = gethydro(info);"
   ]
  },
  {
   "cell_type": "code",
   "execution_count": 3,
   "metadata": {},
   "outputs": [
    {
     "data": {
      "text/plain": [
       "Table with 1126532 rows, 10 columns:\n",
       "Columns:\n",
       "\u001b[1m#   \u001b[22m\u001b[1mcolname  \u001b[22m\u001b[1mtype\u001b[22m\n",
       "────────────────────\n",
       "1   level    Int64\n",
       "2   cx       Int64\n",
       "3   cy       Int64\n",
       "4   cz       Int64\n",
       "5   rho      Float64\n",
       "6   vx       Float64\n",
       "7   vy       Float64\n",
       "8   vz       Float64\n",
       "9   p        Float64\n",
       "10  var6     Float64"
      ]
     },
     "execution_count": 3,
     "metadata": {},
     "output_type": "execute_result"
    }
   ],
   "source": [
    "gas.data"
   ]
  },
  {
   "cell_type": "markdown",
   "metadata": {},
   "source": [
    "### Select several variables w/o a keyword"
   ]
  },
  {
   "cell_type": "code",
   "execution_count": 2,
   "metadata": {},
   "outputs": [
    {
     "name": "stdout",
     "output_type": "stream",
     "text": [
      "\u001b[0m\u001b[1m[Mera]: Get hydro data: 2019-12-31T12:34:53.792\u001b[22m\n",
      "\n",
      "Key vars=(:level, :cx, :cy, :cz)\n",
      "Using var(s)=(1, 5) = (:rho, :p) \n",
      "\n",
      "domain:\n",
      "xmin::xmax: 0.0 :: 1.0  \t==> 0.0 [kpc] :: 48.0 [kpc]\n",
      "ymin::ymax: 0.0 :: 1.0  \t==> 0.0 [kpc] :: 48.0 [kpc]\n",
      "zmin::zmax: 0.0 :: 1.0  \t==> 0.0 [kpc] :: 48.0 [kpc]\n",
      "\n",
      "Reading data...\n"
     ]
    },
    {
     "name": "stderr",
     "output_type": "stream",
     "text": [
      "\u001b[32m100%|███████████████████████████████████████████████████| Time: 0:00:48\u001b[39m\n"
     ]
    },
    {
     "name": "stdout",
     "output_type": "stream",
     "text": [
      "Memory used for data table :51.5693416595459 MB\n",
      "-------------------------------------------------------\n",
      "\n"
     ]
    }
   ],
   "source": [
    "gas_a = gethydro(info, vars=[:rho, :p], smallr = 1.0e-30 / info.unit_d); "
   ]
  },
  {
   "cell_type": "markdown",
   "metadata": {},
   "source": [
    "The same variables can be read by using the var-number:"
   ]
  },
  {
   "cell_type": "code",
   "execution_count": 3,
   "metadata": {},
   "outputs": [
    {
     "name": "stdout",
     "output_type": "stream",
     "text": [
      "\u001b[0m\u001b[1m[Mera]: Get hydro data: 2019-12-31T12:36:48.522\u001b[22m\n",
      "\n",
      "Key vars=(:level, :cx, :cy, :cz)\n",
      "Using var(s)=(1, 5) = (:rho, :p) \n",
      "\n",
      "domain:\n",
      "xmin::xmax: 0.0 :: 1.0  \t==> 0.0 [kpc] :: 48.0 [kpc]\n",
      "ymin::ymax: 0.0 :: 1.0  \t==> 0.0 [kpc] :: 48.0 [kpc]\n",
      "zmin::zmax: 0.0 :: 1.0  \t==> 0.0 [kpc] :: 48.0 [kpc]\n",
      "\n",
      "Reading data...\n"
     ]
    },
    {
     "name": "stderr",
     "output_type": "stream",
     "text": [
      "\u001b[32m100%|███████████████████████████████████████████████████| Time: 0:00:40\u001b[39m\n"
     ]
    },
    {
     "name": "stdout",
     "output_type": "stream",
     "text": [
      "Memory used for data table :51.5693416595459 MB\n",
      "-------------------------------------------------------\n",
      "\n"
     ]
    }
   ],
   "source": [
    "gas_a = gethydro(info, vars=[:var1, :var5], smallr = 1.0e-30 / info.unit_d); "
   ]
  },
  {
   "cell_type": "markdown",
   "metadata": {},
   "source": [
    "A keyword argument for the variables is not needed if the following order is preserved: InfoType-object, variables:"
   ]
  },
  {
   "cell_type": "code",
   "execution_count": 4,
   "metadata": {},
   "outputs": [
    {
     "name": "stdout",
     "output_type": "stream",
     "text": [
      "\u001b[0m\u001b[1m[Mera]: Get hydro data: 2019-12-31T12:37:53.172\u001b[22m\n",
      "\n",
      "Key vars=(:level, :cx, :cy, :cz)\n",
      "Using var(s)=(1, 5) = (:rho, :p) \n",
      "\n",
      "domain:\n",
      "xmin::xmax: 0.0 :: 1.0  \t==> 0.0 [kpc] :: 48.0 [kpc]\n",
      "ymin::ymax: 0.0 :: 1.0  \t==> 0.0 [kpc] :: 48.0 [kpc]\n",
      "zmin::zmax: 0.0 :: 1.0  \t==> 0.0 [kpc] :: 48.0 [kpc]\n",
      "\n",
      "Reading data...\n"
     ]
    },
    {
     "name": "stderr",
     "output_type": "stream",
     "text": [
      "\u001b[32m100%|███████████████████████████████████████████████████| Time: 0:00:51\u001b[39m\n"
     ]
    },
    {
     "name": "stdout",
     "output_type": "stream",
     "text": [
      "Memory used for data table :51.5693416595459 MB\n",
      "-------------------------------------------------------\n",
      "\n"
     ]
    }
   ],
   "source": [
    "gas_a = gethydro(info, [:rho, :p], smallr = 1.0e-30 / info.unit_d); "
   ]
  },
  {
   "cell_type": "code",
   "execution_count": 5,
   "metadata": {},
   "outputs": [
    {
     "data": {
      "text/plain": [
       "Table with 1126532 rows, 6 columns:\n",
       "\u001b[1mlevel  \u001b[22m\u001b[1mcx   \u001b[22m\u001b[1mcy   \u001b[22m\u001b[1mcz   \u001b[22mrho         p\n",
       "─────────────────────────────────────────────\n",
       "6      1    1    1    1.47746e-8  2.85781e-7\n",
       "6      1    1    2    1.47746e-8  2.85781e-7\n",
       "6      1    1    3    1.47746e-8  2.85781e-7\n",
       "6      1    1    4    1.47746e-8  2.85781e-7\n",
       "6      1    1    5    1.47746e-8  2.85781e-7\n",
       "6      1    1    6    1.47746e-8  2.85781e-7\n",
       "6      1    1    7    1.47746e-8  2.85781e-7\n",
       "6      1    1    8    1.47746e-8  2.85781e-7\n",
       "6      1    1    9    1.47746e-8  2.85781e-7\n",
       "6      1    1    10   1.47746e-8  2.85781e-7\n",
       "6      1    1    11   1.47746e-8  2.85781e-7\n",
       "6      1    1    12   1.47746e-8  2.85781e-7\n",
       "⋮\n",
       "10     822  507  516  0.0305045   0.000589997\n",
       "10     822  508  511  0.0551132   0.00106596\n",
       "10     822  508  512  0.0551132   0.00106596\n",
       "10     822  508  513  0.0845289   0.0016349\n",
       "10     822  508  514  0.0788161   0.00152441\n",
       "10     822  508  515  0.0305045   0.000589997\n",
       "10     822  508  516  0.0305045   0.000589997\n",
       "10     822  509  513  0.0861783   0.0016668\n",
       "10     822  509  514  0.0861783   0.0016668\n",
       "10     822  510  513  0.0861783   0.0016668\n",
       "10     822  510  514  0.0861783   0.0016668"
      ]
     },
     "execution_count": 5,
     "metadata": {},
     "output_type": "execute_result"
    }
   ],
   "source": [
    "gas_a.data"
   ]
  },
  {
   "cell_type": "markdown",
   "metadata": {},
   "source": [
    "### Select one variable"
   ]
  },
  {
   "cell_type": "markdown",
   "metadata": {},
   "source": [
    "In this case, no array and keyword is necessary, but preserve the following order: InfoType-object, variable:"
   ]
  },
  {
   "cell_type": "code",
   "execution_count": 4,
   "metadata": {},
   "outputs": [
    {
     "name": "stdout",
     "output_type": "stream",
     "text": [
      "\u001b[0m\u001b[1m[Mera]: Get hydro data: 2019-12-31T12:48:08.168\u001b[22m\n",
      "\n",
      "Key vars=(:level, :cx, :cy, :cz)\n",
      "Using var(s)=(2,) = (:vx,) \n",
      "\n",
      "domain:\n",
      "xmin::xmax: 0.0 :: 1.0  \t==> 0.0 [kpc] :: 48.0 [kpc]\n",
      "ymin::ymax: 0.0 :: 1.0  \t==> 0.0 [kpc] :: 48.0 [kpc]\n",
      "zmin::zmax: 0.0 :: 1.0  \t==> 0.0 [kpc] :: 48.0 [kpc]\n",
      "\n",
      "Reading data...\n"
     ]
    },
    {
     "name": "stderr",
     "output_type": "stream",
     "text": [
      "\u001b[32m100%|███████████████████████████████████████████████████| Time: 0:00:37\u001b[39m\n"
     ]
    },
    {
     "name": "stdout",
     "output_type": "stream",
     "text": [
      "Memory used for data table :42.97448444366455 MB\n",
      "-------------------------------------------------------\n",
      "\n"
     ]
    }
   ],
   "source": [
    "gas_c = gethydro(info, :vx ); "
   ]
  },
  {
   "cell_type": "code",
   "execution_count": 5,
   "metadata": {},
   "outputs": [
    {
     "data": {
      "text/plain": [
       "Table with 1126532 rows, 5 columns:\n",
       "\u001b[1mlevel  \u001b[22m\u001b[1mcx   \u001b[22m\u001b[1mcy   \u001b[22m\u001b[1mcz   \u001b[22mvx\n",
       "────────────────────────────────\n",
       "6      1    1    1    0.0990548\n",
       "6      1    1    2    0.110889\n",
       "6      1    1    3    0.117122\n",
       "6      1    1    4    0.120163\n",
       "6      1    1    5    0.122688\n",
       "6      1    1    6    0.124978\n",
       "6      1    1    7    0.12718\n",
       "6      1    1    8    0.129342\n",
       "6      1    1    9    0.131503\n",
       "6      1    1    10   0.133663\n",
       "6      1    1    11   0.135799\n",
       "6      1    1    12   0.137892\n",
       "⋮\n",
       "10     822  507  516  -0.0840177\n",
       "10     822  508  511  -0.08318\n",
       "10     822  508  512  -0.08318\n",
       "10     822  508  513  -0.0948844\n",
       "10     822  508  514  -0.0986642\n",
       "10     822  508  515  -0.0840177\n",
       "10     822  508  516  -0.0840177\n",
       "10     822  509  513  -0.136379\n",
       "10     822  509  514  -0.136379\n",
       "10     822  510  513  -0.136379\n",
       "10     822  510  514  -0.136379"
      ]
     },
     "execution_count": 5,
     "metadata": {},
     "output_type": "execute_result"
    }
   ],
   "source": [
    "gas_c.data"
   ]
  },
  {
   "cell_type": "markdown",
   "metadata": {},
   "source": [
    "## Select Spatial Ranges"
   ]
  },
  {
   "cell_type": "markdown",
   "metadata": {},
   "source": [
    "### Use RAMSES Standard Notation\n",
    "Ranges correspond to the domain [0:1]^3 and are related to the box corner at [0., 0., 0.] by default. Here, we limit the loading of the data to a maximum level of 8:"
   ]
  },
  {
   "cell_type": "code",
   "execution_count": 6,
   "metadata": {},
   "outputs": [
    {
     "name": "stdout",
     "output_type": "stream",
     "text": [
      "\u001b[0m\u001b[1m[Mera]: Get hydro data: 2019-12-31T12:48:48.088\u001b[22m\n",
      "\n",
      "Key vars=(:level, :cx, :cy, :cz)\n",
      "Using var(s)=(1, 2, 3, 4, 5, 6) = (:rho, :vx, :vy, :vz, :p, :var6) \n",
      "\n",
      "domain:\n",
      "xmin::xmax: 0.2 :: 0.8  \t==> 9.6 [kpc] :: 38.4 [kpc]\n",
      "ymin::ymax: 0.2 :: 0.8  \t==> 9.6 [kpc] :: 38.4 [kpc]\n",
      "zmin::zmax: 0.4 :: 0.6  \t==> 19.2 [kpc] :: 28.8 [kpc]\n",
      "\n",
      "Reading data...\n"
     ]
    },
    {
     "name": "stderr",
     "output_type": "stream",
     "text": [
      "\u001b[32m100%|███████████████████████████████████████████████████| Time: 0:00:31\u001b[39m\n"
     ]
    },
    {
     "name": "stdout",
     "output_type": "stream",
     "text": [
      "Memory used for data table :23.961313247680664 MB\n",
      "-------------------------------------------------------\n",
      "\n"
     ]
    }
   ],
   "source": [
    "gas = gethydro(info, lmax=8, \n",
    "                xrange=[0.2,0.8], \n",
    "                yrange=[0.2,0.8], \n",
    "                zrange=[0.4,0.6], \n",
    "                smallr = 1.0e-30 / info.unit_d); "
   ]
  },
  {
   "cell_type": "markdown",
   "metadata": {},
   "source": [
    "The loaded data ranges are assigned to the field *ranges* as an array in  **RAMSES** standard notation (domain: [0:1]^3):"
   ]
  },
  {
   "cell_type": "code",
   "execution_count": 7,
   "metadata": {},
   "outputs": [
    {
     "data": {
      "text/plain": [
       "6-element Array{Float64,1}:\n",
       " 0.2\n",
       " 0.8\n",
       " 0.2\n",
       " 0.8\n",
       " 0.4\n",
       " 0.6"
      ]
     },
     "execution_count": 7,
     "metadata": {},
     "output_type": "execute_result"
    }
   ],
   "source": [
    "gas.ranges"
   ]
  },
  {
   "cell_type": "markdown",
   "metadata": {},
   "source": [
    "### Ranges relative to a given center:"
   ]
  },
  {
   "cell_type": "code",
   "execution_count": 8,
   "metadata": {},
   "outputs": [
    {
     "name": "stdout",
     "output_type": "stream",
     "text": [
      "\u001b[0m\u001b[1m[Mera]: Get hydro data: 2019-12-31T12:49:29.173\u001b[22m\n",
      "\n",
      "Key vars=(:level, :cx, :cy, :cz)\n",
      "Using var(s)=(1, 2, 3, 4, 5, 6) = (:rho, :vx, :vy, :vz, :p, :var6) \n",
      "\n",
      "center: [0.5, 0.5, 0.5] ==> [24.0 [kpc] :: 24.0 [kpc] :: 24.0 [kpc]]\n",
      "\n",
      "domain:\n",
      "xmin::xmax: 0.2 :: 0.8  \t==> 9.6 [kpc] :: 38.4 [kpc]\n",
      "ymin::ymax: 0.2 :: 0.8  \t==> 9.6 [kpc] :: 38.4 [kpc]\n",
      "zmin::zmax: 0.4 :: 0.6  \t==> 19.2 [kpc] :: 28.8 [kpc]\n",
      "\n",
      "Reading data...\n"
     ]
    },
    {
     "name": "stderr",
     "output_type": "stream",
     "text": [
      "\u001b[32m100%|███████████████████████████████████████████████████| Time: 0:00:28\u001b[39m\n"
     ]
    },
    {
     "name": "stdout",
     "output_type": "stream",
     "text": [
      "Memory used for data table :23.961313247680664 MB\n",
      "-------------------------------------------------------\n",
      "\n"
     ]
    }
   ],
   "source": [
    "gas = gethydro(info, lmax=8, \n",
    "                xrange=[-0.3, 0.3], \n",
    "                yrange=[-0.3, 0.3], \n",
    "                zrange=[-0.1, 0.1], \n",
    "                center=[0.5, 0.5, 0.5], \n",
    "                smallr = 1.0e-30 / info.unit_d); "
   ]
  },
  {
   "cell_type": "markdown",
   "metadata": {},
   "source": [
    "### Use notation in physical units\n",
    "In the following example the ranges are given in units \"kpc\", relative to the box corner [0., 0., 0.] (default):"
   ]
  },
  {
   "cell_type": "code",
   "execution_count": 9,
   "metadata": {},
   "outputs": [
    {
     "name": "stdout",
     "output_type": "stream",
     "text": [
      "\u001b[0m\u001b[1m[Mera]: Get hydro data: 2019-12-31T12:50:15.248\u001b[22m\n",
      "\n",
      "Key vars=(:level, :cx, :cy, :cz)\n",
      "Using var(s)=(1, 2, 3, 4, 5, 6) = (:rho, :vx, :vy, :vz, :p, :var6) \n",
      "\n",
      "domain:\n",
      "xmin::xmax: 0.0416667 :: 0.4583333  \t==> 2.0 [kpc] :: 22.0 [kpc]\n",
      "ymin::ymax: 0.0416667 :: 0.4583333  \t==> 2.0 [kpc] :: 22.0 [kpc]\n",
      "zmin::zmax: 0.4583333 :: 0.5416667  \t==> 22.0 [kpc] :: 26.0 [kpc]\n",
      "\n",
      "Reading data...\n"
     ]
    },
    {
     "name": "stderr",
     "output_type": "stream",
     "text": [
      "\u001b[32m100%|███████████████████████████████████████████████████| Time: 0:00:28\u001b[39m\n"
     ]
    },
    {
     "name": "stdout",
     "output_type": "stream",
     "text": [
      "Memory used for data table :4.347360610961914 MB\n",
      "-------------------------------------------------------\n",
      "\n"
     ]
    }
   ],
   "source": [
    "gas = gethydro(info, lmax=8, \n",
    "                xrange=[2.,22.], \n",
    "                yrange=[2.,22.], \n",
    "                zrange=[22.,26.], \n",
    "                range_units=:kpc, \n",
    "                smallr = 1.0e-30 / info.unit_d); "
   ]
  },
  {
   "cell_type": "markdown",
   "metadata": {},
   "source": [
    "The possible physical length units for the keyword *range_units* are defined in the field *scale* : "
   ]
  },
  {
   "cell_type": "code",
   "execution_count": 12,
   "metadata": {},
   "outputs": [
    {
     "name": "stdout",
     "output_type": "stream",
     "text": [
      "\n",
      "\u001b[0m\u001b[1m[Mera]: Fields to scale from user/code units to selected units\u001b[22m\n",
      "\u001b[0m\u001b[1m=======================================================================\u001b[22m\n",
      "Mpc\t= 0.0010000000000006482\n",
      "kpc\t= 1.0000000000006481\n",
      "pc\t= 1000.0000000006482\n",
      "mpc\t= 1.0000000000006482e6\n",
      "ly\t= 3261.5637769461323\n",
      "Au\t= 2.0626480623310105e23\n",
      "km\t= 3.0856775812820004e16\n",
      "m\t= 3.085677581282e19\n",
      "cm\t= 3.085677581282e21\n",
      "mm\t= 3.085677581282e22\n",
      "μm\t= 3.085677581282e25\n",
      "Msol_pc3\t= 0.9997234790001649\n",
      "g_cm3\t= 6.76838218451376e-23\n",
      "Msol_pc2\t= 999.7234790008131\n",
      "g_cm2\t= 0.20885045168302602\n",
      "Gyr\t= 0.014910986463557083\n",
      "Myr\t= 14.910986463557084\n",
      "yr\t= 1.4910986463557083e7\n",
      "s\t= 4.70554946422349e14\n",
      "ms\t= 4.70554946422349e17\n",
      "Msol\t= 9.99723479002109e8\n",
      "Mearth\t= 3.329677459032007e14\n",
      "Mjupiter\t= 1.0476363431814971e12\n",
      "g\t= 1.9885499720830952e42\n",
      "km_s\t= 65.57528732282063\n",
      "m_s\t= 65575.28732282063\n",
      "cm_s\t= 6.557528732282063e6\n",
      "nH\t= 30.987773856809987\n",
      "erg\t= 8.551000140274429e55\n",
      "g_cms2\t= 2.9104844143584656e-9\n",
      "T_mu\t= 517028.3199143136\n",
      "Ba\t= 2.910484414358466e-9\n",
      "\n"
     ]
    }
   ],
   "source": [
    "viewfields(info.scale)  # or e.g.: gas.info.scale"
   ]
  },
  {
   "cell_type": "markdown",
   "metadata": {},
   "source": [
    "### Ranges relative to a given center e.g. in units \"kpc\":"
   ]
  },
  {
   "cell_type": "code",
   "execution_count": 10,
   "metadata": {},
   "outputs": [
    {
     "name": "stdout",
     "output_type": "stream",
     "text": [
      "\u001b[0m\u001b[1m[Mera]: Get hydro data: 2019-12-31T12:51:24.55\u001b[22m\n",
      "\n",
      "Key vars=(:level, :cx, :cy, :cz)\n",
      "Using var(s)=(1, 2, 3, 4, 5, 6) = (:rho, :vx, :vy, :vz, :p, :var6) \n",
      "\n",
      "center: [0.5, 0.5, 0.5] ==> [24.0 [kpc] :: 24.0 [kpc] :: 24.0 [kpc]]\n",
      "\n",
      "domain:\n",
      "xmin::xmax: 0.1666667 :: 0.8333333  \t==> 8.0 [kpc] :: 40.0 [kpc]\n",
      "ymin::ymax: 0.1666667 :: 0.8333333  \t==> 8.0 [kpc] :: 40.0 [kpc]\n",
      "zmin::zmax: 0.4583333 :: 0.5416667  \t==> 22.0 [kpc] :: 26.0 [kpc]\n",
      "\n",
      "Reading data...\n"
     ]
    },
    {
     "name": "stderr",
     "output_type": "stream",
     "text": [
      "\u001b[32m100%|███████████████████████████████████████████████████| Time: 0:00:28\u001b[39m\n"
     ]
    },
    {
     "name": "stdout",
     "output_type": "stream",
     "text": [
      "Memory used for data table :22.76700782775879 MB\n",
      "-------------------------------------------------------\n",
      "\n"
     ]
    }
   ],
   "source": [
    "gas = gethydro(info, lmax=8, \n",
    "                xrange=[-16.,16.], \n",
    "                yrange=[-16.,16.], \n",
    "                zrange=[-2.,2.], \n",
    "                center=[24.,24.,24.], \n",
    "                range_units=:kpc, \n",
    "                smallr = 1.0e-30 / info.unit_d); "
   ]
  },
  {
   "cell_type": "markdown",
   "metadata": {},
   "source": [
    "Use the short notation for the box center :bc or :boxcenter for all in dimensions (x,y,z):"
   ]
  },
  {
   "cell_type": "code",
   "execution_count": 2,
   "metadata": {},
   "outputs": [
    {
     "name": "stdout",
     "output_type": "stream",
     "text": [
      "\u001b[0m\u001b[1m[Mera]: Get hydro data: 2019-12-31T13:07:32.288\u001b[22m\n",
      "\n",
      "Key vars=(:level, :cx, :cy, :cz)\n",
      "Using var(s)=(1, 2, 3, 4, 5, 6) = (:rho, :vx, :vy, :vz, :p, :var6) \n",
      "\n",
      "center: [0.5, 0.5, 0.5] ==> [24.0 [kpc] :: 24.0 [kpc] :: 24.0 [kpc]]\n",
      "\n",
      "domain:\n",
      "xmin::xmax: 0.1666667 :: 0.8333333  \t==> 8.0 [kpc] :: 40.0 [kpc]\n",
      "ymin::ymax: 0.1666667 :: 0.8333333  \t==> 8.0 [kpc] :: 40.0 [kpc]\n",
      "zmin::zmax: 0.4583333 :: 0.5416667  \t==> 22.0 [kpc] :: 26.0 [kpc]\n",
      "\n",
      "Reading data...\n"
     ]
    },
    {
     "name": "stderr",
     "output_type": "stream",
     "text": [
      "\u001b[32m100%|███████████████████████████████████████████████████| Time: 0:00:29\u001b[39m\n"
     ]
    },
    {
     "name": "stdout",
     "output_type": "stream",
     "text": [
      "Memory used for data table :22.76700782775879 MB\n",
      "-------------------------------------------------------\n",
      "\n"
     ]
    }
   ],
   "source": [
    "gas = gethydro(info, lmax=8, \n",
    "                xrange=[-16., 16.], \n",
    "                yrange=[-16., 16.], \n",
    "                zrange=[-2., 2.], \n",
    "                center=[:boxcenter], \n",
    "                range_units=:kpc, \n",
    "                smallr = 1.0e-30 / info.unit_d); "
   ]
  },
  {
   "cell_type": "code",
   "execution_count": 3,
   "metadata": {},
   "outputs": [
    {
     "name": "stdout",
     "output_type": "stream",
     "text": [
      "\u001b[0m\u001b[1m[Mera]: Get hydro data: 2019-12-31T13:08:05.079\u001b[22m\n",
      "\n",
      "Key vars=(:level, :cx, :cy, :cz)\n",
      "Using var(s)=(1, 2, 3, 4, 5, 6) = (:rho, :vx, :vy, :vz, :p, :var6) \n",
      "\n",
      "center: [0.5, 0.5, 0.5] ==> [24.0 [kpc] :: 24.0 [kpc] :: 24.0 [kpc]]\n",
      "\n",
      "domain:\n",
      "xmin::xmax: 0.1666667 :: 0.8333333  \t==> 8.0 [kpc] :: 40.0 [kpc]\n",
      "ymin::ymax: 0.1666667 :: 0.8333333  \t==> 8.0 [kpc] :: 40.0 [kpc]\n",
      "zmin::zmax: 0.4583333 :: 0.5416667  \t==> 22.0 [kpc] :: 26.0 [kpc]\n",
      "\n",
      "Reading data...\n"
     ]
    },
    {
     "name": "stderr",
     "output_type": "stream",
     "text": [
      "\u001b[32m100%|███████████████████████████████████████████████████| Time: 0:00:30\u001b[39m\n"
     ]
    },
    {
     "name": "stdout",
     "output_type": "stream",
     "text": [
      "Memory used for data table :22.76700782775879 MB\n",
      "-------------------------------------------------------\n",
      "\n"
     ]
    }
   ],
   "source": [
    "gas = gethydro(info, lmax=8, \n",
    "                xrange=[-16., 16.], \n",
    "                yrange=[-16., 16.], \n",
    "                zrange=[-2., 2.], \n",
    "                center=[:bc], \n",
    "                range_units=:kpc, \n",
    "                smallr = 1.0e-30 / info.unit_d); "
   ]
  },
  {
   "cell_type": "markdown",
   "metadata": {},
   "source": [
    "Use the box center notation for individual dimensions, here x,z:"
   ]
  },
  {
   "cell_type": "code",
   "execution_count": 4,
   "metadata": {},
   "outputs": [
    {
     "name": "stdout",
     "output_type": "stream",
     "text": [
      "\u001b[0m\u001b[1m[Mera]: Get hydro data: 2019-12-31T13:09:09.256\u001b[22m\n",
      "\n",
      "Key vars=(:level, :cx, :cy, :cz)\n",
      "Using var(s)=(1, 2, 3, 4, 5, 6) = (:rho, :vx, :vy, :vz, :p, :var6) \n",
      "\n",
      "center: [0.5, 0.5, 0.5] ==> [24.0 [kpc] :: 24.0 [kpc] :: 24.0 [kpc]]\n",
      "\n",
      "domain:\n",
      "xmin::xmax: 0.1666667 :: 0.8333333  \t==> 8.0 [kpc] :: 40.0 [kpc]\n",
      "ymin::ymax: 0.1666667 :: 0.8333333  \t==> 8.0 [kpc] :: 40.0 [kpc]\n",
      "zmin::zmax: 0.4583333 :: 0.5416667  \t==> 22.0 [kpc] :: 26.0 [kpc]\n",
      "\n",
      "Reading data...\n"
     ]
    },
    {
     "name": "stderr",
     "output_type": "stream",
     "text": [
      "\u001b[32m100%|███████████████████████████████████████████████████| Time: 0:00:32\u001b[39m\n"
     ]
    },
    {
     "name": "stdout",
     "output_type": "stream",
     "text": [
      "Memory used for data table :22.76700782775879 MB\n",
      "-------------------------------------------------------\n",
      "\n"
     ]
    }
   ],
   "source": [
    "gas = gethydro(info, lmax=8, \n",
    "                xrange=[-16., 16.], \n",
    "                yrange=[-16., 16.], \n",
    "                zrange=[-2., 2.], \n",
    "                center=[:bc, 24., :bc], \n",
    "                range_units=:kpc, \n",
    "                smallr = 1.0e-30 / info.unit_d); "
   ]
  },
  {
   "cell_type": "code",
   "execution_count": null,
   "metadata": {},
   "outputs": [],
   "source": []
  }
 ],
 "metadata": {
  "kernelspec": {
   "display_name": "Julia 1.3.0",
   "language": "julia",
   "name": "julia-1.3"
  },
  "language_info": {
   "file_extension": ".jl",
   "mimetype": "application/julia",
   "name": "julia",
   "version": "1.3.1"
  }
 },
 "nbformat": 4,
 "nbformat_minor": 4
}
