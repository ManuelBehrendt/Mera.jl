{
 "cells": [
  {
   "cell_type": "markdown",
   "metadata": {},
   "source": [
    "# 4. Basic Calculations\n",
    "The following functions process different types of *DataSetType*: \n",
    "- ContainMassDataSetType,\n",
    "-    HydroPartType,\n",
    "-    HydroDataType,\n",
    "-    PartDataType,\n",
    "-    ClumpDataType. "
   ]
  },
  {
   "cell_type": "markdown",
   "metadata": {},
   "source": [
    "## Load The Data"
   ]
  },
  {
   "cell_type": "code",
   "execution_count": 1,
   "metadata": {},
   "outputs": [
    {
     "name": "stderr",
     "output_type": "stream",
     "text": [
      "┌ Info: Precompiling Mera [02f895e8-fdb1-4346-8fe6-c721699f5126]\n",
      "└ @ Base loading.jl:1273\n"
     ]
    },
    {
     "name": "stdout",
     "output_type": "stream",
     "text": [
      "\n",
      "*__   __ _______ ______   _______ \n",
      "|  |_|  |       |    _ | |   _   |\n",
      "|       |    ___|   | || |  |_|  |\n",
      "|       |   |___|   |_||_|       |\n",
      "|       |    ___|    __  |       |\n",
      "| ||_|| |   |___|   |  | |   _   |\n",
      "|_|   |_|_______|___|  |_|__| |__|\n",
      "\n"
     ]
    }
   ],
   "source": [
    "using Mera\n",
    "info = getinfo(400, \"../../testing/simulations/manu_sim_sf_L14\");\n",
    "gas       = gethydro(info, [:rho, :vx, :vy, :vz], lmax=8); \n",
    "particles = getparticles(info, [:mass, :vx, :vy, :vz])\n",
    "clumps    = getclumps(info);"
   ]
  },
  {
   "cell_type": "markdown",
   "metadata": {},
   "source": [
    "### Note\n",
    "Many functions can provide the results in selected units. The internal scaling from code to physical units makes use of the following defined relations:"
   ]
  },
  {
   "cell_type": "code",
   "execution_count": 50,
   "metadata": {},
   "outputs": [
    {
     "name": "stdout",
     "output_type": "stream",
     "text": [
      "\n",
      "\u001b[0m\u001b[1m[Mera]: Fields to scale from user/code units to selected units\u001b[22m\n",
      "\u001b[0m\u001b[1m=======================================================================\u001b[22m\n",
      "Mpc\t= 0.0010000000000006482\n",
      "kpc\t= 1.0000000000006481\n",
      "pc\t= 1000.0000000006482\n",
      "mpc\t= 1.0000000000006482e6\n",
      "ly\t= 3261.5637769461323\n",
      "Au\t= 2.0626480623310105e23\n",
      "km\t= 3.0856775812820004e16\n",
      "m\t= 3.085677581282e19\n",
      "cm\t= 3.085677581282e21\n",
      "mm\t= 3.085677581282e22\n",
      "μm\t= 3.085677581282e25\n",
      "Msol_pc3\t= 0.9997234790001649\n",
      "g_cm3\t= 6.76838218451376e-23\n",
      "Msol_pc2\t= 999.7234790008131\n",
      "g_cm2\t= 0.20885045168302602\n",
      "Gyr\t= 0.014910986463557083\n",
      "Myr\t= 14.910986463557084\n",
      "yr\t= 1.4910986463557083e7\n",
      "s\t= 4.70554946422349e14\n",
      "ms\t= 4.70554946422349e17\n",
      "Msol\t= 9.99723479002109e8\n",
      "Mearth\t= 3.329677459032007e14\n",
      "Mjupiter\t= 1.0476363431814971e12\n",
      "g\t= 1.9885499720830952e42\n",
      "km_s\t= 65.57528732282063\n",
      "m_s\t= 65575.28732282063\n",
      "cm_s\t= 6.557528732282063e6\n",
      "nH\t= 30.987773856809987\n",
      "erg\t= 8.551000140274429e55\n",
      "g_cms2\t= 2.9104844143584656e-9\n",
      "T_mu\t= 517028.3199143136\n",
      "Ba\t= 2.910484414358466e-9\n",
      "\n"
     ]
    }
   ],
   "source": [
    "viewfields(info.scale)"
   ]
  },
  {
   "cell_type": "markdown",
   "metadata": {},
   "source": [
    "\n",
    "## Total Mass"
   ]
  },
  {
   "cell_type": "markdown",
   "metadata": {},
   "source": [
    "The function *msum* calculates the total mass of the data that is assigned to the provided object. For the hydro-data, the mass is derived from the density and cell-size (level) of all elements. *info.scale.Msol* (or e.g.: gas.info.scale.Msol) scales the result from code units to solar masses:"
   ]
  },
  {
   "cell_type": "code",
   "execution_count": 51,
   "metadata": {},
   "outputs": [
    {
     "name": "stdout",
     "output_type": "stream",
     "text": [
      "Gas Mtot:       2.6703951073850353e10 Msol\n",
      "Particles Mtot: 5.804426008528444e9 Msol\n",
      "Clumps Mtot:    1.3743280681841675e10 Msol\n"
     ]
    }
   ],
   "source": [
    "println( \"Gas Mtot:       \", msum(gas)       * info.scale.Msol, \" Msol\" )\n",
    "println( \"Particles Mtot: \", msum(particles) * info.scale.Msol, \" Msol\" )\n",
    "println( \"Clumps Mtot:    \", msum(clumps)    * info.scale.Msol, \" Msol\" )"
   ]
  },
  {
   "cell_type": "markdown",
   "metadata": {},
   "source": [
    "The units for the results can be calculated by the function itself by providing an unit-argument:"
   ]
  },
  {
   "cell_type": "code",
   "execution_count": 52,
   "metadata": {},
   "outputs": [
    {
     "name": "stdout",
     "output_type": "stream",
     "text": [
      "Gas Mtot:       2.6703951073850353e10 Msol\n",
      "Particles Mtot: 5.804426008528437e9 Msol\n",
      "Clumps Mtot:    1.3743280681841677e10 Msol\n"
     ]
    }
   ],
   "source": [
    "println( \"Gas Mtot:       \", msum(gas, :Msol)       , \" Msol\" )\n",
    "println( \"Particles Mtot: \", msum(particles, :Msol) , \" Msol\" )\n",
    "println( \"Clumps Mtot:    \", msum(clumps, :Msol)    , \" Msol\" )"
   ]
  },
  {
   "cell_type": "markdown",
   "metadata": {},
   "source": [
    "The following methods are defined on the function *msum*:"
   ]
  },
  {
   "cell_type": "code",
   "execution_count": 53,
   "metadata": {},
   "outputs": [
    {
     "data": {
      "text/html": [
       "# 2 methods for generic function <b>msum</b>:<ul><li> msum(dataobject::<b>ContainMassDataSetType</b>; <i>unit, mask</i>) in Mera at <a href=\"https://github.com/ManuelBehrendt/Mera/tree/f759617187ee7b1e48b337338662b31ffb5b3ab2//src/functions/basic_calc.jl#L23\" target=\"_blank\">/Users/mabe/Documents/Projects/dev/Mera/src/functions/basic_calc.jl:23</a></li> <li> msum(dataobject::<b>ContainMassDataSetType</b>, unit::<b>Symbol</b>; <i>mask</i>) in Mera at <a href=\"https://github.com/ManuelBehrendt/Mera/tree/f759617187ee7b1e48b337338662b31ffb5b3ab2//src/functions/basic_calc.jl#L19\" target=\"_blank\">/Users/mabe/Documents/Projects/dev/Mera/src/functions/basic_calc.jl:19</a></li> </ul>"
      ],
      "text/plain": [
       "# 2 methods for generic function \"msum\":\n",
       "[1] msum(dataobject::ContainMassDataSetType; unit, mask) in Mera at /Users/mabe/Documents/Projects/dev/Mera/src/functions/basic_calc.jl:23\n",
       "[2] msum(dataobject::ContainMassDataSetType, unit::Symbol; mask) in Mera at /Users/mabe/Documents/Projects/dev/Mera/src/functions/basic_calc.jl:19"
      ]
     },
     "execution_count": 53,
     "metadata": {},
     "output_type": "execute_result"
    }
   ],
   "source": [
    "methods(msum)"
   ]
  },
  {
   "cell_type": "markdown",
   "metadata": {},
   "source": [
    "## Center-Of-Mass\n",
    "The function *center_of_mass* or *com* calculates the center-of-mass of the data that is assigned to the provided object."
   ]
  },
  {
   "cell_type": "code",
   "execution_count": 54,
   "metadata": {},
   "outputs": [
    {
     "name": "stdout",
     "output_type": "stream",
     "text": [
      "Gas COM:       (23.327487354477643, 23.835419919525922, 24.041720148035843) kpc\n",
      "Particles COM: (22.891354761211332, 24.174147282680273, 24.003205056545575) kpc\n",
      "Clumps COM:    (23.135765457064576, 23.741712325649264, 24.0050127185862) kpc\n"
     ]
    }
   ],
   "source": [
    "println( \"Gas COM:       \", center_of_mass(gas)       .* info.scale.kpc, \" kpc\" )\n",
    "println( \"Particles COM: \", center_of_mass(particles) .* info.scale.kpc, \" kpc\" )\n",
    "println( \"Clumps COM:    \", center_of_mass(clumps)    .* info.scale.kpc, \" kpc\" );"
   ]
  },
  {
   "cell_type": "markdown",
   "metadata": {},
   "source": [
    "The units for the results can be calculated by the function itself by providing a unit-argument:"
   ]
  },
  {
   "cell_type": "code",
   "execution_count": 55,
   "metadata": {},
   "outputs": [
    {
     "name": "stdout",
     "output_type": "stream",
     "text": [
      "Gas COM:       (23.327487354477643, 23.835419919525922, 24.041720148035843) kpc\n",
      "Particles COM: (22.891354761211332, 24.174147282680273, 24.003205056545575) kpc\n",
      "Clumps COM:    (23.135765457064576, 23.741712325649264, 24.0050127185862) kpc\n"
     ]
    }
   ],
   "source": [
    "println( \"Gas COM:       \", center_of_mass(gas, :kpc)       , \" kpc\" )\n",
    "println( \"Particles COM: \", center_of_mass(particles, :kpc) , \" kpc\" )\n",
    "println( \"Clumps COM:    \", center_of_mass(clumps, :kpc)    , \" kpc\" );"
   ]
  },
  {
   "cell_type": "markdown",
   "metadata": {},
   "source": [
    "A shorter name for the function *center_of_mass* is defined as *com* :"
   ]
  },
  {
   "cell_type": "code",
   "execution_count": 56,
   "metadata": {},
   "outputs": [
    {
     "name": "stdout",
     "output_type": "stream",
     "text": [
      "Gas COM:       (23.327487354477643, 23.835419919525922, 24.041720148035843) kpc\n",
      "Particles COM: (22.891354761211332, 24.174147282680273, 24.003205056545575) kpc\n",
      "Clumps COM:    (23.135765457064576, 23.741712325649264, 24.0050127185862) kpc\n"
     ]
    }
   ],
   "source": [
    "println( \"Gas COM:       \", com(gas, :kpc)       , \" kpc\" )\n",
    "println( \"Particles COM: \", com(particles, :kpc) , \" kpc\" )\n",
    "println( \"Clumps COM:    \", com(clumps, :kpc)    , \" kpc\" );"
   ]
  },
  {
   "cell_type": "markdown",
   "metadata": {},
   "source": [
    "The result of the coordinates (x, y, z) can be assigned e.g. to a tuple or to three single variables:"
   ]
  },
  {
   "cell_type": "code",
   "execution_count": 57,
   "metadata": {},
   "outputs": [
    {
     "name": "stdout",
     "output_type": "stream",
     "text": [
      "Tuple:      (23.327487354477643, 23.835419919525922, 24.041720148035843) kpc\n",
      "Single vars: 23.327487354477643  23.835419919525922  24.041720148035843  kpc\n"
     ]
    }
   ],
   "source": [
    "# return coordinates in a tuple\n",
    "com_gas = com(gas, :kpc)\n",
    "println( \"Tuple:      \", com_gas, \" kpc\" )\n",
    "\n",
    "# return coordinates into variables\n",
    "x_pos, y_pos, z_pos = com(gas, :kpc);  #create variables\n",
    "println(\"Single vars: \", x_pos, \"  \", y_pos, \"  \", z_pos, \"  kpc\")"
   ]
  },
  {
   "cell_type": "markdown",
   "metadata": {},
   "source": [
    "Calculate the joint centre-of-mass from the hydro and particle data. Provide the hydro and particle data with an array (independent order):"
   ]
  },
  {
   "cell_type": "code",
   "execution_count": 58,
   "metadata": {},
   "outputs": [
    {
     "name": "stdout",
     "output_type": "stream",
     "text": [
      "Joint COM (Gas + Particles): (23.24961513830681, 23.895900266222746, 24.03484321295537) kpc\n",
      "Joint COM (Particles + Gas): (23.24961513830681, 23.895900266222746, 24.03484321295537) kpc\n"
     ]
    }
   ],
   "source": [
    "println( \"Joint COM (Gas + Particles): \", center_of_mass([gas,particles], :kpc) , \" kpc\" )\n",
    "println( \"Joint COM (Particles + Gas): \", center_of_mass([particles,gas], :kpc) , \" kpc\" )"
   ]
  },
  {
   "cell_type": "markdown",
   "metadata": {},
   "source": [
    "Use the shorter name *com* that is defined as the function *center_of_mass* :"
   ]
  },
  {
   "cell_type": "code",
   "execution_count": 59,
   "metadata": {},
   "outputs": [
    {
     "name": "stdout",
     "output_type": "stream",
     "text": [
      "Joint COM (Gas + Particles): (23.24961513830681, 23.895900266222746, 24.03484321295537) kpc\n",
      "Joint COM (Particles + Gas): (23.24961513830681, 23.895900266222746, 24.03484321295537) kpc\n"
     ]
    }
   ],
   "source": [
    "println( \"Joint COM (Gas + Particles): \", com([gas,particles], :kpc) , \" kpc\" )\n",
    "println( \"Joint COM (Particles + Gas): \", com([particles,gas], :kpc) , \" kpc\" )"
   ]
  },
  {
   "cell_type": "code",
   "execution_count": 60,
   "metadata": {},
   "outputs": [
    {
     "data": {
      "text/html": [
       "# 4 methods for generic function <b>center_of_mass</b>:<ul><li> center_of_mass(dataobject::<b>Array{HydroPartType,1}</b>; <i>unit, mask</i>) in Mera at <a href=\"https://github.com/ManuelBehrendt/Mera/tree/f759617187ee7b1e48b337338662b31ffb5b3ab2//src/functions/basic_calc.jl#L108\" target=\"_blank\">/Users/mabe/Documents/Projects/dev/Mera/src/functions/basic_calc.jl:108</a></li> <li> center_of_mass(dataobject::<b>Array{HydroPartType,1}</b>, unit::<b>Symbol</b>; <i>mask</i>) in Mera at <a href=\"https://github.com/ManuelBehrendt/Mera/tree/f759617187ee7b1e48b337338662b31ffb5b3ab2//src/functions/basic_calc.jl#L103\" target=\"_blank\">/Users/mabe/Documents/Projects/dev/Mera/src/functions/basic_calc.jl:103</a></li> <li> center_of_mass(dataobject::<b>ContainMassDataSetType</b>; <i>unit, mask</i>) in Mera at <a href=\"https://github.com/ManuelBehrendt/Mera/tree/f759617187ee7b1e48b337338662b31ffb5b3ab2//src/functions/basic_calc.jl#L51\" target=\"_blank\">/Users/mabe/Documents/Projects/dev/Mera/src/functions/basic_calc.jl:51</a></li> <li> center_of_mass(dataobject::<b>ContainMassDataSetType</b>, unit::<b>Symbol</b>; <i>mask</i>) in Mera at <a href=\"https://github.com/ManuelBehrendt/Mera/tree/f759617187ee7b1e48b337338662b31ffb5b3ab2//src/functions/basic_calc.jl#L47\" target=\"_blank\">/Users/mabe/Documents/Projects/dev/Mera/src/functions/basic_calc.jl:47</a></li> </ul>"
      ],
      "text/plain": [
       "# 4 methods for generic function \"center_of_mass\":\n",
       "[1] center_of_mass(dataobject::Array{HydroPartType,1}; unit, mask) in Mera at /Users/mabe/Documents/Projects/dev/Mera/src/functions/basic_calc.jl:108\n",
       "[2] center_of_mass(dataobject::Array{HydroPartType,1}, unit::Symbol; mask) in Mera at /Users/mabe/Documents/Projects/dev/Mera/src/functions/basic_calc.jl:103\n",
       "[3] center_of_mass(dataobject::ContainMassDataSetType; unit, mask) in Mera at /Users/mabe/Documents/Projects/dev/Mera/src/functions/basic_calc.jl:51\n",
       "[4] center_of_mass(dataobject::ContainMassDataSetType, unit::Symbol; mask) in Mera at /Users/mabe/Documents/Projects/dev/Mera/src/functions/basic_calc.jl:47"
      ]
     },
     "execution_count": 60,
     "metadata": {},
     "output_type": "execute_result"
    }
   ],
   "source": [
    "methods(center_of_mass)"
   ]
  },
  {
   "cell_type": "code",
   "execution_count": 61,
   "metadata": {},
   "outputs": [
    {
     "data": {
      "text/html": [
       "# 4 methods for generic function <b>com</b>:<ul><li> com(dataobject::<b>Array{HydroPartType,1}</b>; <i>unit, mask</i>) in Mera at <a href=\"https://github.com/ManuelBehrendt/Mera/tree/f759617187ee7b1e48b337338662b31ffb5b3ab2//src/functions/basic_calc.jl#L166\" target=\"_blank\">/Users/mabe/Documents/Projects/dev/Mera/src/functions/basic_calc.jl:166</a></li> <li> com(dataobject::<b>Array{HydroPartType,1}</b>, unit::<b>Symbol</b>; <i>mask</i>) in Mera at <a href=\"https://github.com/ManuelBehrendt/Mera/tree/f759617187ee7b1e48b337338662b31ffb5b3ab2//src/functions/basic_calc.jl#L162\" target=\"_blank\">/Users/mabe/Documents/Projects/dev/Mera/src/functions/basic_calc.jl:162</a></li> <li> com(dataobject::<b>ContainMassDataSetType</b>; <i>unit, mask</i>) in Mera at <a href=\"https://github.com/ManuelBehrendt/Mera/tree/f759617187ee7b1e48b337338662b31ffb5b3ab2//src/functions/basic_calc.jl#L80\" target=\"_blank\">/Users/mabe/Documents/Projects/dev/Mera/src/functions/basic_calc.jl:80</a></li> <li> com(dataobject::<b>ContainMassDataSetType</b>, unit::<b>Symbol</b>; <i>mask</i>) in Mera at <a href=\"https://github.com/ManuelBehrendt/Mera/tree/f759617187ee7b1e48b337338662b31ffb5b3ab2//src/functions/basic_calc.jl#L76\" target=\"_blank\">/Users/mabe/Documents/Projects/dev/Mera/src/functions/basic_calc.jl:76</a></li> </ul>"
      ],
      "text/plain": [
       "# 4 methods for generic function \"com\":\n",
       "[1] com(dataobject::Array{HydroPartType,1}; unit, mask) in Mera at /Users/mabe/Documents/Projects/dev/Mera/src/functions/basic_calc.jl:166\n",
       "[2] com(dataobject::Array{HydroPartType,1}, unit::Symbol; mask) in Mera at /Users/mabe/Documents/Projects/dev/Mera/src/functions/basic_calc.jl:162\n",
       "[3] com(dataobject::ContainMassDataSetType; unit, mask) in Mera at /Users/mabe/Documents/Projects/dev/Mera/src/functions/basic_calc.jl:80\n",
       "[4] com(dataobject::ContainMassDataSetType, unit::Symbol; mask) in Mera at /Users/mabe/Documents/Projects/dev/Mera/src/functions/basic_calc.jl:76"
      ]
     },
     "execution_count": 61,
     "metadata": {},
     "output_type": "execute_result"
    }
   ],
   "source": [
    "methods(com)"
   ]
  },
  {
   "cell_type": "markdown",
   "metadata": {},
   "source": [
    "## Bulk Velocity"
   ]
  },
  {
   "cell_type": "markdown",
   "metadata": {},
   "source": [
    "The function *bulk_velocity* or *average_velocity* calculates the average velocity (mass-weightedO of the data that is assigned to the provided object. It can also be used for the clump data if it has velocity components: vx, vy, vz"
   ]
  },
  {
   "cell_type": "code",
   "execution_count": 62,
   "metadata": {},
   "outputs": [
    {
     "name": "stdout",
     "output_type": "stream",
     "text": [
      "Gas:       (-1.4418303105424648, -11.708719305767849, -0.5393243496862975) km/s\n",
      "Particles: (-11.623422700314535, -18.440572802490234, -0.3291927731417528) km/s\n"
     ]
    }
   ],
   "source": [
    "println( \"Gas:       \", bulk_velocity(gas, :km_s)       , \" km/s\" )\n",
    "println( \"Particles: \", bulk_velocity(particles, :km_s) , \" km/s\" )"
   ]
  },
  {
   "cell_type": "code",
   "execution_count": 63,
   "metadata": {},
   "outputs": [
    {
     "name": "stdout",
     "output_type": "stream",
     "text": [
      "Gas:       (-1.4418303105424648, -11.708719305767849, -0.5393243496862975) km/s\n",
      "Particles: (-11.623422700314535, -18.440572802490234, -0.3291927731417528) km/s\n"
     ]
    }
   ],
   "source": [
    "println( \"Gas:       \", average_velocity(gas, :km_s)       , \" km/s\" )\n",
    "println( \"Particles: \", average_velocity(particles, :km_s) , \" km/s\" )"
   ]
  },
  {
   "cell_type": "code",
   "execution_count": 64,
   "metadata": {},
   "outputs": [
    {
     "data": {
      "text/html": [
       "# 2 methods for generic function <b>bulk_velocity</b>:<ul><li> bulk_velocity(dataobject::<b>ContainMassDataSetType</b>; <i>unit, mask</i>) in Mera at <a href=\"https://github.com/ManuelBehrendt/Mera/tree/f759617187ee7b1e48b337338662b31ffb5b3ab2//src/functions/basic_calc.jl#L198\" target=\"_blank\">/Users/mabe/Documents/Projects/dev/Mera/src/functions/basic_calc.jl:198</a></li> <li> bulk_velocity(dataobject::<b>ContainMassDataSetType</b>, unit::<b>Symbol</b>; <i>mask</i>) in Mera at <a href=\"https://github.com/ManuelBehrendt/Mera/tree/f759617187ee7b1e48b337338662b31ffb5b3ab2//src/functions/basic_calc.jl#L194\" target=\"_blank\">/Users/mabe/Documents/Projects/dev/Mera/src/functions/basic_calc.jl:194</a></li> </ul>"
      ],
      "text/plain": [
       "# 2 methods for generic function \"bulk_velocity\":\n",
       "[1] bulk_velocity(dataobject::ContainMassDataSetType; unit, mask) in Mera at /Users/mabe/Documents/Projects/dev/Mera/src/functions/basic_calc.jl:198\n",
       "[2] bulk_velocity(dataobject::ContainMassDataSetType, unit::Symbol; mask) in Mera at /Users/mabe/Documents/Projects/dev/Mera/src/functions/basic_calc.jl:194"
      ]
     },
     "execution_count": 64,
     "metadata": {},
     "output_type": "execute_result"
    }
   ],
   "source": [
    "methods(bulk_velocity)"
   ]
  },
  {
   "cell_type": "code",
   "execution_count": 65,
   "metadata": {},
   "outputs": [
    {
     "data": {
      "text/html": [
       "# 2 methods for generic function <b>average_velocity</b>:<ul><li> average_velocity(dataobject::<b>ContainMassDataSetType</b>; <i>unit, mask</i>) in Mera at <a href=\"https://github.com/ManuelBehrendt/Mera/tree/f759617187ee7b1e48b337338662b31ffb5b3ab2//src/functions/basic_calc.jl#L225\" target=\"_blank\">/Users/mabe/Documents/Projects/dev/Mera/src/functions/basic_calc.jl:225</a></li> <li> average_velocity(dataobject::<b>ContainMassDataSetType</b>, unit::<b>Symbol</b>; <i>mask</i>) in Mera at <a href=\"https://github.com/ManuelBehrendt/Mera/tree/f759617187ee7b1e48b337338662b31ffb5b3ab2//src/functions/basic_calc.jl#L221\" target=\"_blank\">/Users/mabe/Documents/Projects/dev/Mera/src/functions/basic_calc.jl:221</a></li> </ul>"
      ],
      "text/plain": [
       "# 2 methods for generic function \"average_velocity\":\n",
       "[1] average_velocity(dataobject::ContainMassDataSetType; unit, mask) in Mera at /Users/mabe/Documents/Projects/dev/Mera/src/functions/basic_calc.jl:225\n",
       "[2] average_velocity(dataobject::ContainMassDataSetType, unit::Symbol; mask) in Mera at /Users/mabe/Documents/Projects/dev/Mera/src/functions/basic_calc.jl:221"
      ]
     },
     "execution_count": 65,
     "metadata": {},
     "output_type": "execute_result"
    }
   ],
   "source": [
    "methods(average_velocity)"
   ]
  },
  {
   "cell_type": "markdown",
   "metadata": {},
   "source": [
    "## Mass Weighted Average\n",
    "The functions *center_of_mass* and *bulk_velocity* use the function *average_mweighted* (average_mass-weighted) in the backend which can be feeded with any kind of variable that is pre-defined for the *getvar()* function or exists in the datatable. See the defined method and at getvar() below:"
   ]
  },
  {
   "cell_type": "code",
   "execution_count": 66,
   "metadata": {},
   "outputs": [
    {
     "data": {
      "text/html": [
       "# 1 method for generic function <b>average_mweighted</b>:<ul><li> average_mweighted(dataobject::<b>ContainMassDataSetType</b>, var::<b>Symbol</b>; <i>mask</i>) in Mera at <a href=\"https://github.com/ManuelBehrendt/Mera/tree/f759617187ee7b1e48b337338662b31ffb5b3ab2//src/functions/basic_calc.jl#L172\" target=\"_blank\">/Users/mabe/Documents/Projects/dev/Mera/src/functions/basic_calc.jl:172</a></li> </ul>"
      ],
      "text/plain": [
       "# 1 method for generic function \"average_mweighted\":\n",
       "[1] average_mweighted(dataobject::ContainMassDataSetType, var::Symbol; mask) in Mera at /Users/mabe/Documents/Projects/dev/Mera/src/functions/basic_calc.jl:172"
      ]
     },
     "execution_count": 66,
     "metadata": {},
     "output_type": "execute_result"
    }
   ],
   "source": [
    "methods( average_mweighted )"
   ]
  },
  {
   "cell_type": "markdown",
   "metadata": {},
   "source": [
    "<a id=\"Statistics\"></a>"
   ]
  },
  {
   "cell_type": "markdown",
   "metadata": {},
   "source": [
    "## Get Predefined Quantities\n",
    "Here, we only show the examples with the hydro-data:"
   ]
  },
  {
   "cell_type": "code",
   "execution_count": 67,
   "metadata": {},
   "outputs": [
    {
     "name": "stdout",
     "output_type": "stream",
     "text": [
      "Reading data...\n"
     ]
    },
    {
     "name": "stderr",
     "output_type": "stream",
     "text": [
      "\u001b[32m100%|███████████████████████████████████████████████████| Time: 0:00:51\u001b[39m\n"
     ]
    }
   ],
   "source": [
    "info = getinfo(1, \"../../testing/simulations/manu_stable_2019\", verbose=false);\n",
    "gas = gethydro(info, [:rho, :vx, :vy, :vz], verbose=false); "
   ]
  },
  {
   "cell_type": "markdown",
   "metadata": {},
   "source": [
    "Use *getvar* to extract variables or derive predefined quantities from the database, dependent on the data type.\n",
    "See the possible variables:"
   ]
  },
  {
   "cell_type": "code",
   "execution_count": 68,
   "metadata": {},
   "outputs": [
    {
     "name": "stdout",
     "output_type": "stream",
     "text": [
      "Predefined vars that can be calculated for each cell/particle:\n",
      "----------------------------------------------------------------\n",
      "=============================[gas]:=============================\n",
      "       -all the non derived hydro vars-\n",
      ":cpu, :level, :rho, :cx, :cy, :cz, :vx, :vy, :vz, :p, var6,...\n",
      "\n",
      "              -derived hydro vars-\n",
      ":x, :y, :z (in code units)\n",
      ":mass, :cellsize, :freefall_time\n",
      ":cs, :mach, :jeanslength, :jeansnumber\n",
      "\n",
      "==========================[particles]:==========================\n",
      "        all the non derived  vars:\n",
      ":cpu, :level, :id, :family, :tag \n",
      ":x, :y, :z, :vx, :vy, :vz, :mass, :birth, :metal....\n",
      "\n",
      "              -derived particle vars-\n",
      ":age\n",
      "\n",
      "===========================[clumps]:===========================\n",
      ":peak_x or :x, :peak_y or :y, :peak_z or :z\n",
      ":v, :ekin,...\n",
      "\n",
      "=====================[gas or particles]:=======================\n",
      ":v, :ekin\n",
      "\n",
      "related to a given center:\n",
      "---------------------------\n",
      ":r_cylinder, :r_sphere (radial components)\n",
      ":ϕ, :θ\n",
      ":vr_cylinder, vr_sphere (radial components)\n",
      ":vϕ, :vθ\n",
      "----------------------------------------------------------------\n"
     ]
    }
   ],
   "source": [
    "getvar()"
   ]
  },
  {
   "cell_type": "markdown",
   "metadata": {},
   "source": [
    "### Get a Single Quantity\n",
    "In the following example, we calculate the mass for each cell of the hydro data. \n",
    "- The output is a 1dim array in code units by default (mass1).\n",
    "- Each element/cell can be scaled to Msol units by the elementwise multiplikation **gas.scale.Msol** (mass2). \n",
    "- The *getvar* function supports intrinsic scaling to a selected unit (mass3).\n",
    "- The selected unit does not need a keyword argument if the following order is maintained: dataobject, variable, unit"
   ]
  },
  {
   "cell_type": "code",
   "execution_count": 69,
   "metadata": {},
   "outputs": [
    {
     "data": {
      "text/plain": [
       "37898393×4 Array{Float64,2}:\n",
       " 8.9407e-7   894.07     894.07     894.07   \n",
       " 8.9407e-7   894.07     894.07     894.07   \n",
       " 8.9407e-7   894.07     894.07     894.07   \n",
       " 8.9407e-7   894.07     894.07     894.07   \n",
       " 8.9407e-7   894.07     894.07     894.07   \n",
       " 8.9407e-7   894.07     894.07     894.07   \n",
       " 8.9407e-7   894.07     894.07     894.07   \n",
       " 8.9407e-7   894.07     894.07     894.07   \n",
       " 8.9407e-7   894.07     894.07     894.07   \n",
       " 8.9407e-7   894.07     894.07     894.07   \n",
       " 8.9407e-7   894.07     894.07     894.07   \n",
       " 8.9407e-7   894.07     894.07     894.07   \n",
       " 8.9407e-7   894.07     894.07     894.07   \n",
       " ⋮                                          \n",
       " 1.02889e-7  102.889    102.889    102.889  \n",
       " 1.02889e-7  102.889    102.889    102.889  \n",
       " 1.94423e-7  194.423    194.423    194.423  \n",
       " 1.94423e-7  194.423    194.423    194.423  \n",
       " 8.90454e-8   89.0454    89.0454    89.0454 \n",
       " 8.90454e-8   89.0454    89.0454    89.0454 \n",
       " 2.27641e-8   22.7641    22.7641    22.7641 \n",
       " 2.27641e-8   22.7641    22.7641    22.7641 \n",
       " 8.42157e-9    8.42157    8.42157    8.42157\n",
       " 8.42157e-9    8.42157    8.42157    8.42157\n",
       " 3.65085e-8   36.5085    36.5085    36.5085 \n",
       " 3.65085e-8   36.5085    36.5085    36.5085 "
      ]
     },
     "execution_count": 69,
     "metadata": {},
     "output_type": "execute_result"
    }
   ],
   "source": [
    "mass1 = getvar(gas, :mass) # [code units]\n",
    "mass2 = getvar(gas, :mass) * gas.scale.Msol # scale the result (1dim array) from code units to solar masses\n",
    "mass3 = getvar(gas, :mass, unit=:Msol) # unit calculation, provided by a keyword argument [Msol]\n",
    "mass4 = getvar(gas, :mass, :Msol) # unit calculation provided by an argument [Msol]\n",
    "\n",
    "# construct a three dimensional array to compare the three created arrays column wise:  \n",
    "mass_overview = [mass1 mass2 mass3 mass4] "
   ]
  },
  {
   "cell_type": "markdown",
   "metadata": {},
   "source": [
    "Furthermore, we provide a simple function to get the mass of each cell in code units:"
   ]
  },
  {
   "cell_type": "code",
   "execution_count": 70,
   "metadata": {},
   "outputs": [
    {
     "data": {
      "text/plain": [
       "37898393-element Array{Float64,1}:\n",
       " 8.940696716308594e-7 \n",
       " 8.940696716308594e-7 \n",
       " 8.940696716308594e-7 \n",
       " 8.940696716308594e-7 \n",
       " 8.940696716308594e-7 \n",
       " 8.940696716308594e-7 \n",
       " 8.940696716308594e-7 \n",
       " 8.940696716308594e-7 \n",
       " 8.940696716308594e-7 \n",
       " 8.940696716308594e-7 \n",
       " 8.940696716308594e-7 \n",
       " 8.940696716308594e-7 \n",
       " 8.940696716308594e-7 \n",
       " ⋮                    \n",
       " 1.0288910576564388e-7\n",
       " 1.0288910576564388e-7\n",
       " 1.9442336261293343e-7\n",
       " 1.9442336261293343e-7\n",
       " 8.90453891574347e-8  \n",
       " 8.90453891574347e-8  \n",
       " 2.276412192306883e-8 \n",
       " 2.276412192306883e-8 \n",
       " 8.421571563820485e-9 \n",
       " 8.421571563820485e-9 \n",
       " 3.650851622718898e-8 \n",
       " 3.650851622718898e-8 "
      ]
     },
     "execution_count": 70,
     "metadata": {},
     "output_type": "execute_result"
    }
   ],
   "source": [
    "getmass(gas)"
   ]
  },
  {
   "cell_type": "markdown",
   "metadata": {},
   "source": [
    "### Get a Multiple Quantities\n",
    "Get several quantities with one function call by passing an array containing the selected variables. \n",
    "*getvar* returns a dictionary containing 1dim arrays for each quantity in code units:"
   ]
  },
  {
   "cell_type": "code",
   "execution_count": 71,
   "metadata": {},
   "outputs": [
    {
     "data": {
      "text/plain": [
       "Dict{Any,Any} with 2 entries:\n",
       "  :mass => [8.9407e-7, 8.9407e-7, 8.9407e-7, 8.9407e-7, 8.9407e-7, 8.9407e-7, 8…\n",
       "  :ekin => [0.0, 0.0, 0.0, 0.0, 0.0, 0.0, 0.0, 0.0, 0.0, 0.0  …  2.28274e-7, 2.…"
      ]
     },
     "execution_count": 71,
     "metadata": {},
     "output_type": "execute_result"
    }
   ],
   "source": [
    "quantities = getvar(gas, [:mass, :ekin])"
   ]
  },
  {
   "cell_type": "markdown",
   "metadata": {},
   "source": [
    "The units for each quantity can by passed as an array to the keyword argument \"units\" (plural, compare with single quantitiy call above) by preserving the order of the vars argument:"
   ]
  },
  {
   "cell_type": "code",
   "execution_count": 72,
   "metadata": {},
   "outputs": [
    {
     "data": {
      "text/plain": [
       "Dict{Any,Any} with 2 entries:\n",
       "  :mass => [894.07, 894.07, 894.07, 894.07, 894.07, 894.07, 894.07, 894.07, 894…\n",
       "  :ekin => [0.0, 0.0, 0.0, 0.0, 0.0, 0.0, 0.0, 0.0, 0.0, 0.0  …  1.95354e49, 1.…"
      ]
     },
     "execution_count": 72,
     "metadata": {},
     "output_type": "execute_result"
    }
   ],
   "source": [
    "quantities = getvar(gas, [:mass, :ekin], units=[:Msol, :erg])"
   ]
  },
  {
   "cell_type": "markdown",
   "metadata": {},
   "source": [
    "The function can be called without any keywords by preserving the following order: dataobject, variables, units"
   ]
  },
  {
   "cell_type": "code",
   "execution_count": 73,
   "metadata": {},
   "outputs": [
    {
     "data": {
      "text/plain": [
       "Dict{Any,Any} with 2 entries:\n",
       "  :mass => [894.07, 894.07, 894.07, 894.07, 894.07, 894.07, 894.07, 894.07, 894…\n",
       "  :ekin => [0.0, 0.0, 0.0, 0.0, 0.0, 0.0, 0.0, 0.0, 0.0, 0.0  …  1.95354e49, 1.…"
      ]
     },
     "execution_count": 73,
     "metadata": {},
     "output_type": "execute_result"
    }
   ],
   "source": [
    "quantities = getvar(gas, [:mass, :ekin], [:Msol, :erg])"
   ]
  },
  {
   "cell_type": "markdown",
   "metadata": {},
   "source": [
    "The arrays of the single quantities can be accessed from the dictionary:"
   ]
  },
  {
   "cell_type": "code",
   "execution_count": 74,
   "metadata": {},
   "outputs": [
    {
     "data": {
      "text/plain": [
       "37898393-element Array{Float64,1}:\n",
       " 894.0696716308591  \n",
       " 894.0696716308591  \n",
       " 894.0696716308591  \n",
       " 894.0696716308591  \n",
       " 894.0696716308591  \n",
       " 894.0696716308591  \n",
       " 894.0696716308591  \n",
       " 894.0696716308591  \n",
       " 894.0696716308591  \n",
       " 894.0696716308591  \n",
       " 894.0696716308591  \n",
       " 894.0696716308591  \n",
       " 894.0696716308591  \n",
       "   ⋮                \n",
       " 102.88910576564386 \n",
       " 102.88910576564386 \n",
       " 194.42336261293337 \n",
       " 194.42336261293337 \n",
       "  89.04538915743468 \n",
       "  89.04538915743468 \n",
       "  22.764121923068824\n",
       "  22.764121923068824\n",
       "   8.421571563820482\n",
       "   8.421571563820482\n",
       "  36.50851622718897 \n",
       "  36.50851622718897 "
      ]
     },
     "execution_count": 74,
     "metadata": {},
     "output_type": "execute_result"
    }
   ],
   "source": [
    "quantities[:mass]"
   ]
  },
  {
   "cell_type": "markdown",
   "metadata": {},
   "source": [
    "If all selected variables should be of the same unit use the following arguments: dataobject, array of quantities, unit (no array needed):"
   ]
  },
  {
   "cell_type": "code",
   "execution_count": 75,
   "metadata": {},
   "outputs": [
    {
     "data": {
      "text/plain": [
       "Dict{Any,Any} with 3 entries:\n",
       "  :vy => [0.0, 0.0, 0.0, 0.0, 0.0, 0.0, 0.0, 0.0, 0.0, 0.0  …  -97.5301, -97.53…\n",
       "  :vz => [0.0, 0.0, 0.0, 0.0, 0.0, 0.0, 0.0, 0.0, 0.0, 0.0  …  0.0, 0.0, 0.0, 0…\n",
       "  :vx => [0.0, 0.0, 0.0, 0.0, 0.0, 0.0, 0.0, 0.0, 0.0, 0.0  …  -24.307, -24.307…"
      ]
     },
     "execution_count": 75,
     "metadata": {},
     "output_type": "execute_result"
    }
   ],
   "source": [
    "quantities = getvar(gas, [:vx, :vy, :vz], :km_s)"
   ]
  },
  {
   "cell_type": "markdown",
   "metadata": {},
   "source": [
    "### Get Quantities related to a center"
   ]
  },
  {
   "cell_type": "markdown",
   "metadata": {},
   "source": [
    "Some quantities are related to a given center, e.g. radius in cylindrical coordinates, see the overview :"
   ]
  },
  {
   "cell_type": "code",
   "execution_count": 76,
   "metadata": {},
   "outputs": [
    {
     "name": "stdout",
     "output_type": "stream",
     "text": [
      "Predefined vars that can be calculated for each cell/particle:\n",
      "----------------------------------------------------------------\n",
      "=============================[gas]:=============================\n",
      "       -all the non derived hydro vars-\n",
      ":cpu, :level, :rho, :cx, :cy, :cz, :vx, :vy, :vz, :p, var6,...\n",
      "\n",
      "              -derived hydro vars-\n",
      ":x, :y, :z (in code units)\n",
      ":mass, :cellsize, :freefall_time\n",
      ":cs, :mach, :jeanslength, :jeansnumber\n",
      "\n",
      "==========================[particles]:==========================\n",
      "        all the non derived  vars:\n",
      ":cpu, :level, :id, :family, :tag \n",
      ":x, :y, :z, :vx, :vy, :vz, :mass, :birth, :metal....\n",
      "\n",
      "              -derived particle vars-\n",
      ":age\n",
      "\n",
      "===========================[clumps]:===========================\n",
      ":peak_x or :x, :peak_y or :y, :peak_z or :z\n",
      ":v, :ekin,...\n",
      "\n",
      "=====================[gas or particles]:=======================\n",
      ":v, :ekin\n",
      "\n",
      "related to a given center:\n",
      "---------------------------\n",
      ":r_cylinder, :r_sphere (radial components)\n",
      ":ϕ, :θ\n",
      ":vr_cylinder, vr_sphere (radial components)\n",
      ":vϕ, :vθ\n",
      "----------------------------------------------------------------\n"
     ]
    }
   ],
   "source": [
    "getvar()"
   ]
  },
  {
   "cell_type": "markdown",
   "metadata": {},
   "source": [
    "The unit of the provided center-array (in cartesian coordinates: x,y.z) is given by the keyword argument *center_units* (default: code units).\n",
    "The function returns the quantitites in code units:"
   ]
  },
  {
   "cell_type": "code",
   "execution_count": 77,
   "metadata": {},
   "outputs": [
    {
     "data": {
      "text/plain": [
       "Dict{Any,Any} with 2 entries:\n",
       "  :r_cylinder => [70.1583, 70.1583, 70.1583, 70.1583, 70.1583, 70.1583, 70.1583…\n",
       "  :mass       => [8.9407e-7, 8.9407e-7, 8.9407e-7, 8.9407e-7, 8.9407e-7, 8.9407…"
      ]
     },
     "execution_count": 77,
     "metadata": {},
     "output_type": "execute_result"
    }
   ],
   "source": [
    "cv = (gas.boxlen / 2.) * gas.scale.kpc # provide the box-center in kpc\n",
    "# e.g. for :mass the center keyword is ignored\n",
    "quantities = getvar(gas, [:mass, :r_cylinder], center=[cv, cv, cv], center_units=:kpc) "
   ]
  },
  {
   "cell_type": "markdown",
   "metadata": {},
   "source": [
    "Here, the function returns the result in the units that are provided. Note: E.g. the quantities :mass and :v (velocity) are not affected by the given center."
   ]
  },
  {
   "cell_type": "code",
   "execution_count": 78,
   "metadata": {},
   "outputs": [
    {
     "data": {
      "text/plain": [
       "Dict{Any,Any} with 3 entries:\n",
       "  :r_cylinder => [70.1583, 70.1583, 70.1583, 70.1583, 70.1583, 70.1583, 70.1583…\n",
       "  :v          => [0.0, 0.0, 0.0, 0.0, 0.0, 0.0, 0.0, 0.0, 0.0, 0.0  …  100.513,…\n",
       "  :mass       => [894.07, 894.07, 894.07, 894.07, 894.07, 894.07, 894.07, 894.0…"
      ]
     },
     "execution_count": 78,
     "metadata": {},
     "output_type": "execute_result"
    }
   ],
   "source": [
    "quantities = getvar(gas, [:mass, :r_cylinder, :v], units=[:Msol, :kpc, :km_s], center=[cv, cv, cv], center_units=:kpc)"
   ]
  },
  {
   "cell_type": "markdown",
   "metadata": {},
   "source": [
    "Use the short notation for the box center :bc or :boxcenter for all dimensions (x,y,z). In this case the keyword *center_units* is ignored:"
   ]
  },
  {
   "cell_type": "code",
   "execution_count": 79,
   "metadata": {},
   "outputs": [
    {
     "data": {
      "text/plain": [
       "Dict{Any,Any} with 3 entries:\n",
       "  :r_cylinder => [70.1583, 70.1583, 70.1583, 70.1583, 70.1583, 70.1583, 70.1583…\n",
       "  :v          => [0.0, 0.0, 0.0, 0.0, 0.0, 0.0, 0.0, 0.0, 0.0, 0.0  …  100.513,…\n",
       "  :mass       => [894.07, 894.07, 894.07, 894.07, 894.07, 894.07, 894.07, 894.0…"
      ]
     },
     "execution_count": 79,
     "metadata": {},
     "output_type": "execute_result"
    }
   ],
   "source": [
    "quantities = getvar(gas, [:mass, :r_cylinder, :v], units=[:Msol, :kpc, :km_s], center=[:boxcenter])"
   ]
  },
  {
   "cell_type": "code",
   "execution_count": 80,
   "metadata": {},
   "outputs": [
    {
     "data": {
      "text/plain": [
       "Dict{Any,Any} with 3 entries:\n",
       "  :r_cylinder => [70.1583, 70.1583, 70.1583, 70.1583, 70.1583, 70.1583, 70.1583…\n",
       "  :v          => [0.0, 0.0, 0.0, 0.0, 0.0, 0.0, 0.0, 0.0, 0.0, 0.0  …  100.513,…\n",
       "  :mass       => [894.07, 894.07, 894.07, 894.07, 894.07, 894.07, 894.07, 894.0…"
      ]
     },
     "execution_count": 80,
     "metadata": {},
     "output_type": "execute_result"
    }
   ],
   "source": [
    "quantities = getvar(gas, [:mass, :r_cylinder, :v], units=[:Msol, :kpc, :km_s], center=[:bc])"
   ]
  },
  {
   "cell_type": "markdown",
   "metadata": {},
   "source": [
    "Use the box center notation for individual dimensions, here x,z. The keyword *center_units* is needed for the y-coordinates:"
   ]
  },
  {
   "cell_type": "code",
   "execution_count": 81,
   "metadata": {},
   "outputs": [
    {
     "data": {
      "text/plain": [
       "Dict{Any,Any} with 3 entries:\n",
       "  :r_cylinder => [54.9408, 54.9408, 54.9408, 54.9408, 54.9408, 54.9408, 54.9408…\n",
       "  :v          => [0.0, 0.0, 0.0, 0.0, 0.0, 0.0, 0.0, 0.0, 0.0, 0.0  …  100.513,…\n",
       "  :mass       => [894.07, 894.07, 894.07, 894.07, 894.07, 894.07, 894.07, 894.0…"
      ]
     },
     "execution_count": 81,
     "metadata": {},
     "output_type": "execute_result"
    }
   ],
   "source": [
    "quantities = getvar(gas, [:mass, :r_cylinder, :v], units=[:Msol, :kpc, :km_s], center=[:bc, 24., :bc], center_units=:kpc)"
   ]
  },
  {
   "cell_type": "markdown",
   "metadata": {},
   "source": [
    "## Create Costum Quantities"
   ]
  },
  {
   "cell_type": "markdown",
   "metadata": {},
   "source": [
    "**Example1:** Represent the positions of the data as the radius for a disk, centred in the simulation box (cylindrical coordinates):"
   ]
  },
  {
   "cell_type": "code",
   "execution_count": 82,
   "metadata": {},
   "outputs": [
    {
     "data": {
      "text/plain": [
       "37898393-element Array{Float64,1}:\n",
       " 70.15825094589823\n",
       " 70.15825094589823\n",
       " 70.15825094589823\n",
       " 70.15825094589823\n",
       " 70.15825094589823\n",
       " 70.15825094589823\n",
       " 70.15825094589823\n",
       " 70.15825094589823\n",
       " 70.15825094589823\n",
       " 70.15825094589823\n",
       " 70.15825094589823\n",
       " 70.15825094589823\n",
       " 70.15825094589823\n",
       "  ⋮               \n",
       " 20.08587520654808\n",
       " 20.08587520654808\n",
       " 20.08587520654808\n",
       " 20.08587520654808\n",
       " 20.08587520654808\n",
       " 20.08587520654808\n",
       " 20.08587520654808\n",
       " 20.08587520654808\n",
       " 20.08587520654808\n",
       " 20.08587520654808\n",
       " 20.08587520654808\n",
       " 20.08587520654808"
      ]
     },
     "execution_count": 82,
     "metadata": {},
     "output_type": "execute_result"
    }
   ],
   "source": [
    "boxlen = info.boxlen\n",
    "cv = boxlen / 2. # box-center\n",
    "levels = getvar(gas, :level) # get the level of each cell\n",
    "cellsize = boxlen ./ 2 .^levels # calculate the cellsize for each cell (code units)\n",
    "\n",
    "# or use the predefined quantity\n",
    "cellsize = getvar(gas, :cellsize)\n",
    "\n",
    "\n",
    "# convert the cell-number (related to the levels) into positions (code units), relative to the box center\n",
    "x = getvar(gas, :cx) .* cellsize .- cv # (code units)\n",
    "y = getvar(gas, :cy) .* cellsize .- cv # (code units)\n",
    "\n",
    "# or use the predefined quantity\n",
    "x = getvar(gas, :x, center=[:bc])\n",
    "y = getvar(gas, :y, center=[:bc])\n",
    "\n",
    "\n",
    "# calculate the cylindrical radius and scale from code units to kpc\n",
    "radius = sqrt.(x.^2 .+ y.^2) .* info.scale.kpc"
   ]
  },
  {
   "cell_type": "markdown",
   "metadata": {},
   "source": [
    "### Use JuliaDB Functions\n",
    "see <https://juliadb.org>"
   ]
  },
  {
   "cell_type": "code",
   "execution_count": 83,
   "metadata": {},
   "outputs": [],
   "source": [
    "using JuliaDB"
   ]
  },
  {
   "cell_type": "markdown",
   "metadata": {},
   "source": [
    "Example: Get the mass for each gas cell:\n",
    "m_i  = ρ_i * cell_volume_i = ρ_i * (boxlen / 2^level)^3"
   ]
  },
  {
   "cell_type": "markdown",
   "metadata": {},
   "source": [
    "#### Version 1\n",
    "Use the *select* function and calculate the mass for each cell:"
   ]
  },
  {
   "cell_type": "code",
   "execution_count": 84,
   "metadata": {},
   "outputs": [],
   "source": [
    "boxlen = gas.boxlen\n",
    "level = select(gas.data, :level ) # get level information from each cell\n",
    "cellvol = (boxlen ./ 2 .^level).^3 # calculate volume for each cell\n",
    "mass1 = select(gas.data, :rho) .* cellvol .* info.scale.Msol; # calculate the mass for each cell in Msol units"
   ]
  },
  {
   "cell_type": "markdown",
   "metadata": {},
   "source": [
    "#### Version 2\n",
    "Use a single time the *select* function to do the calculations from above :"
   ]
  },
  {
   "cell_type": "code",
   "execution_count": 85,
   "metadata": {},
   "outputs": [],
   "source": [
    "mass2 = select( gas.data, (:rho, :level)=>p->p.rho * (boxlen / 2^p.level)^3 ) .* info.scale.Msol;"
   ]
  },
  {
   "cell_type": "markdown",
   "metadata": {},
   "source": [
    "#### Version 3\n",
    "Use the *map* function to do the calculations from above :"
   ]
  },
  {
   "cell_type": "code",
   "execution_count": 86,
   "metadata": {},
   "outputs": [],
   "source": [
    "mass3 = map(p->p.rho * (boxlen / 2^p.level)^3, gas.data) .* info.scale.Msol;"
   ]
  },
  {
   "cell_type": "markdown",
   "metadata": {},
   "source": [
    "Comparison of the results:"
   ]
  },
  {
   "cell_type": "code",
   "execution_count": 87,
   "metadata": {},
   "outputs": [
    {
     "data": {
      "text/plain": [
       "37898393×3 Array{Float64,2}:\n",
       " 894.07     894.07     894.07   \n",
       " 894.07     894.07     894.07   \n",
       " 894.07     894.07     894.07   \n",
       " 894.07     894.07     894.07   \n",
       " 894.07     894.07     894.07   \n",
       " 894.07     894.07     894.07   \n",
       " 894.07     894.07     894.07   \n",
       " 894.07     894.07     894.07   \n",
       " 894.07     894.07     894.07   \n",
       " 894.07     894.07     894.07   \n",
       " 894.07     894.07     894.07   \n",
       " 894.07     894.07     894.07   \n",
       " 894.07     894.07     894.07   \n",
       "   ⋮                            \n",
       " 102.889    102.889    102.889  \n",
       " 102.889    102.889    102.889  \n",
       " 194.423    194.423    194.423  \n",
       " 194.423    194.423    194.423  \n",
       "  89.0454    89.0454    89.0454 \n",
       "  89.0454    89.0454    89.0454 \n",
       "  22.7641    22.7641    22.7641 \n",
       "  22.7641    22.7641    22.7641 \n",
       "   8.42157    8.42157    8.42157\n",
       "   8.42157    8.42157    8.42157\n",
       "  36.5085    36.5085    36.5085 \n",
       "  36.5085    36.5085    36.5085 "
      ]
     },
     "execution_count": 87,
     "metadata": {},
     "output_type": "execute_result"
    }
   ],
   "source": [
    "[mass1 mass2 mass3]"
   ]
  },
  {
   "cell_type": "markdown",
   "metadata": {},
   "source": [
    "## Statistical Quantities"
   ]
  },
  {
   "cell_type": "code",
   "execution_count": 8,
   "metadata": {},
   "outputs": [
    {
     "name": "stdout",
     "output_type": "stream",
     "text": [
      "Reading data...\n"
     ]
    },
    {
     "name": "stderr",
     "output_type": "stream",
     "text": [
      "\u001b[32m100%|███████████████████████████████████████████████████| Time: 0:02:43\u001b[39m\n",
      "\u001b[32mReading data...100%|████████████████████████████████████| Time: 0:00:04\u001b[39m\n"
     ]
    }
   ],
   "source": [
    "info = getinfo(400, \"../../testing/simulations/manu_sim_sf_L14\", verbose=false);\n",
    "gas       = gethydro(info, [:rho, :vx, :vy, :vz], lmax=8, smallr=1e-5, verbose=false); \n",
    "particles = getparticles(info, [:mass, :vx, :vy, :vz], verbose=false)\n",
    "clumps    = getclumps(info, verbose=false);"
   ]
  },
  {
   "cell_type": "markdown",
   "metadata": {},
   "source": [
    "Pass any kind of Array{<:Number,1} (Float, Integer,...) to the *wstat* function to get several unweighted statistical quantities at once:"
   ]
  },
  {
   "cell_type": "code",
   "execution_count": 13,
   "metadata": {},
   "outputs": [],
   "source": [
    "stats_gas       = wstat( getvar(gas,       :vx,     :km_s)     )\n",
    "stats_particles = wstat( getvar(particles, :vx,     :km_s)     )\n",
    "stats_clumps    = wstat( getvar(clumps,    :rho_av, :Msol_pc3) );"
   ]
  },
  {
   "cell_type": "markdown",
   "metadata": {},
   "source": [
    "The result is an object that contains several fields with the statistical quantities:"
   ]
  },
  {
   "cell_type": "code",
   "execution_count": 14,
   "metadata": {},
   "outputs": [
    {
     "name": "stdout",
     "output_type": "stream",
     "text": [
      "Mera.WStatType\n",
      "Mera.WStatType\n",
      "Mera.WStatType\n"
     ]
    },
    {
     "data": {
      "text/plain": [
       "(:mean, :median, :std, :skewness, :kurtosis, :min, :max)"
      ]
     },
     "execution_count": 14,
     "metadata": {},
     "output_type": "execute_result"
    }
   ],
   "source": [
    "println( typeof(stats_gas) )\n",
    "println( typeof(stats_particles) )\n",
    "println( typeof(stats_clumps) )\n",
    "propertynames(stats_gas)"
   ]
  },
  {
   "cell_type": "code",
   "execution_count": 15,
   "metadata": {},
   "outputs": [
    {
     "name": "stdout",
     "output_type": "stream",
     "text": [
      "Gas        <vx>_allcells     : -2.9318774650713726 km/s\n",
      "Particles  <vx>_allparticles : -11.594477384589647 km/s\n",
      "Clumps <rho_av>_allclumps    : 594.7315900915924 Msol/pc^3\n"
     ]
    }
   ],
   "source": [
    "println( \"Gas        <vx>_allcells     : \",  stats_gas.mean,       \" km/s\" )\n",
    "println( \"Particles  <vx>_allparticles : \",  stats_particles.mean, \" km/s\" )\n",
    "println( \"Clumps <rho_av>_allclumps    : \",  stats_clumps.mean,    \" Msol/pc^3\" )"
   ]
  },
  {
   "cell_type": "code",
   "execution_count": 16,
   "metadata": {},
   "outputs": [
    {
     "name": "stdout",
     "output_type": "stream",
     "text": [
      "Gas        min/max_allcells     : -676.5464963488397/894.9181733956399 km/s\n",
      "Particles  min/max_allparticles : -874.6440509326601/670.7956741234592 km/s\n",
      "Clumps     min/max_allclumps    : 125.4809686796669/5357.370234867635 Msol/pc^3\n"
     ]
    }
   ],
   "source": [
    "println( \"Gas        min/max_allcells     : \",  stats_gas.min,      \"/\", stats_gas.max,       \" km/s\" )\n",
    "println( \"Particles  min/max_allparticles : \",  stats_particles.min,\"/\", stats_particles.max, \" km/s\" )\n",
    "println( \"Clumps     min/max_allclumps    : \",  stats_clumps.min,   \"/\", stats_clumps.max,    \" Msol/pc^3\" )"
   ]
  },
  {
   "cell_type": "markdown",
   "metadata": {},
   "source": [
    "## Weighted Statistics\n",
    "Pass any kind of Array{<:Number,1} (Float, Integer,...) for the given variables and one for the weighting with the same length. The weighting goes cell by cell, particle by particle, clump by clump, etc...:"
   ]
  },
  {
   "cell_type": "code",
   "execution_count": 17,
   "metadata": {},
   "outputs": [],
   "source": [
    "stats_gas       = wstat( getvar(gas,       :vx,     :km_s), weight=getvar(gas,       :mass  ));\n",
    "stats_particles = wstat( getvar(particles, :vx,     :km_s), weight=getvar(particles, :mass   ));\n",
    "stats_clumps    = wstat( getvar(clumps,    :peak_x, :kpc ), weight=getvar(clumps,    :mass_cl))  ;"
   ]
  },
  {
   "cell_type": "markdown",
   "metadata": {},
   "source": [
    "Without the keyword *weight* the following order for the given arrays has to be maintained: values, weight"
   ]
  },
  {
   "cell_type": "code",
   "execution_count": 18,
   "metadata": {},
   "outputs": [],
   "source": [
    "stats_gas       = wstat( getvar(gas,       :vx,     :km_s), getvar(gas,       :mass  ));\n",
    "stats_particles = wstat( getvar(particles, :vx,     :km_s), getvar(particles, :mass   ));\n",
    "stats_clumps    = wstat( getvar(clumps,    :peak_x, :kpc ), getvar(clumps,    :mass_cl))  ;"
   ]
  },
  {
   "cell_type": "code",
   "execution_count": 19,
   "metadata": {},
   "outputs": [
    {
     "data": {
      "text/plain": [
       "(:mean, :median, :std, :skewness, :kurtosis, :min, :max)"
      ]
     },
     "execution_count": 19,
     "metadata": {},
     "output_type": "execute_result"
    }
   ],
   "source": [
    "propertynames(stats_gas)"
   ]
  },
  {
   "cell_type": "code",
   "execution_count": 20,
   "metadata": {},
   "outputs": [
    {
     "name": "stdout",
     "output_type": "stream",
     "text": [
      "Gas        <vx>_allcells     : -1.199925358479736 km/s (mass weighted)\n",
      "Particles  <vx>_allparticles : -11.623422700314544 km/s (mass weighted)\n",
      "Clumps <peak_x>_allclumps    : 23.13576545706458 kpc  (mass weighted)\n"
     ]
    }
   ],
   "source": [
    "println( \"Gas        <vx>_allcells     : \",  stats_gas.mean,       \" km/s (mass weighted)\" )\n",
    "println( \"Particles  <vx>_allparticles : \",  stats_particles.mean, \" km/s (mass weighted)\" )\n",
    "println( \"Clumps <peak_x>_allclumps    : \",  stats_clumps.mean,    \" kpc  (mass weighted)\" )"
   ]
  },
  {
   "cell_type": "code",
   "execution_count": 21,
   "metadata": {},
   "outputs": [
    {
     "name": "stdout",
     "output_type": "stream",
     "text": [
      "Gas        min/max_allcells     : -676.5464963488397/894.9181733956399 km/s\n",
      "Particles  min/max_allparticles : -874.6440509326601/670.7956741234592 km/s\n",
      "Clumps     min/max_allclumps    : 10.29199219000667/38.17382813002474 Msol/pc^3\n"
     ]
    }
   ],
   "source": [
    "println( \"Gas        min/max_allcells     : \",  stats_gas.min,      \"/\", stats_gas.max,       \" km/s\" )\n",
    "println( \"Particles  min/max_allparticles : \",  stats_particles.min,\"/\", stats_particles.max, \" km/s\" )\n",
    "println( \"Clumps     min/max_allclumps    : \",  stats_clumps.min,   \"/\", stats_clumps.max,    \" Msol/pc^3\" )"
   ]
  },
  {
   "cell_type": "code",
   "execution_count": null,
   "metadata": {},
   "outputs": [],
   "source": []
  }
 ],
 "metadata": {
  "kernelspec": {
   "display_name": "Julia 1.3.0",
   "language": "julia",
   "name": "julia-1.3"
  },
  "language_info": {
   "file_extension": ".jl",
   "mimetype": "application/julia",
   "name": "julia",
   "version": "1.3.1"
  }
 },
 "nbformat": 4,
 "nbformat_minor": 4
}
