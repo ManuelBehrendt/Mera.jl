{
 "cells": [
  {
   "cell_type": "markdown",
   "metadata": {},
   "source": [
    "# 1. Particles: First Data Inspection"
   ]
  },
  {
   "cell_type": "markdown",
   "metadata": {},
   "source": [
    "## Simulation Overview"
   ]
  },
  {
   "cell_type": "code",
   "execution_count": 1,
   "metadata": {
    "tags": []
   },
   "outputs": [
    {
     "name": "stdout",
     "output_type": "stream",
     "text": [
      "\u001b[0m\u001b[1m[Mera]: 2025-06-21T20:56:51.655\u001b[22m\n",
      "\n",
      "Code: RAMSES\n",
      "output [300] summary:\n",
      "mtime: 2023-04-09T05:34:09\n",
      "ctime: 2025-06-21T18:31:24.020\n",
      "\u001b[0m\u001b[1m=======================================================\u001b[22m\n",
      "simulation time: 445.89 [Myr]\n",
      "boxlen: 48.0 [kpc]\n",
      "ncpu: 640\n",
      "ndim: 3\n",
      "-------------------------------------------------------\n",
      "amr:           true\n",
      "level(s): 6 - 10 --> cellsize(s): 750.0 [pc] - 46.88 [pc]\n",
      "-------------------------------------------------------\n",
      "hydro:         true\n",
      "hydro-variables:  7  --> (:rho, :vx, :vy, :vz, :p, :var6, :var7)\n",
      "hydro-descriptor: (:density, :velocity_x, :velocity_y, :velocity_z, :pressure, :scalar_00, :scalar_01)\n",
      "γ: 1.6667\n",
      "-------------------------------------------------------\n",
      "gravity:       true\n",
      "gravity-variables: (:epot, :ax, :ay, :az)\n",
      "-------------------------------------------------------\n",
      "particles:     true\n",
      "- Nstars:   5.445150e+05 \n",
      "particle-variables: 7  --> (:vx, :vy, :vz, :mass, :family, :tag, :birth)\n",
      "particle-descriptor: (:position_x, :position_y, :position_z, :velocity_x, :velocity_y, :velocity_z, :mass, :identity, :levelp, :family, :tag, :birth_time)\n",
      "-------------------------------------------------------\n",
      "rt:            false\n",
      "clumps:           false\n",
      "-------------------------------------------------------\n",
      "namelist-file: (\"&COOLING_PARAMS\", \"&SF_PARAMS\", \"&AMR_PARAMS\", \"&BOUNDARY_PARAMS\", \"&OUTPUT_PARAMS\", \"&POISSON_PARAMS\", \"&RUN_PARAMS\", \"&FEEDBACK_PARAMS\", \"&HYDRO_PARAMS\", \"&INIT_PARAMS\", \"&REFINE_PARAMS\")\n",
      "-------------------------------------------------------\n",
      "timer-file:       true\n",
      "compilation-file: false\n",
      "makefile:         true\n",
      "patchfile:        true\n",
      "\u001b[0m\u001b[1m=======================================================\u001b[22m\n",
      "\n"
     ]
    }
   ],
   "source": [
    "using Mera\n",
    "info = getinfo(300, \"/Volumes/FASTStorage/Simulations/Mera-Tests/mw_L10\");"
   ]
  },
  {
   "cell_type": "markdown",
   "metadata": {},
   "source": [
    "A short overview of the loaded particle properties is printed:\n",
    "- existence of particle files\n",
    "- the predefined variables\n",
    "- the number of particles for each id/family (if exist)\n",
    "- the variable names from the descriptor file (if exist)\n"
   ]
  },
  {
   "cell_type": "markdown",
   "metadata": {},
   "source": [
    "The functions in **Mera** \"know\" the predefined particle variable names: \n",
    "- From >= ramses-version-2018: :vx, :vy, :vz, :mass, :family, :tag, :birth, :metals :var9,.... \n",
    "- For  =< ramses-version-2017: :vx, :vy, :vz, :mass, :birth, :var6, :var7,.... \n",
    "- Currently, the following variables are loaded by default (if exist): :level, :x, :y, :z, :id, :family, :tag.\n",
    "- The cpu number associated with the particles can be loaded with the variable names: :cpu or :varn1\n",
    "- In a future version the variable names from the particle descriptor can be used by setting the field info.descriptor.useparticles = true . "
   ]
  },
  {
   "cell_type": "markdown",
   "metadata": {},
   "source": [
    "Get an overview of the loaded particle properties:"
   ]
  },
  {
   "cell_type": "code",
   "execution_count": 2,
   "metadata": {
    "tags": []
   },
   "outputs": [
    {
     "name": "stdout",
     "output_type": "stream",
     "text": [
      "\n",
      "\u001b[0m\u001b[1m[Mera]: Particle overview\u001b[22m\n",
      "\u001b[0m\u001b[1m===============================\u001b[22m\n",
      "eta_sn\t= 0.0\n",
      "age_sn\t= 0.6706464407596582\n",
      "f_w\t= 0.0\n",
      "Npart\t= 0\n",
      "Ndm\t= 0\n",
      "Nstars\t= 544515\n",
      "Nsinks\t= 0\n",
      "Ncloud\t= 0\n",
      "Ndebris\t= 0\n",
      "Nother\t= 0\n",
      "Nundefined\t= 0\n",
      "other_tracer1\t= 0\n",
      "debris_tracer\t= 0\n",
      "cloud_tracer\t= 0\n",
      "star_tracer\t= 0\n",
      "other_tracer2\t= 0\n",
      "gas_tracer\t= 0\n",
      "\n"
     ]
    }
   ],
   "source": [
    "viewfields(info.part_info)"
   ]
  },
  {
   "cell_type": "markdown",
   "metadata": {},
   "source": [
    "## Load AMR/Particle Data"
   ]
  },
  {
   "cell_type": "markdown",
   "metadata": {},
   "source": [
    "Read the AMR and the Particle data from all files of the full box with all existing variables and particle positions:"
   ]
  },
  {
   "cell_type": "code",
   "execution_count": 3,
   "metadata": {
    "tags": []
   },
   "outputs": [
    {
     "name": "stdout",
     "output_type": "stream",
     "text": [
      "\u001b[0m\u001b[1m[Mera]: Get particle data: 2025-06-21T20:56:56.574\u001b[22m\n",
      "\n",
      "Key vars=(:level, :x, :y, :z, :id, :family, :tag)\n",
      "Using var(s)=(1, 2, 3, 4, 7) = (:vx, :vy, :vz, :mass, :birth) \n",
      "\n",
      "domain:\n",
      "xmin::xmax: 0.0 :: 1.0  \t==> 0.0 [kpc] :: 48.0 [kpc]\n",
      "ymin::ymax: 0.0 :: 1.0  \t==> 0.0 [kpc] :: 48.0 [kpc]\n",
      "zmin::zmax: 0.0 :: 1.0  \t==> 0.0 [kpc] :: 48.0 [kpc]\n",
      "\n"
     ]
    },
    {
     "name": "stderr",
     "output_type": "stream",
     "text": [
      "\u001b[32mProgress: 100%|█████████████████████████████████████████| Time: 0:00:08\u001b[39m\n"
     ]
    },
    {
     "name": "stdout",
     "output_type": "stream",
     "text": [
      "Found 5.445150e+05 particles\n",
      "Memory used for data table :38.428720474243164 MB\n",
      "-------------------------------------------------------\n",
      "\n"
     ]
    }
   ],
   "source": [
    "particles = getparticles(info);"
   ]
  },
  {
   "cell_type": "markdown",
   "metadata": {},
   "source": [
    "The memory consumption of the data table is printed at the end. We provide a function which gives the possibility to print the used memory of any object: "
   ]
  },
  {
   "cell_type": "code",
   "execution_count": 4,
   "metadata": {
    "tags": []
   },
   "outputs": [
    {
     "name": "stdout",
     "output_type": "stream",
     "text": [
      "Memory used: 38.449 MB\n"
     ]
    }
   ],
   "source": [
    "usedmemory(particles);"
   ]
  },
  {
   "cell_type": "markdown",
   "metadata": {},
   "source": [
    "The assigned object is now of type `PartDataType`:"
   ]
  },
  {
   "cell_type": "code",
   "execution_count": 5,
   "metadata": {
    "tags": []
   },
   "outputs": [
    {
     "data": {
      "text/plain": [
       "PartDataType"
      ]
     },
     "execution_count": 5,
     "metadata": {},
     "output_type": "execute_result"
    }
   ],
   "source": [
    "typeof(particles)"
   ]
  },
  {
   "cell_type": "markdown",
   "metadata": {},
   "source": [
    "It is a sub-type of ContainMassDataSetType"
   ]
  },
  {
   "cell_type": "code",
   "execution_count": 6,
   "metadata": {
    "tags": []
   },
   "outputs": [
    {
     "data": {
      "text/plain": [
       "DataSetType"
      ]
     },
     "execution_count": 6,
     "metadata": {},
     "output_type": "execute_result"
    }
   ],
   "source": [
    "supertype( ContainMassDataSetType )"
   ]
  },
  {
   "cell_type": "markdown",
   "metadata": {},
   "source": [
    "ContainMassDataSetType is a sub-type of to the super-type DataSetType"
   ]
  },
  {
   "cell_type": "code",
   "execution_count": 7,
   "metadata": {
    "tags": []
   },
   "outputs": [
    {
     "data": {
      "text/plain": [
       "HydroPartType"
      ]
     },
     "execution_count": 7,
     "metadata": {},
     "output_type": "execute_result"
    }
   ],
   "source": [
    "supertype( PartDataType )"
   ]
  },
  {
   "cell_type": "markdown",
   "metadata": {},
   "source": [
    "The data is stored in a **IndexedTables** table and the user selected particle variables and parameters are assigned to fields:"
   ]
  },
  {
   "cell_type": "code",
   "execution_count": 8,
   "metadata": {
    "tags": []
   },
   "outputs": [
    {
     "name": "stdout",
     "output_type": "stream",
     "text": [
      "\n",
      "\u001b[0m\u001b[1mdata ==> JuliaDB table: (:level, :x, :y, :z, :id, :family, :tag, :vx, :vy, :vz, :mass, :birth)\u001b[22m\n",
      "\n",
      "\u001b[0m\u001b[1minfo ==> subfields: (:output, :path, :fnames, :simcode, :mtime, :ctime, :ncpu, :ndim, :levelmin, :levelmax, :boxlen, :time, :aexp, :H0, :omega_m, :omega_l, :omega_k, :omega_b, :unit_l, :unit_d, :unit_m, :unit_v, :unit_t, :gamma, :hydro, :nvarh, :nvarp, :nvarrt, :variable_list, :gravity_variable_list, :particles_variable_list, :rt_variable_list, :clumps_variable_list, :sinks_variable_list, :descriptor, :amr, :gravity, :particles, :rt, :clumps, :sinks, :namelist, :namelist_content, :headerfile, :makefile, :files_content, :timerfile, :compilationfile, :patchfile, :Narraysize, :scale, :grid_info, :part_info, :compilation, :constants)\u001b[22m\n",
      "\n",
      "lmin\t= 6\n",
      "lmax\t= 10\n",
      "boxlen\t= 48.0\n",
      "ranges\t= [0.0, 1.0, 0.0, 1.0, 0.0, 1.0]\n",
      "selected_partvars\t= [:level, :x, :y, :z, :id, :family, :tag, :vx, :vy, :vz, :mass, :birth]\n",
      "\n",
      "\u001b[0m\u001b[1mscale ==> subfields: (:Mpc, :kpc, :pc, :mpc, :ly, :Au, :km, :m, :cm, :mm, :μm, :Mpc3, :kpc3, :pc3, :mpc3, :ly3, :Au3, :km3, :m3, :cm3, :mm3, :μm3, :Msol_pc3, :Msun_pc3, :g_cm3, :Msol_pc2, :Msun_pc2, :g_cm2, :Gyr, :Myr, :yr, :s, :ms, :Msol, :Msun, :Mearth, :Mjupiter, :g, :km_s, :m_s, :cm_s, :nH, :erg, :g_cms2, :T_mu, :K_mu, :T, :K, :Ba, :g_cm_s2, :p_kB, :K_cm3)\u001b[22m\n",
      "\n",
      "\n"
     ]
    }
   ],
   "source": [
    "viewfields(particles)"
   ]
  },
  {
   "cell_type": "markdown",
   "metadata": {},
   "source": [
    "For convenience, all the fields from the info-object above (InfoType) are now also accessible from the object with \"particles.info\" and the scaling relations from code to cgs units in \"particles.scale\"."
   ]
  },
  {
   "cell_type": "markdown",
   "metadata": {},
   "source": [
    "Print the fields of an object (composite type) in a simple list:"
   ]
  },
  {
   "cell_type": "code",
   "execution_count": 9,
   "metadata": {
    "tags": []
   },
   "outputs": [
    {
     "data": {
      "text/plain": [
       "(:data, :info, :lmin, :lmax, :boxlen, :ranges, :selected_partvars, :used_descriptors, :scale)"
      ]
     },
     "execution_count": 9,
     "metadata": {},
     "output_type": "execute_result"
    }
   ],
   "source": [
    "propertynames(particles)"
   ]
  },
  {
   "cell_type": "markdown",
   "metadata": {},
   "source": [
    "## Overview of AMR/Particles\n",
    "Get an overview of the AMR structure associated with the object `particles` (PartDataType). The printed information is stored into the object `overview_amr` as a **IndexedTables** table (code units)  and can be used for further calculations:"
   ]
  },
  {
   "cell_type": "code",
   "execution_count": 10,
   "metadata": {
    "tags": []
   },
   "outputs": [
    {
     "name": "stdout",
     "output_type": "stream",
     "text": [
      "Counting...\n"
     ]
    },
    {
     "data": {
      "text/plain": [
       "Table with 5 rows, 2 columns:\n",
       "level  particles\n",
       "────────────────\n",
       "6      1389\n",
       "7      543126\n",
       "8      0\n",
       "9      0\n",
       "10     0"
      ]
     },
     "execution_count": 10,
     "metadata": {},
     "output_type": "execute_result"
    }
   ],
   "source": [
    "amr_overview = amroverview(particles)"
   ]
  },
  {
   "cell_type": "markdown",
   "metadata": {},
   "source": [
    "Get some overview of the data that is associated with the object `particles`. The calculated information can be accessed from the object `data_overview` (here) in code units for further calculations:"
   ]
  },
  {
   "cell_type": "code",
   "execution_count": 11,
   "metadata": {
    "tags": []
   },
   "outputs": [
    {
     "name": "stdout",
     "output_type": "stream",
     "text": [
      "Calculating...\n"
     ]
    },
    {
     "data": {
      "text/plain": [
       "Table with 5 rows, 23 columns:\n",
       "Columns:\n",
       "\u001b[1m#   \u001b[22m\u001b[1mcolname     \u001b[22m\u001b[1mtype\u001b[22m\n",
       "────────────────────\n",
       "1   level       Any\n",
       "2   x_min       Any\n",
       "3   x_max       Any\n",
       "4   y_min       Any\n",
       "5   y_max       Any\n",
       "6   z_min       Any\n",
       "7   z_max       Any\n",
       "8   id_min      Any\n",
       "9   id_max      Any\n",
       "10  family_min  Any\n",
       "11  family_max  Any\n",
       "12  tag_min     Any\n",
       "13  tag_max     Any\n",
       "14  vx_min      Any\n",
       "15  vx_max      Any\n",
       "16  vy_min      Any\n",
       "17  vy_max      Any\n",
       "18  vz_min      Any\n",
       "19  vz_max      Any\n",
       "20  mass_min    Any\n",
       "21  mass_max    Any\n",
       "22  birth_min   Any\n",
       "23  birth_max   Any"
      ]
     },
     "execution_count": 11,
     "metadata": {},
     "output_type": "execute_result"
    }
   ],
   "source": [
    "data_overview = dataoverview(particles)"
   ]
  },
  {
   "cell_type": "markdown",
   "metadata": {},
   "source": [
    "If the number of columns is relatively long, the table is typically represented by an overview. To access certain columns, use the `select` function. The representation \":birth_max\" is called a quoted Symbol ([see in Julia documentation](https://docs.julialang.org/en/v1/manual/metaprogramming/#Symbols-1)):"
   ]
  },
  {
   "cell_type": "code",
   "execution_count": 12,
   "metadata": {
    "tags": []
   },
   "outputs": [],
   "source": [
    "using Mera.IndexedTables"
   ]
  },
  {
   "cell_type": "code",
   "execution_count": 13,
   "metadata": {
    "tags": []
   },
   "outputs": [
    {
     "data": {
      "text/plain": [
       "Table with 5 rows, 5 columns:\n",
       "level  mass_min    mass_max    birth_min  birth_max\n",
       "───────────────────────────────────────────────────\n",
       "6      0.0         0.0         0.0        0.0\n",
       "7      0.0         0.0         0.0        0.0\n",
       "8      0.0         0.0         0.0        0.0\n",
       "9      8.00221e-7  8.00221e-7  5.56525    22.126\n",
       "10     8.00221e-7  2.00055e-6  0.0951753  29.9032"
      ]
     },
     "execution_count": 13,
     "metadata": {},
     "output_type": "execute_result"
    }
   ],
   "source": [
    "select(data_overview, (:level,:mass_min, :mass_max, :birth_min, :birth_max ) )"
   ]
  },
  {
   "cell_type": "markdown",
   "metadata": {},
   "source": [
    "Get an array from the column \":birth\" in `data_overview` and scale it to the units `Myr`. The order of the calculated data is consistent with the table above:"
   ]
  },
  {
   "cell_type": "code",
   "execution_count": 14,
   "metadata": {
    "tags": []
   },
   "outputs": [
    {
     "data": {
      "text/plain": [
       "5-element Vector{Float64}:\n",
       "  0.0\n",
       "  0.0\n",
       "  0.0\n",
       " 82.98342559299353\n",
       "  1.419158337486011"
      ]
     },
     "execution_count": 14,
     "metadata": {},
     "output_type": "execute_result"
    }
   ],
   "source": [
    "column(data_overview, :birth_min) * info.scale.Myr "
   ]
  },
  {
   "cell_type": "markdown",
   "metadata": {},
   "source": [
    "Or simply convert the `birth_max` data in the table to `Myr` units by manipulating the column:"
   ]
  },
  {
   "cell_type": "code",
   "execution_count": 15,
   "metadata": {
    "tags": []
   },
   "outputs": [],
   "source": [
    "data_overview = transform(data_overview, :birth_max => :birth_max => value->value * info.scale.Myr);"
   ]
  },
  {
   "cell_type": "code",
   "execution_count": 16,
   "metadata": {
    "tags": []
   },
   "outputs": [
    {
     "data": {
      "text/plain": [
       "Table with 5 rows, 5 columns:\n",
       "level  mass_min    mass_max    birth_min  birth_max\n",
       "───────────────────────────────────────────────────\n",
       "6      0.0         0.0         0.0        0.0\n",
       "7      0.0         0.0         0.0        0.0\n",
       "8      0.0         0.0         0.0        0.0\n",
       "9      8.00221e-7  8.00221e-7  5.56525    329.92\n",
       "10     8.00221e-7  2.00055e-6  0.0951753  445.886"
      ]
     },
     "execution_count": 16,
     "metadata": {},
     "output_type": "execute_result"
    }
   ],
   "source": [
    "select(data_overview, (:level,:mass_min, :mass_max, :birth_min, :birth_max ) )"
   ]
  },
  {
   "cell_type": "markdown",
   "metadata": {},
   "source": [
    "## Data inspection\n",
    "The data is associated with the field `particles.data` as a **IndexedTables** table (code units). \n",
    "Each row corresponds to a particle and each column to a property which makes it easy to find, filter, map, aggregate, group the data, etc.\n",
    "More information can be found in the **Mera** tutorials or in: [JuliaDB API Reference](http://juliadb.org/latest/api/)\n"
   ]
  },
  {
   "cell_type": "markdown",
   "metadata": {},
   "source": [
    "### Table View"
   ]
  },
  {
   "cell_type": "markdown",
   "metadata": {},
   "source": [
    "The particle positions x,y,z are given in code units and used in many functions of **MERA** and should not be modified."
   ]
  },
  {
   "cell_type": "code",
   "execution_count": 17,
   "metadata": {
    "tags": []
   },
   "outputs": [
    {
     "data": {
      "text/plain": [
       "Table with 544515 rows, 12 columns:\n",
       "Columns:\n",
       "\u001b[1m#   \u001b[22m\u001b[1mcolname  \u001b[22m\u001b[1mtype\u001b[22m\n",
       "────────────────────\n",
       "1   level    Int32\n",
       "2   x        Float64\n",
       "3   y        Float64\n",
       "4   z        Float64\n",
       "5   id       Int32\n",
       "6   family   Int8\n",
       "7   tag      Int8\n",
       "8   vx       Float64\n",
       "9   vy       Float64\n",
       "10  vz       Float64\n",
       "11  mass     Float64\n",
       "12  birth    Float64"
      ]
     },
     "execution_count": 17,
     "metadata": {},
     "output_type": "execute_result"
    }
   ],
   "source": [
    "particles.data"
   ]
  },
  {
   "cell_type": "markdown",
   "metadata": {},
   "source": [
    "A more detailed view into the data:"
   ]
  },
  {
   "cell_type": "code",
   "execution_count": 18,
   "metadata": {
    "tags": []
   },
   "outputs": [
    {
     "data": {
      "text/plain": [
       "Table with 544515 rows, 5 columns:\n",
       "\u001b[1mlevel  \u001b[22m\u001b[1mx        \u001b[22m\u001b[1my        \u001b[22m\u001b[1mz        \u001b[22mbirth\n",
       "─────────────────────────────────────────\n",
       "9      9.17918  22.4404  24.0107  8.86726\n",
       "9      9.23642  21.5559  24.0144  8.71495\n",
       "9      9.35638  20.7472  24.0475  7.91459\n",
       "9      9.39529  21.1854  24.0155  7.85302\n",
       "9      9.42686  20.9697  24.0162  8.2184\n",
       "9      9.42691  22.2181  24.0137  8.6199\n",
       "9      9.48834  22.0913  24.0137  8.70493\n",
       "9      9.5262   20.652   24.0179  7.96008\n",
       "9      9.60376  21.2814  24.0155  8.03346\n",
       "9      9.6162   20.6243  24.0506  8.56482\n",
       "9      9.62155  20.6248  24.0173  7.78062\n",
       "9      9.62252  24.4396  24.0206  9.44825\n",
       "⋮\n",
       "10     37.7913  25.6793  24.018   9.78881\n",
       "10     37.8255  22.6271  24.0279  9.89052\n",
       "10     37.8451  22.7506  24.027   9.61716\n",
       "10     37.8799  25.5668  24.0193  10.2294\n",
       "10     37.969   23.2135  24.0273  9.85439\n",
       "10     37.9754  22.6288  24.0265  9.4959\n",
       "10     37.9811  23.2854  24.0283  9.9782\n",
       "10     37.9919  22.873   24.0271  9.12003\n",
       "10     37.9966  23.092   24.0281  9.45574\n",
       "10     38.0328  22.8404  24.0265  9.77493\n",
       "10     38.0953  22.8757  24.0231  9.20251"
      ]
     },
     "execution_count": 18,
     "metadata": {},
     "output_type": "execute_result"
    }
   ],
   "source": [
    "select(particles.data, (:level,:x, :y, :z, :birth) )"
   ]
  },
  {
   "cell_type": "code",
   "execution_count": null,
   "metadata": {},
   "outputs": [],
   "source": []
  }
 ],
 "metadata": {
  "kernelspec": {
   "display_name": "Julia 1.11.5",
   "language": "julia",
   "name": "julia-1.11"
  },
  "language_info": {
   "file_extension": ".jl",
   "mimetype": "application/julia",
   "name": "julia",
   "version": "1.11.5"
  }
 },
 "nbformat": 4,
 "nbformat_minor": 4
}
