{
 "cells": [
  {
   "cell_type": "markdown",
   "metadata": {},
   "source": [
    "# 1. Particles: First Data Inspection"
   ]
  },
  {
   "cell_type": "markdown",
   "metadata": {},
   "source": [
    "## Simulation Overview"
   ]
  },
  {
   "cell_type": "code",
   "execution_count": 20,
   "metadata": {},
   "outputs": [
    {
     "name": "stdout",
     "output_type": "stream",
     "text": [
      "\u001b[0m\u001b[1m[Mera]: 2020-02-12T20:40:36.118\u001b[22m\n",
      "\n",
      "Code: RAMSES\n",
      "output [400] summary:\n",
      "mtime: 2018-09-05T09:51:55.041\n",
      "ctime: 2019-11-01T17:35:21.051\n",
      "\u001b[0m\u001b[1m=======================================================\u001b[22m\n",
      "simulation time: 594.98 [Myr]\n",
      "boxlen: 48.0 [kpc]\n",
      "ncpu: 2048\n",
      "ndim: 3\n",
      "-------------------------------------------------------\n",
      "amr:           true\n",
      "level(s): 6 - 14 --> cellsize(s): 750.0 [pc] - 2.93 [pc]\n",
      "-------------------------------------------------------\n",
      "hydro:         true\n",
      "hydro-variables:  7  --> (:rho, :vx, :vy, :vz, :p, :var6, :var7)\n",
      "hydro-descriptor: (:density, :velocity_x, :velocity_y, :velocity_z, :thermal_pressure, :passive_scalar_1, :passive_scalar_2)\n",
      "γ: 1.6667\n",
      "-------------------------------------------------------\n",
      "gravity:       true\n",
      "gravity-variables: (:epot, :ax, :ay, :az)\n",
      "-------------------------------------------------------\n",
      "particles:     true\n",
      "- Npart:    5.091500e+05 \n",
      "- Nstars:   5.066030e+05 \n",
      "- Ndm:      2.547000e+03 \n",
      "particle variables: (:vx, :vy, :vz, :mass, :birth)\n",
      "-------------------------------------------------------\n",
      "clumps:        true\n",
      "clump-variables: (:index, :lev, :parent, :ncell, :peak_x, :peak_y, :peak_z, Symbol(\"rho-\"), Symbol(\"rho+\"), :rho_av, :mass_cl, :relevance)\n",
      "-------------------------------------------------------\n",
      "namelist-file: false\n",
      "timer-file:       false\n",
      "compilation-file: true\n",
      "makefile:         true\n",
      "patchfile:        true\n",
      "\u001b[0m\u001b[1m=======================================================\u001b[22m\n",
      "\n"
     ]
    }
   ],
   "source": [
    "using Mera\n",
    "#info = getinfo(1, \"../../testing/simulations/manu_stable_2019\");\n",
    "info = getinfo(400, \"../../testing/simulations/manu_sim_sf_L14\");"
   ]
  },
  {
   "cell_type": "markdown",
   "metadata": {},
   "source": [
    "A short overview of the loaded particle properties is printed:\n",
    "- existence of particle files\n",
    "- the predefined variables\n",
    "- the number of particles for each id/family (if exist)\n",
    "- the variable names from the descriptor file (if exist)\n"
   ]
  },
  {
   "cell_type": "markdown",
   "metadata": {},
   "source": [
    "The functions in **Mera** \"know\" the predefined particle variable names: \n",
    "- From >= ramses-version-2018: :vx, :vy, :vz, :mass, :family, :tag, :birth, :metals :var9,.... \n",
    "- For  =< ramses-version-2017: :vx, :vy, :vz, :mass, :birth, :var6, :var7,.... \n",
    "- Currently, the following variables are loaded by default (if exist): :level, :x, :y, :z, :id, :family, :tag.\n",
    "- The cpu number associated with the particles can be loaded with the variable names: :cpu or :varn1\n",
    "- In a future version the variable names from the particle descriptor can be used by setting the field info.descriptor.useparticles = true . "
   ]
  },
  {
   "cell_type": "markdown",
   "metadata": {},
   "source": [
    "Get an overview of the loaded particle properties:"
   ]
  },
  {
   "cell_type": "code",
   "execution_count": 21,
   "metadata": {},
   "outputs": [
    {
     "name": "stdout",
     "output_type": "stream",
     "text": [
      "\n",
      "\u001b[0m\u001b[1m[Mera]: Particle overview\u001b[22m\n",
      "\u001b[0m\u001b[1m===============================\u001b[22m\n",
      "eta_sn\t= 0.0\n",
      "age_sn\t= 0.6706464407596582\n",
      "f_w\t= 0.0\n",
      "Npart\t= 509150\n",
      "Ndm\t= 2547\n",
      "Nstars\t= 506603\n",
      "Nsinks\t= 0\n",
      "Ncloud\t= 0\n",
      "Ndebris\t= 0\n",
      "Nother\t= 0\n",
      "Nundefined\t= 0\n",
      "other_tracer1\t= 0\n",
      "debris_tracer\t= 0\n",
      "cloud_tracer\t= 0\n",
      "star_tracer\t= 0\n",
      "other_tracer2\t= 0\n",
      "gas_tracer\t= 0\n",
      "\n"
     ]
    }
   ],
   "source": [
    "viewfields(info.part_info)"
   ]
  },
  {
   "cell_type": "markdown",
   "metadata": {},
   "source": [
    "## Load AMR/Particle Data"
   ]
  },
  {
   "cell_type": "markdown",
   "metadata": {},
   "source": [
    "Read the AMR and the Particle data from all files of the full box with all existing variables and particle positions:"
   ]
  },
  {
   "cell_type": "code",
   "execution_count": 22,
   "metadata": {},
   "outputs": [
    {
     "name": "stdout",
     "output_type": "stream",
     "text": [
      "\u001b[0m\u001b[1m[Mera]: Get particle data: 2020-02-12T20:40:36.139\u001b[22m\n",
      "\n",
      "Key vars=(:level, :x, :y, :z, :id)\n",
      "Using var(s)=(1, 2, 3, 4, 5) = (:vx, :vy, :vz, :mass, :birth) \n",
      "\n",
      "domain:\n",
      "xmin::xmax: 0.0 :: 1.0  \t==> 0.0 [kpc] :: 48.0 [kpc]\n",
      "ymin::ymax: 0.0 :: 1.0  \t==> 0.0 [kpc] :: 48.0 [kpc]\n",
      "zmin::zmax: 0.0 :: 1.0  \t==> 0.0 [kpc] :: 48.0 [kpc]\n",
      "\n"
     ]
    },
    {
     "name": "stderr",
     "output_type": "stream",
     "text": [
      "\u001b[32mReading data...100%|████████████████████████████████████| Time: 0:00:03\u001b[39m\n"
     ]
    },
    {
     "name": "stdout",
     "output_type": "stream",
     "text": [
      "Found 5.089390e+05 particles\n",
      "Memory used for data table :34.947275161743164 MB\n",
      "-------------------------------------------------------\n",
      "\n"
     ]
    }
   ],
   "source": [
    "particles = getparticles(info);"
   ]
  },
  {
   "cell_type": "markdown",
   "metadata": {},
   "source": [
    "The memory consumption of the data table is printed at the end. We provide a function which gives the possibility to print the used memory of any object: "
   ]
  },
  {
   "cell_type": "code",
   "execution_count": 23,
   "metadata": {},
   "outputs": [
    {
     "name": "stdout",
     "output_type": "stream",
     "text": [
      "Memory used: 35.211 MB\n"
     ]
    }
   ],
   "source": [
    "usedmemory(particles);"
   ]
  },
  {
   "cell_type": "markdown",
   "metadata": {},
   "source": [
    "The assigned object is now of type `PartDataType`:"
   ]
  },
  {
   "cell_type": "code",
   "execution_count": 24,
   "metadata": {},
   "outputs": [
    {
     "data": {
      "text/plain": [
       "PartDataType"
      ]
     },
     "execution_count": 24,
     "metadata": {},
     "output_type": "execute_result"
    }
   ],
   "source": [
    "typeof(particles)"
   ]
  },
  {
   "cell_type": "markdown",
   "metadata": {},
   "source": [
    "It is a sub-type of ContainMassDataSetType"
   ]
  },
  {
   "cell_type": "code",
   "execution_count": 25,
   "metadata": {},
   "outputs": [
    {
     "data": {
      "text/plain": [
       "DataSetType"
      ]
     },
     "execution_count": 25,
     "metadata": {},
     "output_type": "execute_result"
    }
   ],
   "source": [
    "supertype( ContainMassDataSetType )"
   ]
  },
  {
   "cell_type": "markdown",
   "metadata": {},
   "source": [
    "ContainMassDataSetType is a sub-type of to the super-type DataSetType"
   ]
  },
  {
   "cell_type": "code",
   "execution_count": 26,
   "metadata": {},
   "outputs": [
    {
     "data": {
      "text/plain": [
       "HydroPartType"
      ]
     },
     "execution_count": 26,
     "metadata": {},
     "output_type": "execute_result"
    }
   ],
   "source": [
    "supertype( PartDataType )"
   ]
  },
  {
   "cell_type": "markdown",
   "metadata": {},
   "source": [
    "The data is stored in a **JuliaDB** table and the user selected particle variables and parameters are assigned to fields:"
   ]
  },
  {
   "cell_type": "code",
   "execution_count": 27,
   "metadata": {},
   "outputs": [
    {
     "name": "stdout",
     "output_type": "stream",
     "text": [
      "\n",
      "\u001b[0m\u001b[1mdata ==> JuliaDB table: (:level, :x, :y, :z, :id, :vx, :vy, :vz, :mass, :birth)\u001b[22m\n",
      "\n",
      "\u001b[0m\u001b[1minfo ==> subfields: (:output, :path, :fnames, :simcode, :mtime, :ctime, :ncpu, :ndim, :levelmin, :levelmax, :boxlen, :time, :aexp, :H0, :omega_m, :omega_l, :omega_k, :omega_b, :unit_l, :unit_d, :unit_m, :unit_v, :unit_t, :gamma, :hydro, :nvarh, :nvarp, :variable_list, :gravity_variable_list, :particles_variable_list, :clumps_variable_list, :sinks_variable_list, :descriptor, :amr, :gravity, :particles, :clumps, :sinks, :rt, :namelist, :namelist_content, :headerfile, :makefile, :files_content, :timerfile, :compilationfile, :patchfile, :Narraysize, :scale, :grid_info, :part_info, :compilation, :constants)\u001b[22m\n",
      "\n",
      "lmin\t= 6\n",
      "lmax\t= 14\n",
      "boxlen\t= 48.0\n",
      "ranges\t= [0.0, 1.0, 0.0, 1.0, 0.0, 1.0]\n",
      "selected_partvars\t= Symbol[:level, :x, :y, :z, :id, :vx, :vy, :vz, :mass, :birth]\n",
      "\n",
      "\u001b[0m\u001b[1mscale ==> subfields: (:Mpc, :kpc, :pc, :mpc, :ly, :Au, :km, :m, :cm, :mm, :μm, :Msol_pc3, :g_cm3, :Msol_pc2, :g_cm2, :Gyr, :Myr, :yr, :s, :ms, :Msol, :Mearth, :Mjupiter, :g, :km_s, :m_s, :cm_s, :nH, :erg, :g_cms2, :T_mu, :Ba)\u001b[22m\n",
      "\n",
      "\n"
     ]
    }
   ],
   "source": [
    "viewfields(particles)"
   ]
  },
  {
   "cell_type": "markdown",
   "metadata": {},
   "source": [
    "For convenience, all the fields from the info-object above (InfoType) are now also accessible from the object with \"particles.info\" and the scaling relations from code to cgs units in \"particles.scale\"."
   ]
  },
  {
   "cell_type": "markdown",
   "metadata": {},
   "source": [
    "Print the fields of an object (composite type) in a simple list:"
   ]
  },
  {
   "cell_type": "code",
   "execution_count": 28,
   "metadata": {},
   "outputs": [
    {
     "data": {
      "text/plain": [
       "(:data, :info, :lmin, :lmax, :boxlen, :ranges, :selected_partvars, :used_descriptors, :scale)"
      ]
     },
     "execution_count": 28,
     "metadata": {},
     "output_type": "execute_result"
    }
   ],
   "source": [
    "propertynames(particles)"
   ]
  },
  {
   "cell_type": "markdown",
   "metadata": {},
   "source": [
    "## Overview of AMR/Particles\n",
    "Get an overview of the AMR structure associated with the object `particles` (PartDataType). The printed information is stored into the object `overview_amr` as a **JuliaDB** table (code units)  and can be used for further calculations:"
   ]
  },
  {
   "cell_type": "code",
   "execution_count": 29,
   "metadata": {},
   "outputs": [
    {
     "name": "stdout",
     "output_type": "stream",
     "text": [
      "Counting...\n"
     ]
    },
    {
     "data": {
      "text/plain": [
       "Table with 9 rows, 2 columns:\n",
       "level  particles\n",
       "────────────────\n",
       "6      2867\n",
       "7      11573\n",
       "8      56209\n",
       "9      118156\n",
       "10     115506\n",
       "11     77303\n",
       "12     49300\n",
       "13     31859\n",
       "14     46166"
      ]
     },
     "execution_count": 29,
     "metadata": {},
     "output_type": "execute_result"
    }
   ],
   "source": [
    "amr_overview = amroverview(particles)"
   ]
  },
  {
   "cell_type": "markdown",
   "metadata": {},
   "source": [
    "Get some overview of the data that is associated with the object `particles`. The calculated information can be accessed from the object `data_overview` (here) in code units for further calculations:"
   ]
  },
  {
   "cell_type": "code",
   "execution_count": 30,
   "metadata": {},
   "outputs": [
    {
     "data": {
      "text/plain": [
       "Table with 9 rows, 19 columns:\n",
       "Columns:\n",
       "\u001b[1m#   \u001b[22m\u001b[1mcolname    \u001b[22m\u001b[1mtype\u001b[22m\n",
       "───────────────────\n",
       "1   level      Any\n",
       "2   x_min      Any\n",
       "3   x_max      Any\n",
       "4   y_min      Any\n",
       "5   y_max      Any\n",
       "6   z_min      Any\n",
       "7   z_max      Any\n",
       "8   id_min     Any\n",
       "9   id_max     Any\n",
       "10  vx_min     Any\n",
       "11  vx_max     Any\n",
       "12  vy_min     Any\n",
       "13  vy_max     Any\n",
       "14  vz_min     Any\n",
       "15  vz_max     Any\n",
       "16  mass_min   Any\n",
       "17  mass_max   Any\n",
       "18  birth_min  Any\n",
       "19  birth_max  Any"
      ]
     },
     "execution_count": 30,
     "metadata": {},
     "output_type": "execute_result"
    }
   ],
   "source": [
    "data_overview = dataoverview(particles)"
   ]
  },
  {
   "cell_type": "markdown",
   "metadata": {},
   "source": [
    "If the number of columns is relatively long, the table is typically represented by an overview. To access certain columns, use the `select` function. The representation \":birth_max\" is called a quoted Symbol ([see in Julia documentation](https://docs.julialang.org/en/v1/manual/metaprogramming/#Symbols-1)):"
   ]
  },
  {
   "cell_type": "code",
   "execution_count": 31,
   "metadata": {},
   "outputs": [],
   "source": [
    "using JuliaDB"
   ]
  },
  {
   "cell_type": "code",
   "execution_count": 32,
   "metadata": {},
   "outputs": [
    {
     "data": {
      "text/plain": [
       "Table with 9 rows, 5 columns:\n",
       "level  mass_min    mass_max    birth_min  birth_max\n",
       "───────────────────────────────────────────────────\n",
       "6      1.13606e-5  1.13606e-5  4.54194    38.2611\n",
       "7      1.13606e-5  1.13606e-5  4.35262    38.6822\n",
       "8      1.13606e-5  2.27212e-5  4.30782    39.2733\n",
       "9      1.13606e-5  2.27212e-5  4.39811    39.397\n",
       "10     1.13606e-5  2.27212e-5  4.29246    39.6783\n",
       "11     1.13606e-5  2.27212e-5  4.36385    39.744\n",
       "12     1.13606e-5  2.27212e-5  4.51187    39.8358\n",
       "13     4.99231e-6  2.27212e-5  4.47027    39.883\n",
       "14     4.91416e-6  2.27212e-5  5.2582     39.902"
      ]
     },
     "execution_count": 32,
     "metadata": {},
     "output_type": "execute_result"
    }
   ],
   "source": [
    "select(data_overview, (:level,:mass_min, :mass_max, :birth_min, :birth_max ) )"
   ]
  },
  {
   "cell_type": "markdown",
   "metadata": {},
   "source": [
    "Get an array from the column \":birth\" in `data_overview` and scale it to the units `Myr`. The order of the calculated data is consistent with the table above:"
   ]
  },
  {
   "cell_type": "code",
   "execution_count": 33,
   "metadata": {},
   "outputs": [
    {
     "data": {
      "text/plain": [
       "9-element Array{Float64,1}:\n",
       " 67.72475450854526\n",
       " 64.901905404619  \n",
       " 64.23377578948651\n",
       " 65.58011000778922\n",
       " 64.00484282690913\n",
       " 65.06931266062217\n",
       " 67.27645257301232\n",
       " 66.6561171130916 \n",
       " 78.40495776518468"
      ]
     },
     "execution_count": 33,
     "metadata": {},
     "output_type": "execute_result"
    }
   ],
   "source": [
    "column(data_overview, :birth_min) * info.scale.Myr "
   ]
  },
  {
   "cell_type": "markdown",
   "metadata": {},
   "source": [
    "Or simply convert the `birth_max` data in the table to `Myr` units by manipulating the column:"
   ]
  },
  {
   "cell_type": "code",
   "execution_count": 34,
   "metadata": {},
   "outputs": [],
   "source": [
    "data_overview = transform(data_overview, :birth_max => :birth_max => value->value * info.scale.Myr);"
   ]
  },
  {
   "cell_type": "code",
   "execution_count": 35,
   "metadata": {},
   "outputs": [
    {
     "data": {
      "text/plain": [
       "Table with 9 rows, 5 columns:\n",
       "level  mass_min    mass_max    birth_min  birth_max\n",
       "───────────────────────────────────────────────────\n",
       "6      1.13606e-5  1.13606e-5  4.54194    570.511\n",
       "7      1.13606e-5  1.13606e-5  4.35262    576.79\n",
       "8      1.13606e-5  2.27212e-5  4.30782    585.604\n",
       "9      1.13606e-5  2.27212e-5  4.39811    587.448\n",
       "10     1.13606e-5  2.27212e-5  4.29246    591.643\n",
       "11     1.13606e-5  2.27212e-5  4.36385    592.623\n",
       "12     1.13606e-5  2.27212e-5  4.51187    593.991\n",
       "13     4.99231e-6  2.27212e-5  4.47027    594.694\n",
       "14     4.91416e-6  2.27212e-5  5.2582     594.977"
      ]
     },
     "execution_count": 35,
     "metadata": {},
     "output_type": "execute_result"
    }
   ],
   "source": [
    "select(data_overview, (:level,:mass_min, :mass_max, :birth_min, :birth_max ) )"
   ]
  },
  {
   "cell_type": "markdown",
   "metadata": {},
   "source": [
    "## Data inspection\n",
    "The data is associated with the field `particles.data` as a **JuliaDB** table (code units). \n",
    "Each row corresponds to a particle and each column to a property which makes it easy to find, filter, map, aggregate, group the data, etc.\n",
    "More information can be found in the **Mera** tutorials or in: [JuliaDB API Reference](http://juliadb.org/latest/api/)\n"
   ]
  },
  {
   "cell_type": "markdown",
   "metadata": {},
   "source": [
    "### Table View"
   ]
  },
  {
   "cell_type": "markdown",
   "metadata": {},
   "source": [
    "The particle positions x,y,z are given in code units and used in many functions of **MERA** and should not be modified."
   ]
  },
  {
   "cell_type": "code",
   "execution_count": 36,
   "metadata": {},
   "outputs": [
    {
     "data": {
      "text/plain": [
       "Table with 508939 rows, 10 columns:\n",
       "Columns:\n",
       "\u001b[1m#   \u001b[22m\u001b[1mcolname  \u001b[22m\u001b[1mtype\u001b[22m\n",
       "────────────────────\n",
       "1   level    Int32\n",
       "2   x        Float64\n",
       "3   y        Float64\n",
       "4   z        Float64\n",
       "5   id       Int32\n",
       "6   vx       Float64\n",
       "7   vy       Float64\n",
       "8   vz       Float64\n",
       "9   mass     Float64\n",
       "10  birth    Float64"
      ]
     },
     "execution_count": 36,
     "metadata": {},
     "output_type": "execute_result"
    }
   ],
   "source": [
    "particles.data"
   ]
  },
  {
   "cell_type": "markdown",
   "metadata": {},
   "source": [
    "A more detailed view into the data:"
   ]
  },
  {
   "cell_type": "code",
   "execution_count": 37,
   "metadata": {},
   "outputs": [
    {
     "data": {
      "text/plain": [
       "Table with 508939 rows, 5 columns:\n",
       "\u001b[1mlevel  \u001b[22m\u001b[1mx           \u001b[22m\u001b[1my        \u001b[22m\u001b[1mz        \u001b[22mbirth\n",
       "────────────────────────────────────────────\n",
       "6      0.00462947  22.3885  24.571   32.0735\n",
       "6      0.109066    22.3782  21.5844  19.8963\n",
       "6      0.238211    28.7537  24.8191  24.9471\n",
       "6      0.271366    22.7512  31.5681  20.9888\n",
       "6      0.312574    16.2385  23.7591  23.0935\n",
       "6      0.314957    28.2084  30.966   31.6911\n",
       "6      0.328337    4.59858  23.5001  30.3666\n",
       "6      0.420712    27.6688  26.5735  18.9512\n",
       "6      0.509144    33.1737  23.9789  24.3613\n",
       "6      0.565516    25.9409  26.0579  32.7551\n",
       "6      0.587289    9.60231  23.8477  29.6981\n",
       "6      0.592878    25.5519  21.3079  15.9204\n",
       "⋮\n",
       "14     37.6271     25.857   23.8833  36.7754\n",
       "14     37.6299     25.8403  23.9383  36.0289\n",
       "14     37.6301     25.8502  23.9361  38.7225\n",
       "14     37.6326     25.8544  23.9383  36.3547\n",
       "14     37.6528     25.8898  23.9928  38.2109\n",
       "14     37.6643     25.9061  23.9945  39.49\n",
       "14     37.6813     25.8743  23.9789  36.6981\n",
       "14     37.7207     25.8623  23.8775  38.6107\n",
       "14     38.173      25.8862  23.7978  33.0212\n",
       "14     38.1738     25.8914  23.7979  35.2712\n",
       "14     38.1739     25.8905  23.7992  34.4097"
      ]
     },
     "execution_count": 37,
     "metadata": {},
     "output_type": "execute_result"
    }
   ],
   "source": [
    "select(particles.data, (:level,:x, :y, :z, :birth) )"
   ]
  },
  {
   "cell_type": "code",
   "execution_count": null,
   "metadata": {},
   "outputs": [],
   "source": []
  }
 ],
 "metadata": {
  "kernelspec": {
   "display_name": "Julia 1.3.1",
   "language": "julia",
   "name": "julia-1.3"
  },
  "language_info": {
   "file_extension": ".jl",
   "mimetype": "application/julia",
   "name": "julia",
   "version": "1.3.1"
  }
 },
 "nbformat": 4,
 "nbformat_minor": 4
}
