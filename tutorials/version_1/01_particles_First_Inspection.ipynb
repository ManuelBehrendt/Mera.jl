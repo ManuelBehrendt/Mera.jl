{
 "cells": [
  {
   "cell_type": "markdown",
   "metadata": {},
   "source": [
    "# 1. Particles: First Data Inspection"
   ]
  },
  {
   "cell_type": "markdown",
   "metadata": {},
   "source": [
    "## Simulation Overview"
   ]
  },
  {
   "cell_type": "code",
   "execution_count": 1,
   "metadata": {},
   "outputs": [
    {
     "name": "stdout",
     "output_type": "stream",
     "text": [
      "\u001b[0m\u001b[1m[Mera]: 2020-01-08T15:51:05.208\u001b[22m\n",
      "\n",
      "Code: RAMSES\n",
      "output [1] summary:\n",
      "mtime: 2020-01-04T21:08:11.996\n",
      "ctime: 2020-01-04T21:08:11.996\n",
      "\u001b[0m\u001b[1m=======================================================\u001b[22m\n",
      "simulation time: 0.0 [ms]\n",
      "boxlen: 100.0 [kpc]\n",
      "ncpu: 32\n",
      "ndim: 3\n",
      "-------------------------------------------------------\n",
      "amr:           true\n",
      "level(s): 8 - 10 --> cellsize(s): 390.63 [pc] - 97.66 [pc]\n",
      "-------------------------------------------------------\n",
      "hydro:         true\n",
      "hydro-variables:  7  --> (:rho, :vx, :vy, :vz, :p, :var6, :var7)\n",
      "hydro-descriptor: (:density, :velocity_x, :velocity_y, :velocity_z, :pressure, :metallicity, :scalar_01)\n",
      "γ: 1.6667\n",
      "-------------------------------------------------------\n",
      "gravity:       true\n",
      "gravity-variables: (:epot, :ax, :ay, :az)\n",
      "-------------------------------------------------------\n",
      "particles:     true\n",
      "- Nstars:   1.050000e+05 \n",
      "- Ndm:      9.993500e+04 \n",
      "particle variables: (:vx, :vy, :vz, :mass, :family, :tag, :birth, :metals)\n",
      "particle-descriptor: (:position_x, :position_y, :position_z, :velocity_x, :velocity_y, :velocity_z, :mass, :identity, :levelp, :family, :tag, :birth_time, :metallicity)\n",
      "-------------------------------------------------------\n",
      "clumps:        false\n",
      "-------------------------------------------------------\n",
      "namelist-file: (\"&AMR_PARAMS\", \"&OUTPUT_PARAMS\", \"&BOUNDARY_PARAMS\", \"&POISSON_PARAMS\", \"&RUN_PARAMS\", \"&HYDRO_PARAMS\", \"&cooling_params\", \"&sf_params\", \"&feedback_params\", \"&DICE_PARAMS\", \"&units_params\", \"&INIT_PARAMS\", \"\", \"&REFINE_PARAMS\", \"!&PHYSICS_PARAMS\")\n",
      "-------------------------------------------------------\n",
      "timer-file:       true\n",
      "compilation-file: true\n",
      "makefile:         true\n",
      "patchfile:        true\n",
      "\u001b[0m\u001b[1m=======================================================\u001b[22m\n",
      "\n"
     ]
    }
   ],
   "source": [
    "using Mera\n",
    "info = getinfo(1, \"../../testing/simulations/manu_stable_2019\");"
   ]
  },
  {
   "cell_type": "markdown",
   "metadata": {},
   "source": [
    "A short overview of the loaded particle properties is printed:\n",
    "- existence of particle files\n",
    "- the predefined variables\n",
    "- the number of particles for each id/family (if exist)\n",
    "- the variable names from the descriptor file (if exist)\n"
   ]
  },
  {
   "cell_type": "markdown",
   "metadata": {},
   "source": [
    "The functions in **Mera** \"know\" the predefined particle variable names: \n",
    "- From >= ramses-version-2018: :vx, :vy, :vz, :mass, :family, :tag, :birth, :metals :var9,.... \n",
    "- For  =< ramses-version-2017: :vx, :vy, :vz, :mass, :birth, :var6, :var7,.... \n",
    "- Currently, the following variables are loaded by default (if exist): :level, :x, :y, :z, :id, :family, :tag.\n",
    "- The cpu number associated with the particles can be loaded with the variable names: :cpu or :varn1\n",
    "- In a future version the variable names from the particle descriptor can be used by setting the field info.descriptor.useparticles = true . "
   ]
  },
  {
   "cell_type": "markdown",
   "metadata": {},
   "source": [
    "Get an overview of the loaded particle properties:"
   ]
  },
  {
   "cell_type": "code",
   "execution_count": 20,
   "metadata": {},
   "outputs": [
    {
     "name": "stdout",
     "output_type": "stream",
     "text": [
      "\n",
      "\u001b[0m\u001b[1m[Mera]: Particle overview\u001b[22m\n",
      "\u001b[0m\u001b[1m===============================\u001b[22m\n",
      "eta_sn\t= 0.2\n",
      "age_sn\t= 0.6708241192497574\n",
      "f_w\t= 1.0\n",
      "Npart\t= 0\n",
      "Ndm\t= 99935\n",
      "Nstars\t= 105000\n",
      "Nsinks\t= 0\n",
      "Ncloud\t= 0\n",
      "Ndebris\t= 0\n",
      "Nother\t= 0\n",
      "Nundefined\t= 0\n",
      "other_tracer1\t= 0\n",
      "debris_tracer\t= 0\n",
      "cloud_tracer\t= 0\n",
      "star_tracer\t= 0\n",
      "other_tracer2\t= 0\n",
      "gas_tracer\t= 0\n",
      "\n"
     ]
    }
   ],
   "source": [
    "viewfields(info.part_info)"
   ]
  },
  {
   "cell_type": "markdown",
   "metadata": {},
   "source": [
    "## Load AMR/Particle Data"
   ]
  },
  {
   "cell_type": "markdown",
   "metadata": {},
   "source": [
    "Read the AMR and the Particle data from all files of the full box with all existing variables and particle positions:"
   ]
  },
  {
   "cell_type": "code",
   "execution_count": 21,
   "metadata": {},
   "outputs": [
    {
     "name": "stdout",
     "output_type": "stream",
     "text": [
      "\u001b[0m\u001b[1m[Mera]: Get particle data: 2020-01-08T16:05:47.842\u001b[22m\n",
      "\n",
      "Key vars=(:level, :x, :y, :z, :id, :family, :tag)\n",
      "Using var(s)=(1, 2, 3, 4, 7, 8) = (:vx, :vy, :vz, :mass, :birth, :metallicity) \n",
      "\n",
      "domain:\n",
      "xmin::xmax: 0.0 :: 1.0  \t==> 0.0 [kpc] :: 100.0 [kpc]\n",
      "ymin::ymax: 0.0 :: 1.0  \t==> 0.0 [kpc] :: 100.0 [kpc]\n",
      "zmin::zmax: 0.0 :: 1.0  \t==> 0.0 [kpc] :: 100.0 [kpc]\n",
      "\n",
      "Found 2.049350e+05 particles\n",
      "Memory used for data table :16.027705192565918 MB\n",
      "-------------------------------------------------------\n",
      "\n"
     ]
    }
   ],
   "source": [
    "particles = getparticles(info);"
   ]
  },
  {
   "cell_type": "markdown",
   "metadata": {},
   "source": [
    "The memory consumption of the data table is printed at the end. We provide a function which gives the possibility to print the used memory of any object: "
   ]
  },
  {
   "cell_type": "code",
   "execution_count": 4,
   "metadata": {},
   "outputs": [
    {
     "name": "stdout",
     "output_type": "stream",
     "text": [
      "Memory used: 16.047 MB\n"
     ]
    }
   ],
   "source": [
    "usedmemory(particles);"
   ]
  },
  {
   "cell_type": "markdown",
   "metadata": {},
   "source": [
    "The assigned object is now of type *PartDataType*:"
   ]
  },
  {
   "cell_type": "code",
   "execution_count": 5,
   "metadata": {},
   "outputs": [
    {
     "data": {
      "text/plain": [
       "PartDataType"
      ]
     },
     "execution_count": 5,
     "metadata": {},
     "output_type": "execute_result"
    }
   ],
   "source": [
    "typeof(particles)"
   ]
  },
  {
   "cell_type": "markdown",
   "metadata": {},
   "source": [
    "It is a sub-type of ContainMassDataSetType"
   ]
  },
  {
   "cell_type": "code",
   "execution_count": null,
   "metadata": {},
   "outputs": [],
   "source": [
    "supertype( ContainMassDataSetType )"
   ]
  },
  {
   "cell_type": "markdown",
   "metadata": {},
   "source": [
    "ContainMassDataSetType is a sub-type of to the super-type DataSetType"
   ]
  },
  {
   "cell_type": "code",
   "execution_count": 6,
   "metadata": {},
   "outputs": [
    {
     "data": {
      "text/plain": [
       "DataSetType"
      ]
     },
     "execution_count": 6,
     "metadata": {},
     "output_type": "execute_result"
    }
   ],
   "source": [
    "supertype( PartDataType )"
   ]
  },
  {
   "cell_type": "markdown",
   "metadata": {},
   "source": [
    "The data is stored in a **JuliaDB** table and the user selected particle variables and parameters are assigned to fields:"
   ]
  },
  {
   "cell_type": "code",
   "execution_count": 7,
   "metadata": {},
   "outputs": [
    {
     "name": "stdout",
     "output_type": "stream",
     "text": [
      "\n",
      "\u001b[0m\u001b[1mdata ==> JuliaDB table: (:level, :x, :y, :z, :id, :family, :tag, :vx, :vy, :vz, :mass, :birth, :metals)\u001b[22m\n",
      "\n",
      "\u001b[0m\u001b[1minfo ==> subfields: (:output, :path, :fnames, :simcode, :mtime, :ctime, :ncpu, :ndim, :levelmin, :levelmax, :boxlen, :time, :aexp, :H0, :omega_m, :omega_l, :omega_k, :omega_b, :unit_l, :unit_d, :unit_m, :unit_v, :unit_t, :gamma, :hydro, :nvarh, :nvarp, :variable_list, :gravity_variable_list, :particles_variable_list, :clumps_variable_list, :sinks_variable_list, :descriptor, :amr, :gravity, :particles, :clumps, :sinks, :namelist, :namelist_content, :headerfile, :makefile, :timerfile, :compilationfile, :patchfile, :Narraysize, :scale, :grid_info, :part_info, :compilation, :constants)\u001b[22m\n",
      "\n",
      "lmin\t= 8\n",
      "lmax\t= 10\n",
      "boxlen\t= 100.0\n",
      "ranges\t= [0.0, 1.0, 0.0, 1.0, 0.0, 1.0]\n",
      "selected_partvars\t= Symbol[:level, :x, :y, :z, :id, :family, :tag, :vx, :vy, :vz, :mass, :birth, :metals]\n",
      "\n",
      "\u001b[0m\u001b[1mscale ==> subfields: (:Mpc, :kpc, :pc, :mpc, :ly, :Au, :km, :m, :cm, :mm, :μm, :Msol_pc3, :g_cm3, :Msol_pc2, :g_cm2, :Gyr, :Myr, :yr, :s, :ms, :Msol, :Mearth, :Mjupiter, :g, :km_s, :m_s, :cm_s, :nH, :erg, :g_cms2, :T_mu, :Ba)\u001b[22m\n",
      "\n",
      "\n"
     ]
    }
   ],
   "source": [
    "viewfields(particles)"
   ]
  },
  {
   "cell_type": "markdown",
   "metadata": {},
   "source": [
    "For convenience, all the fields from the info-object above (InfoType) are now also accessible from the object with \"particles.info\" and the scaling relations from code to cgs units in \"particles.scale\"."
   ]
  },
  {
   "cell_type": "markdown",
   "metadata": {},
   "source": [
    "Print the fields of an object (composite type) in a simple list:"
   ]
  },
  {
   "cell_type": "code",
   "execution_count": 8,
   "metadata": {},
   "outputs": [
    {
     "data": {
      "text/plain": [
       "(:data, :info, :lmin, :lmax, :boxlen, :ranges, :selected_partvars, :used_descriptors, :scale)"
      ]
     },
     "execution_count": 8,
     "metadata": {},
     "output_type": "execute_result"
    }
   ],
   "source": [
    "propertynames(particles)"
   ]
  },
  {
   "cell_type": "markdown",
   "metadata": {},
   "source": [
    "## Overview of AMR/Particles\n",
    "Get an overview of the AMR structure associated with the object *particles* (PartDataType). The printed information is stored into the object *overview_amr* as a **JuliaDB** table (code units)  and can be used for further calculations:"
   ]
  },
  {
   "cell_type": "code",
   "execution_count": 9,
   "metadata": {},
   "outputs": [
    {
     "name": "stdout",
     "output_type": "stream",
     "text": [
      "Counting...\n"
     ]
    },
    {
     "data": {
      "text/plain": [
       "Table with 3 rows, 2 columns:\n",
       "level  particles\n",
       "────────────────\n",
       "8      204935\n",
       "9      0\n",
       "10     0"
      ]
     },
     "execution_count": 9,
     "metadata": {},
     "output_type": "execute_result"
    }
   ],
   "source": [
    "amr_overview = amroverview(particles)"
   ]
  },
  {
   "cell_type": "markdown",
   "metadata": {},
   "source": [
    "Get some overview of the data that is associated with the object *particles*. The calculated information can be accessed from the object *data_overview* (here) in code units for further calculations:"
   ]
  },
  {
   "cell_type": "code",
   "execution_count": 10,
   "metadata": {},
   "outputs": [
    {
     "data": {
      "text/plain": [
       "Table with 3 rows, 25 columns:\n",
       "Columns:\n",
       "\u001b[1m#   \u001b[22m\u001b[1mcolname     \u001b[22m\u001b[1mtype\u001b[22m\n",
       "────────────────────\n",
       "1   level       Any\n",
       "2   x_min       Any\n",
       "3   x_max       Any\n",
       "4   y_min       Any\n",
       "5   y_max       Any\n",
       "6   z_min       Any\n",
       "7   z_max       Any\n",
       "8   id_min      Any\n",
       "9   id_max      Any\n",
       "10  family_min  Any\n",
       "11  family_max  Any\n",
       "12  tag_min     Any\n",
       "13  tag_max     Any\n",
       "14  vx_min      Any\n",
       "15  vx_max      Any\n",
       "16  vy_min      Any\n",
       "17  vy_max      Any\n",
       "18  vz_min      Any\n",
       "19  vz_max      Any\n",
       "20  mass_min    Any\n",
       "21  mass_max    Any\n",
       "22  birth_min   Any\n",
       "23  birth_max   Any\n",
       "24  metals_min  Any\n",
       "25  metals_max  Any"
      ]
     },
     "execution_count": 10,
     "metadata": {},
     "output_type": "execute_result"
    }
   ],
   "source": [
    "data_overview = dataoverview(particles)"
   ]
  },
  {
   "cell_type": "markdown",
   "metadata": {},
   "source": [
    "If the number of columns is relatively long, the table is typically represented by an overview. To access certain columns, use the *select* function. The representation \":birth_max\" is called a quoted Symbol ([see in Julia documentation](https://docs.julialang.org/en/v1/manual/metaprogramming/#Symbols-1)):"
   ]
  },
  {
   "cell_type": "code",
   "execution_count": 11,
   "metadata": {},
   "outputs": [],
   "source": [
    "using JuliaDB"
   ]
  },
  {
   "cell_type": "code",
   "execution_count": 12,
   "metadata": {},
   "outputs": [
    {
     "data": {
      "text/plain": [
       "Table with 3 rows, 5 columns:\n",
       "level  mass_min     mass_max    birth_min  birth_max\n",
       "────────────────────────────────────────────────────\n",
       "8      0.000359393  0.00260602  -579.533   0.0\n",
       "9      0.0          0.0         0.0        0.0\n",
       "10     0.0          0.0         0.0        0.0"
      ]
     },
     "execution_count": 12,
     "metadata": {},
     "output_type": "execute_result"
    }
   ],
   "source": [
    "select(data_overview, (:level,:mass_min, :mass_max, :birth_min, :birth_max ) )"
   ]
  },
  {
   "cell_type": "markdown",
   "metadata": {},
   "source": [
    "Get an array from the column \":birth\" in *data_overview* and scale it to the units *Myr*. The order of the calculated data is consistent with the table above:"
   ]
  },
  {
   "cell_type": "code",
   "execution_count": 14,
   "metadata": {},
   "outputs": [
    {
     "data": {
      "text/plain": [
       "3-element Array{Float64,1}:\n",
       " -8639.122831643566\n",
       "     0.0           \n",
       "     0.0           "
      ]
     },
     "execution_count": 14,
     "metadata": {},
     "output_type": "execute_result"
    }
   ],
   "source": [
    "column(data_overview, :birth_min) .* info.scale.Myr # '.*\" corresponds to an element-wise multiplikation"
   ]
  },
  {
   "cell_type": "markdown",
   "metadata": {},
   "source": [
    "Or simply convert the *birth_max* data in the table to *Myr* units by manipulating the column:"
   ]
  },
  {
   "cell_type": "code",
   "execution_count": 15,
   "metadata": {},
   "outputs": [],
   "source": [
    "data_overview = transform(data_overview, :birth_max => :birth_max => value->value * info.scale.Myr);"
   ]
  },
  {
   "cell_type": "code",
   "execution_count": 16,
   "metadata": {},
   "outputs": [
    {
     "data": {
      "text/plain": [
       "Table with 3 rows, 5 columns:\n",
       "level  mass_min     mass_max    birth_min  birth_max\n",
       "────────────────────────────────────────────────────\n",
       "8      0.000359393  0.00260602  -579.533   0.0\n",
       "9      0.0          0.0         0.0        0.0\n",
       "10     0.0          0.0         0.0        0.0"
      ]
     },
     "execution_count": 16,
     "metadata": {},
     "output_type": "execute_result"
    }
   ],
   "source": [
    "select(data_overview, (:level,:mass_min, :mass_max, :birth_min, :birth_max ) )"
   ]
  },
  {
   "cell_type": "markdown",
   "metadata": {},
   "source": [
    "## Data inspection\n",
    "The data is associated with the field *particles.data* as a **JuliaDB** table (code units). \n",
    "Each row corresponds to a particle and each column to a property which makes it easy to find, filter, map, aggregate, group the data, etc.\n",
    "More information can be found in the **Mera** tutorials or in: [JuliaDB API Reference](http://juliadb.org/latest/api/)\n"
   ]
  },
  {
   "cell_type": "markdown",
   "metadata": {},
   "source": [
    "### Table View"
   ]
  },
  {
   "cell_type": "markdown",
   "metadata": {},
   "source": [
    "The particle positions x,y,z are given in code units and used in many functions of **MERA** and should not be modified."
   ]
  },
  {
   "cell_type": "code",
   "execution_count": 17,
   "metadata": {},
   "outputs": [
    {
     "data": {
      "text/plain": [
       "Table with 204935 rows, 13 columns:\n",
       "Columns:\n",
       "\u001b[1m#   \u001b[22m\u001b[1mcolname  \u001b[22m\u001b[1mtype\u001b[22m\n",
       "────────────────────\n",
       "1   level    Int32\n",
       "2   x        Float64\n",
       "3   y        Float64\n",
       "4   z        Float64\n",
       "5   id       Int8\n",
       "6   family   Int32\n",
       "7   tag      Int8\n",
       "8   vx       Float64\n",
       "9   vy       Float64\n",
       "10  vz       Float64\n",
       "11  mass     Float64\n",
       "12  birth    Float64\n",
       "13  metals   Float64"
      ]
     },
     "execution_count": 17,
     "metadata": {},
     "output_type": "execute_result"
    }
   ],
   "source": [
    "particles.data"
   ]
  },
  {
   "cell_type": "markdown",
   "metadata": {},
   "source": [
    "A more detailed view into the data:"
   ]
  },
  {
   "cell_type": "code",
   "execution_count": 18,
   "metadata": {},
   "outputs": [
    {
     "data": {
      "text/plain": [
       "Table with 204935 rows, 5 columns:\n",
       "\u001b[1mlevel  \u001b[22m\u001b[1mx         \u001b[22m\u001b[1my        \u001b[22m\u001b[1mz        \u001b[22mbirth\n",
       "────────────────────────────────────────\n",
       "8      0.162018  48.7716  38.9408  0.0\n",
       "8      0.241993  43.34    61.1182  0.0\n",
       "8      0.351147  47.5691  46.5596  0.0\n",
       "8      0.530987  55.3409  40.0985  0.0\n",
       "8      0.711498  41.6374  46.4307  0.0\n",
       "8      0.75967   58.6955  37.0071  0.0\n",
       "8      0.780296  35.406   50.9124  0.0\n",
       "8      0.882309  38.8843  54.2554  0.0\n",
       "8      0.89698   61.4106  60.336   0.0\n",
       "8      0.979073  44.4677  63.8858  0.0\n",
       "8      1.04498   40.9592  69.235   0.0\n",
       "8      1.18224   51.4781  50.0146  0.0\n",
       "⋮\n",
       "8      99.3534   53.6374  56.8546  0.0\n",
       "8      99.3742   42.8799  68.9125  0.0\n",
       "8      99.4208   33.6806  60.4349  0.0\n",
       "8      99.6151   54.8829  36.4236  0.0\n",
       "8      99.6609   47.92    50.0631  0.0\n",
       "8      99.6624   40.7391  56.939   0.0\n",
       "8      99.7309   58.3593  37.43    0.0\n",
       "8      99.8277   51.3123  55.7462  0.0\n",
       "8      99.8709   42.983   59.9095  0.0\n",
       "8      99.8864   49.9097  51.638   0.0\n",
       "8      99.9239   45.4416  37.0604  0.0"
      ]
     },
     "execution_count": 18,
     "metadata": {},
     "output_type": "execute_result"
    }
   ],
   "source": [
    "select(particles.data, (:level,:x, :y, :z, :birth) )"
   ]
  },
  {
   "cell_type": "code",
   "execution_count": null,
   "metadata": {},
   "outputs": [],
   "source": []
  }
 ],
 "metadata": {
  "kernelspec": {
   "display_name": "Julia 1.3.0",
   "language": "julia",
   "name": "julia-1.3"
  },
  "language_info": {
   "file_extension": ".jl",
   "mimetype": "application/julia",
   "name": "julia",
   "version": "1.3.1"
  }
 },
 "nbformat": 4,
 "nbformat_minor": 4
}
