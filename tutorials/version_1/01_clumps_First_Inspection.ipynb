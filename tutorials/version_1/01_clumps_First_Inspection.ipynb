{
 "cells": [
  {
   "cell_type": "markdown",
   "metadata": {},
   "source": [
    "# 1. Clumps: First Data Inspection"
   ]
  },
  {
   "cell_type": "markdown",
   "metadata": {},
   "source": [
    "## Simulation Overview"
   ]
  },
  {
   "cell_type": "code",
   "execution_count": 1,
   "metadata": {},
   "outputs": [
    {
     "name": "stderr",
     "output_type": "stream",
     "text": [
      "┌ Info: Precompiling Mera [02f895e8-fdb1-4346-8fe6-c721699f5126]\n",
      "└ @ Base loading.jl:1273\n"
     ]
    },
    {
     "name": "stdout",
     "output_type": "stream",
     "text": [
      "\n",
      "*__   __ _______ ______   _______ \n",
      "|  |_|  |       |    _ | |   _   |\n",
      "|       |    ___|   | || |  |_|  |\n",
      "|       |   |___|   |_||_|       |\n",
      "|       |    ___|    __  |       |\n",
      "| ||_|| |   |___|   |  | |   _   |\n",
      "|_|   |_|_______|___|  |_|__| |__|\n",
      "\n",
      "\u001b[0m\u001b[1m[Mera]: 2019-12-30T22:51:39.858\u001b[22m\n",
      "\n",
      "Code: RAMSES\n",
      "output [400] summary:\n",
      "mtime: 2018-09-05T09:51:55.041\n",
      "ctime: 2019-11-01T17:35:21.051\n",
      "\u001b[0m\u001b[1m=======================================================\u001b[22m\n",
      "simulation time: 594.98 [Myr]\n",
      "boxlen: 48.0 [kpc]\n",
      "ncpu: 2048\n",
      "ndim: 3\n",
      "-------------------------------------------------------\n",
      "amr:           true\n",
      "level(s): 6 - 14 --> cellsize(s): 750.0 [pc] - 2.93 [pc]\n",
      "-------------------------------------------------------\n",
      "hydro:         true\n",
      "hydro-variables:  7  --> (:rho, :vx, :vy, :vz, :p, :var6, :var7)\n",
      "hydro-descriptor: (:density, :velocity_x, :velocity_y, :velocity_z, :thermal_pressure, :passive_scalar_1, :passive_scalar_2)\n",
      "γ: 1.6667\n",
      "-------------------------------------------------------\n",
      "gravity:       true\n",
      "gravity-variables: (:epot, :ax, :ay, :az)\n",
      "-------------------------------------------------------\n",
      "particles:     true\n",
      "- Npart:    5.091500e+05 \n",
      "- Nstars:   5.066030e+05 \n",
      "- Ndm:      2.547000e+03 \n",
      "particle variables: (:vx, :vy, :vz, :mass, :age)\n",
      "-------------------------------------------------------\n",
      "clumps:        true\n",
      "clump-variables: (:index, :lev, :parent, :ncell, :peak_x, :peak_y, :peak_z, Symbol(\"rho-\"), Symbol(\"rho+\"), :rho_av, :mass_cl, :relevance)\n",
      "-------------------------------------------------------\n",
      "namelist-file: false\n",
      "timer-file:       false\n",
      "compilation-file: true\n",
      "makefile:         true\n",
      "patchfile:        true\n",
      "\u001b[0m\u001b[1m=======================================================\u001b[22m\n",
      "\n"
     ]
    }
   ],
   "source": [
    "using Mera\n",
    "info = getinfo(400, \"../../testing/simulations/manu_sim_sf_L14\");"
   ]
  },
  {
   "cell_type": "markdown",
   "metadata": {},
   "source": [
    "A short overview of the loaded clumps properties is printed:\n",
    "- existence of clumps files\n",
    "- the variable names from the header of the clump files"
   ]
  },
  {
   "cell_type": "markdown",
   "metadata": {},
   "source": [
    "## Load Clump Data\n",
    "Read the Clumps data from all files of the full box with all existing variables. **MERA** checks the first line of a clump file to find the column names. The identified names give the number of existing columns."
   ]
  },
  {
   "cell_type": "code",
   "execution_count": 2,
   "metadata": {},
   "outputs": [
    {
     "name": "stdout",
     "output_type": "stream",
     "text": [
      "\u001b[0m\u001b[1m[Mera]: Get clump data: 2019-12-30T22:51:47.383\u001b[22m\n",
      "\n",
      "domain:\n",
      "xmin::xmax: 0.0 :: 1.0  \t==> 0.0 [kpc] :: 48.0 [kpc]\n",
      "ymin::ymax: 0.0 :: 1.0  \t==> 0.0 [kpc] :: 48.0 [kpc]\n",
      "zmin::zmax: 0.0 :: 1.0  \t==> 0.0 [kpc] :: 48.0 [kpc]\n",
      "\n",
      "Read 12 colums: \n",
      "Symbol[:index, :lev, :parent, :ncell, :peak_x, :peak_y, :peak_z, Symbol(\"rho-\"), Symbol(\"rho+\"), :rho_av, :mass_cl, :relevance]\n",
      "Memory used for data table :61.77734375 KB\n",
      "-------------------------------------------------------\n",
      "\n"
     ]
    }
   ],
   "source": [
    "clumps = getclumps(info);"
   ]
  },
  {
   "cell_type": "markdown",
   "metadata": {},
   "source": [
    "The memory consumption of the data table is printed at the end. We provide a function which gives the possibility to print the used memory of any object: "
   ]
  },
  {
   "cell_type": "code",
   "execution_count": 3,
   "metadata": {},
   "outputs": [
    {
     "name": "stdout",
     "output_type": "stream",
     "text": [
      "Memory used: 85.036 KB\n"
     ]
    }
   ],
   "source": [
    "usedmemory(clumps);"
   ]
  },
  {
   "cell_type": "markdown",
   "metadata": {},
   "source": [
    "The assigned object is now of type: *ClumpsDataType*:"
   ]
  },
  {
   "cell_type": "code",
   "execution_count": 4,
   "metadata": {},
   "outputs": [
    {
     "data": {
      "text/plain": [
       "ClumpDataType"
      ]
     },
     "execution_count": 4,
     "metadata": {},
     "output_type": "execute_result"
    }
   ],
   "source": [
    "typeof(clumps)"
   ]
  },
  {
   "cell_type": "markdown",
   "metadata": {},
   "source": [
    "It is a sub-type of ContainMassDataSetType"
   ]
  },
  {
   "cell_type": "code",
   "execution_count": null,
   "metadata": {},
   "outputs": [],
   "source": [
    "supertype( ContainMassDataSetType )"
   ]
  },
  {
   "cell_type": "markdown",
   "metadata": {},
   "source": [
    "ContainMassDataSetType is a sub-type of to the super-type DataSetType"
   ]
  },
  {
   "cell_type": "code",
   "execution_count": 5,
   "metadata": {},
   "outputs": [
    {
     "data": {
      "text/plain": [
       "DataSetType"
      ]
     },
     "execution_count": 5,
     "metadata": {},
     "output_type": "execute_result"
    }
   ],
   "source": [
    "supertype( ClumpDataType )"
   ]
  },
  {
   "cell_type": "markdown",
   "metadata": {},
   "source": [
    "The data is stored as a **JuliaDB** table and the selected clump variables and parameters are assigned to fields:"
   ]
  },
  {
   "cell_type": "code",
   "execution_count": 6,
   "metadata": {},
   "outputs": [
    {
     "name": "stdout",
     "output_type": "stream",
     "text": [
      "\n",
      "\u001b[0m\u001b[1mdata ==> JuliaDB table: (:columns, :pkey, :perms, :cardinality, :columns_buffer)\u001b[22m\n",
      "\n",
      "\u001b[0m\u001b[1minfo ==> subfields: (:output, :path, :fnames, :simcode, :mtime, :ctime, :ncpu, :ndim, :levelmin, :levelmax, :boxlen, :time, :aexp, :H0, :omega_m, :omega_l, :omega_k, :omega_b, :unit_l, :unit_d, :unit_m, :unit_v, :unit_t, :gamma, :hydro, :nvarh, :nvarp, :variable_list, :gravity_variable_list, :particles_variable_list, :clumps_variable_list, :sinks_variable_list, :descriptor, :amr, :gravity, :particles, :clumps, :sinks, :namelist, :namelist_content, :headerfile, :makefile, :timerfile, :compilationfile, :patchfile, :Narraysize, :scale, :grid_info, :part_info, :compilation, :constants)\u001b[22m\n",
      "\n",
      "lmin\t= 6\n",
      "lmax\t= 14\n",
      "boxlen\t= 48.0\n",
      "ranges\t= [0.0, 1.0, 0.0, 1.0, 0.0, 1.0]\n",
      "selected_clumpvars\t= Symbol[:index, :lev, :parent, :ncell, :peak_x, :peak_y, :peak_z, Symbol(\"rho-\"), Symbol(\"rho+\"), :rho_av, :mass_cl, :relevance]\n",
      "\n",
      "\u001b[0m\u001b[1mscale ==> subfields: (:Mpc, :kpc, :pc, :mpc, :ly, :Au, :km, :m, :cm, :mm, :μm, :Msol_pc3, :g_cm3, :Msol_pc2, :g_cm2, :Gyr, :Myr, :yr, :s, :ms, :Msol, :Mearth, :Mjupiter, :g, :km_s, :m_s, :cm_s, :nH, :erg, :g_cms2, :T_mu, :Ba)\u001b[22m\n",
      "\n",
      "\n"
     ]
    }
   ],
   "source": [
    "viewfields(clumps)"
   ]
  },
  {
   "cell_type": "markdown",
   "metadata": {},
   "source": [
    "For convenience, all the fields from the info-object above (InfoType) are now also accessible from the object with \"clumps.info\" and the scaling relations from code to cgs units in \"clumps.scale\". The box length, the selected ranges and number of the clump variables are also retained."
   ]
  },
  {
   "cell_type": "markdown",
   "metadata": {},
   "source": [
    "Print the fields of an object (composite type) in a simple list:"
   ]
  },
  {
   "cell_type": "code",
   "execution_count": 7,
   "metadata": {},
   "outputs": [
    {
     "data": {
      "text/plain": [
       "(:data, :info, :lmin, :lmax, :boxlen, :ranges, :selected_clumpvars, :used_descriptors, :scale)"
      ]
     },
     "execution_count": 7,
     "metadata": {},
     "output_type": "execute_result"
    }
   ],
   "source": [
    "propertynames(clumps)"
   ]
  },
  {
   "cell_type": "markdown",
   "metadata": {},
   "source": [
    "## Overview of Clump Data"
   ]
  },
  {
   "cell_type": "markdown",
   "metadata": {},
   "source": [
    "Get some overview of the data associated with the object *clumps*. The calculated information can be accessed from the object *data_overview* (here) in code units for further calculations:"
   ]
  },
  {
   "cell_type": "code",
   "execution_count": 8,
   "metadata": {},
   "outputs": [
    {
     "data": {
      "text/plain": [
       "Table with 2 rows, 13 columns:\n",
       "Columns:\n",
       "\u001b[1m#   \u001b[22m\u001b[1mcolname    \u001b[22m\u001b[1mtype\u001b[22m\n",
       "───────────────────\n",
       "1   extrema    Any\n",
       "2   index      Any\n",
       "3   lev        Any\n",
       "4   parent     Any\n",
       "5   ncell      Any\n",
       "6   peak_x     Any\n",
       "7   peak_y     Any\n",
       "8   peak_z     Any\n",
       "9   rho-       Any\n",
       "10  rho+       Any\n",
       "11  rho_av     Any\n",
       "12  mass_cl    Any\n",
       "13  relevance  Any"
      ]
     },
     "execution_count": 8,
     "metadata": {},
     "output_type": "execute_result"
    }
   ],
   "source": [
    "data_overview = dataoverview(clumps)"
   ]
  },
  {
   "cell_type": "markdown",
   "metadata": {},
   "source": [
    "If the number of columns is relatively long, the table is typically represented by an overview. To access certain columns, use the *select* function. The representation \":mass_cl\" is called a quoted Symbol ([see in Julia documentation](https://docs.julialang.org/en/v1/manual/metaprogramming/#Symbols-1)):"
   ]
  },
  {
   "cell_type": "code",
   "execution_count": 9,
   "metadata": {},
   "outputs": [],
   "source": [
    "using JuliaDB"
   ]
  },
  {
   "cell_type": "code",
   "execution_count": 10,
   "metadata": {},
   "outputs": [
    {
     "data": {
      "text/plain": [
       "Table with 2 rows, 6 columns:\n",
       "extrema  index   peak_x   peak_y   peak_z   mass_cl\n",
       "──────────────────────────────────────────────────────\n",
       "\"min\"    4.0     10.292   9.93604  22.1294  0.00031216\n",
       "\"max\"    2147.0  38.1738  35.7056  25.4634  0.860755"
      ]
     },
     "execution_count": 10,
     "metadata": {},
     "output_type": "execute_result"
    }
   ],
   "source": [
    "select(data_overview, (:extrema, :index, :peak_x, :peak_y, :peak_z, :mass_cl) )"
   ]
  },
  {
   "cell_type": "markdown",
   "metadata": {},
   "source": [
    "Get an array from the column \":mass_cl\" in *data_overview* and scale it to the units *Msol*. The order of the calculated data is consistent with the table above:"
   ]
  },
  {
   "cell_type": "code",
   "execution_count": 11,
   "metadata": {},
   "outputs": [
    {
     "data": {
      "text/plain": [
       "2-element Array{Float64,1}:\n",
       " 312073.3187055649       \n",
       "      8.605166312657958e8"
      ]
     },
     "execution_count": 11,
     "metadata": {},
     "output_type": "execute_result"
    }
   ],
   "source": [
    "select(data_overview, :mass_cl) * info.scale.Msol"
   ]
  },
  {
   "cell_type": "markdown",
   "metadata": {},
   "source": [
    "Or simply convert the *:mass_cl* data in the table to *Msol* units by manipulating the column:"
   ]
  },
  {
   "cell_type": "code",
   "execution_count": 16,
   "metadata": {},
   "outputs": [],
   "source": [
    "data_overview = transform(data_overview, :mass_cl => :mass_cl => value->value * info.scale.Msol);"
   ]
  },
  {
   "cell_type": "code",
   "execution_count": 17,
   "metadata": {},
   "outputs": [
    {
     "data": {
      "text/plain": [
       "Table with 2 rows, 6 columns:\n",
       "extrema  index   peak_x   peak_y   peak_z   mass_cl\n",
       "─────────────────────────────────────────────────────\n",
       "\"min\"    4.0     10.292   9.93604  22.1294  3.12073e5\n",
       "\"max\"    2147.0  38.1738  35.7056  25.4634  8.60517e8"
      ]
     },
     "execution_count": 17,
     "metadata": {},
     "output_type": "execute_result"
    }
   ],
   "source": [
    "select(data_overview, (:extrema, :index, :peak_x, :peak_y, :peak_z, :mass_cl) )"
   ]
  },
  {
   "cell_type": "markdown",
   "metadata": {},
   "source": [
    "## Data Inspection\n",
    "The data is associated with the field *clumps.data* as a **JuliaDB** table (code units). Each row corresponds to a clump and each column to a property which makes it easy to find, filter, map, aggregate, group the data, etc.\n",
    "More information can be found in the MERA tutorials or in: [JuliaDB API Reference](http://juliadb.org/latest/api/)"
   ]
  },
  {
   "cell_type": "markdown",
   "metadata": {},
   "source": [
    "### Table View\n",
    "The positions peak_x, peak_y,peak_z are the positions and should not be modified.\n",
    "\n"
   ]
  },
  {
   "cell_type": "code",
   "execution_count": 14,
   "metadata": {},
   "outputs": [
    {
     "data": {
      "text/plain": [
       "Table with 644 rows, 12 columns:\n",
       "Columns:\n",
       "\u001b[1m#   \u001b[22m\u001b[1mcolname    \u001b[22m\u001b[1mtype\u001b[22m\n",
       "──────────────────────\n",
       "1   index      Float64\n",
       "2   lev        Float64\n",
       "3   parent     Float64\n",
       "4   ncell      Float64\n",
       "5   peak_x     Float64\n",
       "6   peak_y     Float64\n",
       "7   peak_z     Float64\n",
       "8   rho-       Float64\n",
       "9   rho+       Float64\n",
       "10  rho_av     Float64\n",
       "11  mass_cl    Float64\n",
       "12  relevance  Float64"
      ]
     },
     "execution_count": 14,
     "metadata": {},
     "output_type": "execute_result"
    }
   ],
   "source": [
    "clumps.data"
   ]
  },
  {
   "cell_type": "markdown",
   "metadata": {},
   "source": [
    "A more detailed view into the data:"
   ]
  },
  {
   "cell_type": "code",
   "execution_count": 15,
   "metadata": {},
   "outputs": [
    {
     "data": {
      "text/plain": [
       "Table with 644 rows, 5 columns:\n",
       "index   peak_x   peak_y   peak_z   mass_cl\n",
       "─────────────────────────────────────────────\n",
       "4.0     20.1094  11.5005  23.9604  0.0213767\n",
       "5.0     20.1592  11.5122  23.9253  0.0131504\n",
       "9.0     21.7852  17.855   23.814   0.00358253\n",
       "12.0    21.8232  17.8608  23.855   0.00509792\n",
       "13.0    21.8906  17.2837  23.5415  0.0319414\n",
       "18.0    21.7822  16.8823  23.7817  0.00848828\n",
       "19.0    21.75    16.8589  23.7993  0.00587003\n",
       "20.0    21.6006  17.5679  23.7935  0.0324672\n",
       "25.0    21.5801  17.6177  23.9341  0.0245806\n",
       "26.0    21.5859  17.5796  23.9165  0.0183601\n",
       "29.0    21.5625  17.5854  23.8726  0.0303356\n",
       "46.0    21.5215  17.6235  23.9458  0.343594\n",
       "⋮\n",
       "2115.0  27.7705  13.2788  23.8081  0.0340939\n",
       "2116.0  27.7617  13.3081  23.8081  0.0145199\n",
       "2117.0  27.7793  13.2993  23.6851  0.00855992\n",
       "2120.0  27.7559  13.1792  23.8638  0.00508007\n",
       "2125.0  27.7939  13.0298  23.9194  0.00128829\n",
       "2128.0  27.791   13.0649  23.9019  0.00183979\n",
       "2131.0  28.3037  12.8188  23.9487  0.00128627\n",
       "2132.0  28.626   12.8188  23.8755  0.00434\n",
       "2137.0  29.9736  15.0571  23.7202  0.00195464\n",
       "2140.0  27.1436  15.6401  23.9048  0.0160477\n",
       "2147.0  25.1953  9.93604  23.9897  0.0294943"
      ]
     },
     "execution_count": 15,
     "metadata": {},
     "output_type": "execute_result"
    }
   ],
   "source": [
    "select(clumps.data, (:index, :peak_x, :peak_y, :peak_z, :mass_cl) )"
   ]
  },
  {
   "cell_type": "code",
   "execution_count": null,
   "metadata": {},
   "outputs": [],
   "source": []
  }
 ],
 "metadata": {
  "kernelspec": {
   "display_name": "Julia 1.3.0",
   "language": "julia",
   "name": "julia-1.3"
  },
  "language_info": {
   "file_extension": ".jl",
   "mimetype": "application/julia",
   "name": "julia",
   "version": "1.3.1"
  }
 },
 "nbformat": 4,
 "nbformat_minor": 4
}
